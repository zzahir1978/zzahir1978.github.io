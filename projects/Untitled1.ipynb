{
 "cells": [
  {
   "cell_type": "code",
   "execution_count": 1,
   "id": "25c65d72",
   "metadata": {},
   "outputs": [],
   "source": [
    "import pandas as pd\n",
    "import plotly.graph_objects as go\n",
    "import plotly.express as px"
   ]
  },
  {
   "cell_type": "code",
   "execution_count": 2,
   "id": "d2b7bf7b",
   "metadata": {},
   "outputs": [
    {
     "name": "stdout",
     "output_type": "stream",
     "text": [
      "1.3.4\n"
     ]
    }
   ],
   "source": [
    "#To check on package version\n",
    "print(pd.__version__)\n",
    "#print(go.__version__)\n",
    "#print(px.__version__)"
   ]
  },
  {
   "cell_type": "code",
   "execution_count": 3,
   "id": "fd207c65",
   "metadata": {},
   "outputs": [],
   "source": [
    "df_mas_cases = pd.read_csv('https://raw.githubusercontent.com/MoH-Malaysia/covid19-public/main/epidemic/cases_malaysia.csv')\n",
    "df_mas_deaths = pd.read_csv('https://raw.githubusercontent.com/MoH-Malaysia/covid19-public/main/epidemic/deaths_malaysia.csv')\n",
    "df_mas_vaksin = pd.read_csv('https://raw.githubusercontent.com/CITF-Malaysia/citf-public/main/vaccination/vax_malaysia.csv')\n",
    "df_mas_pop = pd.read_csv('https://raw.githubusercontent.com/MoH-Malaysia/covid19-public/main/static/population.csv')"
   ]
  },
  {
   "cell_type": "code",
   "execution_count": 4,
   "id": "1ef7cd64",
   "metadata": {},
   "outputs": [
    {
     "name": "stdout",
     "output_type": "stream",
     "text": [
      "Updated Date: 2022-05-22\n"
     ]
    }
   ],
   "source": [
    "df_date_end = df_mas_cases.tail(1)\n",
    "print('Updated Date:', df_date_end.at[df_date_end.index[0],'date'])"
   ]
  },
  {
   "cell_type": "code",
   "execution_count": 5,
   "id": "fbddebaf",
   "metadata": {},
   "outputs": [],
   "source": [
    "df_mas = df_mas_cases.append(df_mas_deaths)\n",
    "df_mas = df_mas.append(df_mas_vaksin)"
   ]
  },
  {
   "cell_type": "code",
   "execution_count": 6,
   "id": "82240583",
   "metadata": {},
   "outputs": [],
   "source": [
    "def getYear(s):\n",
    "  return s.split(\"-\")[0]\n",
    "\n",
    "def getMonth(s):\n",
    "  return s.split(\"-\")[1]\n",
    "\n",
    "df_mas['Year']= df_mas['date'].apply(lambda x: getYear(x))\n",
    "df_mas['Month']= df_mas['date'].apply(lambda x: getMonth(x))\n",
    "\n",
    "df_mas = df_mas.groupby('Year').sum().reset_index()"
   ]
  },
  {
   "cell_type": "code",
   "execution_count": 7,
   "id": "406ca1fb",
   "metadata": {},
   "outputs": [],
   "source": [
    "#df_mas.columns"
   ]
  },
  {
   "cell_type": "code",
   "execution_count": 8,
   "id": "6f5199b2",
   "metadata": {},
   "outputs": [
    {
     "name": "stdout",
     "output_type": "stream",
     "text": [
      "4491320.0\n",
      "4429166.0\n",
      "35643.0\n",
      "27001724.0\n",
      "82.68255295173178\n"
     ]
    }
   ],
   "source": [
    "print(df_mas['cases_new'].sum())\n",
    "print(df_mas['cases_recovered'].sum())\n",
    "print(df_mas['deaths_new'].sum())\n",
    "print(df_mas['daily_full'].sum())\n",
    "print((df_mas['daily_full'].sum()/df_mas_pop.at[df_mas_pop.index[0],'pop'])*100)"
   ]
  },
  {
   "cell_type": "code",
   "execution_count": 9,
   "id": "814f7661",
   "metadata": {},
   "outputs": [],
   "source": [
    "#df_mas_vaksin.tail()"
   ]
  },
  {
   "cell_type": "code",
   "execution_count": 10,
   "id": "3df49003",
   "metadata": {},
   "outputs": [],
   "source": [
    "new_cases = df_mas_cases.tail(1)\n",
    "new_recover = df_mas_cases.tail(1)\n",
    "new_deaths = df_mas_deaths.tail(1)\n",
    "new_vaksin = df_mas_vaksin.tail(1)"
   ]
  },
  {
   "cell_type": "code",
   "execution_count": 11,
   "id": "4b2526a7",
   "metadata": {},
   "outputs": [
    {
     "name": "stdout",
     "output_type": "stream",
     "text": [
      "New Cases: 1817\n",
      "New Recover: 3389\n",
      "New Deaths: 2\n",
      "New Vaccianted: 13706\n"
     ]
    }
   ],
   "source": [
    "print('New Cases:', new_cases.at[new_cases.index[0],'cases_new'])\n",
    "print('New Recover:', new_recover.at[new_recover.index[0],'cases_recovered'])\n",
    "print('New Deaths:', new_deaths.at[new_deaths.index[0],'deaths_new'])\n",
    "print('New Vaccianted:', new_vaksin.at[new_vaksin.index[0],'daily'])"
   ]
  },
  {
   "cell_type": "code",
   "execution_count": 39,
   "id": "1f5cf2db",
   "metadata": {},
   "outputs": [
    {
     "data": {
      "text/html": [
       "<div>\n",
       "<style scoped>\n",
       "    .dataframe tbody tr th:only-of-type {\n",
       "        vertical-align: middle;\n",
       "    }\n",
       "\n",
       "    .dataframe tbody tr th {\n",
       "        vertical-align: top;\n",
       "    }\n",
       "\n",
       "    .dataframe thead th {\n",
       "        text-align: right;\n",
       "    }\n",
       "</style>\n",
       "<table border=\"1\" class=\"dataframe\">\n",
       "  <thead>\n",
       "    <tr style=\"text-align: right;\">\n",
       "      <th></th>\n",
       "      <th>Confirmed</th>\n",
       "      <th>Recovered</th>\n",
       "      <th>Deaths</th>\n",
       "    </tr>\n",
       "    <tr>\n",
       "      <th>Country</th>\n",
       "      <th></th>\n",
       "      <th></th>\n",
       "      <th></th>\n",
       "    </tr>\n",
       "  </thead>\n",
       "  <tbody>\n",
       "    <tr>\n",
       "      <th>Afghanistan</th>\n",
       "      <td>66031705</td>\n",
       "      <td>18289880.0</td>\n",
       "      <td>2874099</td>\n",
       "    </tr>\n",
       "    <tr>\n",
       "      <th>Albania</th>\n",
       "      <td>82385140</td>\n",
       "      <td>22652652.0</td>\n",
       "      <td>1320658</td>\n",
       "    </tr>\n",
       "    <tr>\n",
       "      <th>Algeria</th>\n",
       "      <td>94695072</td>\n",
       "      <td>25670233.0</td>\n",
       "      <td>2651996</td>\n",
       "    </tr>\n",
       "    <tr>\n",
       "      <th>Andorra</th>\n",
       "      <td>9598486</td>\n",
       "      <td>3085649.0</td>\n",
       "      <td>75889</td>\n",
       "    </tr>\n",
       "    <tr>\n",
       "      <th>Angola</th>\n",
       "      <td>26425596</td>\n",
       "      <td>5895800.0</td>\n",
       "      <td>605294</td>\n",
       "    </tr>\n",
       "    <tr>\n",
       "      <th>...</th>\n",
       "      <td>...</td>\n",
       "      <td>...</td>\n",
       "      <td>...</td>\n",
       "    </tr>\n",
       "    <tr>\n",
       "      <th>West Bank and Gaza</th>\n",
       "      <td>187339576</td>\n",
       "      <td>57608773.0</td>\n",
       "      <td>1893801</td>\n",
       "    </tr>\n",
       "    <tr>\n",
       "      <th>Winter Olympics 2022</th>\n",
       "      <td>39517</td>\n",
       "      <td>0.0</td>\n",
       "      <td>0</td>\n",
       "    </tr>\n",
       "    <tr>\n",
       "      <th>Yemen</th>\n",
       "      <td>3987738</td>\n",
       "      <td>772497.0</td>\n",
       "      <td>810844</td>\n",
       "    </tr>\n",
       "    <tr>\n",
       "      <th>Zambia</th>\n",
       "      <td>87545852</td>\n",
       "      <td>21852796.0</td>\n",
       "      <td>1318781</td>\n",
       "    </tr>\n",
       "    <tr>\n",
       "      <th>Zimbabwe</th>\n",
       "      <td>56346213</td>\n",
       "      <td>8779035.0</td>\n",
       "      <td>1633790</td>\n",
       "    </tr>\n",
       "  </tbody>\n",
       "</table>\n",
       "<p>198 rows × 3 columns</p>\n",
       "</div>"
      ],
      "text/plain": [
       "                      Confirmed   Recovered   Deaths\n",
       "Country                                             \n",
       "Afghanistan            66031705  18289880.0  2874099\n",
       "Albania                82385140  22652652.0  1320658\n",
       "Algeria                94695072  25670233.0  2651996\n",
       "Andorra                 9598486   3085649.0    75889\n",
       "Angola                 26425596   5895800.0   605294\n",
       "...                         ...         ...      ...\n",
       "West Bank and Gaza    187339576  57608773.0  1893801\n",
       "Winter Olympics 2022      39517         0.0        0\n",
       "Yemen                   3987738    772497.0   810844\n",
       "Zambia                 87545852  21852796.0  1318781\n",
       "Zimbabwe               56346213   8779035.0  1633790\n",
       "\n",
       "[198 rows x 3 columns]"
      ]
     },
     "execution_count": 39,
     "metadata": {},
     "output_type": "execute_result"
    }
   ],
   "source": [
    "dfworld = pd.read_csv('https://raw.githubusercontent.com/datasets/covid-19/main/data/time-series-19-covid-combined.csv')\n",
    "dfworld.rename(columns={'Country/Region':'Country'},inplace=True)\n",
    "dfworld.groupby('Country').sum()"
   ]
  },
  {
   "cell_type": "code",
   "execution_count": 42,
   "id": "cdf6441b",
   "metadata": {},
   "outputs": [
    {
     "data": {
      "text/html": [
       "<div>\n",
       "<style scoped>\n",
       "    .dataframe tbody tr th:only-of-type {\n",
       "        vertical-align: middle;\n",
       "    }\n",
       "\n",
       "    .dataframe tbody tr th {\n",
       "        vertical-align: top;\n",
       "    }\n",
       "\n",
       "    .dataframe thead th {\n",
       "        text-align: right;\n",
       "    }\n",
       "</style>\n",
       "<table border=\"1\" class=\"dataframe\">\n",
       "  <thead>\n",
       "    <tr style=\"text-align: right;\">\n",
       "      <th></th>\n",
       "      <th>continent</th>\n",
       "      <th>total_cases</th>\n",
       "      <th>total_deaths</th>\n",
       "      <th>total_vaccinations</th>\n",
       "      <th>people_fully_vaccinated</th>\n",
       "      <th>population</th>\n",
       "      <th>vaccination_percentage</th>\n",
       "    </tr>\n",
       "  </thead>\n",
       "  <tbody>\n",
       "    <tr>\n",
       "      <th>2</th>\n",
       "      <td>Europe</td>\n",
       "      <td>197330497.0</td>\n",
       "      <td>1838138.0</td>\n",
       "      <td>1.239464e+09</td>\n",
       "      <td>4.734425e+08</td>\n",
       "      <td>7.506718e+08</td>\n",
       "      <td>63.069171</td>\n",
       "    </tr>\n",
       "    <tr>\n",
       "      <th>1</th>\n",
       "      <td>Asia</td>\n",
       "      <td>152256013.0</td>\n",
       "      <td>1434364.0</td>\n",
       "      <td>7.999944e+09</td>\n",
       "      <td>3.234786e+09</td>\n",
       "      <td>4.672385e+09</td>\n",
       "      <td>69.232014</td>\n",
       "    </tr>\n",
       "    <tr>\n",
       "      <th>3</th>\n",
       "      <td>North America</td>\n",
       "      <td>98486374.0</td>\n",
       "      <td>1441804.0</td>\n",
       "      <td>9.943295e+08</td>\n",
       "      <td>3.741534e+08</td>\n",
       "      <td>5.957673e+08</td>\n",
       "      <td>62.801933</td>\n",
       "    </tr>\n",
       "    <tr>\n",
       "      <th>5</th>\n",
       "      <td>South America</td>\n",
       "      <td>57297859.0</td>\n",
       "      <td>1297367.0</td>\n",
       "      <td>8.167463e+08</td>\n",
       "      <td>3.098141e+08</td>\n",
       "      <td>4.339537e+08</td>\n",
       "      <td>71.393350</td>\n",
       "    </tr>\n",
       "    <tr>\n",
       "      <th>0</th>\n",
       "      <td>Africa</td>\n",
       "      <td>11841251.0</td>\n",
       "      <td>253730.0</td>\n",
       "      <td>3.751538e+08</td>\n",
       "      <td>1.675739e+08</td>\n",
       "      <td>1.371693e+09</td>\n",
       "      <td>12.216570</td>\n",
       "    </tr>\n",
       "    <tr>\n",
       "      <th>4</th>\n",
       "      <td>Oceania</td>\n",
       "      <td>8396922.0</td>\n",
       "      <td>11823.0</td>\n",
       "      <td>7.146094e+07</td>\n",
       "      <td>2.687230e+07</td>\n",
       "      <td>4.334682e+07</td>\n",
       "      <td>61.993716</td>\n",
       "    </tr>\n",
       "  </tbody>\n",
       "</table>\n",
       "</div>"
      ],
      "text/plain": [
       "       continent  total_cases  total_deaths  total_vaccinations  \\\n",
       "2         Europe  197330497.0     1838138.0        1.239464e+09   \n",
       "1           Asia  152256013.0     1434364.0        7.999944e+09   \n",
       "3  North America   98486374.0     1441804.0        9.943295e+08   \n",
       "5  South America   57297859.0     1297367.0        8.167463e+08   \n",
       "0         Africa   11841251.0      253730.0        3.751538e+08   \n",
       "4        Oceania    8396922.0       11823.0        7.146094e+07   \n",
       "\n",
       "   people_fully_vaccinated    population  vaccination_percentage  \n",
       "2             4.734425e+08  7.506718e+08               63.069171  \n",
       "1             3.234786e+09  4.672385e+09               69.232014  \n",
       "3             3.741534e+08  5.957673e+08               62.801933  \n",
       "5             3.098141e+08  4.339537e+08               71.393350  \n",
       "0             1.675739e+08  1.371693e+09               12.216570  \n",
       "4             2.687230e+07  4.334682e+07               61.993716  "
      ]
     },
     "execution_count": 42,
     "metadata": {},
     "output_type": "execute_result"
    }
   ],
   "source": [
    "dfworld2 = pd.read_csv('https://raw.githubusercontent.com/owid/covid-19-data/master/public/data/latest/owid-covid-latest.csv')\n",
    "dfworld2 = dfworld2[['last_updated_date','continent', 'location','total_cases',\n",
    "                     'total_deaths','total_vaccinations','people_fully_vaccinated',\n",
    "                     'population' ]]\n",
    "dfworld2=dfworld2.groupby('continent').sum().reset_index()\n",
    "dfworld2['vaccination_percentage'] = (dfworld2['people_fully_vaccinated']/dfworld2['population'])*100\n",
    "dfworld2.sort_values('total_cases',ascending=False)"
   ]
  },
  {
   "cell_type": "code",
   "execution_count": 41,
   "id": "4957d274",
   "metadata": {},
   "outputs": [
    {
     "data": {
      "text/html": [
       "<div>\n",
       "<style scoped>\n",
       "    .dataframe tbody tr th:only-of-type {\n",
       "        vertical-align: middle;\n",
       "    }\n",
       "\n",
       "    .dataframe tbody tr th {\n",
       "        vertical-align: top;\n",
       "    }\n",
       "\n",
       "    .dataframe thead th {\n",
       "        text-align: right;\n",
       "    }\n",
       "</style>\n",
       "<table border=\"1\" class=\"dataframe\">\n",
       "  <thead>\n",
       "    <tr style=\"text-align: right;\">\n",
       "      <th></th>\n",
       "      <th>Country</th>\n",
       "      <th>Confirmed</th>\n",
       "      <th>Recovered</th>\n",
       "      <th>Deaths</th>\n",
       "    </tr>\n",
       "  </thead>\n",
       "  <tbody>\n",
       "    <tr>\n",
       "      <th>0</th>\n",
       "      <td>Brunei</td>\n",
       "      <td>8491163</td>\n",
       "      <td>82751.0</td>\n",
       "      <td>24955</td>\n",
       "    </tr>\n",
       "    <tr>\n",
       "      <th>1</th>\n",
       "      <td>Cambodia</td>\n",
       "      <td>34442893</td>\n",
       "      <td>3660787.0</td>\n",
       "      <td>745369</td>\n",
       "    </tr>\n",
       "    <tr>\n",
       "      <th>2</th>\n",
       "      <td>Indonesia</td>\n",
       "      <td>1597829180</td>\n",
       "      <td>363942501.0</td>\n",
       "      <td>48536553</td>\n",
       "    </tr>\n",
       "    <tr>\n",
       "      <th>3</th>\n",
       "      <td>Laos</td>\n",
       "      <td>22264558</td>\n",
       "      <td>167935.0</td>\n",
       "      <td>76269</td>\n",
       "    </tr>\n",
       "    <tr>\n",
       "      <th>4</th>\n",
       "      <td>Malaysia</td>\n",
       "      <td>805303639</td>\n",
       "      <td>94234855.0</td>\n",
       "      <td>7846183</td>\n",
       "    </tr>\n",
       "    <tr>\n",
       "      <th>5</th>\n",
       "      <td>Philippines</td>\n",
       "      <td>1006132001</td>\n",
       "      <td>232764917.0</td>\n",
       "      <td>16789466</td>\n",
       "    </tr>\n",
       "    <tr>\n",
       "      <th>6</th>\n",
       "      <td>Singapore</td>\n",
       "      <td>121432134</td>\n",
       "      <td>24305668.0</td>\n",
       "      <td>174937</td>\n",
       "    </tr>\n",
       "    <tr>\n",
       "      <th>7</th>\n",
       "      <td>Thailand</td>\n",
       "      <td>590243063</td>\n",
       "      <td>5909547.0</td>\n",
       "      <td>5175930</td>\n",
       "    </tr>\n",
       "    <tr>\n",
       "      <th>8</th>\n",
       "      <td>Vietnam</td>\n",
       "      <td>643038697</td>\n",
       "      <td>1261448.0</td>\n",
       "      <td>7106939</td>\n",
       "    </tr>\n",
       "  </tbody>\n",
       "</table>\n",
       "</div>"
      ],
      "text/plain": [
       "       Country   Confirmed    Recovered    Deaths\n",
       "0       Brunei     8491163      82751.0     24955\n",
       "1     Cambodia    34442893    3660787.0    745369\n",
       "2    Indonesia  1597829180  363942501.0  48536553\n",
       "3         Laos    22264558     167935.0     76269\n",
       "4     Malaysia   805303639   94234855.0   7846183\n",
       "5  Philippines  1006132001  232764917.0  16789466\n",
       "6    Singapore   121432134   24305668.0    174937\n",
       "7     Thailand   590243063    5909547.0   5175930\n",
       "8      Vietnam   643038697    1261448.0   7106939"
      ]
     },
     "execution_count": 41,
     "metadata": {},
     "output_type": "execute_result"
    }
   ],
   "source": [
    "dfworld1 = pd.read_csv('https://raw.githubusercontent.com/datasets/covid-19/main/data/time-series-19-covid-combined.csv')\n",
    "dfworld1.rename(columns={'Country/Region':'Country'},inplace=True)\n",
    "dfworld1 = dfworld1.loc[dfworld1['Country'].isin(['Malaysia','Singapore','Thailand','Indonesia','Philippines','Cambodia','Laos','Vietnam',\n",
    "'Myanmar','Brunei'])]\n",
    "dfworld1.groupby('Country').sum().reset_index()"
   ]
  },
  {
   "cell_type": "code",
   "execution_count": null,
   "id": "24a56b6e",
   "metadata": {},
   "outputs": [],
   "source": []
  }
 ],
 "metadata": {
  "kernelspec": {
   "display_name": "Python 3 (ipykernel)",
   "language": "python",
   "name": "python3"
  },
  "language_info": {
   "codemirror_mode": {
    "name": "ipython",
    "version": 3
   },
   "file_extension": ".py",
   "mimetype": "text/x-python",
   "name": "python",
   "nbconvert_exporter": "python",
   "pygments_lexer": "ipython3",
   "version": "3.9.7"
  }
 },
 "nbformat": 4,
 "nbformat_minor": 5
}
