{
 "cells": [
  {
   "cell_type": "code",
   "execution_count": 1,
   "id": "25c65d72",
   "metadata": {},
   "outputs": [],
   "source": [
    "import pandas as pd\n",
    "import plotly.graph_objects as go\n",
    "import plotly.express as px"
   ]
  },
  {
   "cell_type": "code",
   "execution_count": 2,
   "id": "d2b7bf7b",
   "metadata": {},
   "outputs": [
    {
     "name": "stdout",
     "output_type": "stream",
     "text": [
      "1.3.4\n"
     ]
    }
   ],
   "source": [
    "#To check on package version\n",
    "print(pd.__version__)\n",
    "#print(go.__version__)\n",
    "#print(px.__version__)"
   ]
  },
  {
   "cell_type": "code",
   "execution_count": 3,
   "id": "fd207c65",
   "metadata": {},
   "outputs": [],
   "source": [
    "df_mas_cases = pd.read_csv('https://raw.githubusercontent.com/MoH-Malaysia/covid19-public/main/epidemic/cases_malaysia.csv')\n",
    "df_mas_deaths = pd.read_csv('https://raw.githubusercontent.com/MoH-Malaysia/covid19-public/main/epidemic/deaths_malaysia.csv')\n",
    "df_mas_vaksin = pd.read_csv('https://raw.githubusercontent.com/CITF-Malaysia/citf-public/main/vaccination/vax_malaysia.csv')\n",
    "df_mas_pop = pd.read_csv('https://raw.githubusercontent.com/MoH-Malaysia/covid19-public/main/static/population.csv')"
   ]
  },
  {
   "cell_type": "code",
   "execution_count": 4,
   "id": "1ef7cd64",
   "metadata": {},
   "outputs": [
    {
     "name": "stdout",
     "output_type": "stream",
     "text": [
      "Updated Date: 2022-05-22\n"
     ]
    }
   ],
   "source": [
    "df_date_end = df_mas_cases.tail(1)\n",
    "print('Updated Date:', df_date_end.at[df_date_end.index[0],'date'])"
   ]
  },
  {
   "cell_type": "code",
   "execution_count": 5,
   "id": "fbddebaf",
   "metadata": {},
   "outputs": [],
   "source": [
    "df_mas = df_mas_cases.append(df_mas_deaths)\n",
    "df_mas = df_mas.append(df_mas_vaksin)"
   ]
  },
  {
   "cell_type": "code",
   "execution_count": 6,
   "id": "82240583",
   "metadata": {},
   "outputs": [],
   "source": [
    "def getYear(s):\n",
    "  return s.split(\"-\")[0]\n",
    "\n",
    "def getMonth(s):\n",
    "  return s.split(\"-\")[1]\n",
    "\n",
    "df_mas['Year']= df_mas['date'].apply(lambda x: getYear(x))\n",
    "df_mas['Month']= df_mas['date'].apply(lambda x: getMonth(x))\n",
    "\n",
    "df_mas = df_mas.groupby('Year').sum().reset_index()"
   ]
  },
  {
   "cell_type": "code",
   "execution_count": 7,
   "id": "406ca1fb",
   "metadata": {},
   "outputs": [],
   "source": [
    "#df_mas.columns"
   ]
  },
  {
   "cell_type": "code",
   "execution_count": 8,
   "id": "6f5199b2",
   "metadata": {},
   "outputs": [
    {
     "name": "stdout",
     "output_type": "stream",
     "text": [
      "4491320.0\n",
      "4429166.0\n",
      "35643.0\n",
      "27001724.0\n",
      "82.68255295173178\n"
     ]
    }
   ],
   "source": [
    "print(df_mas['cases_new'].sum())\n",
    "print(df_mas['cases_recovered'].sum())\n",
    "print(df_mas['deaths_new'].sum())\n",
    "print(df_mas['daily_full'].sum())\n",
    "print((df_mas['daily_full'].sum()/df_mas_pop.at[df_mas_pop.index[0],'pop'])*100)"
   ]
  },
  {
   "cell_type": "code",
   "execution_count": 21,
   "id": "5a95948b",
   "metadata": {},
   "outputs": [],
   "source": [
    "#df_mas_vaksin.tail()"
   ]
  },
  {
   "cell_type": "code",
   "execution_count": 19,
   "id": "3df49003",
   "metadata": {},
   "outputs": [],
   "source": [
    "new_cases = df_mas_cases.tail(1)\n",
    "new_recover = df_mas_cases.tail(1)\n",
    "new_deaths = df_mas_deaths.tail(1)\n",
    "new_vaksin = df_mas_vaksin.tail(1)"
   ]
  },
  {
   "cell_type": "code",
   "execution_count": 20,
   "id": "74cfa5a6",
   "metadata": {},
   "outputs": [
    {
     "name": "stdout",
     "output_type": "stream",
     "text": [
      "New Cases: 1817\n",
      "New Recover: 3389\n",
      "New Deaths: 2\n",
      "New Vaccianted: 13706\n"
     ]
    }
   ],
   "source": [
    "print('New Cases:', new_cases.at[new_cases.index[0],'cases_new'])\n",
    "print('New Recover:', new_recover.at[new_recover.index[0],'cases_recovered'])\n",
    "print('New Deaths:', new_deaths.at[new_deaths.index[0],'deaths_new'])\n",
    "print('New Vaccianted:', new_vaksin.at[new_vaksin.index[0],'daily'])"
   ]
  },
  {
   "cell_type": "code",
   "execution_count": null,
   "id": "a07b5f0d",
   "metadata": {},
   "outputs": [],
   "source": []
  },
  {
   "cell_type": "code",
   "execution_count": null,
   "id": "12967e9e",
   "metadata": {},
   "outputs": [],
   "source": []
  }
 ],
 "metadata": {
  "kernelspec": {
   "display_name": "Python 3 (ipykernel)",
   "language": "python",
   "name": "python3"
  },
  "language_info": {
   "codemirror_mode": {
    "name": "ipython",
    "version": 3
   },
   "file_extension": ".py",
   "mimetype": "text/x-python",
   "name": "python",
   "nbconvert_exporter": "python",
   "pygments_lexer": "ipython3",
   "version": "3.9.7"
  }
 },
 "nbformat": 4,
 "nbformat_minor": 5
}
