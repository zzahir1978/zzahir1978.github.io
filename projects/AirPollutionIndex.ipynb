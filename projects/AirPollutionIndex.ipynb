{
 "cells": [
  {
   "cell_type": "markdown",
   "id": "a938ff15",
   "metadata": {},
   "source": [
    "<h1 style=\"color:black; font-size:50px; font-family:Impact, Charcoal, sans-serif; \n",
    "           text-align:center;\">Malaysia Air Pollution Index Reading From Year 2000 to 2017</h1>\n",
    "<h3>Prepared By: <a href='https://zzahir1978.github.io'>Zahiruddin Zahidanishah</a></h3>"
   ]
  },
  {
   "cell_type": "code",
   "execution_count": 1,
   "id": "3def1013",
   "metadata": {},
   "outputs": [
    {
     "data": {
      "text/html": [
       "        <script type=\"text/javascript\">\n",
       "        window.PlotlyConfig = {MathJaxConfig: 'local'};\n",
       "        if (window.MathJax) {MathJax.Hub.Config({SVG: {font: \"STIX-Web\"}});}\n",
       "        if (typeof require !== 'undefined') {\n",
       "        require.undef(\"plotly\");\n",
       "        requirejs.config({\n",
       "            paths: {\n",
       "                'plotly': ['https://cdn.plot.ly/plotly-2.11.1.min']\n",
       "            }\n",
       "        });\n",
       "        require(['plotly'], function(Plotly) {\n",
       "            window._Plotly = Plotly;\n",
       "        });\n",
       "        }\n",
       "        </script>\n",
       "        "
      ]
     },
     "metadata": {},
     "output_type": "display_data"
    },
    {
     "data": {
      "text/html": [
       "        <script type=\"text/javascript\">\n",
       "        window.PlotlyConfig = {MathJaxConfig: 'local'};\n",
       "        if (window.MathJax) {MathJax.Hub.Config({SVG: {font: \"STIX-Web\"}});}\n",
       "        if (typeof require !== 'undefined') {\n",
       "        require.undef(\"plotly\");\n",
       "        requirejs.config({\n",
       "            paths: {\n",
       "                'plotly': ['https://cdn.plot.ly/plotly-2.11.1.min']\n",
       "            }\n",
       "        });\n",
       "        require(['plotly'], function(Plotly) {\n",
       "            window._Plotly = Plotly;\n",
       "        });\n",
       "        }\n",
       "        </script>\n",
       "        "
      ]
     },
     "metadata": {},
     "output_type": "display_data"
    }
   ],
   "source": [
    "import pandas as pd\n",
    "import numpy as np\n",
    "import matplotlib.pyplot as plt\n",
    "import plotly.graph_objects as go\n",
    "import plotly.express as px\n",
    "from plotly.subplots import make_subplots\n",
    "import dataframe_image as dfi\n",
    "import adjustText as aT\n",
    "from jupyterthemes import jtplot\n",
    "#import requests\n",
    "import cufflinks as cf\n",
    "#from bs4 import BeautifulSoup as bs\n",
    "jtplot.style(theme='monokai', context='notebook', ticks=True, grid=False) \n",
    "import warnings\n",
    "warnings.filterwarnings('ignore')\n",
    "%matplotlib inline\n",
    "\n",
    "from plotly.offline import download_plotlyjs, init_notebook_mode, plot, iplot \n",
    "init_notebook_mode(connected=True)\n",
    "cf.go_offline()\n",
    "\n",
    "from IPython.display import display_html\n",
    "def display_side_by_side(*args):\n",
    "    html_str=''\n",
    "    for df in args:\n",
    "        html_str+=df.to_html()\n",
    "    display_html(html_str.replace('table','table style=\"display:inline\"'),raw=True)"
   ]
  },
  {
   "cell_type": "code",
   "execution_count": 2,
   "id": "d31a27eb",
   "metadata": {},
   "outputs": [],
   "source": [
    "df = pd.read_csv('Annual minimum and maximum air pollutant index for selected stations, Malaysia, 2000 - 2017.csv')\n",
    "df = df[df.Year != 2017]"
   ]
  },
  {
   "cell_type": "code",
   "execution_count": 3,
   "id": "c95ceca8",
   "metadata": {},
   "outputs": [],
   "source": [
    "df_2000 = df[df.Year == 2000]\n",
    "df_2001 = df[df.Year == 2001]\n",
    "df_2002 = df[df.Year == 2002]\n",
    "df_2003 = df[df.Year == 2003]\n",
    "df_2004 = df[df.Year == 2004]\n",
    "df_2005 = df[df.Year == 2005]\n",
    "df_2006 = df[df.Year == 2006]\n",
    "df_2007 = df[df.Year == 2007]\n",
    "df_2008 = df[df.Year == 2008]\n",
    "df_2009 = df[df.Year == 2009]\n",
    "df_2010 = df[df.Year == 2010]\n",
    "df_2011 = df[df.Year == 2011]\n",
    "df_2012 = df[df.Year == 2012]\n",
    "df_2013 = df[df.Year == 2013]\n",
    "df_2014 = df[df.Year == 2014]\n",
    "df_2015 = df[df.Year == 2015]\n",
    "df_2016 = df[df.Year == 2016]"
   ]
  },
  {
   "cell_type": "code",
   "execution_count": 4,
   "id": "4a6dd4c5",
   "metadata": {},
   "outputs": [],
   "source": [
    "df_miri = df[df.Stations == 'Miri']\n",
    "df_miri = df_miri[['Year','Air Pollution Index (Max.)','Air Pollution Index (Min.)']]\n",
    "df_melaka = df[df.Stations == 'Bandaraya Melaka']\n",
    "df_melaka = df_melaka[['Year','Air Pollution Index (Max.)','Air Pollution Index (Min.)']]\n",
    "df_cheras = df[df.Stations == 'Cheras Kuala Lumpur ']\n",
    "df_cheras = df_cheras[['Year','Air Pollution Index (Max.)','Air Pollution Index (Min.)']]\n",
    "df_kinabalu = df[df.Stations == 'Kota  Kinabalu ']\n",
    "df_kinabalu = df_kinabalu[['Year','Air Pollution Index (Max.)','Air Pollution Index (Min.)']]\n",
    "df_kuching = df[df.Stations == 'Kuching ']\n",
    "df_kuching = df_kuching[['Year','Air Pollution Index (Max.)','Air Pollution Index (Min.)']]\n",
    "df_larkin = df[df.Stations == 'Larkin Johor Bahru ']\n",
    "df_larkin = df_larkin[['Year','Air Pollution Index (Max.)','Air Pollution Index (Min.)']]\n",
    "df_jaya = df[df.Stations == 'Seberang Jaya']\n",
    "df_jaya = df_jaya[['Year','Air Pollution Index (Max.)','Air Pollution Index (Min.)']]"
   ]
  },
  {
   "cell_type": "code",
   "execution_count": 5,
   "id": "8045106c",
   "metadata": {},
   "outputs": [
    {
     "data": {
      "application/vnd.plotly.v1+json": {
       "config": {
        "plotlyServerURL": "https://plot.ly"
       },
       "data": [
        {
         "fill": "tozeroy",
         "line": {
          "color": "blue",
          "width": 1
         },
         "mode": "lines",
         "name": "Air Pollution Index (Max.)",
         "type": "scatter",
         "x": [
          2000,
          2001,
          2002,
          2003,
          2004,
          2005,
          2006,
          2007,
          2008,
          2009,
          2010,
          2011,
          2012,
          2013,
          2014,
          2015,
          2016
         ],
         "xaxis": "x",
         "y": [
          "79",
          "84",
          "126",
          "86",
          "77",
          "133",
          "104",
          "73",
          "76",
          "179",
          "89",
          "96",
          "97",
          "93",
          "84",
          "99",
          "149"
         ],
         "yaxis": "y2"
        },
        {
         "fill": "tozeroy",
         "line": {
          "color": "blue",
          "width": 1
         },
         "mode": "lines",
         "name": "Air Pollution Index (Max.)",
         "type": "scatter",
         "x": [
          2000,
          2001,
          2002,
          2003,
          2004,
          2005,
          2006,
          2007,
          2008,
          2009,
          2010,
          2011,
          2012,
          2013,
          2014,
          2015,
          2016
         ],
         "xaxis": "x",
         "y": [
          "3",
          "2",
          "5",
          "3",
          "2",
          "2",
          "1",
          "6",
          "6",
          "6",
          "17",
          "4",
          "5",
          "18",
          "2",
          "4",
          "3"
         ],
         "yaxis": "y2"
        },
        {
         "fill": "tozeroy",
         "line": {
          "color": "blue",
          "width": 1
         },
         "mode": "lines",
         "name": "Air Pollution Index (Max.)",
         "type": "scatter",
         "x": [
          2000,
          2001,
          2002,
          2003,
          2004,
          2005,
          2006,
          2007,
          2008,
          2009,
          2010,
          2011,
          2012,
          2013,
          2014,
          2015,
          2016
         ],
         "xaxis": "x2",
         "y": [
          "79",
          "84",
          "126",
          "86",
          "77",
          "133",
          "104",
          "73",
          "76",
          "179",
          "89",
          "96",
          "97",
          "93",
          "84",
          "99",
          "149"
         ],
         "yaxis": "y4"
        },
        {
         "fill": "tozeroy",
         "line": {
          "color": "blue",
          "width": 1
         },
         "mode": "lines",
         "name": "Air Pollution Index (Min.)",
         "type": "scatter",
         "x": [
          2000,
          2001,
          2002,
          2003,
          2004,
          2005,
          2006,
          2007,
          2008,
          2009,
          2010,
          2011,
          2012,
          2013,
          2014,
          2015,
          2016
         ],
         "xaxis": "x3",
         "y": [
          "3",
          "2",
          "5",
          "3",
          "2",
          "2",
          "1",
          "6",
          "6",
          "6",
          "17",
          "4",
          "5",
          "18",
          "2",
          "4",
          "3"
         ],
         "yaxis": "y6"
        },
        {
         "fill": "tozeroy",
         "line": {
          "color": "blue",
          "width": 1
         },
         "mode": "lines",
         "name": "Air Pollution Index (Max.)",
         "type": "scatter",
         "x": [
          2000,
          2001,
          2002,
          2003,
          2004,
          2005,
          2006,
          2007,
          2008,
          2009,
          2010,
          2011,
          2012,
          2013,
          2014,
          2015,
          2016
         ],
         "xaxis": "x4",
         "y": [
          "122",
          "127",
          "105",
          "114",
          "147",
          "114",
          "153",
          "92",
          "80",
          "137",
          "139",
          "97",
          "83",
          "415",
          "128",
          "176",
          "87"
         ],
         "yaxis": "y8"
        },
        {
         "fill": "tozeroy",
         "line": {
          "color": "blue",
          "width": 1
         },
         "mode": "lines",
         "name": "Air Pollution Index (Max.)",
         "type": "scatter",
         "x": [
          2000,
          2001,
          2002,
          2003,
          2004,
          2005,
          2006,
          2007,
          2008,
          2009,
          2010,
          2011,
          2012,
          2013,
          2014,
          2015,
          2016
         ],
         "xaxis": "x4",
         "y": [
          "4",
          "3",
          "5",
          "6",
          "5",
          "2",
          "5",
          "4",
          "3",
          "4",
          "22",
          "12",
          "3",
          "16",
          "5",
          "6",
          "5"
         ],
         "yaxis": "y8"
        },
        {
         "fill": "tozeroy",
         "line": {
          "color": "blue",
          "width": 1
         },
         "mode": "lines",
         "name": "Air Pollution Index (Max.)",
         "type": "scatter",
         "x": [
          2000,
          2001,
          2002,
          2003,
          2004,
          2005,
          2006,
          2007,
          2008,
          2009,
          2010,
          2011,
          2012,
          2013,
          2014,
          2015,
          2016
         ],
         "xaxis": "x5",
         "y": [
          "122",
          "127",
          "105",
          "114",
          "147",
          "114",
          "153",
          "92",
          "80",
          "137",
          "139",
          "97",
          "83",
          "415",
          "128",
          "176",
          "87"
         ],
         "yaxis": "y10"
        },
        {
         "fill": "tozeroy",
         "line": {
          "color": "blue",
          "width": 1
         },
         "mode": "lines",
         "name": "Air Pollution Index (Min.)",
         "type": "scatter",
         "x": [
          2000,
          2001,
          2002,
          2003,
          2004,
          2005,
          2006,
          2007,
          2008,
          2009,
          2010,
          2011,
          2012,
          2013,
          2014,
          2015,
          2016
         ],
         "xaxis": "x6",
         "y": [
          "4",
          "3",
          "5",
          "6",
          "5",
          "2",
          "5",
          "4",
          "3",
          "4",
          "22",
          "12",
          "3",
          "16",
          "5",
          "6",
          "5"
         ],
         "yaxis": "y12"
        },
        {
         "fill": "tozeroy",
         "line": {
          "color": "blue",
          "width": 1
         },
         "mode": "lines",
         "name": "Air Pollution Index (Max.)",
         "type": "scatter",
         "x": [
          2000,
          2001,
          2002,
          2003,
          2004,
          2005,
          2006,
          2007,
          2008,
          2009,
          2010,
          2011,
          2012,
          2013,
          2014,
          2015,
          2016
         ],
         "xaxis": "x7",
         "y": [
          "141",
          "157",
          "153",
          "143",
          "97",
          "390",
          "162",
          "131",
          "135",
          "168",
          "169",
          "150",
          "155",
          "186",
          "170",
          "185",
          "151"
         ],
         "yaxis": "y14"
        },
        {
         "fill": "tozeroy",
         "line": {
          "color": "blue",
          "width": 1
         },
         "mode": "lines",
         "name": "Air Pollution Index (Max.)",
         "type": "scatter",
         "x": [
          2000,
          2001,
          2002,
          2003,
          2004,
          2005,
          2006,
          2007,
          2008,
          2009,
          2010,
          2011,
          2012,
          2013,
          2014,
          2015,
          2016
         ],
         "xaxis": "x7",
         "y": [
          "13",
          "16",
          "11",
          "11",
          "32",
          "5",
          "5",
          "4",
          "8",
          "4",
          "26",
          "11",
          "4",
          "22",
          "3",
          "9",
          "7"
         ],
         "yaxis": "y14"
        },
        {
         "fill": "tozeroy",
         "line": {
          "color": "blue",
          "width": 1
         },
         "mode": "lines",
         "name": "Air Pollution Index (Max.)",
         "type": "scatter",
         "x": [
          2000,
          2001,
          2002,
          2003,
          2004,
          2005,
          2006,
          2007,
          2008,
          2009,
          2010,
          2011,
          2012,
          2013,
          2014,
          2015,
          2016
         ],
         "xaxis": "x8",
         "y": [
          "141",
          "157",
          "153",
          "143",
          "97",
          "390",
          "162",
          "131",
          "135",
          "168",
          "169",
          "150",
          "155",
          "186",
          "170",
          "185",
          "151"
         ],
         "yaxis": "y16"
        },
        {
         "fill": "tozeroy",
         "line": {
          "color": "blue",
          "width": 1
         },
         "mode": "lines",
         "name": "Air Pollution Index (Min.)",
         "type": "scatter",
         "x": [
          2000,
          2001,
          2002,
          2003,
          2004,
          2005,
          2006,
          2007,
          2008,
          2009,
          2010,
          2011,
          2012,
          2013,
          2014,
          2015,
          2016
         ],
         "xaxis": "x9",
         "y": [
          "13",
          "16",
          "11",
          "11",
          "32",
          "5",
          "5",
          "4",
          "8",
          "4",
          "26",
          "11",
          "4",
          "22",
          "3",
          "9",
          "7"
         ],
         "yaxis": "y18"
        },
        {
         "fill": "tozeroy",
         "line": {
          "color": "blue",
          "width": 1
         },
         "mode": "lines",
         "name": "Air Pollution Index (Max.)",
         "type": "scatter",
         "x": [
          2000,
          2001,
          2002,
          2003,
          2004,
          2005,
          2006,
          2007,
          2008,
          2009,
          2010,
          2011,
          2012,
          2013,
          2014,
          2015,
          2016
         ],
         "xaxis": "x10",
         "y": [
          "70",
          "80",
          "88",
          "76",
          "62",
          "63",
          "86",
          "64",
          "55",
          "78",
          "68",
          "61",
          "61",
          "90",
          "59",
          "75",
          "73"
         ],
         "yaxis": "y20"
        },
        {
         "fill": "tozeroy",
         "line": {
          "color": "blue",
          "width": 1
         },
         "mode": "lines",
         "name": "Air Pollution Index (Max.)",
         "type": "scatter",
         "x": [
          2000,
          2001,
          2002,
          2003,
          2004,
          2005,
          2006,
          2007,
          2008,
          2009,
          2010,
          2011,
          2012,
          2013,
          2014,
          2015,
          2016
         ],
         "xaxis": "x10",
         "y": [
          "1",
          "1",
          "8",
          "2",
          "1",
          "2",
          "2",
          "3",
          "1",
          "1",
          "10",
          "2",
          "1",
          "8",
          "3",
          "5",
          "3"
         ],
         "yaxis": "y20"
        },
        {
         "fill": "tozeroy",
         "line": {
          "color": "blue",
          "width": 1
         },
         "mode": "lines",
         "name": "Air Pollution Index (Max.)",
         "type": "scatter",
         "x": [
          2000,
          2001,
          2002,
          2003,
          2004,
          2005,
          2006,
          2007,
          2008,
          2009,
          2010,
          2011,
          2012,
          2013,
          2014,
          2015,
          2016
         ],
         "xaxis": "x11",
         "y": [
          "70",
          "80",
          "88",
          "76",
          "62",
          "63",
          "86",
          "64",
          "55",
          "78",
          "68",
          "61",
          "61",
          "90",
          "59",
          "75",
          "73"
         ],
         "yaxis": "y22"
        },
        {
         "fill": "tozeroy",
         "line": {
          "color": "blue",
          "width": 1
         },
         "mode": "lines",
         "name": "Air Pollution Index (Min.)",
         "type": "scatter",
         "x": [
          2000,
          2001,
          2002,
          2003,
          2004,
          2005,
          2006,
          2007,
          2008,
          2009,
          2010,
          2011,
          2012,
          2013,
          2014,
          2015,
          2016
         ],
         "xaxis": "x12",
         "y": [
          "1",
          "1",
          "8",
          "2",
          "1",
          "2",
          "2",
          "3",
          "1",
          "1",
          "10",
          "2",
          "1",
          "8",
          "3",
          "5",
          "3"
         ],
         "yaxis": "y24"
        },
        {
         "fill": "tozeroy",
         "line": {
          "color": "blue",
          "width": 1
         },
         "mode": "lines",
         "name": "Air Pollution Index (Max.)",
         "type": "scatter",
         "x": [
          2000,
          2001,
          2002,
          2003,
          2004,
          2005,
          2006,
          2007,
          2008,
          2009,
          2010,
          2011,
          2012,
          2013,
          2014,
          2015,
          2016
         ],
         "xaxis": "x13",
         "y": [
          "84",
          "84",
          "130",
          "85",
          "97",
          "78",
          "188",
          "75",
          "72",
          "114",
          "54",
          "100",
          "93",
          "89",
          "123",
          "209",
          "71"
         ],
         "yaxis": "y26"
        },
        {
         "fill": "tozeroy",
         "line": {
          "color": "blue",
          "width": 1
         },
         "mode": "lines",
         "name": "Air Pollution Index (Max.)",
         "type": "scatter",
         "x": [
          2000,
          2001,
          2002,
          2003,
          2004,
          2005,
          2006,
          2007,
          2008,
          2009,
          2010,
          2011,
          2012,
          2013,
          2014,
          2015,
          2016
         ],
         "xaxis": "x13",
         "y": [
          "1",
          "1",
          "1",
          "6",
          "17",
          "23",
          "5",
          "6",
          "5",
          "10",
          "16",
          "4",
          "16",
          "17",
          "11",
          "5",
          "6"
         ],
         "yaxis": "y26"
        },
        {
         "fill": "tozeroy",
         "line": {
          "color": "blue",
          "width": 1
         },
         "mode": "lines",
         "name": "Air Pollution Index (Max.)",
         "type": "scatter",
         "x": [
          2000,
          2001,
          2002,
          2003,
          2004,
          2005,
          2006,
          2007,
          2008,
          2009,
          2010,
          2011,
          2012,
          2013,
          2014,
          2015,
          2016
         ],
         "xaxis": "x14",
         "y": [
          "84",
          "84",
          "130",
          "85",
          "97",
          "78",
          "188",
          "75",
          "72",
          "114",
          "54",
          "100",
          "93",
          "89",
          "123",
          "209",
          "71"
         ],
         "yaxis": "y28"
        },
        {
         "fill": "tozeroy",
         "line": {
          "color": "blue",
          "width": 1
         },
         "mode": "lines",
         "name": "Air Pollution Index (Min.)",
         "type": "scatter",
         "x": [
          2000,
          2001,
          2002,
          2003,
          2004,
          2005,
          2006,
          2007,
          2008,
          2009,
          2010,
          2011,
          2012,
          2013,
          2014,
          2015,
          2016
         ],
         "xaxis": "x15",
         "y": [
          "1",
          "1",
          "1",
          "6",
          "17",
          "23",
          "5",
          "6",
          "5",
          "10",
          "16",
          "4",
          "16",
          "17",
          "11",
          "5",
          "6"
         ],
         "yaxis": "y30"
        },
        {
         "fill": "tozeroy",
         "line": {
          "color": "blue",
          "width": 1
         },
         "mode": "lines",
         "name": "Air Pollution Index (Max.)",
         "type": "scatter",
         "x": [
          2000,
          2001,
          2002,
          2003,
          2004,
          2005,
          2006,
          2007,
          2008,
          2009,
          2010,
          2011,
          2012,
          2013,
          2014,
          2015,
          2016
         ],
         "xaxis": "x16",
         "y": [
          "119",
          "119",
          "116",
          "112",
          "126",
          "111",
          "143",
          "141",
          "101",
          "99",
          "111",
          "84",
          "137",
          "226",
          "198",
          "192",
          "109"
         ],
         "yaxis": "y32"
        },
        {
         "fill": "tozeroy",
         "line": {
          "color": "blue",
          "width": 1
         },
         "mode": "lines",
         "name": "Air Pollution Index (Max.)",
         "type": "scatter",
         "x": [
          2000,
          2001,
          2002,
          2003,
          2004,
          2005,
          2006,
          2007,
          2008,
          2009,
          2010,
          2011,
          2012,
          2013,
          2014,
          2015,
          2016
         ],
         "xaxis": "x16",
         "y": [
          "7",
          "10",
          "4",
          "2",
          "8",
          "1",
          "5",
          "0",
          "5",
          "2",
          "15",
          "3",
          "2",
          "17",
          "10",
          "28",
          "5"
         ],
         "yaxis": "y32"
        },
        {
         "fill": "tozeroy",
         "line": {
          "color": "blue",
          "width": 1
         },
         "mode": "lines",
         "name": "Air Pollution Index (Max.)",
         "type": "scatter",
         "x": [
          2000,
          2001,
          2002,
          2003,
          2004,
          2005,
          2006,
          2007,
          2008,
          2009,
          2010,
          2011,
          2012,
          2013,
          2014,
          2015,
          2016
         ],
         "xaxis": "x17",
         "y": [
          "119",
          "119",
          "116",
          "112",
          "126",
          "111",
          "143",
          "141",
          "101",
          "99",
          "111",
          "84",
          "137",
          "226",
          "198",
          "192",
          "109"
         ],
         "yaxis": "y34"
        },
        {
         "fill": "tozeroy",
         "line": {
          "color": "blue",
          "width": 1
         },
         "mode": "lines",
         "name": "Air Pollution Index (Min.)",
         "type": "scatter",
         "x": [
          2000,
          2001,
          2002,
          2003,
          2004,
          2005,
          2006,
          2007,
          2008,
          2009,
          2010,
          2011,
          2012,
          2013,
          2014,
          2015,
          2016
         ],
         "xaxis": "x18",
         "y": [
          "7",
          "10",
          "4",
          "2",
          "8",
          "1",
          "5",
          "0",
          "5",
          "2",
          "15",
          "3",
          "2",
          "17",
          "10",
          "28",
          "5"
         ],
         "yaxis": "y36"
        },
        {
         "fill": "tozeroy",
         "line": {
          "color": "blue",
          "width": 1
         },
         "mode": "lines",
         "name": "Air Pollution Index (Max.)",
         "type": "scatter",
         "x": [
          2000,
          2001,
          2002,
          2003,
          2004,
          2005,
          2006,
          2007,
          2008,
          2009,
          2010,
          2011,
          2012,
          2013,
          2014,
          2015,
          2016
         ],
         "xaxis": "x19",
         "y": [
          "127",
          "140",
          "115",
          "106",
          "121",
          "151",
          "121",
          "101",
          "99",
          "106",
          "93",
          "98",
          "105",
          "132",
          "119",
          "287",
          "87"
         ],
         "yaxis": "y38"
        },
        {
         "fill": "tozeroy",
         "line": {
          "color": "blue",
          "width": 1
         },
         "mode": "lines",
         "name": "Air Pollution Index (Max.)",
         "type": "scatter",
         "x": [
          2000,
          2001,
          2002,
          2003,
          2004,
          2005,
          2006,
          2007,
          2008,
          2009,
          2010,
          2011,
          2012,
          2013,
          2014,
          2015,
          2016
         ],
         "xaxis": "x19",
         "y": [
          "4",
          "8",
          "4",
          "11",
          "8",
          "10",
          "6",
          "8",
          "6",
          "5",
          "28",
          "6",
          "6",
          "27",
          "14",
          "9",
          "7"
         ],
         "yaxis": "y38"
        },
        {
         "fill": "tozeroy",
         "line": {
          "color": "blue",
          "width": 1
         },
         "mode": "lines",
         "name": "Air Pollution Index (Max.)",
         "type": "scatter",
         "x": [
          2000,
          2001,
          2002,
          2003,
          2004,
          2005,
          2006,
          2007,
          2008,
          2009,
          2010,
          2011,
          2012,
          2013,
          2014,
          2015,
          2016
         ],
         "xaxis": "x20",
         "y": [
          "127",
          "140",
          "115",
          "106",
          "121",
          "151",
          "121",
          "101",
          "99",
          "106",
          "93",
          "98",
          "105",
          "132",
          "119",
          "287",
          "87"
         ],
         "yaxis": "y40"
        },
        {
         "fill": "tozeroy",
         "line": {
          "color": "blue",
          "width": 1
         },
         "mode": "lines",
         "name": "Air Pollution Index (Min.)",
         "type": "scatter",
         "x": [
          2000,
          2001,
          2002,
          2003,
          2004,
          2005,
          2006,
          2007,
          2008,
          2009,
          2010,
          2011,
          2012,
          2013,
          2014,
          2015,
          2016
         ],
         "xaxis": "x21",
         "y": [
          "4",
          "8",
          "4",
          "11",
          "8",
          "10",
          "6",
          "8",
          "6",
          "5",
          "28",
          "6",
          "6",
          "27",
          "14",
          "9",
          "7"
         ],
         "yaxis": "y42"
        }
       ],
       "layout": {
        "annotations": [
         {
          "font": {
           "family": "Helvetica",
           "size": 11
          },
          "showarrow": false,
          "text": "<b>Miri API</b>",
          "x": 0.11222222222222222,
          "xanchor": "center",
          "xref": "paper",
          "y": 0.9999999999999999,
          "yanchor": "bottom",
          "yref": "paper"
         },
         {
          "font": {
           "family": "Helvetica",
           "size": 11
          },
          "showarrow": false,
          "text": "<b>API Max</b>",
          "x": 0.47,
          "xanchor": "center",
          "xref": "paper",
          "y": 0.9999999999999999,
          "yanchor": "bottom",
          "yref": "paper"
         },
         {
          "font": {
           "family": "Helvetica",
           "size": 11
          },
          "showarrow": false,
          "text": "<b>API Min</b>",
          "x": 0.8277777777777777,
          "xanchor": "center",
          "xref": "paper",
          "y": 0.9999999999999999,
          "yanchor": "bottom",
          "yref": "paper"
         },
         {
          "font": {
           "family": "Helvetica",
           "size": 11
          },
          "showarrow": false,
          "text": "<b>Melaka API</b>",
          "x": 0.11222222222222222,
          "xanchor": "center",
          "xref": "paper",
          "y": 0.8469387755102039,
          "yanchor": "bottom",
          "yref": "paper"
         },
         {
          "font": {
           "family": "Helvetica",
           "size": 11
          },
          "showarrow": false,
          "text": "<b>API Max</b>",
          "x": 0.47,
          "xanchor": "center",
          "xref": "paper",
          "y": 0.8469387755102039,
          "yanchor": "bottom",
          "yref": "paper"
         },
         {
          "font": {
           "family": "Helvetica",
           "size": 11
          },
          "showarrow": false,
          "text": "<b>API Min</b>",
          "x": 0.8277777777777777,
          "xanchor": "center",
          "xref": "paper",
          "y": 0.8469387755102039,
          "yanchor": "bottom",
          "yref": "paper"
         },
         {
          "font": {
           "family": "Helvetica",
           "size": 11
          },
          "showarrow": false,
          "text": "<b>Cheras API</b>",
          "x": 0.11222222222222222,
          "xanchor": "center",
          "xref": "paper",
          "y": 0.6938775510204082,
          "yanchor": "bottom",
          "yref": "paper"
         },
         {
          "font": {
           "family": "Helvetica",
           "size": 11
          },
          "showarrow": false,
          "text": "<b>API Max</b>",
          "x": 0.47,
          "xanchor": "center",
          "xref": "paper",
          "y": 0.6938775510204082,
          "yanchor": "bottom",
          "yref": "paper"
         },
         {
          "font": {
           "family": "Helvetica",
           "size": 11
          },
          "showarrow": false,
          "text": "<b>API Min</b>",
          "x": 0.8277777777777777,
          "xanchor": "center",
          "xref": "paper",
          "y": 0.6938775510204082,
          "yanchor": "bottom",
          "yref": "paper"
         },
         {
          "font": {
           "family": "Helvetica",
           "size": 11
          },
          "showarrow": false,
          "text": "<b>Kota Kinabalu API</b>",
          "x": 0.11222222222222222,
          "xanchor": "center",
          "xref": "paper",
          "y": 0.5408163265306122,
          "yanchor": "bottom",
          "yref": "paper"
         },
         {
          "font": {
           "family": "Helvetica",
           "size": 11
          },
          "showarrow": false,
          "text": "<b>API Max</b>",
          "x": 0.47,
          "xanchor": "center",
          "xref": "paper",
          "y": 0.5408163265306122,
          "yanchor": "bottom",
          "yref": "paper"
         },
         {
          "font": {
           "family": "Helvetica",
           "size": 11
          },
          "showarrow": false,
          "text": "<b>API Min</b>",
          "x": 0.8277777777777777,
          "xanchor": "center",
          "xref": "paper",
          "y": 0.5408163265306122,
          "yanchor": "bottom",
          "yref": "paper"
         },
         {
          "font": {
           "family": "Helvetica",
           "size": 11
          },
          "showarrow": false,
          "text": "<b>Kuching API</b>",
          "x": 0.11222222222222222,
          "xanchor": "center",
          "xref": "paper",
          "y": 0.3877551020408163,
          "yanchor": "bottom",
          "yref": "paper"
         },
         {
          "font": {
           "family": "Helvetica",
           "size": 11
          },
          "showarrow": false,
          "text": "<b>API Max</b>",
          "x": 0.47,
          "xanchor": "center",
          "xref": "paper",
          "y": 0.3877551020408163,
          "yanchor": "bottom",
          "yref": "paper"
         },
         {
          "font": {
           "family": "Helvetica",
           "size": 11
          },
          "showarrow": false,
          "text": "<b>API Min</b>",
          "x": 0.8277777777777777,
          "xanchor": "center",
          "xref": "paper",
          "y": 0.3877551020408163,
          "yanchor": "bottom",
          "yref": "paper"
         },
         {
          "font": {
           "family": "Helvetica",
           "size": 11
          },
          "showarrow": false,
          "text": "<b>Larkin API</b>",
          "x": 0.11222222222222222,
          "xanchor": "center",
          "xref": "paper",
          "y": 0.2346938775510204,
          "yanchor": "bottom",
          "yref": "paper"
         },
         {
          "font": {
           "family": "Helvetica",
           "size": 11
          },
          "showarrow": false,
          "text": "<b>API Max</b>",
          "x": 0.47,
          "xanchor": "center",
          "xref": "paper",
          "y": 0.2346938775510204,
          "yanchor": "bottom",
          "yref": "paper"
         },
         {
          "font": {
           "family": "Helvetica",
           "size": 11
          },
          "showarrow": false,
          "text": "<b>API Min</b>",
          "x": 0.8277777777777777,
          "xanchor": "center",
          "xref": "paper",
          "y": 0.2346938775510204,
          "yanchor": "bottom",
          "yref": "paper"
         },
         {
          "font": {
           "family": "Helvetica",
           "size": 11
          },
          "showarrow": false,
          "text": "<b>Seberang Jaya API</b>",
          "x": 0.11222222222222222,
          "xanchor": "center",
          "xref": "paper",
          "y": 0.08163265306122448,
          "yanchor": "bottom",
          "yref": "paper"
         },
         {
          "font": {
           "family": "Helvetica",
           "size": 11
          },
          "showarrow": false,
          "text": "<b>API Max</b>",
          "x": 0.47,
          "xanchor": "center",
          "xref": "paper",
          "y": 0.08163265306122448,
          "yanchor": "bottom",
          "yref": "paper"
         },
         {
          "font": {
           "family": "Helvetica",
           "size": 11
          },
          "showarrow": false,
          "text": "<b>API Min</b>",
          "x": 0.8277777777777777,
          "xanchor": "center",
          "xref": "paper",
          "y": 0.08163265306122448,
          "yanchor": "bottom",
          "yref": "paper"
         }
        ],
        "font": {
         "family": "Helvetica",
         "size": 11
        },
        "height": 350,
        "showlegend": false,
        "template": {
         "data": {
          "bar": [
           {
            "error_x": {
             "color": "#2a3f5f"
            },
            "error_y": {
             "color": "#2a3f5f"
            },
            "marker": {
             "line": {
              "color": "#E5ECF6",
              "width": 0.5
             },
             "pattern": {
              "fillmode": "overlay",
              "size": 10,
              "solidity": 0.2
             }
            },
            "type": "bar"
           }
          ],
          "barpolar": [
           {
            "marker": {
             "line": {
              "color": "#E5ECF6",
              "width": 0.5
             },
             "pattern": {
              "fillmode": "overlay",
              "size": 10,
              "solidity": 0.2
             }
            },
            "type": "barpolar"
           }
          ],
          "carpet": [
           {
            "aaxis": {
             "endlinecolor": "#2a3f5f",
             "gridcolor": "white",
             "linecolor": "white",
             "minorgridcolor": "white",
             "startlinecolor": "#2a3f5f"
            },
            "baxis": {
             "endlinecolor": "#2a3f5f",
             "gridcolor": "white",
             "linecolor": "white",
             "minorgridcolor": "white",
             "startlinecolor": "#2a3f5f"
            },
            "type": "carpet"
           }
          ],
          "choropleth": [
           {
            "colorbar": {
             "outlinewidth": 0,
             "ticks": ""
            },
            "type": "choropleth"
           }
          ],
          "contour": [
           {
            "colorbar": {
             "outlinewidth": 0,
             "ticks": ""
            },
            "colorscale": [
             [
              0,
              "#0d0887"
             ],
             [
              0.1111111111111111,
              "#46039f"
             ],
             [
              0.2222222222222222,
              "#7201a8"
             ],
             [
              0.3333333333333333,
              "#9c179e"
             ],
             [
              0.4444444444444444,
              "#bd3786"
             ],
             [
              0.5555555555555556,
              "#d8576b"
             ],
             [
              0.6666666666666666,
              "#ed7953"
             ],
             [
              0.7777777777777778,
              "#fb9f3a"
             ],
             [
              0.8888888888888888,
              "#fdca26"
             ],
             [
              1,
              "#f0f921"
             ]
            ],
            "type": "contour"
           }
          ],
          "contourcarpet": [
           {
            "colorbar": {
             "outlinewidth": 0,
             "ticks": ""
            },
            "type": "contourcarpet"
           }
          ],
          "heatmap": [
           {
            "colorbar": {
             "outlinewidth": 0,
             "ticks": ""
            },
            "colorscale": [
             [
              0,
              "#0d0887"
             ],
             [
              0.1111111111111111,
              "#46039f"
             ],
             [
              0.2222222222222222,
              "#7201a8"
             ],
             [
              0.3333333333333333,
              "#9c179e"
             ],
             [
              0.4444444444444444,
              "#bd3786"
             ],
             [
              0.5555555555555556,
              "#d8576b"
             ],
             [
              0.6666666666666666,
              "#ed7953"
             ],
             [
              0.7777777777777778,
              "#fb9f3a"
             ],
             [
              0.8888888888888888,
              "#fdca26"
             ],
             [
              1,
              "#f0f921"
             ]
            ],
            "type": "heatmap"
           }
          ],
          "heatmapgl": [
           {
            "colorbar": {
             "outlinewidth": 0,
             "ticks": ""
            },
            "colorscale": [
             [
              0,
              "#0d0887"
             ],
             [
              0.1111111111111111,
              "#46039f"
             ],
             [
              0.2222222222222222,
              "#7201a8"
             ],
             [
              0.3333333333333333,
              "#9c179e"
             ],
             [
              0.4444444444444444,
              "#bd3786"
             ],
             [
              0.5555555555555556,
              "#d8576b"
             ],
             [
              0.6666666666666666,
              "#ed7953"
             ],
             [
              0.7777777777777778,
              "#fb9f3a"
             ],
             [
              0.8888888888888888,
              "#fdca26"
             ],
             [
              1,
              "#f0f921"
             ]
            ],
            "type": "heatmapgl"
           }
          ],
          "histogram": [
           {
            "marker": {
             "pattern": {
              "fillmode": "overlay",
              "size": 10,
              "solidity": 0.2
             }
            },
            "type": "histogram"
           }
          ],
          "histogram2d": [
           {
            "colorbar": {
             "outlinewidth": 0,
             "ticks": ""
            },
            "colorscale": [
             [
              0,
              "#0d0887"
             ],
             [
              0.1111111111111111,
              "#46039f"
             ],
             [
              0.2222222222222222,
              "#7201a8"
             ],
             [
              0.3333333333333333,
              "#9c179e"
             ],
             [
              0.4444444444444444,
              "#bd3786"
             ],
             [
              0.5555555555555556,
              "#d8576b"
             ],
             [
              0.6666666666666666,
              "#ed7953"
             ],
             [
              0.7777777777777778,
              "#fb9f3a"
             ],
             [
              0.8888888888888888,
              "#fdca26"
             ],
             [
              1,
              "#f0f921"
             ]
            ],
            "type": "histogram2d"
           }
          ],
          "histogram2dcontour": [
           {
            "colorbar": {
             "outlinewidth": 0,
             "ticks": ""
            },
            "colorscale": [
             [
              0,
              "#0d0887"
             ],
             [
              0.1111111111111111,
              "#46039f"
             ],
             [
              0.2222222222222222,
              "#7201a8"
             ],
             [
              0.3333333333333333,
              "#9c179e"
             ],
             [
              0.4444444444444444,
              "#bd3786"
             ],
             [
              0.5555555555555556,
              "#d8576b"
             ],
             [
              0.6666666666666666,
              "#ed7953"
             ],
             [
              0.7777777777777778,
              "#fb9f3a"
             ],
             [
              0.8888888888888888,
              "#fdca26"
             ],
             [
              1,
              "#f0f921"
             ]
            ],
            "type": "histogram2dcontour"
           }
          ],
          "mesh3d": [
           {
            "colorbar": {
             "outlinewidth": 0,
             "ticks": ""
            },
            "type": "mesh3d"
           }
          ],
          "parcoords": [
           {
            "line": {
             "colorbar": {
              "outlinewidth": 0,
              "ticks": ""
             }
            },
            "type": "parcoords"
           }
          ],
          "pie": [
           {
            "automargin": true,
            "type": "pie"
           }
          ],
          "scatter": [
           {
            "fillpattern": {
             "fillmode": "overlay",
             "size": 10,
             "solidity": 0.2
            },
            "type": "scatter"
           }
          ],
          "scatter3d": [
           {
            "line": {
             "colorbar": {
              "outlinewidth": 0,
              "ticks": ""
             }
            },
            "marker": {
             "colorbar": {
              "outlinewidth": 0,
              "ticks": ""
             }
            },
            "type": "scatter3d"
           }
          ],
          "scattercarpet": [
           {
            "marker": {
             "colorbar": {
              "outlinewidth": 0,
              "ticks": ""
             }
            },
            "type": "scattercarpet"
           }
          ],
          "scattergeo": [
           {
            "marker": {
             "colorbar": {
              "outlinewidth": 0,
              "ticks": ""
             }
            },
            "type": "scattergeo"
           }
          ],
          "scattergl": [
           {
            "marker": {
             "colorbar": {
              "outlinewidth": 0,
              "ticks": ""
             }
            },
            "type": "scattergl"
           }
          ],
          "scattermapbox": [
           {
            "marker": {
             "colorbar": {
              "outlinewidth": 0,
              "ticks": ""
             }
            },
            "type": "scattermapbox"
           }
          ],
          "scatterpolar": [
           {
            "marker": {
             "colorbar": {
              "outlinewidth": 0,
              "ticks": ""
             }
            },
            "type": "scatterpolar"
           }
          ],
          "scatterpolargl": [
           {
            "marker": {
             "colorbar": {
              "outlinewidth": 0,
              "ticks": ""
             }
            },
            "type": "scatterpolargl"
           }
          ],
          "scatterternary": [
           {
            "marker": {
             "colorbar": {
              "outlinewidth": 0,
              "ticks": ""
             }
            },
            "type": "scatterternary"
           }
          ],
          "surface": [
           {
            "colorbar": {
             "outlinewidth": 0,
             "ticks": ""
            },
            "colorscale": [
             [
              0,
              "#0d0887"
             ],
             [
              0.1111111111111111,
              "#46039f"
             ],
             [
              0.2222222222222222,
              "#7201a8"
             ],
             [
              0.3333333333333333,
              "#9c179e"
             ],
             [
              0.4444444444444444,
              "#bd3786"
             ],
             [
              0.5555555555555556,
              "#d8576b"
             ],
             [
              0.6666666666666666,
              "#ed7953"
             ],
             [
              0.7777777777777778,
              "#fb9f3a"
             ],
             [
              0.8888888888888888,
              "#fdca26"
             ],
             [
              1,
              "#f0f921"
             ]
            ],
            "type": "surface"
           }
          ],
          "table": [
           {
            "cells": {
             "fill": {
              "color": "#EBF0F8"
             },
             "line": {
              "color": "white"
             }
            },
            "header": {
             "fill": {
              "color": "#C8D4E3"
             },
             "line": {
              "color": "white"
             }
            },
            "type": "table"
           }
          ]
         },
         "layout": {
          "annotationdefaults": {
           "arrowcolor": "#2a3f5f",
           "arrowhead": 0,
           "arrowwidth": 1
          },
          "autotypenumbers": "strict",
          "coloraxis": {
           "colorbar": {
            "outlinewidth": 0,
            "ticks": ""
           }
          },
          "colorscale": {
           "diverging": [
            [
             0,
             "#8e0152"
            ],
            [
             0.1,
             "#c51b7d"
            ],
            [
             0.2,
             "#de77ae"
            ],
            [
             0.3,
             "#f1b6da"
            ],
            [
             0.4,
             "#fde0ef"
            ],
            [
             0.5,
             "#f7f7f7"
            ],
            [
             0.6,
             "#e6f5d0"
            ],
            [
             0.7,
             "#b8e186"
            ],
            [
             0.8,
             "#7fbc41"
            ],
            [
             0.9,
             "#4d9221"
            ],
            [
             1,
             "#276419"
            ]
           ],
           "sequential": [
            [
             0,
             "#0d0887"
            ],
            [
             0.1111111111111111,
             "#46039f"
            ],
            [
             0.2222222222222222,
             "#7201a8"
            ],
            [
             0.3333333333333333,
             "#9c179e"
            ],
            [
             0.4444444444444444,
             "#bd3786"
            ],
            [
             0.5555555555555556,
             "#d8576b"
            ],
            [
             0.6666666666666666,
             "#ed7953"
            ],
            [
             0.7777777777777778,
             "#fb9f3a"
            ],
            [
             0.8888888888888888,
             "#fdca26"
            ],
            [
             1,
             "#f0f921"
            ]
           ],
           "sequentialminus": [
            [
             0,
             "#0d0887"
            ],
            [
             0.1111111111111111,
             "#46039f"
            ],
            [
             0.2222222222222222,
             "#7201a8"
            ],
            [
             0.3333333333333333,
             "#9c179e"
            ],
            [
             0.4444444444444444,
             "#bd3786"
            ],
            [
             0.5555555555555556,
             "#d8576b"
            ],
            [
             0.6666666666666666,
             "#ed7953"
            ],
            [
             0.7777777777777778,
             "#fb9f3a"
            ],
            [
             0.8888888888888888,
             "#fdca26"
            ],
            [
             1,
             "#f0f921"
            ]
           ]
          },
          "colorway": [
           "#636efa",
           "#EF553B",
           "#00cc96",
           "#ab63fa",
           "#FFA15A",
           "#19d3f3",
           "#FF6692",
           "#B6E880",
           "#FF97FF",
           "#FECB52"
          ],
          "font": {
           "color": "#2a3f5f"
          },
          "geo": {
           "bgcolor": "white",
           "lakecolor": "white",
           "landcolor": "#E5ECF6",
           "showlakes": true,
           "showland": true,
           "subunitcolor": "white"
          },
          "hoverlabel": {
           "align": "left"
          },
          "hovermode": "closest",
          "mapbox": {
           "style": "light"
          },
          "paper_bgcolor": "white",
          "plot_bgcolor": "#E5ECF6",
          "polar": {
           "angularaxis": {
            "gridcolor": "white",
            "linecolor": "white",
            "ticks": ""
           },
           "bgcolor": "#E5ECF6",
           "radialaxis": {
            "gridcolor": "white",
            "linecolor": "white",
            "ticks": ""
           }
          },
          "scene": {
           "xaxis": {
            "backgroundcolor": "#E5ECF6",
            "gridcolor": "white",
            "gridwidth": 2,
            "linecolor": "white",
            "showbackground": true,
            "ticks": "",
            "zerolinecolor": "white"
           },
           "yaxis": {
            "backgroundcolor": "#E5ECF6",
            "gridcolor": "white",
            "gridwidth": 2,
            "linecolor": "white",
            "showbackground": true,
            "ticks": "",
            "zerolinecolor": "white"
           },
           "zaxis": {
            "backgroundcolor": "#E5ECF6",
            "gridcolor": "white",
            "gridwidth": 2,
            "linecolor": "white",
            "showbackground": true,
            "ticks": "",
            "zerolinecolor": "white"
           }
          },
          "shapedefaults": {
           "line": {
            "color": "#2a3f5f"
           }
          },
          "ternary": {
           "aaxis": {
            "gridcolor": "white",
            "linecolor": "white",
            "ticks": ""
           },
           "baxis": {
            "gridcolor": "white",
            "linecolor": "white",
            "ticks": ""
           },
           "bgcolor": "#E5ECF6",
           "caxis": {
            "gridcolor": "white",
            "linecolor": "white",
            "ticks": ""
           }
          },
          "title": {
           "x": 0.05
          },
          "xaxis": {
           "automargin": true,
           "gridcolor": "white",
           "linecolor": "white",
           "ticks": "",
           "title": {
            "standoff": 15
           },
           "zerolinecolor": "white",
           "zerolinewidth": 2
          },
          "yaxis": {
           "automargin": true,
           "gridcolor": "white",
           "linecolor": "white",
           "ticks": "",
           "title": {
            "standoff": 15
           },
           "zerolinecolor": "white",
           "zerolinewidth": 2
          }
         }
        },
        "title": {
         "text": "Malaysia Air Pollutant Index Stations",
         "x": 0.5
        },
        "xaxis": {
         "anchor": "y",
         "domain": [
          0,
          0.22444444444444445
         ],
         "linecolor": "black",
         "linewidth": 2,
         "showgrid": false,
         "showline": true,
         "title": {
          "text": ""
         },
         "zeroline": false
        },
        "xaxis10": {
         "anchor": "y19",
         "domain": [
          0,
          0.22444444444444445
         ],
         "linecolor": "black",
         "linewidth": 2,
         "showgrid": false,
         "showline": true,
         "title": {
          "text": ""
         },
         "zeroline": false
        },
        "xaxis11": {
         "anchor": "y21",
         "domain": [
          0.35777777777777775,
          0.5822222222222222
         ],
         "linecolor": "black",
         "linewidth": 2,
         "showgrid": false,
         "showline": true,
         "title": {
          "text": ""
         },
         "zeroline": false
        },
        "xaxis12": {
         "anchor": "y23",
         "domain": [
          0.7155555555555555,
          0.94
         ],
         "linecolor": "black",
         "linewidth": 2,
         "showgrid": false,
         "showline": true,
         "title": {
          "text": ""
         },
         "zeroline": false
        },
        "xaxis13": {
         "anchor": "y25",
         "domain": [
          0,
          0.22444444444444445
         ],
         "linecolor": "black",
         "linewidth": 2,
         "showgrid": false,
         "showline": true,
         "title": {
          "text": ""
         },
         "zeroline": false
        },
        "xaxis14": {
         "anchor": "y27",
         "domain": [
          0.35777777777777775,
          0.5822222222222222
         ],
         "linecolor": "black",
         "linewidth": 2,
         "showgrid": false,
         "showline": true,
         "title": {
          "text": ""
         },
         "zeroline": false
        },
        "xaxis15": {
         "anchor": "y29",
         "domain": [
          0.7155555555555555,
          0.94
         ],
         "linecolor": "black",
         "linewidth": 2,
         "showgrid": false,
         "showline": true,
         "title": {
          "text": ""
         },
         "zeroline": false
        },
        "xaxis16": {
         "anchor": "y31",
         "domain": [
          0,
          0.22444444444444445
         ],
         "linecolor": "black",
         "linewidth": 2,
         "showgrid": false,
         "showline": true,
         "title": {
          "text": ""
         },
         "zeroline": false
        },
        "xaxis17": {
         "anchor": "y33",
         "domain": [
          0.35777777777777775,
          0.5822222222222222
         ],
         "linecolor": "black",
         "linewidth": 2,
         "showgrid": false,
         "showline": true,
         "title": {
          "text": ""
         },
         "zeroline": false
        },
        "xaxis18": {
         "anchor": "y35",
         "domain": [
          0.7155555555555555,
          0.94
         ],
         "linecolor": "black",
         "linewidth": 2,
         "showgrid": false,
         "showline": true,
         "title": {
          "text": ""
         },
         "zeroline": false
        },
        "xaxis19": {
         "anchor": "y37",
         "domain": [
          0,
          0.22444444444444445
         ],
         "linecolor": "black",
         "linewidth": 2,
         "showgrid": false,
         "showline": true,
         "title": {
          "text": ""
         },
         "zeroline": false
        },
        "xaxis2": {
         "anchor": "y3",
         "domain": [
          0.35777777777777775,
          0.5822222222222222
         ],
         "linecolor": "black",
         "linewidth": 2,
         "showgrid": false,
         "showline": true,
         "title": {
          "text": ""
         },
         "zeroline": false
        },
        "xaxis20": {
         "anchor": "y39",
         "domain": [
          0.35777777777777775,
          0.5822222222222222
         ],
         "linecolor": "black",
         "linewidth": 2,
         "showgrid": false,
         "showline": true,
         "title": {
          "text": ""
         },
         "zeroline": false
        },
        "xaxis21": {
         "anchor": "y41",
         "domain": [
          0.7155555555555555,
          0.94
         ],
         "linecolor": "black",
         "linewidth": 2,
         "showgrid": false,
         "showline": true,
         "title": {
          "text": ""
         },
         "zeroline": false
        },
        "xaxis3": {
         "anchor": "y5",
         "domain": [
          0.7155555555555555,
          0.94
         ],
         "linecolor": "black",
         "linewidth": 2,
         "showgrid": false,
         "showline": true,
         "title": {
          "text": ""
         },
         "zeroline": false
        },
        "xaxis4": {
         "anchor": "y7",
         "domain": [
          0,
          0.22444444444444445
         ],
         "linecolor": "black",
         "linewidth": 2,
         "showgrid": false,
         "showline": true,
         "title": {
          "text": ""
         },
         "zeroline": false
        },
        "xaxis5": {
         "anchor": "y9",
         "domain": [
          0.35777777777777775,
          0.5822222222222222
         ],
         "linecolor": "black",
         "linewidth": 2,
         "showgrid": false,
         "showline": true,
         "title": {
          "text": ""
         },
         "zeroline": false
        },
        "xaxis6": {
         "anchor": "y11",
         "domain": [
          0.7155555555555555,
          0.94
         ],
         "linecolor": "black",
         "linewidth": 2,
         "showgrid": false,
         "showline": true,
         "title": {
          "text": ""
         },
         "zeroline": false
        },
        "xaxis7": {
         "anchor": "y13",
         "domain": [
          0,
          0.22444444444444445
         ],
         "linecolor": "black",
         "linewidth": 2,
         "showgrid": false,
         "showline": true,
         "title": {
          "text": ""
         },
         "zeroline": false
        },
        "xaxis8": {
         "anchor": "y15",
         "domain": [
          0.35777777777777775,
          0.5822222222222222
         ],
         "linecolor": "black",
         "linewidth": 2,
         "showgrid": false,
         "showline": true,
         "title": {
          "text": ""
         },
         "zeroline": false
        },
        "xaxis9": {
         "anchor": "y17",
         "domain": [
          0.7155555555555555,
          0.94
         ],
         "linecolor": "black",
         "linewidth": 2,
         "showgrid": false,
         "showline": true,
         "title": {
          "text": ""
         },
         "zeroline": false
        },
        "yaxis": {
         "anchor": "x",
         "domain": [
          0.9183673469387754,
          0.9999999999999999
         ],
         "linecolor": "black",
         "linewidth": 2,
         "showgrid": false,
         "showline": true,
         "zeroline": false
        },
        "yaxis10": {
         "anchor": "x5",
         "linecolor": "black",
         "linewidth": 2,
         "overlaying": "y9",
         "showgrid": false,
         "showline": true,
         "side": "right",
         "zeroline": false
        },
        "yaxis11": {
         "anchor": "x6",
         "domain": [
          0.7653061224489794,
          0.8469387755102039
         ],
         "linecolor": "black",
         "linewidth": 2,
         "showgrid": false,
         "showline": true,
         "zeroline": false
        },
        "yaxis12": {
         "anchor": "x6",
         "linecolor": "black",
         "linewidth": 2,
         "overlaying": "y11",
         "showgrid": false,
         "showline": true,
         "side": "right",
         "zeroline": false
        },
        "yaxis13": {
         "anchor": "x7",
         "domain": [
          0.6122448979591837,
          0.6938775510204082
         ],
         "linecolor": "black",
         "linewidth": 2,
         "showgrid": false,
         "showline": true,
         "zeroline": false
        },
        "yaxis14": {
         "anchor": "x7",
         "linecolor": "black",
         "linewidth": 2,
         "overlaying": "y13",
         "showgrid": false,
         "showline": true,
         "side": "right",
         "zeroline": false
        },
        "yaxis15": {
         "anchor": "x8",
         "domain": [
          0.6122448979591837,
          0.6938775510204082
         ],
         "linecolor": "black",
         "linewidth": 2,
         "showgrid": false,
         "showline": true,
         "zeroline": false
        },
        "yaxis16": {
         "anchor": "x8",
         "linecolor": "black",
         "linewidth": 2,
         "overlaying": "y15",
         "showgrid": false,
         "showline": true,
         "side": "right",
         "zeroline": false
        },
        "yaxis17": {
         "anchor": "x9",
         "domain": [
          0.6122448979591837,
          0.6938775510204082
         ],
         "linecolor": "black",
         "linewidth": 2,
         "showgrid": false,
         "showline": true,
         "zeroline": false
        },
        "yaxis18": {
         "anchor": "x9",
         "linecolor": "black",
         "linewidth": 2,
         "overlaying": "y17",
         "showgrid": false,
         "showline": true,
         "side": "right",
         "zeroline": false
        },
        "yaxis19": {
         "anchor": "x10",
         "domain": [
          0.4591836734693877,
          0.5408163265306122
         ],
         "linecolor": "black",
         "linewidth": 2,
         "showgrid": false,
         "showline": true,
         "zeroline": false
        },
        "yaxis2": {
         "anchor": "x",
         "linecolor": "black",
         "linewidth": 2,
         "overlaying": "y",
         "showgrid": false,
         "showline": true,
         "side": "right",
         "zeroline": false
        },
        "yaxis20": {
         "anchor": "x10",
         "linecolor": "black",
         "linewidth": 2,
         "overlaying": "y19",
         "showgrid": false,
         "showline": true,
         "side": "right",
         "zeroline": false
        },
        "yaxis21": {
         "anchor": "x11",
         "domain": [
          0.4591836734693877,
          0.5408163265306122
         ],
         "linecolor": "black",
         "linewidth": 2,
         "showgrid": false,
         "showline": true,
         "zeroline": false
        },
        "yaxis22": {
         "anchor": "x11",
         "linecolor": "black",
         "linewidth": 2,
         "overlaying": "y21",
         "showgrid": false,
         "showline": true,
         "side": "right",
         "zeroline": false
        },
        "yaxis23": {
         "anchor": "x12",
         "domain": [
          0.4591836734693877,
          0.5408163265306122
         ],
         "linecolor": "black",
         "linewidth": 2,
         "showgrid": false,
         "showline": true,
         "zeroline": false
        },
        "yaxis24": {
         "anchor": "x12",
         "linecolor": "black",
         "linewidth": 2,
         "overlaying": "y23",
         "showgrid": false,
         "showline": true,
         "side": "right",
         "zeroline": false
        },
        "yaxis25": {
         "anchor": "x13",
         "domain": [
          0.30612244897959184,
          0.3877551020408163
         ],
         "linecolor": "black",
         "linewidth": 2,
         "showgrid": false,
         "showline": true,
         "zeroline": false
        },
        "yaxis26": {
         "anchor": "x13",
         "linecolor": "black",
         "linewidth": 2,
         "overlaying": "y25",
         "showgrid": false,
         "showline": true,
         "side": "right",
         "zeroline": false
        },
        "yaxis27": {
         "anchor": "x14",
         "domain": [
          0.30612244897959184,
          0.3877551020408163
         ],
         "linecolor": "black",
         "linewidth": 2,
         "showgrid": false,
         "showline": true,
         "zeroline": false
        },
        "yaxis28": {
         "anchor": "x14",
         "linecolor": "black",
         "linewidth": 2,
         "overlaying": "y27",
         "showgrid": false,
         "showline": true,
         "side": "right",
         "zeroline": false
        },
        "yaxis29": {
         "anchor": "x15",
         "domain": [
          0.30612244897959184,
          0.3877551020408163
         ],
         "linecolor": "black",
         "linewidth": 2,
         "showgrid": false,
         "showline": true,
         "zeroline": false
        },
        "yaxis3": {
         "anchor": "x2",
         "domain": [
          0.9183673469387754,
          0.9999999999999999
         ],
         "linecolor": "black",
         "linewidth": 2,
         "showgrid": false,
         "showline": true,
         "zeroline": false
        },
        "yaxis30": {
         "anchor": "x15",
         "linecolor": "black",
         "linewidth": 2,
         "overlaying": "y29",
         "showgrid": false,
         "showline": true,
         "side": "right",
         "zeroline": false
        },
        "yaxis31": {
         "anchor": "x16",
         "domain": [
          0.15306122448979592,
          0.2346938775510204
         ],
         "linecolor": "black",
         "linewidth": 2,
         "showgrid": false,
         "showline": true,
         "zeroline": false
        },
        "yaxis32": {
         "anchor": "x16",
         "linecolor": "black",
         "linewidth": 2,
         "overlaying": "y31",
         "showgrid": false,
         "showline": true,
         "side": "right",
         "zeroline": false
        },
        "yaxis33": {
         "anchor": "x17",
         "domain": [
          0.15306122448979592,
          0.2346938775510204
         ],
         "linecolor": "black",
         "linewidth": 2,
         "showgrid": false,
         "showline": true,
         "zeroline": false
        },
        "yaxis34": {
         "anchor": "x17",
         "linecolor": "black",
         "linewidth": 2,
         "overlaying": "y33",
         "showgrid": false,
         "showline": true,
         "side": "right",
         "zeroline": false
        },
        "yaxis35": {
         "anchor": "x18",
         "domain": [
          0.15306122448979592,
          0.2346938775510204
         ],
         "linecolor": "black",
         "linewidth": 2,
         "showgrid": false,
         "showline": true,
         "zeroline": false
        },
        "yaxis36": {
         "anchor": "x18",
         "linecolor": "black",
         "linewidth": 2,
         "overlaying": "y35",
         "showgrid": false,
         "showline": true,
         "side": "right",
         "zeroline": false
        },
        "yaxis37": {
         "anchor": "x19",
         "domain": [
          0,
          0.08163265306122448
         ],
         "linecolor": "black",
         "linewidth": 2,
         "showgrid": false,
         "showline": true,
         "zeroline": false
        },
        "yaxis38": {
         "anchor": "x19",
         "linecolor": "black",
         "linewidth": 2,
         "overlaying": "y37",
         "showgrid": false,
         "showline": true,
         "side": "right",
         "zeroline": false
        },
        "yaxis39": {
         "anchor": "x20",
         "domain": [
          0,
          0.08163265306122448
         ],
         "linecolor": "black",
         "linewidth": 2,
         "showgrid": false,
         "showline": true,
         "zeroline": false
        },
        "yaxis4": {
         "anchor": "x2",
         "linecolor": "black",
         "linewidth": 2,
         "overlaying": "y3",
         "showgrid": false,
         "showline": true,
         "side": "right",
         "zeroline": false
        },
        "yaxis40": {
         "anchor": "x20",
         "linecolor": "black",
         "linewidth": 2,
         "overlaying": "y39",
         "showgrid": false,
         "showline": true,
         "side": "right",
         "zeroline": false
        },
        "yaxis41": {
         "anchor": "x21",
         "domain": [
          0,
          0.08163265306122448
         ],
         "linecolor": "black",
         "linewidth": 2,
         "showgrid": false,
         "showline": true,
         "zeroline": false
        },
        "yaxis42": {
         "anchor": "x21",
         "linecolor": "black",
         "linewidth": 2,
         "overlaying": "y41",
         "showgrid": false,
         "showline": true,
         "side": "right",
         "zeroline": false
        },
        "yaxis5": {
         "anchor": "x3",
         "domain": [
          0.9183673469387754,
          0.9999999999999999
         ],
         "linecolor": "black",
         "linewidth": 2,
         "showgrid": false,
         "showline": true,
         "zeroline": false
        },
        "yaxis6": {
         "anchor": "x3",
         "linecolor": "black",
         "linewidth": 2,
         "overlaying": "y5",
         "showgrid": false,
         "showline": true,
         "side": "right",
         "zeroline": false
        },
        "yaxis7": {
         "anchor": "x4",
         "domain": [
          0.7653061224489794,
          0.8469387755102039
         ],
         "linecolor": "black",
         "linewidth": 2,
         "showgrid": false,
         "showline": true,
         "zeroline": false
        },
        "yaxis8": {
         "anchor": "x4",
         "linecolor": "black",
         "linewidth": 2,
         "overlaying": "y7",
         "showgrid": false,
         "showline": true,
         "side": "right",
         "zeroline": false
        },
        "yaxis9": {
         "anchor": "x5",
         "domain": [
          0.7653061224489794,
          0.8469387755102039
         ],
         "linecolor": "black",
         "linewidth": 2,
         "showgrid": false,
         "showline": true,
         "zeroline": false
        }
       }
      },
      "text/html": [
       "<div>                            <div id=\"ad67c35a-1909-4370-9d52-f4695b34f7d5\" class=\"plotly-graph-div\" style=\"height:350px; width:100%;\"></div>            <script type=\"text/javascript\">                require([\"plotly\"], function(Plotly) {                    window.PLOTLYENV=window.PLOTLYENV || {};                                    if (document.getElementById(\"ad67c35a-1909-4370-9d52-f4695b34f7d5\")) {                    Plotly.newPlot(                        \"ad67c35a-1909-4370-9d52-f4695b34f7d5\",                        [{\"fill\":\"tozeroy\",\"line\":{\"color\":\"blue\",\"width\":1},\"mode\":\"lines\",\"name\":\"Air Pollution Index (Max.)\",\"x\":[2000,2001,2002,2003,2004,2005,2006,2007,2008,2009,2010,2011,2012,2013,2014,2015,2016],\"y\":[\"79\",\"84\",\"126\",\"86\",\"77\",\"133\",\"104\",\"73\",\"76\",\"179\",\"89\",\"96\",\"97\",\"93\",\"84\",\"99\",\"149\"],\"type\":\"scatter\",\"xaxis\":\"x\",\"yaxis\":\"y2\"},{\"fill\":\"tozeroy\",\"line\":{\"color\":\"blue\",\"width\":1},\"mode\":\"lines\",\"name\":\"Air Pollution Index (Max.)\",\"x\":[2000,2001,2002,2003,2004,2005,2006,2007,2008,2009,2010,2011,2012,2013,2014,2015,2016],\"y\":[\"3\",\"2\",\"5\",\"3\",\"2\",\"2\",\"1\",\"6\",\"6\",\"6\",\"17\",\"4\",\"5\",\"18\",\"2\",\"4\",\"3\"],\"type\":\"scatter\",\"xaxis\":\"x\",\"yaxis\":\"y2\"},{\"fill\":\"tozeroy\",\"line\":{\"color\":\"blue\",\"width\":1},\"mode\":\"lines\",\"name\":\"Air Pollution Index (Max.)\",\"x\":[2000,2001,2002,2003,2004,2005,2006,2007,2008,2009,2010,2011,2012,2013,2014,2015,2016],\"y\":[\"79\",\"84\",\"126\",\"86\",\"77\",\"133\",\"104\",\"73\",\"76\",\"179\",\"89\",\"96\",\"97\",\"93\",\"84\",\"99\",\"149\"],\"type\":\"scatter\",\"xaxis\":\"x2\",\"yaxis\":\"y4\"},{\"fill\":\"tozeroy\",\"line\":{\"color\":\"blue\",\"width\":1},\"mode\":\"lines\",\"name\":\"Air Pollution Index (Min.)\",\"x\":[2000,2001,2002,2003,2004,2005,2006,2007,2008,2009,2010,2011,2012,2013,2014,2015,2016],\"y\":[\"3\",\"2\",\"5\",\"3\",\"2\",\"2\",\"1\",\"6\",\"6\",\"6\",\"17\",\"4\",\"5\",\"18\",\"2\",\"4\",\"3\"],\"type\":\"scatter\",\"xaxis\":\"x3\",\"yaxis\":\"y6\"},{\"fill\":\"tozeroy\",\"line\":{\"color\":\"blue\",\"width\":1},\"mode\":\"lines\",\"name\":\"Air Pollution Index (Max.)\",\"x\":[2000,2001,2002,2003,2004,2005,2006,2007,2008,2009,2010,2011,2012,2013,2014,2015,2016],\"y\":[\"122\",\"127\",\"105\",\"114\",\"147\",\"114\",\"153\",\"92\",\"80\",\"137\",\"139\",\"97\",\"83\",\"415\",\"128\",\"176\",\"87\"],\"type\":\"scatter\",\"xaxis\":\"x4\",\"yaxis\":\"y8\"},{\"fill\":\"tozeroy\",\"line\":{\"color\":\"blue\",\"width\":1},\"mode\":\"lines\",\"name\":\"Air Pollution Index (Max.)\",\"x\":[2000,2001,2002,2003,2004,2005,2006,2007,2008,2009,2010,2011,2012,2013,2014,2015,2016],\"y\":[\"4\",\"3\",\"5\",\"6\",\"5\",\"2\",\"5\",\"4\",\"3\",\"4\",\"22\",\"12\",\"3\",\"16\",\"5\",\"6\",\"5\"],\"type\":\"scatter\",\"xaxis\":\"x4\",\"yaxis\":\"y8\"},{\"fill\":\"tozeroy\",\"line\":{\"color\":\"blue\",\"width\":1},\"mode\":\"lines\",\"name\":\"Air Pollution Index (Max.)\",\"x\":[2000,2001,2002,2003,2004,2005,2006,2007,2008,2009,2010,2011,2012,2013,2014,2015,2016],\"y\":[\"122\",\"127\",\"105\",\"114\",\"147\",\"114\",\"153\",\"92\",\"80\",\"137\",\"139\",\"97\",\"83\",\"415\",\"128\",\"176\",\"87\"],\"type\":\"scatter\",\"xaxis\":\"x5\",\"yaxis\":\"y10\"},{\"fill\":\"tozeroy\",\"line\":{\"color\":\"blue\",\"width\":1},\"mode\":\"lines\",\"name\":\"Air Pollution Index (Min.)\",\"x\":[2000,2001,2002,2003,2004,2005,2006,2007,2008,2009,2010,2011,2012,2013,2014,2015,2016],\"y\":[\"4\",\"3\",\"5\",\"6\",\"5\",\"2\",\"5\",\"4\",\"3\",\"4\",\"22\",\"12\",\"3\",\"16\",\"5\",\"6\",\"5\"],\"type\":\"scatter\",\"xaxis\":\"x6\",\"yaxis\":\"y12\"},{\"fill\":\"tozeroy\",\"line\":{\"color\":\"blue\",\"width\":1},\"mode\":\"lines\",\"name\":\"Air Pollution Index (Max.)\",\"x\":[2000,2001,2002,2003,2004,2005,2006,2007,2008,2009,2010,2011,2012,2013,2014,2015,2016],\"y\":[\"141\",\"157\",\"153\",\"143\",\"97\",\"390\",\"162\",\"131\",\"135\",\"168\",\"169\",\"150\",\"155\",\"186\",\"170\",\"185\",\"151\"],\"type\":\"scatter\",\"xaxis\":\"x7\",\"yaxis\":\"y14\"},{\"fill\":\"tozeroy\",\"line\":{\"color\":\"blue\",\"width\":1},\"mode\":\"lines\",\"name\":\"Air Pollution Index (Max.)\",\"x\":[2000,2001,2002,2003,2004,2005,2006,2007,2008,2009,2010,2011,2012,2013,2014,2015,2016],\"y\":[\"13\",\"16\",\"11\",\"11\",\"32\",\"5\",\"5\",\"4\",\"8\",\"4\",\"26\",\"11\",\"4\",\"22\",\"3\",\"9\",\"7\"],\"type\":\"scatter\",\"xaxis\":\"x7\",\"yaxis\":\"y14\"},{\"fill\":\"tozeroy\",\"line\":{\"color\":\"blue\",\"width\":1},\"mode\":\"lines\",\"name\":\"Air Pollution Index (Max.)\",\"x\":[2000,2001,2002,2003,2004,2005,2006,2007,2008,2009,2010,2011,2012,2013,2014,2015,2016],\"y\":[\"141\",\"157\",\"153\",\"143\",\"97\",\"390\",\"162\",\"131\",\"135\",\"168\",\"169\",\"150\",\"155\",\"186\",\"170\",\"185\",\"151\"],\"type\":\"scatter\",\"xaxis\":\"x8\",\"yaxis\":\"y16\"},{\"fill\":\"tozeroy\",\"line\":{\"color\":\"blue\",\"width\":1},\"mode\":\"lines\",\"name\":\"Air Pollution Index (Min.)\",\"x\":[2000,2001,2002,2003,2004,2005,2006,2007,2008,2009,2010,2011,2012,2013,2014,2015,2016],\"y\":[\"13\",\"16\",\"11\",\"11\",\"32\",\"5\",\"5\",\"4\",\"8\",\"4\",\"26\",\"11\",\"4\",\"22\",\"3\",\"9\",\"7\"],\"type\":\"scatter\",\"xaxis\":\"x9\",\"yaxis\":\"y18\"},{\"fill\":\"tozeroy\",\"line\":{\"color\":\"blue\",\"width\":1},\"mode\":\"lines\",\"name\":\"Air Pollution Index (Max.)\",\"x\":[2000,2001,2002,2003,2004,2005,2006,2007,2008,2009,2010,2011,2012,2013,2014,2015,2016],\"y\":[\"70\",\"80\",\"88\",\"76\",\"62\",\"63\",\"86\",\"64\",\"55\",\"78\",\"68\",\"61\",\"61\",\"90\",\"59\",\"75\",\"73\"],\"type\":\"scatter\",\"xaxis\":\"x10\",\"yaxis\":\"y20\"},{\"fill\":\"tozeroy\",\"line\":{\"color\":\"blue\",\"width\":1},\"mode\":\"lines\",\"name\":\"Air Pollution Index (Max.)\",\"x\":[2000,2001,2002,2003,2004,2005,2006,2007,2008,2009,2010,2011,2012,2013,2014,2015,2016],\"y\":[\"1\",\"1\",\"8\",\"2\",\"1\",\"2\",\"2\",\"3\",\"1\",\"1\",\"10\",\"2\",\"1\",\"8\",\"3\",\"5\",\"3\"],\"type\":\"scatter\",\"xaxis\":\"x10\",\"yaxis\":\"y20\"},{\"fill\":\"tozeroy\",\"line\":{\"color\":\"blue\",\"width\":1},\"mode\":\"lines\",\"name\":\"Air Pollution Index (Max.)\",\"x\":[2000,2001,2002,2003,2004,2005,2006,2007,2008,2009,2010,2011,2012,2013,2014,2015,2016],\"y\":[\"70\",\"80\",\"88\",\"76\",\"62\",\"63\",\"86\",\"64\",\"55\",\"78\",\"68\",\"61\",\"61\",\"90\",\"59\",\"75\",\"73\"],\"type\":\"scatter\",\"xaxis\":\"x11\",\"yaxis\":\"y22\"},{\"fill\":\"tozeroy\",\"line\":{\"color\":\"blue\",\"width\":1},\"mode\":\"lines\",\"name\":\"Air Pollution Index (Min.)\",\"x\":[2000,2001,2002,2003,2004,2005,2006,2007,2008,2009,2010,2011,2012,2013,2014,2015,2016],\"y\":[\"1\",\"1\",\"8\",\"2\",\"1\",\"2\",\"2\",\"3\",\"1\",\"1\",\"10\",\"2\",\"1\",\"8\",\"3\",\"5\",\"3\"],\"type\":\"scatter\",\"xaxis\":\"x12\",\"yaxis\":\"y24\"},{\"fill\":\"tozeroy\",\"line\":{\"color\":\"blue\",\"width\":1},\"mode\":\"lines\",\"name\":\"Air Pollution Index (Max.)\",\"x\":[2000,2001,2002,2003,2004,2005,2006,2007,2008,2009,2010,2011,2012,2013,2014,2015,2016],\"y\":[\"84\",\"84\",\"130\",\"85\",\"97\",\"78\",\"188\",\"75\",\"72\",\"114\",\"54\",\"100\",\"93\",\"89\",\"123\",\"209\",\"71\"],\"type\":\"scatter\",\"xaxis\":\"x13\",\"yaxis\":\"y26\"},{\"fill\":\"tozeroy\",\"line\":{\"color\":\"blue\",\"width\":1},\"mode\":\"lines\",\"name\":\"Air Pollution Index (Max.)\",\"x\":[2000,2001,2002,2003,2004,2005,2006,2007,2008,2009,2010,2011,2012,2013,2014,2015,2016],\"y\":[\"1\",\"1\",\"1\",\"6\",\"17\",\"23\",\"5\",\"6\",\"5\",\"10\",\"16\",\"4\",\"16\",\"17\",\"11\",\"5\",\"6\"],\"type\":\"scatter\",\"xaxis\":\"x13\",\"yaxis\":\"y26\"},{\"fill\":\"tozeroy\",\"line\":{\"color\":\"blue\",\"width\":1},\"mode\":\"lines\",\"name\":\"Air Pollution Index (Max.)\",\"x\":[2000,2001,2002,2003,2004,2005,2006,2007,2008,2009,2010,2011,2012,2013,2014,2015,2016],\"y\":[\"84\",\"84\",\"130\",\"85\",\"97\",\"78\",\"188\",\"75\",\"72\",\"114\",\"54\",\"100\",\"93\",\"89\",\"123\",\"209\",\"71\"],\"type\":\"scatter\",\"xaxis\":\"x14\",\"yaxis\":\"y28\"},{\"fill\":\"tozeroy\",\"line\":{\"color\":\"blue\",\"width\":1},\"mode\":\"lines\",\"name\":\"Air Pollution Index (Min.)\",\"x\":[2000,2001,2002,2003,2004,2005,2006,2007,2008,2009,2010,2011,2012,2013,2014,2015,2016],\"y\":[\"1\",\"1\",\"1\",\"6\",\"17\",\"23\",\"5\",\"6\",\"5\",\"10\",\"16\",\"4\",\"16\",\"17\",\"11\",\"5\",\"6\"],\"type\":\"scatter\",\"xaxis\":\"x15\",\"yaxis\":\"y30\"},{\"fill\":\"tozeroy\",\"line\":{\"color\":\"blue\",\"width\":1},\"mode\":\"lines\",\"name\":\"Air Pollution Index (Max.)\",\"x\":[2000,2001,2002,2003,2004,2005,2006,2007,2008,2009,2010,2011,2012,2013,2014,2015,2016],\"y\":[\"119\",\"119\",\"116\",\"112\",\"126\",\"111\",\"143\",\"141\",\"101\",\"99\",\"111\",\"84\",\"137\",\"226\",\"198\",\"192\",\"109\"],\"type\":\"scatter\",\"xaxis\":\"x16\",\"yaxis\":\"y32\"},{\"fill\":\"tozeroy\",\"line\":{\"color\":\"blue\",\"width\":1},\"mode\":\"lines\",\"name\":\"Air Pollution Index (Max.)\",\"x\":[2000,2001,2002,2003,2004,2005,2006,2007,2008,2009,2010,2011,2012,2013,2014,2015,2016],\"y\":[\"7\",\"10\",\"4\",\"2\",\"8\",\"1\",\"5\",\"0\",\"5\",\"2\",\"15\",\"3\",\"2\",\"17\",\"10\",\"28\",\"5\"],\"type\":\"scatter\",\"xaxis\":\"x16\",\"yaxis\":\"y32\"},{\"fill\":\"tozeroy\",\"line\":{\"color\":\"blue\",\"width\":1},\"mode\":\"lines\",\"name\":\"Air Pollution Index (Max.)\",\"x\":[2000,2001,2002,2003,2004,2005,2006,2007,2008,2009,2010,2011,2012,2013,2014,2015,2016],\"y\":[\"119\",\"119\",\"116\",\"112\",\"126\",\"111\",\"143\",\"141\",\"101\",\"99\",\"111\",\"84\",\"137\",\"226\",\"198\",\"192\",\"109\"],\"type\":\"scatter\",\"xaxis\":\"x17\",\"yaxis\":\"y34\"},{\"fill\":\"tozeroy\",\"line\":{\"color\":\"blue\",\"width\":1},\"mode\":\"lines\",\"name\":\"Air Pollution Index (Min.)\",\"x\":[2000,2001,2002,2003,2004,2005,2006,2007,2008,2009,2010,2011,2012,2013,2014,2015,2016],\"y\":[\"7\",\"10\",\"4\",\"2\",\"8\",\"1\",\"5\",\"0\",\"5\",\"2\",\"15\",\"3\",\"2\",\"17\",\"10\",\"28\",\"5\"],\"type\":\"scatter\",\"xaxis\":\"x18\",\"yaxis\":\"y36\"},{\"fill\":\"tozeroy\",\"line\":{\"color\":\"blue\",\"width\":1},\"mode\":\"lines\",\"name\":\"Air Pollution Index (Max.)\",\"x\":[2000,2001,2002,2003,2004,2005,2006,2007,2008,2009,2010,2011,2012,2013,2014,2015,2016],\"y\":[\"127\",\"140\",\"115\",\"106\",\"121\",\"151\",\"121\",\"101\",\"99\",\"106\",\"93\",\"98\",\"105\",\"132\",\"119\",\"287\",\"87\"],\"type\":\"scatter\",\"xaxis\":\"x19\",\"yaxis\":\"y38\"},{\"fill\":\"tozeroy\",\"line\":{\"color\":\"blue\",\"width\":1},\"mode\":\"lines\",\"name\":\"Air Pollution Index (Max.)\",\"x\":[2000,2001,2002,2003,2004,2005,2006,2007,2008,2009,2010,2011,2012,2013,2014,2015,2016],\"y\":[\"4\",\"8\",\"4\",\"11\",\"8\",\"10\",\"6\",\"8\",\"6\",\"5\",\"28\",\"6\",\"6\",\"27\",\"14\",\"9\",\"7\"],\"type\":\"scatter\",\"xaxis\":\"x19\",\"yaxis\":\"y38\"},{\"fill\":\"tozeroy\",\"line\":{\"color\":\"blue\",\"width\":1},\"mode\":\"lines\",\"name\":\"Air Pollution Index (Max.)\",\"x\":[2000,2001,2002,2003,2004,2005,2006,2007,2008,2009,2010,2011,2012,2013,2014,2015,2016],\"y\":[\"127\",\"140\",\"115\",\"106\",\"121\",\"151\",\"121\",\"101\",\"99\",\"106\",\"93\",\"98\",\"105\",\"132\",\"119\",\"287\",\"87\"],\"type\":\"scatter\",\"xaxis\":\"x20\",\"yaxis\":\"y40\"},{\"fill\":\"tozeroy\",\"line\":{\"color\":\"blue\",\"width\":1},\"mode\":\"lines\",\"name\":\"Air Pollution Index (Min.)\",\"x\":[2000,2001,2002,2003,2004,2005,2006,2007,2008,2009,2010,2011,2012,2013,2014,2015,2016],\"y\":[\"4\",\"8\",\"4\",\"11\",\"8\",\"10\",\"6\",\"8\",\"6\",\"5\",\"28\",\"6\",\"6\",\"27\",\"14\",\"9\",\"7\"],\"type\":\"scatter\",\"xaxis\":\"x21\",\"yaxis\":\"y42\"}],                        {\"template\":{\"data\":{\"histogram2dcontour\":[{\"type\":\"histogram2dcontour\",\"colorbar\":{\"outlinewidth\":0,\"ticks\":\"\"},\"colorscale\":[[0.0,\"#0d0887\"],[0.1111111111111111,\"#46039f\"],[0.2222222222222222,\"#7201a8\"],[0.3333333333333333,\"#9c179e\"],[0.4444444444444444,\"#bd3786\"],[0.5555555555555556,\"#d8576b\"],[0.6666666666666666,\"#ed7953\"],[0.7777777777777778,\"#fb9f3a\"],[0.8888888888888888,\"#fdca26\"],[1.0,\"#f0f921\"]]}],\"choropleth\":[{\"type\":\"choropleth\",\"colorbar\":{\"outlinewidth\":0,\"ticks\":\"\"}}],\"histogram2d\":[{\"type\":\"histogram2d\",\"colorbar\":{\"outlinewidth\":0,\"ticks\":\"\"},\"colorscale\":[[0.0,\"#0d0887\"],[0.1111111111111111,\"#46039f\"],[0.2222222222222222,\"#7201a8\"],[0.3333333333333333,\"#9c179e\"],[0.4444444444444444,\"#bd3786\"],[0.5555555555555556,\"#d8576b\"],[0.6666666666666666,\"#ed7953\"],[0.7777777777777778,\"#fb9f3a\"],[0.8888888888888888,\"#fdca26\"],[1.0,\"#f0f921\"]]}],\"heatmap\":[{\"type\":\"heatmap\",\"colorbar\":{\"outlinewidth\":0,\"ticks\":\"\"},\"colorscale\":[[0.0,\"#0d0887\"],[0.1111111111111111,\"#46039f\"],[0.2222222222222222,\"#7201a8\"],[0.3333333333333333,\"#9c179e\"],[0.4444444444444444,\"#bd3786\"],[0.5555555555555556,\"#d8576b\"],[0.6666666666666666,\"#ed7953\"],[0.7777777777777778,\"#fb9f3a\"],[0.8888888888888888,\"#fdca26\"],[1.0,\"#f0f921\"]]}],\"heatmapgl\":[{\"type\":\"heatmapgl\",\"colorbar\":{\"outlinewidth\":0,\"ticks\":\"\"},\"colorscale\":[[0.0,\"#0d0887\"],[0.1111111111111111,\"#46039f\"],[0.2222222222222222,\"#7201a8\"],[0.3333333333333333,\"#9c179e\"],[0.4444444444444444,\"#bd3786\"],[0.5555555555555556,\"#d8576b\"],[0.6666666666666666,\"#ed7953\"],[0.7777777777777778,\"#fb9f3a\"],[0.8888888888888888,\"#fdca26\"],[1.0,\"#f0f921\"]]}],\"contourcarpet\":[{\"type\":\"contourcarpet\",\"colorbar\":{\"outlinewidth\":0,\"ticks\":\"\"}}],\"contour\":[{\"type\":\"contour\",\"colorbar\":{\"outlinewidth\":0,\"ticks\":\"\"},\"colorscale\":[[0.0,\"#0d0887\"],[0.1111111111111111,\"#46039f\"],[0.2222222222222222,\"#7201a8\"],[0.3333333333333333,\"#9c179e\"],[0.4444444444444444,\"#bd3786\"],[0.5555555555555556,\"#d8576b\"],[0.6666666666666666,\"#ed7953\"],[0.7777777777777778,\"#fb9f3a\"],[0.8888888888888888,\"#fdca26\"],[1.0,\"#f0f921\"]]}],\"surface\":[{\"type\":\"surface\",\"colorbar\":{\"outlinewidth\":0,\"ticks\":\"\"},\"colorscale\":[[0.0,\"#0d0887\"],[0.1111111111111111,\"#46039f\"],[0.2222222222222222,\"#7201a8\"],[0.3333333333333333,\"#9c179e\"],[0.4444444444444444,\"#bd3786\"],[0.5555555555555556,\"#d8576b\"],[0.6666666666666666,\"#ed7953\"],[0.7777777777777778,\"#fb9f3a\"],[0.8888888888888888,\"#fdca26\"],[1.0,\"#f0f921\"]]}],\"mesh3d\":[{\"type\":\"mesh3d\",\"colorbar\":{\"outlinewidth\":0,\"ticks\":\"\"}}],\"scatter\":[{\"fillpattern\":{\"fillmode\":\"overlay\",\"size\":10,\"solidity\":0.2},\"type\":\"scatter\"}],\"parcoords\":[{\"type\":\"parcoords\",\"line\":{\"colorbar\":{\"outlinewidth\":0,\"ticks\":\"\"}}}],\"scatterpolargl\":[{\"type\":\"scatterpolargl\",\"marker\":{\"colorbar\":{\"outlinewidth\":0,\"ticks\":\"\"}}}],\"bar\":[{\"error_x\":{\"color\":\"#2a3f5f\"},\"error_y\":{\"color\":\"#2a3f5f\"},\"marker\":{\"line\":{\"color\":\"#E5ECF6\",\"width\":0.5},\"pattern\":{\"fillmode\":\"overlay\",\"size\":10,\"solidity\":0.2}},\"type\":\"bar\"}],\"scattergeo\":[{\"type\":\"scattergeo\",\"marker\":{\"colorbar\":{\"outlinewidth\":0,\"ticks\":\"\"}}}],\"scatterpolar\":[{\"type\":\"scatterpolar\",\"marker\":{\"colorbar\":{\"outlinewidth\":0,\"ticks\":\"\"}}}],\"histogram\":[{\"marker\":{\"pattern\":{\"fillmode\":\"overlay\",\"size\":10,\"solidity\":0.2}},\"type\":\"histogram\"}],\"scattergl\":[{\"type\":\"scattergl\",\"marker\":{\"colorbar\":{\"outlinewidth\":0,\"ticks\":\"\"}}}],\"scatter3d\":[{\"type\":\"scatter3d\",\"line\":{\"colorbar\":{\"outlinewidth\":0,\"ticks\":\"\"}},\"marker\":{\"colorbar\":{\"outlinewidth\":0,\"ticks\":\"\"}}}],\"scattermapbox\":[{\"type\":\"scattermapbox\",\"marker\":{\"colorbar\":{\"outlinewidth\":0,\"ticks\":\"\"}}}],\"scatterternary\":[{\"type\":\"scatterternary\",\"marker\":{\"colorbar\":{\"outlinewidth\":0,\"ticks\":\"\"}}}],\"scattercarpet\":[{\"type\":\"scattercarpet\",\"marker\":{\"colorbar\":{\"outlinewidth\":0,\"ticks\":\"\"}}}],\"carpet\":[{\"aaxis\":{\"endlinecolor\":\"#2a3f5f\",\"gridcolor\":\"white\",\"linecolor\":\"white\",\"minorgridcolor\":\"white\",\"startlinecolor\":\"#2a3f5f\"},\"baxis\":{\"endlinecolor\":\"#2a3f5f\",\"gridcolor\":\"white\",\"linecolor\":\"white\",\"minorgridcolor\":\"white\",\"startlinecolor\":\"#2a3f5f\"},\"type\":\"carpet\"}],\"table\":[{\"cells\":{\"fill\":{\"color\":\"#EBF0F8\"},\"line\":{\"color\":\"white\"}},\"header\":{\"fill\":{\"color\":\"#C8D4E3\"},\"line\":{\"color\":\"white\"}},\"type\":\"table\"}],\"barpolar\":[{\"marker\":{\"line\":{\"color\":\"#E5ECF6\",\"width\":0.5},\"pattern\":{\"fillmode\":\"overlay\",\"size\":10,\"solidity\":0.2}},\"type\":\"barpolar\"}],\"pie\":[{\"automargin\":true,\"type\":\"pie\"}]},\"layout\":{\"autotypenumbers\":\"strict\",\"colorway\":[\"#636efa\",\"#EF553B\",\"#00cc96\",\"#ab63fa\",\"#FFA15A\",\"#19d3f3\",\"#FF6692\",\"#B6E880\",\"#FF97FF\",\"#FECB52\"],\"font\":{\"color\":\"#2a3f5f\"},\"hovermode\":\"closest\",\"hoverlabel\":{\"align\":\"left\"},\"paper_bgcolor\":\"white\",\"plot_bgcolor\":\"#E5ECF6\",\"polar\":{\"bgcolor\":\"#E5ECF6\",\"angularaxis\":{\"gridcolor\":\"white\",\"linecolor\":\"white\",\"ticks\":\"\"},\"radialaxis\":{\"gridcolor\":\"white\",\"linecolor\":\"white\",\"ticks\":\"\"}},\"ternary\":{\"bgcolor\":\"#E5ECF6\",\"aaxis\":{\"gridcolor\":\"white\",\"linecolor\":\"white\",\"ticks\":\"\"},\"baxis\":{\"gridcolor\":\"white\",\"linecolor\":\"white\",\"ticks\":\"\"},\"caxis\":{\"gridcolor\":\"white\",\"linecolor\":\"white\",\"ticks\":\"\"}},\"coloraxis\":{\"colorbar\":{\"outlinewidth\":0,\"ticks\":\"\"}},\"colorscale\":{\"sequential\":[[0.0,\"#0d0887\"],[0.1111111111111111,\"#46039f\"],[0.2222222222222222,\"#7201a8\"],[0.3333333333333333,\"#9c179e\"],[0.4444444444444444,\"#bd3786\"],[0.5555555555555556,\"#d8576b\"],[0.6666666666666666,\"#ed7953\"],[0.7777777777777778,\"#fb9f3a\"],[0.8888888888888888,\"#fdca26\"],[1.0,\"#f0f921\"]],\"sequentialminus\":[[0.0,\"#0d0887\"],[0.1111111111111111,\"#46039f\"],[0.2222222222222222,\"#7201a8\"],[0.3333333333333333,\"#9c179e\"],[0.4444444444444444,\"#bd3786\"],[0.5555555555555556,\"#d8576b\"],[0.6666666666666666,\"#ed7953\"],[0.7777777777777778,\"#fb9f3a\"],[0.8888888888888888,\"#fdca26\"],[1.0,\"#f0f921\"]],\"diverging\":[[0,\"#8e0152\"],[0.1,\"#c51b7d\"],[0.2,\"#de77ae\"],[0.3,\"#f1b6da\"],[0.4,\"#fde0ef\"],[0.5,\"#f7f7f7\"],[0.6,\"#e6f5d0\"],[0.7,\"#b8e186\"],[0.8,\"#7fbc41\"],[0.9,\"#4d9221\"],[1,\"#276419\"]]},\"xaxis\":{\"gridcolor\":\"white\",\"linecolor\":\"white\",\"ticks\":\"\",\"title\":{\"standoff\":15},\"zerolinecolor\":\"white\",\"automargin\":true,\"zerolinewidth\":2},\"yaxis\":{\"gridcolor\":\"white\",\"linecolor\":\"white\",\"ticks\":\"\",\"title\":{\"standoff\":15},\"zerolinecolor\":\"white\",\"automargin\":true,\"zerolinewidth\":2},\"scene\":{\"xaxis\":{\"backgroundcolor\":\"#E5ECF6\",\"gridcolor\":\"white\",\"linecolor\":\"white\",\"showbackground\":true,\"ticks\":\"\",\"zerolinecolor\":\"white\",\"gridwidth\":2},\"yaxis\":{\"backgroundcolor\":\"#E5ECF6\",\"gridcolor\":\"white\",\"linecolor\":\"white\",\"showbackground\":true,\"ticks\":\"\",\"zerolinecolor\":\"white\",\"gridwidth\":2},\"zaxis\":{\"backgroundcolor\":\"#E5ECF6\",\"gridcolor\":\"white\",\"linecolor\":\"white\",\"showbackground\":true,\"ticks\":\"\",\"zerolinecolor\":\"white\",\"gridwidth\":2}},\"shapedefaults\":{\"line\":{\"color\":\"#2a3f5f\"}},\"annotationdefaults\":{\"arrowcolor\":\"#2a3f5f\",\"arrowhead\":0,\"arrowwidth\":1},\"geo\":{\"bgcolor\":\"white\",\"landcolor\":\"#E5ECF6\",\"subunitcolor\":\"white\",\"showland\":true,\"showlakes\":true,\"lakecolor\":\"white\"},\"title\":{\"x\":0.05},\"mapbox\":{\"style\":\"light\"}}},\"xaxis\":{\"anchor\":\"y\",\"domain\":[0.0,0.22444444444444445],\"title\":{\"text\":\"\"},\"showgrid\":false,\"zeroline\":false,\"showline\":true,\"linewidth\":2,\"linecolor\":\"black\"},\"yaxis\":{\"anchor\":\"x\",\"domain\":[0.9183673469387754,0.9999999999999999],\"showgrid\":false,\"zeroline\":false,\"showline\":true,\"linewidth\":2,\"linecolor\":\"black\"},\"yaxis2\":{\"anchor\":\"x\",\"overlaying\":\"y\",\"side\":\"right\",\"showgrid\":false,\"zeroline\":false,\"showline\":true,\"linewidth\":2,\"linecolor\":\"black\"},\"xaxis2\":{\"anchor\":\"y3\",\"domain\":[0.35777777777777775,0.5822222222222222],\"title\":{\"text\":\"\"},\"showgrid\":false,\"zeroline\":false,\"showline\":true,\"linewidth\":2,\"linecolor\":\"black\"},\"yaxis3\":{\"anchor\":\"x2\",\"domain\":[0.9183673469387754,0.9999999999999999],\"showgrid\":false,\"zeroline\":false,\"showline\":true,\"linewidth\":2,\"linecolor\":\"black\"},\"yaxis4\":{\"anchor\":\"x2\",\"overlaying\":\"y3\",\"side\":\"right\",\"showgrid\":false,\"zeroline\":false,\"showline\":true,\"linewidth\":2,\"linecolor\":\"black\"},\"xaxis3\":{\"anchor\":\"y5\",\"domain\":[0.7155555555555555,0.94],\"title\":{\"text\":\"\"},\"showgrid\":false,\"zeroline\":false,\"showline\":true,\"linewidth\":2,\"linecolor\":\"black\"},\"yaxis5\":{\"anchor\":\"x3\",\"domain\":[0.9183673469387754,0.9999999999999999],\"showgrid\":false,\"zeroline\":false,\"showline\":true,\"linewidth\":2,\"linecolor\":\"black\"},\"yaxis6\":{\"anchor\":\"x3\",\"overlaying\":\"y5\",\"side\":\"right\",\"showgrid\":false,\"zeroline\":false,\"showline\":true,\"linewidth\":2,\"linecolor\":\"black\"},\"xaxis4\":{\"anchor\":\"y7\",\"domain\":[0.0,0.22444444444444445],\"title\":{\"text\":\"\"},\"showgrid\":false,\"zeroline\":false,\"showline\":true,\"linewidth\":2,\"linecolor\":\"black\"},\"yaxis7\":{\"anchor\":\"x4\",\"domain\":[0.7653061224489794,0.8469387755102039],\"showgrid\":false,\"zeroline\":false,\"showline\":true,\"linewidth\":2,\"linecolor\":\"black\"},\"yaxis8\":{\"anchor\":\"x4\",\"overlaying\":\"y7\",\"side\":\"right\",\"showgrid\":false,\"zeroline\":false,\"showline\":true,\"linewidth\":2,\"linecolor\":\"black\"},\"xaxis5\":{\"anchor\":\"y9\",\"domain\":[0.35777777777777775,0.5822222222222222],\"title\":{\"text\":\"\"},\"showgrid\":false,\"zeroline\":false,\"showline\":true,\"linewidth\":2,\"linecolor\":\"black\"},\"yaxis9\":{\"anchor\":\"x5\",\"domain\":[0.7653061224489794,0.8469387755102039],\"showgrid\":false,\"zeroline\":false,\"showline\":true,\"linewidth\":2,\"linecolor\":\"black\"},\"yaxis10\":{\"anchor\":\"x5\",\"overlaying\":\"y9\",\"side\":\"right\",\"showgrid\":false,\"zeroline\":false,\"showline\":true,\"linewidth\":2,\"linecolor\":\"black\"},\"xaxis6\":{\"anchor\":\"y11\",\"domain\":[0.7155555555555555,0.94],\"title\":{\"text\":\"\"},\"showgrid\":false,\"zeroline\":false,\"showline\":true,\"linewidth\":2,\"linecolor\":\"black\"},\"yaxis11\":{\"anchor\":\"x6\",\"domain\":[0.7653061224489794,0.8469387755102039],\"showgrid\":false,\"zeroline\":false,\"showline\":true,\"linewidth\":2,\"linecolor\":\"black\"},\"yaxis12\":{\"anchor\":\"x6\",\"overlaying\":\"y11\",\"side\":\"right\",\"showgrid\":false,\"zeroline\":false,\"showline\":true,\"linewidth\":2,\"linecolor\":\"black\"},\"xaxis7\":{\"anchor\":\"y13\",\"domain\":[0.0,0.22444444444444445],\"title\":{\"text\":\"\"},\"showgrid\":false,\"zeroline\":false,\"showline\":true,\"linewidth\":2,\"linecolor\":\"black\"},\"yaxis13\":{\"anchor\":\"x7\",\"domain\":[0.6122448979591837,0.6938775510204082],\"showgrid\":false,\"zeroline\":false,\"showline\":true,\"linewidth\":2,\"linecolor\":\"black\"},\"yaxis14\":{\"anchor\":\"x7\",\"overlaying\":\"y13\",\"side\":\"right\",\"showgrid\":false,\"zeroline\":false,\"showline\":true,\"linewidth\":2,\"linecolor\":\"black\"},\"xaxis8\":{\"anchor\":\"y15\",\"domain\":[0.35777777777777775,0.5822222222222222],\"title\":{\"text\":\"\"},\"showgrid\":false,\"zeroline\":false,\"showline\":true,\"linewidth\":2,\"linecolor\":\"black\"},\"yaxis15\":{\"anchor\":\"x8\",\"domain\":[0.6122448979591837,0.6938775510204082],\"showgrid\":false,\"zeroline\":false,\"showline\":true,\"linewidth\":2,\"linecolor\":\"black\"},\"yaxis16\":{\"anchor\":\"x8\",\"overlaying\":\"y15\",\"side\":\"right\",\"showgrid\":false,\"zeroline\":false,\"showline\":true,\"linewidth\":2,\"linecolor\":\"black\"},\"xaxis9\":{\"anchor\":\"y17\",\"domain\":[0.7155555555555555,0.94],\"title\":{\"text\":\"\"},\"showgrid\":false,\"zeroline\":false,\"showline\":true,\"linewidth\":2,\"linecolor\":\"black\"},\"yaxis17\":{\"anchor\":\"x9\",\"domain\":[0.6122448979591837,0.6938775510204082],\"showgrid\":false,\"zeroline\":false,\"showline\":true,\"linewidth\":2,\"linecolor\":\"black\"},\"yaxis18\":{\"anchor\":\"x9\",\"overlaying\":\"y17\",\"side\":\"right\",\"showgrid\":false,\"zeroline\":false,\"showline\":true,\"linewidth\":2,\"linecolor\":\"black\"},\"xaxis10\":{\"anchor\":\"y19\",\"domain\":[0.0,0.22444444444444445],\"title\":{\"text\":\"\"},\"showgrid\":false,\"zeroline\":false,\"showline\":true,\"linewidth\":2,\"linecolor\":\"black\"},\"yaxis19\":{\"anchor\":\"x10\",\"domain\":[0.4591836734693877,0.5408163265306122],\"showgrid\":false,\"zeroline\":false,\"showline\":true,\"linewidth\":2,\"linecolor\":\"black\"},\"yaxis20\":{\"anchor\":\"x10\",\"overlaying\":\"y19\",\"side\":\"right\",\"showgrid\":false,\"zeroline\":false,\"showline\":true,\"linewidth\":2,\"linecolor\":\"black\"},\"xaxis11\":{\"anchor\":\"y21\",\"domain\":[0.35777777777777775,0.5822222222222222],\"title\":{\"text\":\"\"},\"showgrid\":false,\"zeroline\":false,\"showline\":true,\"linewidth\":2,\"linecolor\":\"black\"},\"yaxis21\":{\"anchor\":\"x11\",\"domain\":[0.4591836734693877,0.5408163265306122],\"showgrid\":false,\"zeroline\":false,\"showline\":true,\"linewidth\":2,\"linecolor\":\"black\"},\"yaxis22\":{\"anchor\":\"x11\",\"overlaying\":\"y21\",\"side\":\"right\",\"showgrid\":false,\"zeroline\":false,\"showline\":true,\"linewidth\":2,\"linecolor\":\"black\"},\"xaxis12\":{\"anchor\":\"y23\",\"domain\":[0.7155555555555555,0.94],\"title\":{\"text\":\"\"},\"showgrid\":false,\"zeroline\":false,\"showline\":true,\"linewidth\":2,\"linecolor\":\"black\"},\"yaxis23\":{\"anchor\":\"x12\",\"domain\":[0.4591836734693877,0.5408163265306122],\"showgrid\":false,\"zeroline\":false,\"showline\":true,\"linewidth\":2,\"linecolor\":\"black\"},\"yaxis24\":{\"anchor\":\"x12\",\"overlaying\":\"y23\",\"side\":\"right\",\"showgrid\":false,\"zeroline\":false,\"showline\":true,\"linewidth\":2,\"linecolor\":\"black\"},\"xaxis13\":{\"anchor\":\"y25\",\"domain\":[0.0,0.22444444444444445],\"title\":{\"text\":\"\"},\"showgrid\":false,\"zeroline\":false,\"showline\":true,\"linewidth\":2,\"linecolor\":\"black\"},\"yaxis25\":{\"anchor\":\"x13\",\"domain\":[0.30612244897959184,0.3877551020408163],\"showgrid\":false,\"zeroline\":false,\"showline\":true,\"linewidth\":2,\"linecolor\":\"black\"},\"yaxis26\":{\"anchor\":\"x13\",\"overlaying\":\"y25\",\"side\":\"right\",\"showgrid\":false,\"zeroline\":false,\"showline\":true,\"linewidth\":2,\"linecolor\":\"black\"},\"xaxis14\":{\"anchor\":\"y27\",\"domain\":[0.35777777777777775,0.5822222222222222],\"title\":{\"text\":\"\"},\"showgrid\":false,\"zeroline\":false,\"showline\":true,\"linewidth\":2,\"linecolor\":\"black\"},\"yaxis27\":{\"anchor\":\"x14\",\"domain\":[0.30612244897959184,0.3877551020408163],\"showgrid\":false,\"zeroline\":false,\"showline\":true,\"linewidth\":2,\"linecolor\":\"black\"},\"yaxis28\":{\"anchor\":\"x14\",\"overlaying\":\"y27\",\"side\":\"right\",\"showgrid\":false,\"zeroline\":false,\"showline\":true,\"linewidth\":2,\"linecolor\":\"black\"},\"xaxis15\":{\"anchor\":\"y29\",\"domain\":[0.7155555555555555,0.94],\"title\":{\"text\":\"\"},\"showgrid\":false,\"zeroline\":false,\"showline\":true,\"linewidth\":2,\"linecolor\":\"black\"},\"yaxis29\":{\"anchor\":\"x15\",\"domain\":[0.30612244897959184,0.3877551020408163],\"showgrid\":false,\"zeroline\":false,\"showline\":true,\"linewidth\":2,\"linecolor\":\"black\"},\"yaxis30\":{\"anchor\":\"x15\",\"overlaying\":\"y29\",\"side\":\"right\",\"showgrid\":false,\"zeroline\":false,\"showline\":true,\"linewidth\":2,\"linecolor\":\"black\"},\"xaxis16\":{\"anchor\":\"y31\",\"domain\":[0.0,0.22444444444444445],\"title\":{\"text\":\"\"},\"showgrid\":false,\"zeroline\":false,\"showline\":true,\"linewidth\":2,\"linecolor\":\"black\"},\"yaxis31\":{\"anchor\":\"x16\",\"domain\":[0.15306122448979592,0.2346938775510204],\"showgrid\":false,\"zeroline\":false,\"showline\":true,\"linewidth\":2,\"linecolor\":\"black\"},\"yaxis32\":{\"anchor\":\"x16\",\"overlaying\":\"y31\",\"side\":\"right\",\"showgrid\":false,\"zeroline\":false,\"showline\":true,\"linewidth\":2,\"linecolor\":\"black\"},\"xaxis17\":{\"anchor\":\"y33\",\"domain\":[0.35777777777777775,0.5822222222222222],\"title\":{\"text\":\"\"},\"showgrid\":false,\"zeroline\":false,\"showline\":true,\"linewidth\":2,\"linecolor\":\"black\"},\"yaxis33\":{\"anchor\":\"x17\",\"domain\":[0.15306122448979592,0.2346938775510204],\"showgrid\":false,\"zeroline\":false,\"showline\":true,\"linewidth\":2,\"linecolor\":\"black\"},\"yaxis34\":{\"anchor\":\"x17\",\"overlaying\":\"y33\",\"side\":\"right\",\"showgrid\":false,\"zeroline\":false,\"showline\":true,\"linewidth\":2,\"linecolor\":\"black\"},\"xaxis18\":{\"anchor\":\"y35\",\"domain\":[0.7155555555555555,0.94],\"title\":{\"text\":\"\"},\"showgrid\":false,\"zeroline\":false,\"showline\":true,\"linewidth\":2,\"linecolor\":\"black\"},\"yaxis35\":{\"anchor\":\"x18\",\"domain\":[0.15306122448979592,0.2346938775510204],\"showgrid\":false,\"zeroline\":false,\"showline\":true,\"linewidth\":2,\"linecolor\":\"black\"},\"yaxis36\":{\"anchor\":\"x18\",\"overlaying\":\"y35\",\"side\":\"right\",\"showgrid\":false,\"zeroline\":false,\"showline\":true,\"linewidth\":2,\"linecolor\":\"black\"},\"xaxis19\":{\"anchor\":\"y37\",\"domain\":[0.0,0.22444444444444445],\"title\":{\"text\":\"\"},\"showgrid\":false,\"zeroline\":false,\"showline\":true,\"linewidth\":2,\"linecolor\":\"black\"},\"yaxis37\":{\"anchor\":\"x19\",\"domain\":[0.0,0.08163265306122448],\"showgrid\":false,\"zeroline\":false,\"showline\":true,\"linewidth\":2,\"linecolor\":\"black\"},\"yaxis38\":{\"anchor\":\"x19\",\"overlaying\":\"y37\",\"side\":\"right\",\"showgrid\":false,\"zeroline\":false,\"showline\":true,\"linewidth\":2,\"linecolor\":\"black\"},\"xaxis20\":{\"anchor\":\"y39\",\"domain\":[0.35777777777777775,0.5822222222222222],\"title\":{\"text\":\"\"},\"showgrid\":false,\"zeroline\":false,\"showline\":true,\"linewidth\":2,\"linecolor\":\"black\"},\"yaxis39\":{\"anchor\":\"x20\",\"domain\":[0.0,0.08163265306122448],\"showgrid\":false,\"zeroline\":false,\"showline\":true,\"linewidth\":2,\"linecolor\":\"black\"},\"yaxis40\":{\"anchor\":\"x20\",\"overlaying\":\"y39\",\"side\":\"right\",\"showgrid\":false,\"zeroline\":false,\"showline\":true,\"linewidth\":2,\"linecolor\":\"black\"},\"xaxis21\":{\"anchor\":\"y41\",\"domain\":[0.7155555555555555,0.94],\"title\":{\"text\":\"\"},\"showgrid\":false,\"zeroline\":false,\"showline\":true,\"linewidth\":2,\"linecolor\":\"black\"},\"yaxis41\":{\"anchor\":\"x21\",\"domain\":[0.0,0.08163265306122448],\"showgrid\":false,\"zeroline\":false,\"showline\":true,\"linewidth\":2,\"linecolor\":\"black\"},\"yaxis42\":{\"anchor\":\"x21\",\"overlaying\":\"y41\",\"side\":\"right\",\"showgrid\":false,\"zeroline\":false,\"showline\":true,\"linewidth\":2,\"linecolor\":\"black\"},\"annotations\":[{\"font\":{\"size\":11,\"family\":\"Helvetica\"},\"showarrow\":false,\"text\":\"<b>Miri API</b>\",\"x\":0.11222222222222222,\"xanchor\":\"center\",\"xref\":\"paper\",\"y\":0.9999999999999999,\"yanchor\":\"bottom\",\"yref\":\"paper\"},{\"font\":{\"size\":11,\"family\":\"Helvetica\"},\"showarrow\":false,\"text\":\"<b>API Max</b>\",\"x\":0.47,\"xanchor\":\"center\",\"xref\":\"paper\",\"y\":0.9999999999999999,\"yanchor\":\"bottom\",\"yref\":\"paper\"},{\"font\":{\"size\":11,\"family\":\"Helvetica\"},\"showarrow\":false,\"text\":\"<b>API Min</b>\",\"x\":0.8277777777777777,\"xanchor\":\"center\",\"xref\":\"paper\",\"y\":0.9999999999999999,\"yanchor\":\"bottom\",\"yref\":\"paper\"},{\"font\":{\"size\":11,\"family\":\"Helvetica\"},\"showarrow\":false,\"text\":\"<b>Melaka API</b>\",\"x\":0.11222222222222222,\"xanchor\":\"center\",\"xref\":\"paper\",\"y\":0.8469387755102039,\"yanchor\":\"bottom\",\"yref\":\"paper\"},{\"font\":{\"size\":11,\"family\":\"Helvetica\"},\"showarrow\":false,\"text\":\"<b>API Max</b>\",\"x\":0.47,\"xanchor\":\"center\",\"xref\":\"paper\",\"y\":0.8469387755102039,\"yanchor\":\"bottom\",\"yref\":\"paper\"},{\"font\":{\"size\":11,\"family\":\"Helvetica\"},\"showarrow\":false,\"text\":\"<b>API Min</b>\",\"x\":0.8277777777777777,\"xanchor\":\"center\",\"xref\":\"paper\",\"y\":0.8469387755102039,\"yanchor\":\"bottom\",\"yref\":\"paper\"},{\"font\":{\"size\":11,\"family\":\"Helvetica\"},\"showarrow\":false,\"text\":\"<b>Cheras API</b>\",\"x\":0.11222222222222222,\"xanchor\":\"center\",\"xref\":\"paper\",\"y\":0.6938775510204082,\"yanchor\":\"bottom\",\"yref\":\"paper\"},{\"font\":{\"size\":11,\"family\":\"Helvetica\"},\"showarrow\":false,\"text\":\"<b>API Max</b>\",\"x\":0.47,\"xanchor\":\"center\",\"xref\":\"paper\",\"y\":0.6938775510204082,\"yanchor\":\"bottom\",\"yref\":\"paper\"},{\"font\":{\"size\":11,\"family\":\"Helvetica\"},\"showarrow\":false,\"text\":\"<b>API Min</b>\",\"x\":0.8277777777777777,\"xanchor\":\"center\",\"xref\":\"paper\",\"y\":0.6938775510204082,\"yanchor\":\"bottom\",\"yref\":\"paper\"},{\"font\":{\"size\":11,\"family\":\"Helvetica\"},\"showarrow\":false,\"text\":\"<b>Kota Kinabalu API</b>\",\"x\":0.11222222222222222,\"xanchor\":\"center\",\"xref\":\"paper\",\"y\":0.5408163265306122,\"yanchor\":\"bottom\",\"yref\":\"paper\"},{\"font\":{\"size\":11,\"family\":\"Helvetica\"},\"showarrow\":false,\"text\":\"<b>API Max</b>\",\"x\":0.47,\"xanchor\":\"center\",\"xref\":\"paper\",\"y\":0.5408163265306122,\"yanchor\":\"bottom\",\"yref\":\"paper\"},{\"font\":{\"size\":11,\"family\":\"Helvetica\"},\"showarrow\":false,\"text\":\"<b>API Min</b>\",\"x\":0.8277777777777777,\"xanchor\":\"center\",\"xref\":\"paper\",\"y\":0.5408163265306122,\"yanchor\":\"bottom\",\"yref\":\"paper\"},{\"font\":{\"size\":11,\"family\":\"Helvetica\"},\"showarrow\":false,\"text\":\"<b>Kuching API</b>\",\"x\":0.11222222222222222,\"xanchor\":\"center\",\"xref\":\"paper\",\"y\":0.3877551020408163,\"yanchor\":\"bottom\",\"yref\":\"paper\"},{\"font\":{\"size\":11,\"family\":\"Helvetica\"},\"showarrow\":false,\"text\":\"<b>API Max</b>\",\"x\":0.47,\"xanchor\":\"center\",\"xref\":\"paper\",\"y\":0.3877551020408163,\"yanchor\":\"bottom\",\"yref\":\"paper\"},{\"font\":{\"size\":11,\"family\":\"Helvetica\"},\"showarrow\":false,\"text\":\"<b>API Min</b>\",\"x\":0.8277777777777777,\"xanchor\":\"center\",\"xref\":\"paper\",\"y\":0.3877551020408163,\"yanchor\":\"bottom\",\"yref\":\"paper\"},{\"font\":{\"size\":11,\"family\":\"Helvetica\"},\"showarrow\":false,\"text\":\"<b>Larkin API</b>\",\"x\":0.11222222222222222,\"xanchor\":\"center\",\"xref\":\"paper\",\"y\":0.2346938775510204,\"yanchor\":\"bottom\",\"yref\":\"paper\"},{\"font\":{\"size\":11,\"family\":\"Helvetica\"},\"showarrow\":false,\"text\":\"<b>API Max</b>\",\"x\":0.47,\"xanchor\":\"center\",\"xref\":\"paper\",\"y\":0.2346938775510204,\"yanchor\":\"bottom\",\"yref\":\"paper\"},{\"font\":{\"size\":11,\"family\":\"Helvetica\"},\"showarrow\":false,\"text\":\"<b>API Min</b>\",\"x\":0.8277777777777777,\"xanchor\":\"center\",\"xref\":\"paper\",\"y\":0.2346938775510204,\"yanchor\":\"bottom\",\"yref\":\"paper\"},{\"font\":{\"size\":11,\"family\":\"Helvetica\"},\"showarrow\":false,\"text\":\"<b>Seberang Jaya API</b>\",\"x\":0.11222222222222222,\"xanchor\":\"center\",\"xref\":\"paper\",\"y\":0.08163265306122448,\"yanchor\":\"bottom\",\"yref\":\"paper\"},{\"font\":{\"size\":11,\"family\":\"Helvetica\"},\"showarrow\":false,\"text\":\"<b>API Max</b>\",\"x\":0.47,\"xanchor\":\"center\",\"xref\":\"paper\",\"y\":0.08163265306122448,\"yanchor\":\"bottom\",\"yref\":\"paper\"},{\"font\":{\"size\":11,\"family\":\"Helvetica\"},\"showarrow\":false,\"text\":\"<b>API Min</b>\",\"x\":0.8277777777777777,\"xanchor\":\"center\",\"xref\":\"paper\",\"y\":0.08163265306122448,\"yanchor\":\"bottom\",\"yref\":\"paper\"}],\"title\":{\"text\":\"Malaysia Air Pollutant Index Stations\",\"x\":0.5},\"showlegend\":false,\"height\":350,\"font\":{\"family\":\"Helvetica\",\"size\":11}},                        {\"responsive\": true}                    ).then(function(){\n",
       "                            \n",
       "var gd = document.getElementById('ad67c35a-1909-4370-9d52-f4695b34f7d5');\n",
       "var x = new MutationObserver(function (mutations, observer) {{\n",
       "        var display = window.getComputedStyle(gd).display;\n",
       "        if (!display || display === 'none') {{\n",
       "            console.log([gd, 'removed!']);\n",
       "            Plotly.purge(gd);\n",
       "            observer.disconnect();\n",
       "        }}\n",
       "}});\n",
       "\n",
       "// Listen for the removal of the full notebook cells\n",
       "var notebookContainer = gd.closest('#notebook-container');\n",
       "if (notebookContainer) {{\n",
       "    x.observe(notebookContainer, {childList: true});\n",
       "}}\n",
       "\n",
       "// Listen for the clearing of the current output cell\n",
       "var outputEl = gd.closest('.output');\n",
       "if (outputEl) {{\n",
       "    x.observe(outputEl, {childList: true});\n",
       "}}\n",
       "\n",
       "                        })                };                });            </script>        </div>"
      ]
     },
     "metadata": {},
     "output_type": "display_data"
    }
   ],
   "source": [
    "fig = make_subplots(rows=7, cols=3, specs=[[{'secondary_y': True},{'secondary_y': True},{'secondary_y': True}],\n",
    "                                           [{'secondary_y': True},{'secondary_y': True},{'secondary_y': True}],\n",
    "                                           [{'secondary_y': True},{'secondary_y': True},{'secondary_y': True}],\n",
    "                                           [{'secondary_y': True},{'secondary_y': True},{'secondary_y': True}],\n",
    "                                           [{'secondary_y': True},{'secondary_y': True},{'secondary_y': True}],\n",
    "                                           [{'secondary_y': True},{'secondary_y': True},{'secondary_y': True}],\n",
    "                                           [{'secondary_y': True},{'secondary_y': True},{'secondary_y': True}]],\n",
    "                    \n",
    "subplot_titles=('<b>Miri API</b>','<b>API Max</b>','<b>API Min</b>',\n",
    "                '<b>Melaka API</b>','<b>API Max</b>','<b>API Min</b>',\n",
    "                '<b>Cheras API</b>','<b>API Max</b>','<b>API Min</b>',\n",
    "                '<b>Kota Kinabalu API</b>','<b>API Max</b>','<b>API Min</b>',\n",
    "                '<b>Kuching API</b>','<b>API Max</b>','<b>API Min</b>',\n",
    "                '<b>Larkin API</b>','<b>API Max</b>','<b>API Min</b>',\n",
    "                '<b>Seberang Jaya API</b>','<b>API Max</b>','<b>API Min</b>'))\n",
    "#Graph Miri\n",
    "fig.add_trace(go.Scatter(x = df_miri['Year'], y = df_miri['Air Pollution Index (Max.)'],fill='tozeroy',\n",
    "                         mode='lines',name = 'Air Pollution Index (Max.)',\n",
    "                         line = dict(color='blue', width=1)),secondary_y=True, row=1, col=1)\n",
    "fig.add_trace(go.Scatter(x = df_miri['Year'], y = df_miri['Air Pollution Index (Min.)'],fill='tozeroy',\n",
    "                         mode='lines',name = 'Air Pollution Index (Max.)',\n",
    "                         line = dict(color='blue', width=1)),secondary_y=True, row=1, col=1)\n",
    "fig.add_trace(go.Scatter(x = df_miri['Year'], y = df_miri['Air Pollution Index (Max.)'],fill='tozeroy',\n",
    "                         mode='lines',name = 'Air Pollution Index (Max.)',\n",
    "                         line = dict(color='blue', width=1)),secondary_y=True, row=1, col=2)\n",
    "fig.add_trace(go.Scatter(x = df_miri['Year'], y = df_miri['Air Pollution Index (Min.)'],fill='tozeroy',\n",
    "                         mode='lines',name = 'Air Pollution Index (Min.)',\n",
    "                         line = dict(color='blue', width=1)),secondary_y=True, row=1, col=3)\n",
    "#Graph Melaka\n",
    "fig.add_trace(go.Scatter(x = df_melaka['Year'], y = df_melaka['Air Pollution Index (Max.)'],fill='tozeroy',\n",
    "                         mode='lines',name = 'Air Pollution Index (Max.)',\n",
    "                         line = dict(color='blue', width=1)),secondary_y=True, row=2, col=1)\n",
    "fig.add_trace(go.Scatter(x = df_melaka['Year'], y = df_melaka['Air Pollution Index (Min.)'],fill='tozeroy',\n",
    "                         mode='lines',name = 'Air Pollution Index (Max.)',\n",
    "                         line = dict(color='blue', width=1)),secondary_y=True, row=2, col=1)\n",
    "fig.add_trace(go.Scatter(x = df_melaka['Year'], y = df_melaka['Air Pollution Index (Max.)'],fill='tozeroy',\n",
    "                         mode='lines',name = 'Air Pollution Index (Max.)',\n",
    "                         line = dict(color='blue', width=1)),secondary_y=True, row=2, col=2)\n",
    "fig.add_trace(go.Scatter(x = df_melaka['Year'], y = df_melaka['Air Pollution Index (Min.)'],fill='tozeroy',\n",
    "                         mode='lines',name = 'Air Pollution Index (Min.)',\n",
    "                         line = dict(color='blue', width=1)),secondary_y=True, row=2, col=3)\n",
    "#Graph Cheras\n",
    "fig.add_trace(go.Scatter(x = df_cheras['Year'], y = df_cheras['Air Pollution Index (Max.)'],fill='tozeroy',\n",
    "                         mode='lines',name = 'Air Pollution Index (Max.)',\n",
    "                         line = dict(color='blue', width=1)),secondary_y=True, row=3, col=1)\n",
    "fig.add_trace(go.Scatter(x = df_cheras['Year'], y = df_cheras['Air Pollution Index (Min.)'],fill='tozeroy',\n",
    "                         mode='lines',name = 'Air Pollution Index (Max.)',\n",
    "                         line = dict(color='blue', width=1)),secondary_y=True, row=3, col=1)\n",
    "fig.add_trace(go.Scatter(x = df_cheras['Year'], y = df_cheras['Air Pollution Index (Max.)'],fill='tozeroy',\n",
    "                         mode='lines',name = 'Air Pollution Index (Max.)',\n",
    "                         line = dict(color='blue', width=1)),secondary_y=True, row=3, col=2)\n",
    "fig.add_trace(go.Scatter(x = df_cheras['Year'], y = df_cheras['Air Pollution Index (Min.)'],fill='tozeroy',\n",
    "                         mode='lines',name = 'Air Pollution Index (Min.)',\n",
    "                         line = dict(color='blue', width=1)),secondary_y=True, row=3, col=3)\n",
    "#Graph Kinabalu\n",
    "fig.add_trace(go.Scatter(x = df_kinabalu['Year'], y = df_kinabalu['Air Pollution Index (Max.)'],fill='tozeroy',\n",
    "                         mode='lines',name = 'Air Pollution Index (Max.)',\n",
    "                         line = dict(color='blue', width=1)),secondary_y=True, row=4, col=1)\n",
    "fig.add_trace(go.Scatter(x = df_kinabalu['Year'], y = df_kinabalu['Air Pollution Index (Min.)'],fill='tozeroy',\n",
    "                         mode='lines',name = 'Air Pollution Index (Max.)',\n",
    "                         line = dict(color='blue', width=1)),secondary_y=True, row=4, col=1)\n",
    "fig.add_trace(go.Scatter(x = df_kinabalu['Year'], y = df_kinabalu['Air Pollution Index (Max.)'],fill='tozeroy',\n",
    "                         mode='lines',name = 'Air Pollution Index (Max.)',\n",
    "                         line = dict(color='blue', width=1)),secondary_y=True, row=4, col=2)\n",
    "fig.add_trace(go.Scatter(x = df_kinabalu['Year'], y = df_kinabalu['Air Pollution Index (Min.)'],fill='tozeroy',\n",
    "                         mode='lines',name = 'Air Pollution Index (Min.)',\n",
    "                         line = dict(color='blue', width=1)),secondary_y=True, row=4, col=3)\n",
    "#Graph Kuching\n",
    "fig.add_trace(go.Scatter(x = df_kuching['Year'], y = df_kuching['Air Pollution Index (Max.)'],fill='tozeroy',\n",
    "                         mode='lines',name = 'Air Pollution Index (Max.)',\n",
    "                         line = dict(color='blue', width=1)),secondary_y=True, row=5, col=1)\n",
    "fig.add_trace(go.Scatter(x = df_kuching['Year'], y = df_kuching['Air Pollution Index (Min.)'],fill='tozeroy',\n",
    "                         mode='lines',name = 'Air Pollution Index (Max.)',\n",
    "                         line = dict(color='blue', width=1)),secondary_y=True, row=5, col=1)\n",
    "fig.add_trace(go.Scatter(x = df_kuching['Year'], y = df_kuching['Air Pollution Index (Max.)'],fill='tozeroy',\n",
    "                         mode='lines',name = 'Air Pollution Index (Max.)',\n",
    "                         line = dict(color='blue', width=1)),secondary_y=True, row=5, col=2)\n",
    "fig.add_trace(go.Scatter(x = df_kuching['Year'], y = df_kuching['Air Pollution Index (Min.)'],fill='tozeroy',\n",
    "                         mode='lines',name = 'Air Pollution Index (Min.)',\n",
    "                         line = dict(color='blue', width=1)),secondary_y=True, row=5, col=3)\n",
    "#Graph Larkin\n",
    "fig.add_trace(go.Scatter(x = df_larkin['Year'], y = df_larkin['Air Pollution Index (Max.)'],fill='tozeroy',\n",
    "                         mode='lines',name = 'Air Pollution Index (Max.)',\n",
    "                         line = dict(color='blue', width=1)),secondary_y=True, row=6, col=1)\n",
    "fig.add_trace(go.Scatter(x = df_larkin['Year'], y = df_larkin['Air Pollution Index (Min.)'],fill='tozeroy',\n",
    "                         mode='lines',name = 'Air Pollution Index (Max.)',\n",
    "                         line = dict(color='blue', width=1)),secondary_y=True, row=6, col=1)\n",
    "fig.add_trace(go.Scatter(x = df_larkin['Year'], y = df_larkin['Air Pollution Index (Max.)'],fill='tozeroy',\n",
    "                         mode='lines',name = 'Air Pollution Index (Max.)',\n",
    "                         line = dict(color='blue', width=1)),secondary_y=True, row=6, col=2)\n",
    "fig.add_trace(go.Scatter(x = df_larkin['Year'], y = df_larkin['Air Pollution Index (Min.)'],fill='tozeroy',\n",
    "                         mode='lines',name = 'Air Pollution Index (Min.)',\n",
    "                         line = dict(color='blue', width=1)),secondary_y=True, row=6, col=3)\n",
    "#Graph Seberang Jaya\n",
    "fig.add_trace(go.Scatter(x = df_jaya['Year'], y = df_jaya['Air Pollution Index (Max.)'],fill='tozeroy',\n",
    "                         mode='lines',name = 'Air Pollution Index (Max.)',\n",
    "                         line = dict(color='blue', width=1)),secondary_y=True, row=7, col=1)\n",
    "fig.add_trace(go.Scatter(x = df_jaya['Year'], y = df_jaya['Air Pollution Index (Min.)'],fill='tozeroy',\n",
    "                         mode='lines',name = 'Air Pollution Index (Max.)',\n",
    "                         line = dict(color='blue', width=1)),secondary_y=True, row=7, col=1)\n",
    "fig.add_trace(go.Scatter(x = df_jaya['Year'], y = df_jaya['Air Pollution Index (Max.)'],fill='tozeroy',\n",
    "                         mode='lines',name = 'Air Pollution Index (Max.)',\n",
    "                         line = dict(color='blue', width=1)),secondary_y=True, row=7, col=2)\n",
    "fig.add_trace(go.Scatter(x = df_jaya['Year'], y = df_jaya['Air Pollution Index (Min.)'],fill='tozeroy',\n",
    "                         mode='lines',name = 'Air Pollution Index (Min.)',\n",
    "                         line = dict(color='blue', width=1)),secondary_y=True, row=7, col=3)\n",
    "\n",
    "fig.update_layout(title_text='Malaysia Air Pollutant Index Stations', title_x=0.5, showlegend=False,\n",
    "                 height=350)\n",
    "fig.update_xaxes(title_text='')\n",
    "#Update Fonts & Size\n",
    "fig.update_annotations(font=dict(family=\"Helvetica\", size=11))\n",
    "fig.update_layout(font=dict(family=\"Helvetica\", size=11))\n",
    "fig.update_layout(height=350,showlegend=False)\n",
    "fig.update_xaxes(showgrid=False, zeroline=False, showline=True, linewidth=2, linecolor='black')\n",
    "fig.update_yaxes(showgrid=False, zeroline=False, showline=True, linewidth=2, linecolor='black')\n",
    "\n",
    "#Plotting the graph\n",
    "fig.show()"
   ]
  },
  {
   "cell_type": "code",
   "execution_count": 6,
   "id": "5a13c185",
   "metadata": {},
   "outputs": [
    {
     "data": {
      "text/html": [
       "<style type=\"text/css\">\n",
       "#T_44d9f_ caption {\n",
       "  color: black;\n",
       "  font-size: 20px;\n",
       "  text-align: center;\n",
       "  text-decoration: underline;\n",
       "  font-family: Arial;\n",
       "  text-shadow: 2px 2px 5px grey;\n",
       "}\n",
       "#T_44d9f_ th {\n",
       "  text-align: center;\n",
       "}\n",
       "#T_44d9f_row0_col0, #T_44d9f_row1_col0, #T_44d9f_row2_col0, #T_44d9f_row3_col0, #T_44d9f_row4_col0, #T_44d9f_row5_col0, #T_44d9f_row6_col0, #T_44d9f_row7_col0, #T_44d9f_row8_col0, #T_44d9f_row9_col0, #T_44d9f_row10_col0, #T_44d9f_row11_col0, #T_44d9f_row12_col0, #T_44d9f_row13_col0, #T_44d9f_row14_col0, #T_44d9f_row15_col0, #T_44d9f_row16_col0 {\n",
       "  text-align: center;\n",
       "}\n",
       "#T_44d9f_row2_col11, #T_44d9f_row3_col9, #T_44d9f_row3_col12, #T_44d9f_row4_col3, #T_44d9f_row4_col5, #T_44d9f_row4_col13, #T_44d9f_row7_col8, #T_44d9f_row7_col12, #T_44d9f_row8_col7, #T_44d9f_row8_col8, #T_44d9f_row9_col6, #T_44d9f_row9_col8, #T_44d9f_row11_col2, #T_44d9f_row13_col4, #T_44d9f_row13_col11, #T_44d9f_row15_col1, #T_44d9f_row15_col9, #T_44d9f_row15_col10, #T_44d9f_row15_col14, #T_44d9f_row16_col12 {\n",
       "  background-color: yellow;\n",
       "}\n",
       "</style>\n",
       "<table id=\"T_44d9f_\">\n",
       "  <caption>Malaysia Air Pollution Index From 2000 to 2016 (Min. & Max.)</caption>\n",
       "  <thead>\n",
       "    <tr>\n",
       "      <th class=\"col_heading level0 col0\" >Year</th>\n",
       "      <th class=\"col_heading level0 col1\" >Miri (Max.)</th>\n",
       "      <th class=\"col_heading level0 col2\" >Melaka (Max.)</th>\n",
       "      <th class=\"col_heading level0 col3\" >Cheras (Max.)</th>\n",
       "      <th class=\"col_heading level0 col4\" >K.Kinabalu (Max.)</th>\n",
       "      <th class=\"col_heading level0 col5\" >Kuching (Max.)</th>\n",
       "      <th class=\"col_heading level0 col6\" >Larkin (Max.)</th>\n",
       "      <th class=\"col_heading level0 col7\" >S.Jaya (Max.)</th>\n",
       "      <th class=\"col_heading level0 col8\" >Miri (Min.)</th>\n",
       "      <th class=\"col_heading level0 col9\" >Melaka (Min.)</th>\n",
       "      <th class=\"col_heading level0 col10\" >Cheras (Min.)</th>\n",
       "      <th class=\"col_heading level0 col11\" >K.Kinabalu (Min.)</th>\n",
       "      <th class=\"col_heading level0 col12\" >Kuching (Min.)</th>\n",
       "      <th class=\"col_heading level0 col13\" >Larkin (Min.)</th>\n",
       "      <th class=\"col_heading level0 col14\" >S.Jaya (Min.)</th>\n",
       "    </tr>\n",
       "  </thead>\n",
       "  <tbody>\n",
       "    <tr>\n",
       "      <td id=\"T_44d9f_row0_col0\" class=\"data row0 col0\" >2000</td>\n",
       "      <td id=\"T_44d9f_row0_col1\" class=\"data row0 col1\" >79</td>\n",
       "      <td id=\"T_44d9f_row0_col2\" class=\"data row0 col2\" >122</td>\n",
       "      <td id=\"T_44d9f_row0_col3\" class=\"data row0 col3\" >141</td>\n",
       "      <td id=\"T_44d9f_row0_col4\" class=\"data row0 col4\" >70</td>\n",
       "      <td id=\"T_44d9f_row0_col5\" class=\"data row0 col5\" >84</td>\n",
       "      <td id=\"T_44d9f_row0_col6\" class=\"data row0 col6\" >119</td>\n",
       "      <td id=\"T_44d9f_row0_col7\" class=\"data row0 col7\" >127</td>\n",
       "      <td id=\"T_44d9f_row0_col8\" class=\"data row0 col8\" >3</td>\n",
       "      <td id=\"T_44d9f_row0_col9\" class=\"data row0 col9\" >4</td>\n",
       "      <td id=\"T_44d9f_row0_col10\" class=\"data row0 col10\" >13</td>\n",
       "      <td id=\"T_44d9f_row0_col11\" class=\"data row0 col11\" >1</td>\n",
       "      <td id=\"T_44d9f_row0_col12\" class=\"data row0 col12\" >1</td>\n",
       "      <td id=\"T_44d9f_row0_col13\" class=\"data row0 col13\" >7</td>\n",
       "      <td id=\"T_44d9f_row0_col14\" class=\"data row0 col14\" >4</td>\n",
       "    </tr>\n",
       "    <tr>\n",
       "      <td id=\"T_44d9f_row1_col0\" class=\"data row1 col0\" >2001</td>\n",
       "      <td id=\"T_44d9f_row1_col1\" class=\"data row1 col1\" >84</td>\n",
       "      <td id=\"T_44d9f_row1_col2\" class=\"data row1 col2\" >127</td>\n",
       "      <td id=\"T_44d9f_row1_col3\" class=\"data row1 col3\" >157</td>\n",
       "      <td id=\"T_44d9f_row1_col4\" class=\"data row1 col4\" >80</td>\n",
       "      <td id=\"T_44d9f_row1_col5\" class=\"data row1 col5\" >84</td>\n",
       "      <td id=\"T_44d9f_row1_col6\" class=\"data row1 col6\" >119</td>\n",
       "      <td id=\"T_44d9f_row1_col7\" class=\"data row1 col7\" >140</td>\n",
       "      <td id=\"T_44d9f_row1_col8\" class=\"data row1 col8\" >2</td>\n",
       "      <td id=\"T_44d9f_row1_col9\" class=\"data row1 col9\" >3</td>\n",
       "      <td id=\"T_44d9f_row1_col10\" class=\"data row1 col10\" >16</td>\n",
       "      <td id=\"T_44d9f_row1_col11\" class=\"data row1 col11\" >1</td>\n",
       "      <td id=\"T_44d9f_row1_col12\" class=\"data row1 col12\" >1</td>\n",
       "      <td id=\"T_44d9f_row1_col13\" class=\"data row1 col13\" >10</td>\n",
       "      <td id=\"T_44d9f_row1_col14\" class=\"data row1 col14\" >8</td>\n",
       "    </tr>\n",
       "    <tr>\n",
       "      <td id=\"T_44d9f_row2_col0\" class=\"data row2 col0\" >2002</td>\n",
       "      <td id=\"T_44d9f_row2_col1\" class=\"data row2 col1\" >126</td>\n",
       "      <td id=\"T_44d9f_row2_col2\" class=\"data row2 col2\" >105</td>\n",
       "      <td id=\"T_44d9f_row2_col3\" class=\"data row2 col3\" >153</td>\n",
       "      <td id=\"T_44d9f_row2_col4\" class=\"data row2 col4\" >88</td>\n",
       "      <td id=\"T_44d9f_row2_col5\" class=\"data row2 col5\" >130</td>\n",
       "      <td id=\"T_44d9f_row2_col6\" class=\"data row2 col6\" >116</td>\n",
       "      <td id=\"T_44d9f_row2_col7\" class=\"data row2 col7\" >115</td>\n",
       "      <td id=\"T_44d9f_row2_col8\" class=\"data row2 col8\" >5</td>\n",
       "      <td id=\"T_44d9f_row2_col9\" class=\"data row2 col9\" >5</td>\n",
       "      <td id=\"T_44d9f_row2_col10\" class=\"data row2 col10\" >11</td>\n",
       "      <td id=\"T_44d9f_row2_col11\" class=\"data row2 col11\" >8</td>\n",
       "      <td id=\"T_44d9f_row2_col12\" class=\"data row2 col12\" >1</td>\n",
       "      <td id=\"T_44d9f_row2_col13\" class=\"data row2 col13\" >4</td>\n",
       "      <td id=\"T_44d9f_row2_col14\" class=\"data row2 col14\" >4</td>\n",
       "    </tr>\n",
       "    <tr>\n",
       "      <td id=\"T_44d9f_row3_col0\" class=\"data row3 col0\" >2003</td>\n",
       "      <td id=\"T_44d9f_row3_col1\" class=\"data row3 col1\" >86</td>\n",
       "      <td id=\"T_44d9f_row3_col2\" class=\"data row3 col2\" >114</td>\n",
       "      <td id=\"T_44d9f_row3_col3\" class=\"data row3 col3\" >143</td>\n",
       "      <td id=\"T_44d9f_row3_col4\" class=\"data row3 col4\" >76</td>\n",
       "      <td id=\"T_44d9f_row3_col5\" class=\"data row3 col5\" >85</td>\n",
       "      <td id=\"T_44d9f_row3_col6\" class=\"data row3 col6\" >112</td>\n",
       "      <td id=\"T_44d9f_row3_col7\" class=\"data row3 col7\" >106</td>\n",
       "      <td id=\"T_44d9f_row3_col8\" class=\"data row3 col8\" >3</td>\n",
       "      <td id=\"T_44d9f_row3_col9\" class=\"data row3 col9\" >6</td>\n",
       "      <td id=\"T_44d9f_row3_col10\" class=\"data row3 col10\" >11</td>\n",
       "      <td id=\"T_44d9f_row3_col11\" class=\"data row3 col11\" >2</td>\n",
       "      <td id=\"T_44d9f_row3_col12\" class=\"data row3 col12\" >6</td>\n",
       "      <td id=\"T_44d9f_row3_col13\" class=\"data row3 col13\" >2</td>\n",
       "      <td id=\"T_44d9f_row3_col14\" class=\"data row3 col14\" >11</td>\n",
       "    </tr>\n",
       "    <tr>\n",
       "      <td id=\"T_44d9f_row4_col0\" class=\"data row4 col0\" >2004</td>\n",
       "      <td id=\"T_44d9f_row4_col1\" class=\"data row4 col1\" >77</td>\n",
       "      <td id=\"T_44d9f_row4_col2\" class=\"data row4 col2\" >147</td>\n",
       "      <td id=\"T_44d9f_row4_col3\" class=\"data row4 col3\" >97</td>\n",
       "      <td id=\"T_44d9f_row4_col4\" class=\"data row4 col4\" >62</td>\n",
       "      <td id=\"T_44d9f_row4_col5\" class=\"data row4 col5\" >97</td>\n",
       "      <td id=\"T_44d9f_row4_col6\" class=\"data row4 col6\" >126</td>\n",
       "      <td id=\"T_44d9f_row4_col7\" class=\"data row4 col7\" >121</td>\n",
       "      <td id=\"T_44d9f_row4_col8\" class=\"data row4 col8\" >2</td>\n",
       "      <td id=\"T_44d9f_row4_col9\" class=\"data row4 col9\" >5</td>\n",
       "      <td id=\"T_44d9f_row4_col10\" class=\"data row4 col10\" >32</td>\n",
       "      <td id=\"T_44d9f_row4_col11\" class=\"data row4 col11\" >1</td>\n",
       "      <td id=\"T_44d9f_row4_col12\" class=\"data row4 col12\" >17</td>\n",
       "      <td id=\"T_44d9f_row4_col13\" class=\"data row4 col13\" >8</td>\n",
       "      <td id=\"T_44d9f_row4_col14\" class=\"data row4 col14\" >8</td>\n",
       "    </tr>\n",
       "    <tr>\n",
       "      <td id=\"T_44d9f_row5_col0\" class=\"data row5 col0\" >2005</td>\n",
       "      <td id=\"T_44d9f_row5_col1\" class=\"data row5 col1\" >133</td>\n",
       "      <td id=\"T_44d9f_row5_col2\" class=\"data row5 col2\" >114</td>\n",
       "      <td id=\"T_44d9f_row5_col3\" class=\"data row5 col3\" >390</td>\n",
       "      <td id=\"T_44d9f_row5_col4\" class=\"data row5 col4\" >63</td>\n",
       "      <td id=\"T_44d9f_row5_col5\" class=\"data row5 col5\" >78</td>\n",
       "      <td id=\"T_44d9f_row5_col6\" class=\"data row5 col6\" >111</td>\n",
       "      <td id=\"T_44d9f_row5_col7\" class=\"data row5 col7\" >151</td>\n",
       "      <td id=\"T_44d9f_row5_col8\" class=\"data row5 col8\" >2</td>\n",
       "      <td id=\"T_44d9f_row5_col9\" class=\"data row5 col9\" >2</td>\n",
       "      <td id=\"T_44d9f_row5_col10\" class=\"data row5 col10\" >5</td>\n",
       "      <td id=\"T_44d9f_row5_col11\" class=\"data row5 col11\" >2</td>\n",
       "      <td id=\"T_44d9f_row5_col12\" class=\"data row5 col12\" >23</td>\n",
       "      <td id=\"T_44d9f_row5_col13\" class=\"data row5 col13\" >1</td>\n",
       "      <td id=\"T_44d9f_row5_col14\" class=\"data row5 col14\" >10</td>\n",
       "    </tr>\n",
       "    <tr>\n",
       "      <td id=\"T_44d9f_row6_col0\" class=\"data row6 col0\" >2006</td>\n",
       "      <td id=\"T_44d9f_row6_col1\" class=\"data row6 col1\" >104</td>\n",
       "      <td id=\"T_44d9f_row6_col2\" class=\"data row6 col2\" >153</td>\n",
       "      <td id=\"T_44d9f_row6_col3\" class=\"data row6 col3\" >162</td>\n",
       "      <td id=\"T_44d9f_row6_col4\" class=\"data row6 col4\" >86</td>\n",
       "      <td id=\"T_44d9f_row6_col5\" class=\"data row6 col5\" >188</td>\n",
       "      <td id=\"T_44d9f_row6_col6\" class=\"data row6 col6\" >143</td>\n",
       "      <td id=\"T_44d9f_row6_col7\" class=\"data row6 col7\" >121</td>\n",
       "      <td id=\"T_44d9f_row6_col8\" class=\"data row6 col8\" >1</td>\n",
       "      <td id=\"T_44d9f_row6_col9\" class=\"data row6 col9\" >5</td>\n",
       "      <td id=\"T_44d9f_row6_col10\" class=\"data row6 col10\" >5</td>\n",
       "      <td id=\"T_44d9f_row6_col11\" class=\"data row6 col11\" >2</td>\n",
       "      <td id=\"T_44d9f_row6_col12\" class=\"data row6 col12\" >5</td>\n",
       "      <td id=\"T_44d9f_row6_col13\" class=\"data row6 col13\" >5</td>\n",
       "      <td id=\"T_44d9f_row6_col14\" class=\"data row6 col14\" >6</td>\n",
       "    </tr>\n",
       "    <tr>\n",
       "      <td id=\"T_44d9f_row7_col0\" class=\"data row7 col0\" >2007</td>\n",
       "      <td id=\"T_44d9f_row7_col1\" class=\"data row7 col1\" >73</td>\n",
       "      <td id=\"T_44d9f_row7_col2\" class=\"data row7 col2\" >92</td>\n",
       "      <td id=\"T_44d9f_row7_col3\" class=\"data row7 col3\" >131</td>\n",
       "      <td id=\"T_44d9f_row7_col4\" class=\"data row7 col4\" >64</td>\n",
       "      <td id=\"T_44d9f_row7_col5\" class=\"data row7 col5\" >75</td>\n",
       "      <td id=\"T_44d9f_row7_col6\" class=\"data row7 col6\" >141</td>\n",
       "      <td id=\"T_44d9f_row7_col7\" class=\"data row7 col7\" >101</td>\n",
       "      <td id=\"T_44d9f_row7_col8\" class=\"data row7 col8\" >6</td>\n",
       "      <td id=\"T_44d9f_row7_col9\" class=\"data row7 col9\" >4</td>\n",
       "      <td id=\"T_44d9f_row7_col10\" class=\"data row7 col10\" >4</td>\n",
       "      <td id=\"T_44d9f_row7_col11\" class=\"data row7 col11\" >3</td>\n",
       "      <td id=\"T_44d9f_row7_col12\" class=\"data row7 col12\" >6</td>\n",
       "      <td id=\"T_44d9f_row7_col13\" class=\"data row7 col13\" >0</td>\n",
       "      <td id=\"T_44d9f_row7_col14\" class=\"data row7 col14\" >8</td>\n",
       "    </tr>\n",
       "    <tr>\n",
       "      <td id=\"T_44d9f_row8_col0\" class=\"data row8 col0\" >2008</td>\n",
       "      <td id=\"T_44d9f_row8_col1\" class=\"data row8 col1\" >76</td>\n",
       "      <td id=\"T_44d9f_row8_col2\" class=\"data row8 col2\" >80</td>\n",
       "      <td id=\"T_44d9f_row8_col3\" class=\"data row8 col3\" >135</td>\n",
       "      <td id=\"T_44d9f_row8_col4\" class=\"data row8 col4\" >55</td>\n",
       "      <td id=\"T_44d9f_row8_col5\" class=\"data row8 col5\" >72</td>\n",
       "      <td id=\"T_44d9f_row8_col6\" class=\"data row8 col6\" >101</td>\n",
       "      <td id=\"T_44d9f_row8_col7\" class=\"data row8 col7\" >99</td>\n",
       "      <td id=\"T_44d9f_row8_col8\" class=\"data row8 col8\" >6</td>\n",
       "      <td id=\"T_44d9f_row8_col9\" class=\"data row8 col9\" >3</td>\n",
       "      <td id=\"T_44d9f_row8_col10\" class=\"data row8 col10\" >8</td>\n",
       "      <td id=\"T_44d9f_row8_col11\" class=\"data row8 col11\" >1</td>\n",
       "      <td id=\"T_44d9f_row8_col12\" class=\"data row8 col12\" >5</td>\n",
       "      <td id=\"T_44d9f_row8_col13\" class=\"data row8 col13\" >5</td>\n",
       "      <td id=\"T_44d9f_row8_col14\" class=\"data row8 col14\" >6</td>\n",
       "    </tr>\n",
       "    <tr>\n",
       "      <td id=\"T_44d9f_row9_col0\" class=\"data row9 col0\" >2009</td>\n",
       "      <td id=\"T_44d9f_row9_col1\" class=\"data row9 col1\" >179</td>\n",
       "      <td id=\"T_44d9f_row9_col2\" class=\"data row9 col2\" >137</td>\n",
       "      <td id=\"T_44d9f_row9_col3\" class=\"data row9 col3\" >168</td>\n",
       "      <td id=\"T_44d9f_row9_col4\" class=\"data row9 col4\" >78</td>\n",
       "      <td id=\"T_44d9f_row9_col5\" class=\"data row9 col5\" >114</td>\n",
       "      <td id=\"T_44d9f_row9_col6\" class=\"data row9 col6\" >99</td>\n",
       "      <td id=\"T_44d9f_row9_col7\" class=\"data row9 col7\" >106</td>\n",
       "      <td id=\"T_44d9f_row9_col8\" class=\"data row9 col8\" >6</td>\n",
       "      <td id=\"T_44d9f_row9_col9\" class=\"data row9 col9\" >4</td>\n",
       "      <td id=\"T_44d9f_row9_col10\" class=\"data row9 col10\" >4</td>\n",
       "      <td id=\"T_44d9f_row9_col11\" class=\"data row9 col11\" >1</td>\n",
       "      <td id=\"T_44d9f_row9_col12\" class=\"data row9 col12\" >10</td>\n",
       "      <td id=\"T_44d9f_row9_col13\" class=\"data row9 col13\" >2</td>\n",
       "      <td id=\"T_44d9f_row9_col14\" class=\"data row9 col14\" >5</td>\n",
       "    </tr>\n",
       "    <tr>\n",
       "      <td id=\"T_44d9f_row10_col0\" class=\"data row10 col0\" >2010</td>\n",
       "      <td id=\"T_44d9f_row10_col1\" class=\"data row10 col1\" >89</td>\n",
       "      <td id=\"T_44d9f_row10_col2\" class=\"data row10 col2\" >139</td>\n",
       "      <td id=\"T_44d9f_row10_col3\" class=\"data row10 col3\" >169</td>\n",
       "      <td id=\"T_44d9f_row10_col4\" class=\"data row10 col4\" >68</td>\n",
       "      <td id=\"T_44d9f_row10_col5\" class=\"data row10 col5\" >54</td>\n",
       "      <td id=\"T_44d9f_row10_col6\" class=\"data row10 col6\" >111</td>\n",
       "      <td id=\"T_44d9f_row10_col7\" class=\"data row10 col7\" >93</td>\n",
       "      <td id=\"T_44d9f_row10_col8\" class=\"data row10 col8\" >17</td>\n",
       "      <td id=\"T_44d9f_row10_col9\" class=\"data row10 col9\" >22</td>\n",
       "      <td id=\"T_44d9f_row10_col10\" class=\"data row10 col10\" >26</td>\n",
       "      <td id=\"T_44d9f_row10_col11\" class=\"data row10 col11\" >10</td>\n",
       "      <td id=\"T_44d9f_row10_col12\" class=\"data row10 col12\" >16</td>\n",
       "      <td id=\"T_44d9f_row10_col13\" class=\"data row10 col13\" >15</td>\n",
       "      <td id=\"T_44d9f_row10_col14\" class=\"data row10 col14\" >28</td>\n",
       "    </tr>\n",
       "    <tr>\n",
       "      <td id=\"T_44d9f_row11_col0\" class=\"data row11 col0\" >2011</td>\n",
       "      <td id=\"T_44d9f_row11_col1\" class=\"data row11 col1\" >96</td>\n",
       "      <td id=\"T_44d9f_row11_col2\" class=\"data row11 col2\" >97</td>\n",
       "      <td id=\"T_44d9f_row11_col3\" class=\"data row11 col3\" >150</td>\n",
       "      <td id=\"T_44d9f_row11_col4\" class=\"data row11 col4\" >61</td>\n",
       "      <td id=\"T_44d9f_row11_col5\" class=\"data row11 col5\" >100</td>\n",
       "      <td id=\"T_44d9f_row11_col6\" class=\"data row11 col6\" >84</td>\n",
       "      <td id=\"T_44d9f_row11_col7\" class=\"data row11 col7\" >98</td>\n",
       "      <td id=\"T_44d9f_row11_col8\" class=\"data row11 col8\" >4</td>\n",
       "      <td id=\"T_44d9f_row11_col9\" class=\"data row11 col9\" >12</td>\n",
       "      <td id=\"T_44d9f_row11_col10\" class=\"data row11 col10\" >11</td>\n",
       "      <td id=\"T_44d9f_row11_col11\" class=\"data row11 col11\" >2</td>\n",
       "      <td id=\"T_44d9f_row11_col12\" class=\"data row11 col12\" >4</td>\n",
       "      <td id=\"T_44d9f_row11_col13\" class=\"data row11 col13\" >3</td>\n",
       "      <td id=\"T_44d9f_row11_col14\" class=\"data row11 col14\" >6</td>\n",
       "    </tr>\n",
       "    <tr>\n",
       "      <td id=\"T_44d9f_row12_col0\" class=\"data row12 col0\" >2012</td>\n",
       "      <td id=\"T_44d9f_row12_col1\" class=\"data row12 col1\" >97</td>\n",
       "      <td id=\"T_44d9f_row12_col2\" class=\"data row12 col2\" >83</td>\n",
       "      <td id=\"T_44d9f_row12_col3\" class=\"data row12 col3\" >155</td>\n",
       "      <td id=\"T_44d9f_row12_col4\" class=\"data row12 col4\" >61</td>\n",
       "      <td id=\"T_44d9f_row12_col5\" class=\"data row12 col5\" >93</td>\n",
       "      <td id=\"T_44d9f_row12_col6\" class=\"data row12 col6\" >137</td>\n",
       "      <td id=\"T_44d9f_row12_col7\" class=\"data row12 col7\" >105</td>\n",
       "      <td id=\"T_44d9f_row12_col8\" class=\"data row12 col8\" >5</td>\n",
       "      <td id=\"T_44d9f_row12_col9\" class=\"data row12 col9\" >3</td>\n",
       "      <td id=\"T_44d9f_row12_col10\" class=\"data row12 col10\" >4</td>\n",
       "      <td id=\"T_44d9f_row12_col11\" class=\"data row12 col11\" >1</td>\n",
       "      <td id=\"T_44d9f_row12_col12\" class=\"data row12 col12\" >16</td>\n",
       "      <td id=\"T_44d9f_row12_col13\" class=\"data row12 col13\" >2</td>\n",
       "      <td id=\"T_44d9f_row12_col14\" class=\"data row12 col14\" >6</td>\n",
       "    </tr>\n",
       "    <tr>\n",
       "      <td id=\"T_44d9f_row13_col0\" class=\"data row13 col0\" >2013</td>\n",
       "      <td id=\"T_44d9f_row13_col1\" class=\"data row13 col1\" >93</td>\n",
       "      <td id=\"T_44d9f_row13_col2\" class=\"data row13 col2\" >415</td>\n",
       "      <td id=\"T_44d9f_row13_col3\" class=\"data row13 col3\" >186</td>\n",
       "      <td id=\"T_44d9f_row13_col4\" class=\"data row13 col4\" >90</td>\n",
       "      <td id=\"T_44d9f_row13_col5\" class=\"data row13 col5\" >89</td>\n",
       "      <td id=\"T_44d9f_row13_col6\" class=\"data row13 col6\" >226</td>\n",
       "      <td id=\"T_44d9f_row13_col7\" class=\"data row13 col7\" >132</td>\n",
       "      <td id=\"T_44d9f_row13_col8\" class=\"data row13 col8\" >18</td>\n",
       "      <td id=\"T_44d9f_row13_col9\" class=\"data row13 col9\" >16</td>\n",
       "      <td id=\"T_44d9f_row13_col10\" class=\"data row13 col10\" >22</td>\n",
       "      <td id=\"T_44d9f_row13_col11\" class=\"data row13 col11\" >8</td>\n",
       "      <td id=\"T_44d9f_row13_col12\" class=\"data row13 col12\" >17</td>\n",
       "      <td id=\"T_44d9f_row13_col13\" class=\"data row13 col13\" >17</td>\n",
       "      <td id=\"T_44d9f_row13_col14\" class=\"data row13 col14\" >27</td>\n",
       "    </tr>\n",
       "    <tr>\n",
       "      <td id=\"T_44d9f_row14_col0\" class=\"data row14 col0\" >2014</td>\n",
       "      <td id=\"T_44d9f_row14_col1\" class=\"data row14 col1\" >84</td>\n",
       "      <td id=\"T_44d9f_row14_col2\" class=\"data row14 col2\" >128</td>\n",
       "      <td id=\"T_44d9f_row14_col3\" class=\"data row14 col3\" >170</td>\n",
       "      <td id=\"T_44d9f_row14_col4\" class=\"data row14 col4\" >59</td>\n",
       "      <td id=\"T_44d9f_row14_col5\" class=\"data row14 col5\" >123</td>\n",
       "      <td id=\"T_44d9f_row14_col6\" class=\"data row14 col6\" >198</td>\n",
       "      <td id=\"T_44d9f_row14_col7\" class=\"data row14 col7\" >119</td>\n",
       "      <td id=\"T_44d9f_row14_col8\" class=\"data row14 col8\" >2</td>\n",
       "      <td id=\"T_44d9f_row14_col9\" class=\"data row14 col9\" >5</td>\n",
       "      <td id=\"T_44d9f_row14_col10\" class=\"data row14 col10\" >3</td>\n",
       "      <td id=\"T_44d9f_row14_col11\" class=\"data row14 col11\" >3</td>\n",
       "      <td id=\"T_44d9f_row14_col12\" class=\"data row14 col12\" >11</td>\n",
       "      <td id=\"T_44d9f_row14_col13\" class=\"data row14 col13\" >10</td>\n",
       "      <td id=\"T_44d9f_row14_col14\" class=\"data row14 col14\" >14</td>\n",
       "    </tr>\n",
       "    <tr>\n",
       "      <td id=\"T_44d9f_row15_col0\" class=\"data row15 col0\" >2015</td>\n",
       "      <td id=\"T_44d9f_row15_col1\" class=\"data row15 col1\" >99</td>\n",
       "      <td id=\"T_44d9f_row15_col2\" class=\"data row15 col2\" >176</td>\n",
       "      <td id=\"T_44d9f_row15_col3\" class=\"data row15 col3\" >185</td>\n",
       "      <td id=\"T_44d9f_row15_col4\" class=\"data row15 col4\" >75</td>\n",
       "      <td id=\"T_44d9f_row15_col5\" class=\"data row15 col5\" >209</td>\n",
       "      <td id=\"T_44d9f_row15_col6\" class=\"data row15 col6\" >192</td>\n",
       "      <td id=\"T_44d9f_row15_col7\" class=\"data row15 col7\" >287</td>\n",
       "      <td id=\"T_44d9f_row15_col8\" class=\"data row15 col8\" >4</td>\n",
       "      <td id=\"T_44d9f_row15_col9\" class=\"data row15 col9\" >6</td>\n",
       "      <td id=\"T_44d9f_row15_col10\" class=\"data row15 col10\" >9</td>\n",
       "      <td id=\"T_44d9f_row15_col11\" class=\"data row15 col11\" >5</td>\n",
       "      <td id=\"T_44d9f_row15_col12\" class=\"data row15 col12\" >5</td>\n",
       "      <td id=\"T_44d9f_row15_col13\" class=\"data row15 col13\" >28</td>\n",
       "      <td id=\"T_44d9f_row15_col14\" class=\"data row15 col14\" >9</td>\n",
       "    </tr>\n",
       "    <tr>\n",
       "      <td id=\"T_44d9f_row16_col0\" class=\"data row16 col0\" >2016</td>\n",
       "      <td id=\"T_44d9f_row16_col1\" class=\"data row16 col1\" >149</td>\n",
       "      <td id=\"T_44d9f_row16_col2\" class=\"data row16 col2\" >87</td>\n",
       "      <td id=\"T_44d9f_row16_col3\" class=\"data row16 col3\" >151</td>\n",
       "      <td id=\"T_44d9f_row16_col4\" class=\"data row16 col4\" >73</td>\n",
       "      <td id=\"T_44d9f_row16_col5\" class=\"data row16 col5\" >71</td>\n",
       "      <td id=\"T_44d9f_row16_col6\" class=\"data row16 col6\" >109</td>\n",
       "      <td id=\"T_44d9f_row16_col7\" class=\"data row16 col7\" >87</td>\n",
       "      <td id=\"T_44d9f_row16_col8\" class=\"data row16 col8\" >3</td>\n",
       "      <td id=\"T_44d9f_row16_col9\" class=\"data row16 col9\" >5</td>\n",
       "      <td id=\"T_44d9f_row16_col10\" class=\"data row16 col10\" >7</td>\n",
       "      <td id=\"T_44d9f_row16_col11\" class=\"data row16 col11\" >3</td>\n",
       "      <td id=\"T_44d9f_row16_col12\" class=\"data row16 col12\" >6</td>\n",
       "      <td id=\"T_44d9f_row16_col13\" class=\"data row16 col13\" >5</td>\n",
       "      <td id=\"T_44d9f_row16_col14\" class=\"data row16 col14\" >7</td>\n",
       "    </tr>\n",
       "  </tbody>\n",
       "</table>\n"
      ],
      "text/plain": [
       "<pandas.io.formats.style.Styler at 0x127b1eaf0>"
      ]
     },
     "execution_count": 6,
     "metadata": {},
     "output_type": "execute_result"
    }
   ],
   "source": [
    "df_table = pd.merge(df_miri,df_melaka, on='Year')\n",
    "df_table.rename(columns={'Air Pollution Index (Max.)_x':'Miri (Max.)',\n",
    "                         'Air Pollution Index (Min.)_x':'Miri (Min.)',\n",
    "                         'Air Pollution Index (Max.)_y':'Melaka (Max.)',\n",
    "                         'Air Pollution Index (Min.)_y':'Melaka (Min.)'},inplace=True)\n",
    "df_table = pd.merge(df_table,df_cheras, on='Year')\n",
    "df_table.rename(columns={'Air Pollution Index (Max.)':'Cheras (Max.)',\n",
    "                         'Air Pollution Index (Min.)':'Cheras (Min.)'},inplace=True)\n",
    "df_table = pd.merge(df_table,df_kinabalu, on='Year')\n",
    "df_table.rename(columns={'Air Pollution Index (Max.)':'K.Kinabalu (Max.)',\n",
    "                         'Air Pollution Index (Min.)':'K.Kinabalu (Min.)'},inplace=True)\n",
    "df_table = pd.merge(df_table,df_kuching, on='Year')\n",
    "df_table.rename(columns={'Air Pollution Index (Max.)':'Kuching (Max.)',\n",
    "                         'Air Pollution Index (Min.)':'Kuching (Min.)'},inplace=True)\n",
    "df_table = pd.merge(df_table,df_larkin, on='Year')\n",
    "df_table.rename(columns={'Air Pollution Index (Max.)':'Larkin (Max.)',\n",
    "                         'Air Pollution Index (Min.)':'Larkin (Min.)'},inplace=True)\n",
    "df_table = pd.merge(df_table,df_jaya, on='Year')\n",
    "df_table.rename(columns={'Air Pollution Index (Max.)':'S.Jaya (Max.)',\n",
    "                         'Air Pollution Index (Min.)':'S.Jaya (Min.)'},inplace=True)\n",
    "df_table = df_table[['Year','Miri (Max.)','Melaka (Max.)','Cheras (Max.)','K.Kinabalu (Max.)','Kuching (Max.)',\n",
    "                     'Larkin (Max.)','S.Jaya (Max.)',\n",
    "                     'Miri (Min.)','Melaka (Min.)','Cheras (Min.)','K.Kinabalu (Min.)','Kuching (Min.)',\n",
    "                     'Larkin (Min.)','S.Jaya (Min.)']]\n",
    "def highlight_max(s):\n",
    "    '''\n",
    "    highlight the maximum in a Series Salmon.\n",
    "    '''\n",
    "    is_max = s == s.max()\n",
    "    return ['background-color: yellow' if v else '' for v in is_max]\n",
    "\n",
    "df_table.style.set_caption(\"Malaysia Air Pollution Index From 2000 to 2016 (Min. & Max.)\").set_table_styles([{\n",
    "    'selector': 'caption',\n",
    "    'props': [\n",
    "        ('color', 'black'),\n",
    "        ('font-size', '20px'),\n",
    "        (\"text-align\", \"center\"),\n",
    "        ('text-decoration', 'underline'),\n",
    "        ('font-family','Arial'),\n",
    "        ('text-shadow', '2px 2px 5px grey')\n",
    "    ]},(dict\n",
    "        (selector='th',props=[('text-align',\n",
    "                               'center')]))]\n",
    ").set_properties(subset=['Year'],**{'text-align': 'center'}).hide_index().apply(\n",
    "    highlight_max,subset=['Miri (Max.)','Melaka (Max.)','Cheras (Max.)','K.Kinabalu (Max.)','Kuching (Max.)',\n",
    "                          'Larkin (Max.)','S.Jaya (Max.)','Miri (Min.)','Melaka (Min.)','Cheras (Min.)',\n",
    "                          'K.Kinabalu (Min.)','Kuching (Min.)','Larkin (Min.)','S.Jaya (Min.)'])"
   ]
  },
  {
   "cell_type": "code",
   "execution_count": 7,
   "id": "715b21fa",
   "metadata": {},
   "outputs": [
    {
     "name": "stdout",
     "output_type": "stream",
     "text": [
      "<class 'pandas.core.frame.DataFrame'>\n",
      "Int64Index: 17 entries, 0 to 112\n",
      "Data columns (total 3 columns):\n",
      " #   Column                      Non-Null Count  Dtype \n",
      "---  ------                      --------------  ----- \n",
      " 0   Year                        17 non-null     int64 \n",
      " 1   Air Pollution Index (Max.)  17 non-null     object\n",
      " 2   Air Pollution Index (Min.)  17 non-null     object\n",
      "dtypes: int64(1), object(2)\n",
      "memory usage: 544.0+ bytes\n"
     ]
    }
   ],
   "source": [
    "df_miri.info()"
   ]
  },
  {
   "cell_type": "code",
   "execution_count": null,
   "id": "bfa7a138",
   "metadata": {},
   "outputs": [],
   "source": []
  }
 ],
 "metadata": {
  "kernelspec": {
   "display_name": "Python 3 (ipykernel)",
   "language": "python",
   "name": "python3"
  },
  "language_info": {
   "codemirror_mode": {
    "name": "ipython",
    "version": 3
   },
   "file_extension": ".py",
   "mimetype": "text/x-python",
   "name": "python",
   "nbconvert_exporter": "python",
   "pygments_lexer": "ipython3",
   "version": "3.9.7"
  }
 },
 "nbformat": 4,
 "nbformat_minor": 5
}
