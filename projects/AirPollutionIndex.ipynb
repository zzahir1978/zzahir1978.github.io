{
 "cells": [
  {
   "cell_type": "markdown",
   "id": "a938ff15",
   "metadata": {},
   "source": [
    "<h1 style=\"color:black; font-size:50px; font-family:Impact, Charcoal, sans-serif; \n",
    "           text-align:center;\">Malaysia Air Pollution Index Reading From Year 2000 to 2017</h1>\n",
    "<h3>Prepared By: <a href='https://zzahir1978.github.io'>Zahiruddin Zahidanishah</a></h3>"
   ]
  },
  {
   "cell_type": "code",
   "execution_count": 1,
   "id": "3def1013",
   "metadata": {},
   "outputs": [
    {
     "data": {
      "text/html": [
       "        <script type=\"text/javascript\">\n",
       "        window.PlotlyConfig = {MathJaxConfig: 'local'};\n",
       "        if (window.MathJax) {MathJax.Hub.Config({SVG: {font: \"STIX-Web\"}});}\n",
       "        if (typeof require !== 'undefined') {\n",
       "        require.undef(\"plotly\");\n",
       "        requirejs.config({\n",
       "            paths: {\n",
       "                'plotly': ['https://cdn.plot.ly/plotly-2.11.1.min']\n",
       "            }\n",
       "        });\n",
       "        require(['plotly'], function(Plotly) {\n",
       "            window._Plotly = Plotly;\n",
       "        });\n",
       "        }\n",
       "        </script>\n",
       "        "
      ]
     },
     "metadata": {},
     "output_type": "display_data"
    },
    {
     "data": {
      "text/html": [
       "        <script type=\"text/javascript\">\n",
       "        window.PlotlyConfig = {MathJaxConfig: 'local'};\n",
       "        if (window.MathJax) {MathJax.Hub.Config({SVG: {font: \"STIX-Web\"}});}\n",
       "        if (typeof require !== 'undefined') {\n",
       "        require.undef(\"plotly\");\n",
       "        requirejs.config({\n",
       "            paths: {\n",
       "                'plotly': ['https://cdn.plot.ly/plotly-2.11.1.min']\n",
       "            }\n",
       "        });\n",
       "        require(['plotly'], function(Plotly) {\n",
       "            window._Plotly = Plotly;\n",
       "        });\n",
       "        }\n",
       "        </script>\n",
       "        "
      ]
     },
     "metadata": {},
     "output_type": "display_data"
    }
   ],
   "source": [
    "import pandas as pd\n",
    "import numpy as np\n",
    "import matplotlib.pyplot as plt\n",
    "import plotly.graph_objects as go\n",
    "import plotly.express as px\n",
    "from plotly.subplots import make_subplots\n",
    "import dataframe_image as dfi\n",
    "import adjustText as aT\n",
    "from jupyterthemes import jtplot\n",
    "#import requests\n",
    "import cufflinks as cf\n",
    "#from bs4 import BeautifulSoup as bs\n",
    "jtplot.style(theme='monokai', context='notebook', ticks=True, grid=False) \n",
    "import warnings\n",
    "warnings.filterwarnings('ignore')\n",
    "%matplotlib inline\n",
    "\n",
    "from plotly.offline import download_plotlyjs, init_notebook_mode, plot, iplot \n",
    "init_notebook_mode(connected=True)\n",
    "cf.go_offline()\n",
    "\n",
    "from IPython.display import display_html\n",
    "def display_side_by_side(*args):\n",
    "    html_str=''\n",
    "    for df in args:\n",
    "        html_str+=df.to_html()\n",
    "    display_html(html_str.replace('table','table style=\"display:inline\"'),raw=True)"
   ]
  },
  {
   "cell_type": "code",
   "execution_count": 2,
   "id": "d31a27eb",
   "metadata": {},
   "outputs": [],
   "source": [
    "df = pd.read_csv('Annual minimum and maximum air pollutant index for selected stations, Malaysia, 2000 - 2017.csv')\n",
    "df = df[df.Year != 2017]\n",
    "df['Air Pollution Index (Max.)'] = pd.to_numeric(df['Air Pollution Index (Max.)'])\n",
    "df['Air Pollution Index (Min.)'] = pd.to_numeric(df['Air Pollution Index (Min.)'])\n",
    "#df['Air Pollution Index (Max.)'] = df['Air Pollution Index (Max.)'].astype(float, errors = 'raise')\n",
    "#df['Air Pollution Index (Min.)'] = df['Air Pollution Index (Min.)'].astype(float, errors = 'raise')"
   ]
  },
  {
   "cell_type": "code",
   "execution_count": 3,
   "id": "6eded135",
   "metadata": {},
   "outputs": [
    {
     "data": {
      "text/html": [
       "<div>\n",
       "<style scoped>\n",
       "    .dataframe tbody tr th:only-of-type {\n",
       "        vertical-align: middle;\n",
       "    }\n",
       "\n",
       "    .dataframe tbody tr th {\n",
       "        vertical-align: top;\n",
       "    }\n",
       "\n",
       "    .dataframe thead th {\n",
       "        text-align: right;\n",
       "    }\n",
       "</style>\n",
       "<table border=\"1\" class=\"dataframe\">\n",
       "  <thead>\n",
       "    <tr style=\"text-align: right;\">\n",
       "      <th></th>\n",
       "      <th>Year</th>\n",
       "      <th>Stations</th>\n",
       "      <th>Air Pollution Index (Max.)</th>\n",
       "      <th>Air Pollution Index (Min.)</th>\n",
       "    </tr>\n",
       "  </thead>\n",
       "  <tbody>\n",
       "    <tr>\n",
       "      <th>0</th>\n",
       "      <td>2000</td>\n",
       "      <td>Miri</td>\n",
       "      <td>79</td>\n",
       "      <td>3</td>\n",
       "    </tr>\n",
       "    <tr>\n",
       "      <th>1</th>\n",
       "      <td>2000</td>\n",
       "      <td>Bandaraya Melaka</td>\n",
       "      <td>122</td>\n",
       "      <td>4</td>\n",
       "    </tr>\n",
       "    <tr>\n",
       "      <th>2</th>\n",
       "      <td>2000</td>\n",
       "      <td>Cheras Kuala Lumpur</td>\n",
       "      <td>141</td>\n",
       "      <td>13</td>\n",
       "    </tr>\n",
       "    <tr>\n",
       "      <th>3</th>\n",
       "      <td>2000</td>\n",
       "      <td>Kota  Kinabalu</td>\n",
       "      <td>70</td>\n",
       "      <td>1</td>\n",
       "    </tr>\n",
       "    <tr>\n",
       "      <th>4</th>\n",
       "      <td>2000</td>\n",
       "      <td>Kuching</td>\n",
       "      <td>84</td>\n",
       "      <td>1</td>\n",
       "    </tr>\n",
       "    <tr>\n",
       "      <th>...</th>\n",
       "      <td>...</td>\n",
       "      <td>...</td>\n",
       "      <td>...</td>\n",
       "      <td>...</td>\n",
       "    </tr>\n",
       "    <tr>\n",
       "      <th>114</th>\n",
       "      <td>2016</td>\n",
       "      <td>Cheras Kuala Lumpur</td>\n",
       "      <td>151</td>\n",
       "      <td>7</td>\n",
       "    </tr>\n",
       "    <tr>\n",
       "      <th>115</th>\n",
       "      <td>2016</td>\n",
       "      <td>Kota  Kinabalu</td>\n",
       "      <td>73</td>\n",
       "      <td>3</td>\n",
       "    </tr>\n",
       "    <tr>\n",
       "      <th>116</th>\n",
       "      <td>2016</td>\n",
       "      <td>Kuching</td>\n",
       "      <td>71</td>\n",
       "      <td>6</td>\n",
       "    </tr>\n",
       "    <tr>\n",
       "      <th>117</th>\n",
       "      <td>2016</td>\n",
       "      <td>Larkin Johor Bahru</td>\n",
       "      <td>109</td>\n",
       "      <td>5</td>\n",
       "    </tr>\n",
       "    <tr>\n",
       "      <th>118</th>\n",
       "      <td>2016</td>\n",
       "      <td>Seberang Jaya</td>\n",
       "      <td>87</td>\n",
       "      <td>7</td>\n",
       "    </tr>\n",
       "  </tbody>\n",
       "</table>\n",
       "<p>119 rows × 4 columns</p>\n",
       "</div>"
      ],
      "text/plain": [
       "     Year              Stations  Air Pollution Index (Max.)  \\\n",
       "0    2000                  Miri                          79   \n",
       "1    2000      Bandaraya Melaka                         122   \n",
       "2    2000  Cheras Kuala Lumpur                          141   \n",
       "3    2000       Kota  Kinabalu                           70   \n",
       "4    2000              Kuching                           84   \n",
       "..    ...                   ...                         ...   \n",
       "114  2016  Cheras Kuala Lumpur                          151   \n",
       "115  2016       Kota  Kinabalu                           73   \n",
       "116  2016              Kuching                           71   \n",
       "117  2016   Larkin Johor Bahru                          109   \n",
       "118  2016         Seberang Jaya                          87   \n",
       "\n",
       "     Air Pollution Index (Min.)  \n",
       "0                             3  \n",
       "1                             4  \n",
       "2                            13  \n",
       "3                             1  \n",
       "4                             1  \n",
       "..                          ...  \n",
       "114                           7  \n",
       "115                           3  \n",
       "116                           6  \n",
       "117                           5  \n",
       "118                           7  \n",
       "\n",
       "[119 rows x 4 columns]"
      ]
     },
     "execution_count": 3,
     "metadata": {},
     "output_type": "execute_result"
    }
   ],
   "source": [
    "df"
   ]
  },
  {
   "cell_type": "code",
   "execution_count": 4,
   "id": "c95ceca8",
   "metadata": {},
   "outputs": [],
   "source": [
    "df_2000 = df[df.Year == 2000]\n",
    "df_2001 = df[df.Year == 2001]\n",
    "df_2002 = df[df.Year == 2002]\n",
    "df_2003 = df[df.Year == 2003]\n",
    "df_2004 = df[df.Year == 2004]\n",
    "df_2005 = df[df.Year == 2005]\n",
    "df_2006 = df[df.Year == 2006]\n",
    "df_2007 = df[df.Year == 2007]\n",
    "df_2008 = df[df.Year == 2008]\n",
    "df_2009 = df[df.Year == 2009]\n",
    "df_2010 = df[df.Year == 2010]\n",
    "df_2011 = df[df.Year == 2011]\n",
    "df_2012 = df[df.Year == 2012]\n",
    "df_2013 = df[df.Year == 2013]\n",
    "df_2014 = df[df.Year == 2014]\n",
    "df_2015 = df[df.Year == 2015]\n",
    "df_2016 = df[df.Year == 2016]"
   ]
  },
  {
   "cell_type": "code",
   "execution_count": 5,
   "id": "4a6dd4c5",
   "metadata": {},
   "outputs": [],
   "source": [
    "df_miri = df[df.Stations == 'Miri']\n",
    "df_miri['API Diff.'] = df_miri['Air Pollution Index (Max.)'] - df_miri['Air Pollution Index (Min.)']\n",
    "df_miri = df_miri[['Year','Air Pollution Index (Max.)','Air Pollution Index (Min.)',\n",
    "                  'API Diff.']]\n",
    "df_melaka = df[df.Stations == 'Bandaraya Melaka']\n",
    "df_melaka['API Diff.'] = df_melaka['Air Pollution Index (Max.)'] - df_melaka['Air Pollution Index (Min.)']\n",
    "df_melaka = df_melaka[['Year','Air Pollution Index (Max.)','Air Pollution Index (Min.)',\n",
    "                  'API Diff.']]\n",
    "df_cheras = df[df.Stations == 'Cheras Kuala Lumpur ']\n",
    "df_cheras['API Diff.'] = df_cheras['Air Pollution Index (Max.)'] - df_cheras['Air Pollution Index (Min.)']\n",
    "df_cheras = df_cheras[['Year','Air Pollution Index (Max.)','Air Pollution Index (Min.)',\n",
    "                  'API Diff.']]\n",
    "df_kinabalu = df[df.Stations == 'Kota  Kinabalu ']\n",
    "df_kinabalu['API Diff.'] = df_kinabalu['Air Pollution Index (Max.)'] - df_kinabalu['Air Pollution Index (Min.)']\n",
    "df_kinabalu = df_kinabalu[['Year','Air Pollution Index (Max.)','Air Pollution Index (Min.)',\n",
    "                  'API Diff.']]\n",
    "df_kuching = df[df.Stations == 'Kuching ']\n",
    "df_kuching['API Diff.'] = df_kuching['Air Pollution Index (Max.)'] - df_kuching['Air Pollution Index (Min.)']\n",
    "df_kuching = df_kuching[['Year','Air Pollution Index (Max.)','Air Pollution Index (Min.)',\n",
    "                  'API Diff.']]\n",
    "df_larkin = df[df.Stations == 'Larkin Johor Bahru ']\n",
    "df_larkin['API Diff.'] = df_larkin['Air Pollution Index (Max.)'] - df_larkin['Air Pollution Index (Min.)']\n",
    "df_larkin = df_larkin[['Year','Air Pollution Index (Max.)','Air Pollution Index (Min.)',\n",
    "                  'API Diff.']]\n",
    "df_jaya = df[df.Stations == 'Seberang Jaya']\n",
    "df_jaya['API Diff.'] = df_jaya['Air Pollution Index (Max.)'] - df_jaya['Air Pollution Index (Min.)']\n",
    "df_jaya = df_jaya[['Year','Air Pollution Index (Max.)','Air Pollution Index (Min.)',\n",
    "                  'API Diff.']]"
   ]
  },
  {
   "cell_type": "code",
   "execution_count": 6,
   "id": "8045106c",
   "metadata": {},
   "outputs": [
    {
     "data": {
      "application/vnd.plotly.v1+json": {
       "config": {
        "plotlyServerURL": "https://plot.ly"
       },
       "data": [
        {
         "fill": "tozeroy",
         "line": {
          "color": "blue",
          "width": 1
         },
         "mode": "lines",
         "name": "Air Pollution Index (Max.)",
         "type": "scatter",
         "x": [
          2000,
          2001,
          2002,
          2003,
          2004,
          2005,
          2006,
          2007,
          2008,
          2009,
          2010,
          2011,
          2012,
          2013,
          2014,
          2015,
          2016
         ],
         "xaxis": "x",
         "y": [
          79,
          84,
          126,
          86,
          77,
          133,
          104,
          73,
          76,
          179,
          89,
          96,
          97,
          93,
          84,
          99,
          149
         ],
         "yaxis": "y2"
        },
        {
         "fill": "tozeroy",
         "line": {
          "color": "blue",
          "width": 1
         },
         "mode": "lines",
         "name": "Air Pollution Index (Max.)",
         "type": "scatter",
         "x": [
          2000,
          2001,
          2002,
          2003,
          2004,
          2005,
          2006,
          2007,
          2008,
          2009,
          2010,
          2011,
          2012,
          2013,
          2014,
          2015,
          2016
         ],
         "xaxis": "x",
         "y": [
          3,
          2,
          5,
          3,
          2,
          2,
          1,
          6,
          6,
          6,
          17,
          4,
          5,
          18,
          2,
          4,
          3
         ],
         "yaxis": "y2"
        },
        {
         "fill": "tozeroy",
         "line": {
          "color": "blue",
          "width": 1
         },
         "mode": "lines",
         "name": "Air Pollution Index (Max.)",
         "type": "scatter",
         "x": [
          2000,
          2001,
          2002,
          2003,
          2004,
          2005,
          2006,
          2007,
          2008,
          2009,
          2010,
          2011,
          2012,
          2013,
          2014,
          2015,
          2016
         ],
         "xaxis": "x2",
         "y": [
          79,
          84,
          126,
          86,
          77,
          133,
          104,
          73,
          76,
          179,
          89,
          96,
          97,
          93,
          84,
          99,
          149
         ],
         "yaxis": "y4"
        },
        {
         "fill": "tozeroy",
         "line": {
          "color": "blue",
          "width": 1
         },
         "mode": "lines",
         "name": "Air Pollution Index (Min.)",
         "type": "scatter",
         "x": [
          2000,
          2001,
          2002,
          2003,
          2004,
          2005,
          2006,
          2007,
          2008,
          2009,
          2010,
          2011,
          2012,
          2013,
          2014,
          2015,
          2016
         ],
         "xaxis": "x3",
         "y": [
          3,
          2,
          5,
          3,
          2,
          2,
          1,
          6,
          6,
          6,
          17,
          4,
          5,
          18,
          2,
          4,
          3
         ],
         "yaxis": "y6"
        },
        {
         "fill": "tozeroy",
         "line": {
          "color": "blue",
          "width": 1
         },
         "mode": "lines",
         "name": "Air Pollution Index (Max.)",
         "type": "scatter",
         "x": [
          2000,
          2001,
          2002,
          2003,
          2004,
          2005,
          2006,
          2007,
          2008,
          2009,
          2010,
          2011,
          2012,
          2013,
          2014,
          2015,
          2016
         ],
         "xaxis": "x4",
         "y": [
          122,
          127,
          105,
          114,
          147,
          114,
          153,
          92,
          80,
          137,
          139,
          97,
          83,
          415,
          128,
          176,
          87
         ],
         "yaxis": "y8"
        },
        {
         "fill": "tozeroy",
         "line": {
          "color": "blue",
          "width": 1
         },
         "mode": "lines",
         "name": "Air Pollution Index (Max.)",
         "type": "scatter",
         "x": [
          2000,
          2001,
          2002,
          2003,
          2004,
          2005,
          2006,
          2007,
          2008,
          2009,
          2010,
          2011,
          2012,
          2013,
          2014,
          2015,
          2016
         ],
         "xaxis": "x4",
         "y": [
          4,
          3,
          5,
          6,
          5,
          2,
          5,
          4,
          3,
          4,
          22,
          12,
          3,
          16,
          5,
          6,
          5
         ],
         "yaxis": "y8"
        },
        {
         "fill": "tozeroy",
         "line": {
          "color": "blue",
          "width": 1
         },
         "mode": "lines",
         "name": "Air Pollution Index (Max.)",
         "type": "scatter",
         "x": [
          2000,
          2001,
          2002,
          2003,
          2004,
          2005,
          2006,
          2007,
          2008,
          2009,
          2010,
          2011,
          2012,
          2013,
          2014,
          2015,
          2016
         ],
         "xaxis": "x5",
         "y": [
          122,
          127,
          105,
          114,
          147,
          114,
          153,
          92,
          80,
          137,
          139,
          97,
          83,
          415,
          128,
          176,
          87
         ],
         "yaxis": "y10"
        },
        {
         "fill": "tozeroy",
         "line": {
          "color": "blue",
          "width": 1
         },
         "mode": "lines",
         "name": "Air Pollution Index (Min.)",
         "type": "scatter",
         "x": [
          2000,
          2001,
          2002,
          2003,
          2004,
          2005,
          2006,
          2007,
          2008,
          2009,
          2010,
          2011,
          2012,
          2013,
          2014,
          2015,
          2016
         ],
         "xaxis": "x6",
         "y": [
          4,
          3,
          5,
          6,
          5,
          2,
          5,
          4,
          3,
          4,
          22,
          12,
          3,
          16,
          5,
          6,
          5
         ],
         "yaxis": "y12"
        },
        {
         "fill": "tozeroy",
         "line": {
          "color": "blue",
          "width": 1
         },
         "mode": "lines",
         "name": "Air Pollution Index (Max.)",
         "type": "scatter",
         "x": [
          2000,
          2001,
          2002,
          2003,
          2004,
          2005,
          2006,
          2007,
          2008,
          2009,
          2010,
          2011,
          2012,
          2013,
          2014,
          2015,
          2016
         ],
         "xaxis": "x7",
         "y": [
          141,
          157,
          153,
          143,
          97,
          390,
          162,
          131,
          135,
          168,
          169,
          150,
          155,
          186,
          170,
          185,
          151
         ],
         "yaxis": "y14"
        },
        {
         "fill": "tozeroy",
         "line": {
          "color": "blue",
          "width": 1
         },
         "mode": "lines",
         "name": "Air Pollution Index (Max.)",
         "type": "scatter",
         "x": [
          2000,
          2001,
          2002,
          2003,
          2004,
          2005,
          2006,
          2007,
          2008,
          2009,
          2010,
          2011,
          2012,
          2013,
          2014,
          2015,
          2016
         ],
         "xaxis": "x7",
         "y": [
          13,
          16,
          11,
          11,
          32,
          5,
          5,
          4,
          8,
          4,
          26,
          11,
          4,
          22,
          3,
          9,
          7
         ],
         "yaxis": "y14"
        },
        {
         "fill": "tozeroy",
         "line": {
          "color": "blue",
          "width": 1
         },
         "mode": "lines",
         "name": "Air Pollution Index (Max.)",
         "type": "scatter",
         "x": [
          2000,
          2001,
          2002,
          2003,
          2004,
          2005,
          2006,
          2007,
          2008,
          2009,
          2010,
          2011,
          2012,
          2013,
          2014,
          2015,
          2016
         ],
         "xaxis": "x8",
         "y": [
          141,
          157,
          153,
          143,
          97,
          390,
          162,
          131,
          135,
          168,
          169,
          150,
          155,
          186,
          170,
          185,
          151
         ],
         "yaxis": "y16"
        },
        {
         "fill": "tozeroy",
         "line": {
          "color": "blue",
          "width": 1
         },
         "mode": "lines",
         "name": "Air Pollution Index (Min.)",
         "type": "scatter",
         "x": [
          2000,
          2001,
          2002,
          2003,
          2004,
          2005,
          2006,
          2007,
          2008,
          2009,
          2010,
          2011,
          2012,
          2013,
          2014,
          2015,
          2016
         ],
         "xaxis": "x9",
         "y": [
          13,
          16,
          11,
          11,
          32,
          5,
          5,
          4,
          8,
          4,
          26,
          11,
          4,
          22,
          3,
          9,
          7
         ],
         "yaxis": "y18"
        },
        {
         "fill": "tozeroy",
         "line": {
          "color": "blue",
          "width": 1
         },
         "mode": "lines",
         "name": "Air Pollution Index (Max.)",
         "type": "scatter",
         "x": [
          2000,
          2001,
          2002,
          2003,
          2004,
          2005,
          2006,
          2007,
          2008,
          2009,
          2010,
          2011,
          2012,
          2013,
          2014,
          2015,
          2016
         ],
         "xaxis": "x10",
         "y": [
          70,
          80,
          88,
          76,
          62,
          63,
          86,
          64,
          55,
          78,
          68,
          61,
          61,
          90,
          59,
          75,
          73
         ],
         "yaxis": "y20"
        },
        {
         "fill": "tozeroy",
         "line": {
          "color": "blue",
          "width": 1
         },
         "mode": "lines",
         "name": "Air Pollution Index (Max.)",
         "type": "scatter",
         "x": [
          2000,
          2001,
          2002,
          2003,
          2004,
          2005,
          2006,
          2007,
          2008,
          2009,
          2010,
          2011,
          2012,
          2013,
          2014,
          2015,
          2016
         ],
         "xaxis": "x10",
         "y": [
          1,
          1,
          8,
          2,
          1,
          2,
          2,
          3,
          1,
          1,
          10,
          2,
          1,
          8,
          3,
          5,
          3
         ],
         "yaxis": "y20"
        },
        {
         "fill": "tozeroy",
         "line": {
          "color": "blue",
          "width": 1
         },
         "mode": "lines",
         "name": "Air Pollution Index (Max.)",
         "type": "scatter",
         "x": [
          2000,
          2001,
          2002,
          2003,
          2004,
          2005,
          2006,
          2007,
          2008,
          2009,
          2010,
          2011,
          2012,
          2013,
          2014,
          2015,
          2016
         ],
         "xaxis": "x11",
         "y": [
          70,
          80,
          88,
          76,
          62,
          63,
          86,
          64,
          55,
          78,
          68,
          61,
          61,
          90,
          59,
          75,
          73
         ],
         "yaxis": "y22"
        },
        {
         "fill": "tozeroy",
         "line": {
          "color": "blue",
          "width": 1
         },
         "mode": "lines",
         "name": "Air Pollution Index (Min.)",
         "type": "scatter",
         "x": [
          2000,
          2001,
          2002,
          2003,
          2004,
          2005,
          2006,
          2007,
          2008,
          2009,
          2010,
          2011,
          2012,
          2013,
          2014,
          2015,
          2016
         ],
         "xaxis": "x12",
         "y": [
          1,
          1,
          8,
          2,
          1,
          2,
          2,
          3,
          1,
          1,
          10,
          2,
          1,
          8,
          3,
          5,
          3
         ],
         "yaxis": "y24"
        },
        {
         "fill": "tozeroy",
         "line": {
          "color": "blue",
          "width": 1
         },
         "mode": "lines",
         "name": "Air Pollution Index (Max.)",
         "type": "scatter",
         "x": [
          2000,
          2001,
          2002,
          2003,
          2004,
          2005,
          2006,
          2007,
          2008,
          2009,
          2010,
          2011,
          2012,
          2013,
          2014,
          2015,
          2016
         ],
         "xaxis": "x13",
         "y": [
          84,
          84,
          130,
          85,
          97,
          78,
          188,
          75,
          72,
          114,
          54,
          100,
          93,
          89,
          123,
          209,
          71
         ],
         "yaxis": "y26"
        },
        {
         "fill": "tozeroy",
         "line": {
          "color": "blue",
          "width": 1
         },
         "mode": "lines",
         "name": "Air Pollution Index (Max.)",
         "type": "scatter",
         "x": [
          2000,
          2001,
          2002,
          2003,
          2004,
          2005,
          2006,
          2007,
          2008,
          2009,
          2010,
          2011,
          2012,
          2013,
          2014,
          2015,
          2016
         ],
         "xaxis": "x13",
         "y": [
          1,
          1,
          1,
          6,
          17,
          23,
          5,
          6,
          5,
          10,
          16,
          4,
          16,
          17,
          11,
          5,
          6
         ],
         "yaxis": "y26"
        },
        {
         "fill": "tozeroy",
         "line": {
          "color": "blue",
          "width": 1
         },
         "mode": "lines",
         "name": "Air Pollution Index (Max.)",
         "type": "scatter",
         "x": [
          2000,
          2001,
          2002,
          2003,
          2004,
          2005,
          2006,
          2007,
          2008,
          2009,
          2010,
          2011,
          2012,
          2013,
          2014,
          2015,
          2016
         ],
         "xaxis": "x14",
         "y": [
          84,
          84,
          130,
          85,
          97,
          78,
          188,
          75,
          72,
          114,
          54,
          100,
          93,
          89,
          123,
          209,
          71
         ],
         "yaxis": "y28"
        },
        {
         "fill": "tozeroy",
         "line": {
          "color": "blue",
          "width": 1
         },
         "mode": "lines",
         "name": "Air Pollution Index (Min.)",
         "type": "scatter",
         "x": [
          2000,
          2001,
          2002,
          2003,
          2004,
          2005,
          2006,
          2007,
          2008,
          2009,
          2010,
          2011,
          2012,
          2013,
          2014,
          2015,
          2016
         ],
         "xaxis": "x15",
         "y": [
          1,
          1,
          1,
          6,
          17,
          23,
          5,
          6,
          5,
          10,
          16,
          4,
          16,
          17,
          11,
          5,
          6
         ],
         "yaxis": "y30"
        },
        {
         "fill": "tozeroy",
         "line": {
          "color": "blue",
          "width": 1
         },
         "mode": "lines",
         "name": "Air Pollution Index (Max.)",
         "type": "scatter",
         "x": [
          2000,
          2001,
          2002,
          2003,
          2004,
          2005,
          2006,
          2007,
          2008,
          2009,
          2010,
          2011,
          2012,
          2013,
          2014,
          2015,
          2016
         ],
         "xaxis": "x16",
         "y": [
          119,
          119,
          116,
          112,
          126,
          111,
          143,
          141,
          101,
          99,
          111,
          84,
          137,
          226,
          198,
          192,
          109
         ],
         "yaxis": "y32"
        },
        {
         "fill": "tozeroy",
         "line": {
          "color": "blue",
          "width": 1
         },
         "mode": "lines",
         "name": "Air Pollution Index (Max.)",
         "type": "scatter",
         "x": [
          2000,
          2001,
          2002,
          2003,
          2004,
          2005,
          2006,
          2007,
          2008,
          2009,
          2010,
          2011,
          2012,
          2013,
          2014,
          2015,
          2016
         ],
         "xaxis": "x16",
         "y": [
          7,
          10,
          4,
          2,
          8,
          1,
          5,
          0,
          5,
          2,
          15,
          3,
          2,
          17,
          10,
          28,
          5
         ],
         "yaxis": "y32"
        },
        {
         "fill": "tozeroy",
         "line": {
          "color": "blue",
          "width": 1
         },
         "mode": "lines",
         "name": "Air Pollution Index (Max.)",
         "type": "scatter",
         "x": [
          2000,
          2001,
          2002,
          2003,
          2004,
          2005,
          2006,
          2007,
          2008,
          2009,
          2010,
          2011,
          2012,
          2013,
          2014,
          2015,
          2016
         ],
         "xaxis": "x17",
         "y": [
          119,
          119,
          116,
          112,
          126,
          111,
          143,
          141,
          101,
          99,
          111,
          84,
          137,
          226,
          198,
          192,
          109
         ],
         "yaxis": "y34"
        },
        {
         "fill": "tozeroy",
         "line": {
          "color": "blue",
          "width": 1
         },
         "mode": "lines",
         "name": "Air Pollution Index (Min.)",
         "type": "scatter",
         "x": [
          2000,
          2001,
          2002,
          2003,
          2004,
          2005,
          2006,
          2007,
          2008,
          2009,
          2010,
          2011,
          2012,
          2013,
          2014,
          2015,
          2016
         ],
         "xaxis": "x18",
         "y": [
          7,
          10,
          4,
          2,
          8,
          1,
          5,
          0,
          5,
          2,
          15,
          3,
          2,
          17,
          10,
          28,
          5
         ],
         "yaxis": "y36"
        },
        {
         "fill": "tozeroy",
         "line": {
          "color": "blue",
          "width": 1
         },
         "mode": "lines",
         "name": "Air Pollution Index (Max.)",
         "type": "scatter",
         "x": [
          2000,
          2001,
          2002,
          2003,
          2004,
          2005,
          2006,
          2007,
          2008,
          2009,
          2010,
          2011,
          2012,
          2013,
          2014,
          2015,
          2016
         ],
         "xaxis": "x19",
         "y": [
          127,
          140,
          115,
          106,
          121,
          151,
          121,
          101,
          99,
          106,
          93,
          98,
          105,
          132,
          119,
          287,
          87
         ],
         "yaxis": "y38"
        },
        {
         "fill": "tozeroy",
         "line": {
          "color": "blue",
          "width": 1
         },
         "mode": "lines",
         "name": "Air Pollution Index (Max.)",
         "type": "scatter",
         "x": [
          2000,
          2001,
          2002,
          2003,
          2004,
          2005,
          2006,
          2007,
          2008,
          2009,
          2010,
          2011,
          2012,
          2013,
          2014,
          2015,
          2016
         ],
         "xaxis": "x19",
         "y": [
          4,
          8,
          4,
          11,
          8,
          10,
          6,
          8,
          6,
          5,
          28,
          6,
          6,
          27,
          14,
          9,
          7
         ],
         "yaxis": "y38"
        },
        {
         "fill": "tozeroy",
         "line": {
          "color": "blue",
          "width": 1
         },
         "mode": "lines",
         "name": "Air Pollution Index (Max.)",
         "type": "scatter",
         "x": [
          2000,
          2001,
          2002,
          2003,
          2004,
          2005,
          2006,
          2007,
          2008,
          2009,
          2010,
          2011,
          2012,
          2013,
          2014,
          2015,
          2016
         ],
         "xaxis": "x20",
         "y": [
          127,
          140,
          115,
          106,
          121,
          151,
          121,
          101,
          99,
          106,
          93,
          98,
          105,
          132,
          119,
          287,
          87
         ],
         "yaxis": "y40"
        },
        {
         "fill": "tozeroy",
         "line": {
          "color": "blue",
          "width": 1
         },
         "mode": "lines",
         "name": "Air Pollution Index (Min.)",
         "type": "scatter",
         "x": [
          2000,
          2001,
          2002,
          2003,
          2004,
          2005,
          2006,
          2007,
          2008,
          2009,
          2010,
          2011,
          2012,
          2013,
          2014,
          2015,
          2016
         ],
         "xaxis": "x21",
         "y": [
          4,
          8,
          4,
          11,
          8,
          10,
          6,
          8,
          6,
          5,
          28,
          6,
          6,
          27,
          14,
          9,
          7
         ],
         "yaxis": "y42"
        }
       ],
       "layout": {
        "annotations": [
         {
          "font": {
           "family": "Helvetica",
           "size": 11
          },
          "showarrow": false,
          "text": "<b>Miri API</b>",
          "x": 0.11222222222222222,
          "xanchor": "center",
          "xref": "paper",
          "y": 0.9999999999999999,
          "yanchor": "bottom",
          "yref": "paper"
         },
         {
          "font": {
           "family": "Helvetica",
           "size": 11
          },
          "showarrow": false,
          "text": "<b>API Max</b>",
          "x": 0.47,
          "xanchor": "center",
          "xref": "paper",
          "y": 0.9999999999999999,
          "yanchor": "bottom",
          "yref": "paper"
         },
         {
          "font": {
           "family": "Helvetica",
           "size": 11
          },
          "showarrow": false,
          "text": "<b>API Min</b>",
          "x": 0.8277777777777777,
          "xanchor": "center",
          "xref": "paper",
          "y": 0.9999999999999999,
          "yanchor": "bottom",
          "yref": "paper"
         },
         {
          "font": {
           "family": "Helvetica",
           "size": 11
          },
          "showarrow": false,
          "text": "<b>Melaka API</b>",
          "x": 0.11222222222222222,
          "xanchor": "center",
          "xref": "paper",
          "y": 0.8469387755102039,
          "yanchor": "bottom",
          "yref": "paper"
         },
         {
          "font": {
           "family": "Helvetica",
           "size": 11
          },
          "showarrow": false,
          "text": "<b>API Max</b>",
          "x": 0.47,
          "xanchor": "center",
          "xref": "paper",
          "y": 0.8469387755102039,
          "yanchor": "bottom",
          "yref": "paper"
         },
         {
          "font": {
           "family": "Helvetica",
           "size": 11
          },
          "showarrow": false,
          "text": "<b>API Min</b>",
          "x": 0.8277777777777777,
          "xanchor": "center",
          "xref": "paper",
          "y": 0.8469387755102039,
          "yanchor": "bottom",
          "yref": "paper"
         },
         {
          "font": {
           "family": "Helvetica",
           "size": 11
          },
          "showarrow": false,
          "text": "<b>Cheras API</b>",
          "x": 0.11222222222222222,
          "xanchor": "center",
          "xref": "paper",
          "y": 0.6938775510204082,
          "yanchor": "bottom",
          "yref": "paper"
         },
         {
          "font": {
           "family": "Helvetica",
           "size": 11
          },
          "showarrow": false,
          "text": "<b>API Max</b>",
          "x": 0.47,
          "xanchor": "center",
          "xref": "paper",
          "y": 0.6938775510204082,
          "yanchor": "bottom",
          "yref": "paper"
         },
         {
          "font": {
           "family": "Helvetica",
           "size": 11
          },
          "showarrow": false,
          "text": "<b>API Min</b>",
          "x": 0.8277777777777777,
          "xanchor": "center",
          "xref": "paper",
          "y": 0.6938775510204082,
          "yanchor": "bottom",
          "yref": "paper"
         },
         {
          "font": {
           "family": "Helvetica",
           "size": 11
          },
          "showarrow": false,
          "text": "<b>Kota Kinabalu API</b>",
          "x": 0.11222222222222222,
          "xanchor": "center",
          "xref": "paper",
          "y": 0.5408163265306122,
          "yanchor": "bottom",
          "yref": "paper"
         },
         {
          "font": {
           "family": "Helvetica",
           "size": 11
          },
          "showarrow": false,
          "text": "<b>API Max</b>",
          "x": 0.47,
          "xanchor": "center",
          "xref": "paper",
          "y": 0.5408163265306122,
          "yanchor": "bottom",
          "yref": "paper"
         },
         {
          "font": {
           "family": "Helvetica",
           "size": 11
          },
          "showarrow": false,
          "text": "<b>API Min</b>",
          "x": 0.8277777777777777,
          "xanchor": "center",
          "xref": "paper",
          "y": 0.5408163265306122,
          "yanchor": "bottom",
          "yref": "paper"
         },
         {
          "font": {
           "family": "Helvetica",
           "size": 11
          },
          "showarrow": false,
          "text": "<b>Kuching API</b>",
          "x": 0.11222222222222222,
          "xanchor": "center",
          "xref": "paper",
          "y": 0.3877551020408163,
          "yanchor": "bottom",
          "yref": "paper"
         },
         {
          "font": {
           "family": "Helvetica",
           "size": 11
          },
          "showarrow": false,
          "text": "<b>API Max</b>",
          "x": 0.47,
          "xanchor": "center",
          "xref": "paper",
          "y": 0.3877551020408163,
          "yanchor": "bottom",
          "yref": "paper"
         },
         {
          "font": {
           "family": "Helvetica",
           "size": 11
          },
          "showarrow": false,
          "text": "<b>API Min</b>",
          "x": 0.8277777777777777,
          "xanchor": "center",
          "xref": "paper",
          "y": 0.3877551020408163,
          "yanchor": "bottom",
          "yref": "paper"
         },
         {
          "font": {
           "family": "Helvetica",
           "size": 11
          },
          "showarrow": false,
          "text": "<b>Larkin API</b>",
          "x": 0.11222222222222222,
          "xanchor": "center",
          "xref": "paper",
          "y": 0.2346938775510204,
          "yanchor": "bottom",
          "yref": "paper"
         },
         {
          "font": {
           "family": "Helvetica",
           "size": 11
          },
          "showarrow": false,
          "text": "<b>API Max</b>",
          "x": 0.47,
          "xanchor": "center",
          "xref": "paper",
          "y": 0.2346938775510204,
          "yanchor": "bottom",
          "yref": "paper"
         },
         {
          "font": {
           "family": "Helvetica",
           "size": 11
          },
          "showarrow": false,
          "text": "<b>API Min</b>",
          "x": 0.8277777777777777,
          "xanchor": "center",
          "xref": "paper",
          "y": 0.2346938775510204,
          "yanchor": "bottom",
          "yref": "paper"
         },
         {
          "font": {
           "family": "Helvetica",
           "size": 11
          },
          "showarrow": false,
          "text": "<b>Seberang Jaya API</b>",
          "x": 0.11222222222222222,
          "xanchor": "center",
          "xref": "paper",
          "y": 0.08163265306122448,
          "yanchor": "bottom",
          "yref": "paper"
         },
         {
          "font": {
           "family": "Helvetica",
           "size": 11
          },
          "showarrow": false,
          "text": "<b>API Max</b>",
          "x": 0.47,
          "xanchor": "center",
          "xref": "paper",
          "y": 0.08163265306122448,
          "yanchor": "bottom",
          "yref": "paper"
         },
         {
          "font": {
           "family": "Helvetica",
           "size": 11
          },
          "showarrow": false,
          "text": "<b>API Min</b>",
          "x": 0.8277777777777777,
          "xanchor": "center",
          "xref": "paper",
          "y": 0.08163265306122448,
          "yanchor": "bottom",
          "yref": "paper"
         }
        ],
        "font": {
         "family": "Helvetica",
         "size": 11
        },
        "height": 350,
        "showlegend": false,
        "template": {
         "data": {
          "bar": [
           {
            "error_x": {
             "color": "#2a3f5f"
            },
            "error_y": {
             "color": "#2a3f5f"
            },
            "marker": {
             "line": {
              "color": "#E5ECF6",
              "width": 0.5
             },
             "pattern": {
              "fillmode": "overlay",
              "size": 10,
              "solidity": 0.2
             }
            },
            "type": "bar"
           }
          ],
          "barpolar": [
           {
            "marker": {
             "line": {
              "color": "#E5ECF6",
              "width": 0.5
             },
             "pattern": {
              "fillmode": "overlay",
              "size": 10,
              "solidity": 0.2
             }
            },
            "type": "barpolar"
           }
          ],
          "carpet": [
           {
            "aaxis": {
             "endlinecolor": "#2a3f5f",
             "gridcolor": "white",
             "linecolor": "white",
             "minorgridcolor": "white",
             "startlinecolor": "#2a3f5f"
            },
            "baxis": {
             "endlinecolor": "#2a3f5f",
             "gridcolor": "white",
             "linecolor": "white",
             "minorgridcolor": "white",
             "startlinecolor": "#2a3f5f"
            },
            "type": "carpet"
           }
          ],
          "choropleth": [
           {
            "colorbar": {
             "outlinewidth": 0,
             "ticks": ""
            },
            "type": "choropleth"
           }
          ],
          "contour": [
           {
            "colorbar": {
             "outlinewidth": 0,
             "ticks": ""
            },
            "colorscale": [
             [
              0,
              "#0d0887"
             ],
             [
              0.1111111111111111,
              "#46039f"
             ],
             [
              0.2222222222222222,
              "#7201a8"
             ],
             [
              0.3333333333333333,
              "#9c179e"
             ],
             [
              0.4444444444444444,
              "#bd3786"
             ],
             [
              0.5555555555555556,
              "#d8576b"
             ],
             [
              0.6666666666666666,
              "#ed7953"
             ],
             [
              0.7777777777777778,
              "#fb9f3a"
             ],
             [
              0.8888888888888888,
              "#fdca26"
             ],
             [
              1,
              "#f0f921"
             ]
            ],
            "type": "contour"
           }
          ],
          "contourcarpet": [
           {
            "colorbar": {
             "outlinewidth": 0,
             "ticks": ""
            },
            "type": "contourcarpet"
           }
          ],
          "heatmap": [
           {
            "colorbar": {
             "outlinewidth": 0,
             "ticks": ""
            },
            "colorscale": [
             [
              0,
              "#0d0887"
             ],
             [
              0.1111111111111111,
              "#46039f"
             ],
             [
              0.2222222222222222,
              "#7201a8"
             ],
             [
              0.3333333333333333,
              "#9c179e"
             ],
             [
              0.4444444444444444,
              "#bd3786"
             ],
             [
              0.5555555555555556,
              "#d8576b"
             ],
             [
              0.6666666666666666,
              "#ed7953"
             ],
             [
              0.7777777777777778,
              "#fb9f3a"
             ],
             [
              0.8888888888888888,
              "#fdca26"
             ],
             [
              1,
              "#f0f921"
             ]
            ],
            "type": "heatmap"
           }
          ],
          "heatmapgl": [
           {
            "colorbar": {
             "outlinewidth": 0,
             "ticks": ""
            },
            "colorscale": [
             [
              0,
              "#0d0887"
             ],
             [
              0.1111111111111111,
              "#46039f"
             ],
             [
              0.2222222222222222,
              "#7201a8"
             ],
             [
              0.3333333333333333,
              "#9c179e"
             ],
             [
              0.4444444444444444,
              "#bd3786"
             ],
             [
              0.5555555555555556,
              "#d8576b"
             ],
             [
              0.6666666666666666,
              "#ed7953"
             ],
             [
              0.7777777777777778,
              "#fb9f3a"
             ],
             [
              0.8888888888888888,
              "#fdca26"
             ],
             [
              1,
              "#f0f921"
             ]
            ],
            "type": "heatmapgl"
           }
          ],
          "histogram": [
           {
            "marker": {
             "pattern": {
              "fillmode": "overlay",
              "size": 10,
              "solidity": 0.2
             }
            },
            "type": "histogram"
           }
          ],
          "histogram2d": [
           {
            "colorbar": {
             "outlinewidth": 0,
             "ticks": ""
            },
            "colorscale": [
             [
              0,
              "#0d0887"
             ],
             [
              0.1111111111111111,
              "#46039f"
             ],
             [
              0.2222222222222222,
              "#7201a8"
             ],
             [
              0.3333333333333333,
              "#9c179e"
             ],
             [
              0.4444444444444444,
              "#bd3786"
             ],
             [
              0.5555555555555556,
              "#d8576b"
             ],
             [
              0.6666666666666666,
              "#ed7953"
             ],
             [
              0.7777777777777778,
              "#fb9f3a"
             ],
             [
              0.8888888888888888,
              "#fdca26"
             ],
             [
              1,
              "#f0f921"
             ]
            ],
            "type": "histogram2d"
           }
          ],
          "histogram2dcontour": [
           {
            "colorbar": {
             "outlinewidth": 0,
             "ticks": ""
            },
            "colorscale": [
             [
              0,
              "#0d0887"
             ],
             [
              0.1111111111111111,
              "#46039f"
             ],
             [
              0.2222222222222222,
              "#7201a8"
             ],
             [
              0.3333333333333333,
              "#9c179e"
             ],
             [
              0.4444444444444444,
              "#bd3786"
             ],
             [
              0.5555555555555556,
              "#d8576b"
             ],
             [
              0.6666666666666666,
              "#ed7953"
             ],
             [
              0.7777777777777778,
              "#fb9f3a"
             ],
             [
              0.8888888888888888,
              "#fdca26"
             ],
             [
              1,
              "#f0f921"
             ]
            ],
            "type": "histogram2dcontour"
           }
          ],
          "mesh3d": [
           {
            "colorbar": {
             "outlinewidth": 0,
             "ticks": ""
            },
            "type": "mesh3d"
           }
          ],
          "parcoords": [
           {
            "line": {
             "colorbar": {
              "outlinewidth": 0,
              "ticks": ""
             }
            },
            "type": "parcoords"
           }
          ],
          "pie": [
           {
            "automargin": true,
            "type": "pie"
           }
          ],
          "scatter": [
           {
            "fillpattern": {
             "fillmode": "overlay",
             "size": 10,
             "solidity": 0.2
            },
            "type": "scatter"
           }
          ],
          "scatter3d": [
           {
            "line": {
             "colorbar": {
              "outlinewidth": 0,
              "ticks": ""
             }
            },
            "marker": {
             "colorbar": {
              "outlinewidth": 0,
              "ticks": ""
             }
            },
            "type": "scatter3d"
           }
          ],
          "scattercarpet": [
           {
            "marker": {
             "colorbar": {
              "outlinewidth": 0,
              "ticks": ""
             }
            },
            "type": "scattercarpet"
           }
          ],
          "scattergeo": [
           {
            "marker": {
             "colorbar": {
              "outlinewidth": 0,
              "ticks": ""
             }
            },
            "type": "scattergeo"
           }
          ],
          "scattergl": [
           {
            "marker": {
             "colorbar": {
              "outlinewidth": 0,
              "ticks": ""
             }
            },
            "type": "scattergl"
           }
          ],
          "scattermapbox": [
           {
            "marker": {
             "colorbar": {
              "outlinewidth": 0,
              "ticks": ""
             }
            },
            "type": "scattermapbox"
           }
          ],
          "scatterpolar": [
           {
            "marker": {
             "colorbar": {
              "outlinewidth": 0,
              "ticks": ""
             }
            },
            "type": "scatterpolar"
           }
          ],
          "scatterpolargl": [
           {
            "marker": {
             "colorbar": {
              "outlinewidth": 0,
              "ticks": ""
             }
            },
            "type": "scatterpolargl"
           }
          ],
          "scatterternary": [
           {
            "marker": {
             "colorbar": {
              "outlinewidth": 0,
              "ticks": ""
             }
            },
            "type": "scatterternary"
           }
          ],
          "surface": [
           {
            "colorbar": {
             "outlinewidth": 0,
             "ticks": ""
            },
            "colorscale": [
             [
              0,
              "#0d0887"
             ],
             [
              0.1111111111111111,
              "#46039f"
             ],
             [
              0.2222222222222222,
              "#7201a8"
             ],
             [
              0.3333333333333333,
              "#9c179e"
             ],
             [
              0.4444444444444444,
              "#bd3786"
             ],
             [
              0.5555555555555556,
              "#d8576b"
             ],
             [
              0.6666666666666666,
              "#ed7953"
             ],
             [
              0.7777777777777778,
              "#fb9f3a"
             ],
             [
              0.8888888888888888,
              "#fdca26"
             ],
             [
              1,
              "#f0f921"
             ]
            ],
            "type": "surface"
           }
          ],
          "table": [
           {
            "cells": {
             "fill": {
              "color": "#EBF0F8"
             },
             "line": {
              "color": "white"
             }
            },
            "header": {
             "fill": {
              "color": "#C8D4E3"
             },
             "line": {
              "color": "white"
             }
            },
            "type": "table"
           }
          ]
         },
         "layout": {
          "annotationdefaults": {
           "arrowcolor": "#2a3f5f",
           "arrowhead": 0,
           "arrowwidth": 1
          },
          "autotypenumbers": "strict",
          "coloraxis": {
           "colorbar": {
            "outlinewidth": 0,
            "ticks": ""
           }
          },
          "colorscale": {
           "diverging": [
            [
             0,
             "#8e0152"
            ],
            [
             0.1,
             "#c51b7d"
            ],
            [
             0.2,
             "#de77ae"
            ],
            [
             0.3,
             "#f1b6da"
            ],
            [
             0.4,
             "#fde0ef"
            ],
            [
             0.5,
             "#f7f7f7"
            ],
            [
             0.6,
             "#e6f5d0"
            ],
            [
             0.7,
             "#b8e186"
            ],
            [
             0.8,
             "#7fbc41"
            ],
            [
             0.9,
             "#4d9221"
            ],
            [
             1,
             "#276419"
            ]
           ],
           "sequential": [
            [
             0,
             "#0d0887"
            ],
            [
             0.1111111111111111,
             "#46039f"
            ],
            [
             0.2222222222222222,
             "#7201a8"
            ],
            [
             0.3333333333333333,
             "#9c179e"
            ],
            [
             0.4444444444444444,
             "#bd3786"
            ],
            [
             0.5555555555555556,
             "#d8576b"
            ],
            [
             0.6666666666666666,
             "#ed7953"
            ],
            [
             0.7777777777777778,
             "#fb9f3a"
            ],
            [
             0.8888888888888888,
             "#fdca26"
            ],
            [
             1,
             "#f0f921"
            ]
           ],
           "sequentialminus": [
            [
             0,
             "#0d0887"
            ],
            [
             0.1111111111111111,
             "#46039f"
            ],
            [
             0.2222222222222222,
             "#7201a8"
            ],
            [
             0.3333333333333333,
             "#9c179e"
            ],
            [
             0.4444444444444444,
             "#bd3786"
            ],
            [
             0.5555555555555556,
             "#d8576b"
            ],
            [
             0.6666666666666666,
             "#ed7953"
            ],
            [
             0.7777777777777778,
             "#fb9f3a"
            ],
            [
             0.8888888888888888,
             "#fdca26"
            ],
            [
             1,
             "#f0f921"
            ]
           ]
          },
          "colorway": [
           "#636efa",
           "#EF553B",
           "#00cc96",
           "#ab63fa",
           "#FFA15A",
           "#19d3f3",
           "#FF6692",
           "#B6E880",
           "#FF97FF",
           "#FECB52"
          ],
          "font": {
           "color": "#2a3f5f"
          },
          "geo": {
           "bgcolor": "white",
           "lakecolor": "white",
           "landcolor": "#E5ECF6",
           "showlakes": true,
           "showland": true,
           "subunitcolor": "white"
          },
          "hoverlabel": {
           "align": "left"
          },
          "hovermode": "closest",
          "mapbox": {
           "style": "light"
          },
          "paper_bgcolor": "white",
          "plot_bgcolor": "#E5ECF6",
          "polar": {
           "angularaxis": {
            "gridcolor": "white",
            "linecolor": "white",
            "ticks": ""
           },
           "bgcolor": "#E5ECF6",
           "radialaxis": {
            "gridcolor": "white",
            "linecolor": "white",
            "ticks": ""
           }
          },
          "scene": {
           "xaxis": {
            "backgroundcolor": "#E5ECF6",
            "gridcolor": "white",
            "gridwidth": 2,
            "linecolor": "white",
            "showbackground": true,
            "ticks": "",
            "zerolinecolor": "white"
           },
           "yaxis": {
            "backgroundcolor": "#E5ECF6",
            "gridcolor": "white",
            "gridwidth": 2,
            "linecolor": "white",
            "showbackground": true,
            "ticks": "",
            "zerolinecolor": "white"
           },
           "zaxis": {
            "backgroundcolor": "#E5ECF6",
            "gridcolor": "white",
            "gridwidth": 2,
            "linecolor": "white",
            "showbackground": true,
            "ticks": "",
            "zerolinecolor": "white"
           }
          },
          "shapedefaults": {
           "line": {
            "color": "#2a3f5f"
           }
          },
          "ternary": {
           "aaxis": {
            "gridcolor": "white",
            "linecolor": "white",
            "ticks": ""
           },
           "baxis": {
            "gridcolor": "white",
            "linecolor": "white",
            "ticks": ""
           },
           "bgcolor": "#E5ECF6",
           "caxis": {
            "gridcolor": "white",
            "linecolor": "white",
            "ticks": ""
           }
          },
          "title": {
           "x": 0.05
          },
          "xaxis": {
           "automargin": true,
           "gridcolor": "white",
           "linecolor": "white",
           "ticks": "",
           "title": {
            "standoff": 15
           },
           "zerolinecolor": "white",
           "zerolinewidth": 2
          },
          "yaxis": {
           "automargin": true,
           "gridcolor": "white",
           "linecolor": "white",
           "ticks": "",
           "title": {
            "standoff": 15
           },
           "zerolinecolor": "white",
           "zerolinewidth": 2
          }
         }
        },
        "title": {
         "text": "Malaysia Air Pollutant Index Stations",
         "x": 0.5
        },
        "xaxis": {
         "anchor": "y",
         "domain": [
          0,
          0.22444444444444445
         ],
         "linecolor": "black",
         "linewidth": 2,
         "showgrid": false,
         "showline": true,
         "title": {
          "text": ""
         },
         "zeroline": false
        },
        "xaxis10": {
         "anchor": "y19",
         "domain": [
          0,
          0.22444444444444445
         ],
         "linecolor": "black",
         "linewidth": 2,
         "showgrid": false,
         "showline": true,
         "title": {
          "text": ""
         },
         "zeroline": false
        },
        "xaxis11": {
         "anchor": "y21",
         "domain": [
          0.35777777777777775,
          0.5822222222222222
         ],
         "linecolor": "black",
         "linewidth": 2,
         "showgrid": false,
         "showline": true,
         "title": {
          "text": ""
         },
         "zeroline": false
        },
        "xaxis12": {
         "anchor": "y23",
         "domain": [
          0.7155555555555555,
          0.94
         ],
         "linecolor": "black",
         "linewidth": 2,
         "showgrid": false,
         "showline": true,
         "title": {
          "text": ""
         },
         "zeroline": false
        },
        "xaxis13": {
         "anchor": "y25",
         "domain": [
          0,
          0.22444444444444445
         ],
         "linecolor": "black",
         "linewidth": 2,
         "showgrid": false,
         "showline": true,
         "title": {
          "text": ""
         },
         "zeroline": false
        },
        "xaxis14": {
         "anchor": "y27",
         "domain": [
          0.35777777777777775,
          0.5822222222222222
         ],
         "linecolor": "black",
         "linewidth": 2,
         "showgrid": false,
         "showline": true,
         "title": {
          "text": ""
         },
         "zeroline": false
        },
        "xaxis15": {
         "anchor": "y29",
         "domain": [
          0.7155555555555555,
          0.94
         ],
         "linecolor": "black",
         "linewidth": 2,
         "showgrid": false,
         "showline": true,
         "title": {
          "text": ""
         },
         "zeroline": false
        },
        "xaxis16": {
         "anchor": "y31",
         "domain": [
          0,
          0.22444444444444445
         ],
         "linecolor": "black",
         "linewidth": 2,
         "showgrid": false,
         "showline": true,
         "title": {
          "text": ""
         },
         "zeroline": false
        },
        "xaxis17": {
         "anchor": "y33",
         "domain": [
          0.35777777777777775,
          0.5822222222222222
         ],
         "linecolor": "black",
         "linewidth": 2,
         "showgrid": false,
         "showline": true,
         "title": {
          "text": ""
         },
         "zeroline": false
        },
        "xaxis18": {
         "anchor": "y35",
         "domain": [
          0.7155555555555555,
          0.94
         ],
         "linecolor": "black",
         "linewidth": 2,
         "showgrid": false,
         "showline": true,
         "title": {
          "text": ""
         },
         "zeroline": false
        },
        "xaxis19": {
         "anchor": "y37",
         "domain": [
          0,
          0.22444444444444445
         ],
         "linecolor": "black",
         "linewidth": 2,
         "showgrid": false,
         "showline": true,
         "title": {
          "text": ""
         },
         "zeroline": false
        },
        "xaxis2": {
         "anchor": "y3",
         "domain": [
          0.35777777777777775,
          0.5822222222222222
         ],
         "linecolor": "black",
         "linewidth": 2,
         "showgrid": false,
         "showline": true,
         "title": {
          "text": ""
         },
         "zeroline": false
        },
        "xaxis20": {
         "anchor": "y39",
         "domain": [
          0.35777777777777775,
          0.5822222222222222
         ],
         "linecolor": "black",
         "linewidth": 2,
         "showgrid": false,
         "showline": true,
         "title": {
          "text": ""
         },
         "zeroline": false
        },
        "xaxis21": {
         "anchor": "y41",
         "domain": [
          0.7155555555555555,
          0.94
         ],
         "linecolor": "black",
         "linewidth": 2,
         "showgrid": false,
         "showline": true,
         "title": {
          "text": ""
         },
         "zeroline": false
        },
        "xaxis3": {
         "anchor": "y5",
         "domain": [
          0.7155555555555555,
          0.94
         ],
         "linecolor": "black",
         "linewidth": 2,
         "showgrid": false,
         "showline": true,
         "title": {
          "text": ""
         },
         "zeroline": false
        },
        "xaxis4": {
         "anchor": "y7",
         "domain": [
          0,
          0.22444444444444445
         ],
         "linecolor": "black",
         "linewidth": 2,
         "showgrid": false,
         "showline": true,
         "title": {
          "text": ""
         },
         "zeroline": false
        },
        "xaxis5": {
         "anchor": "y9",
         "domain": [
          0.35777777777777775,
          0.5822222222222222
         ],
         "linecolor": "black",
         "linewidth": 2,
         "showgrid": false,
         "showline": true,
         "title": {
          "text": ""
         },
         "zeroline": false
        },
        "xaxis6": {
         "anchor": "y11",
         "domain": [
          0.7155555555555555,
          0.94
         ],
         "linecolor": "black",
         "linewidth": 2,
         "showgrid": false,
         "showline": true,
         "title": {
          "text": ""
         },
         "zeroline": false
        },
        "xaxis7": {
         "anchor": "y13",
         "domain": [
          0,
          0.22444444444444445
         ],
         "linecolor": "black",
         "linewidth": 2,
         "showgrid": false,
         "showline": true,
         "title": {
          "text": ""
         },
         "zeroline": false
        },
        "xaxis8": {
         "anchor": "y15",
         "domain": [
          0.35777777777777775,
          0.5822222222222222
         ],
         "linecolor": "black",
         "linewidth": 2,
         "showgrid": false,
         "showline": true,
         "title": {
          "text": ""
         },
         "zeroline": false
        },
        "xaxis9": {
         "anchor": "y17",
         "domain": [
          0.7155555555555555,
          0.94
         ],
         "linecolor": "black",
         "linewidth": 2,
         "showgrid": false,
         "showline": true,
         "title": {
          "text": ""
         },
         "zeroline": false
        },
        "yaxis": {
         "anchor": "x",
         "domain": [
          0.9183673469387754,
          0.9999999999999999
         ],
         "linecolor": "black",
         "linewidth": 2,
         "showgrid": false,
         "showline": true,
         "zeroline": false
        },
        "yaxis10": {
         "anchor": "x5",
         "linecolor": "black",
         "linewidth": 2,
         "overlaying": "y9",
         "showgrid": false,
         "showline": true,
         "side": "right",
         "zeroline": false
        },
        "yaxis11": {
         "anchor": "x6",
         "domain": [
          0.7653061224489794,
          0.8469387755102039
         ],
         "linecolor": "black",
         "linewidth": 2,
         "showgrid": false,
         "showline": true,
         "zeroline": false
        },
        "yaxis12": {
         "anchor": "x6",
         "linecolor": "black",
         "linewidth": 2,
         "overlaying": "y11",
         "showgrid": false,
         "showline": true,
         "side": "right",
         "zeroline": false
        },
        "yaxis13": {
         "anchor": "x7",
         "domain": [
          0.6122448979591837,
          0.6938775510204082
         ],
         "linecolor": "black",
         "linewidth": 2,
         "showgrid": false,
         "showline": true,
         "zeroline": false
        },
        "yaxis14": {
         "anchor": "x7",
         "linecolor": "black",
         "linewidth": 2,
         "overlaying": "y13",
         "showgrid": false,
         "showline": true,
         "side": "right",
         "zeroline": false
        },
        "yaxis15": {
         "anchor": "x8",
         "domain": [
          0.6122448979591837,
          0.6938775510204082
         ],
         "linecolor": "black",
         "linewidth": 2,
         "showgrid": false,
         "showline": true,
         "zeroline": false
        },
        "yaxis16": {
         "anchor": "x8",
         "linecolor": "black",
         "linewidth": 2,
         "overlaying": "y15",
         "showgrid": false,
         "showline": true,
         "side": "right",
         "zeroline": false
        },
        "yaxis17": {
         "anchor": "x9",
         "domain": [
          0.6122448979591837,
          0.6938775510204082
         ],
         "linecolor": "black",
         "linewidth": 2,
         "showgrid": false,
         "showline": true,
         "zeroline": false
        },
        "yaxis18": {
         "anchor": "x9",
         "linecolor": "black",
         "linewidth": 2,
         "overlaying": "y17",
         "showgrid": false,
         "showline": true,
         "side": "right",
         "zeroline": false
        },
        "yaxis19": {
         "anchor": "x10",
         "domain": [
          0.4591836734693877,
          0.5408163265306122
         ],
         "linecolor": "black",
         "linewidth": 2,
         "showgrid": false,
         "showline": true,
         "zeroline": false
        },
        "yaxis2": {
         "anchor": "x",
         "linecolor": "black",
         "linewidth": 2,
         "overlaying": "y",
         "showgrid": false,
         "showline": true,
         "side": "right",
         "zeroline": false
        },
        "yaxis20": {
         "anchor": "x10",
         "linecolor": "black",
         "linewidth": 2,
         "overlaying": "y19",
         "showgrid": false,
         "showline": true,
         "side": "right",
         "zeroline": false
        },
        "yaxis21": {
         "anchor": "x11",
         "domain": [
          0.4591836734693877,
          0.5408163265306122
         ],
         "linecolor": "black",
         "linewidth": 2,
         "showgrid": false,
         "showline": true,
         "zeroline": false
        },
        "yaxis22": {
         "anchor": "x11",
         "linecolor": "black",
         "linewidth": 2,
         "overlaying": "y21",
         "showgrid": false,
         "showline": true,
         "side": "right",
         "zeroline": false
        },
        "yaxis23": {
         "anchor": "x12",
         "domain": [
          0.4591836734693877,
          0.5408163265306122
         ],
         "linecolor": "black",
         "linewidth": 2,
         "showgrid": false,
         "showline": true,
         "zeroline": false
        },
        "yaxis24": {
         "anchor": "x12",
         "linecolor": "black",
         "linewidth": 2,
         "overlaying": "y23",
         "showgrid": false,
         "showline": true,
         "side": "right",
         "zeroline": false
        },
        "yaxis25": {
         "anchor": "x13",
         "domain": [
          0.30612244897959184,
          0.3877551020408163
         ],
         "linecolor": "black",
         "linewidth": 2,
         "showgrid": false,
         "showline": true,
         "zeroline": false
        },
        "yaxis26": {
         "anchor": "x13",
         "linecolor": "black",
         "linewidth": 2,
         "overlaying": "y25",
         "showgrid": false,
         "showline": true,
         "side": "right",
         "zeroline": false
        },
        "yaxis27": {
         "anchor": "x14",
         "domain": [
          0.30612244897959184,
          0.3877551020408163
         ],
         "linecolor": "black",
         "linewidth": 2,
         "showgrid": false,
         "showline": true,
         "zeroline": false
        },
        "yaxis28": {
         "anchor": "x14",
         "linecolor": "black",
         "linewidth": 2,
         "overlaying": "y27",
         "showgrid": false,
         "showline": true,
         "side": "right",
         "zeroline": false
        },
        "yaxis29": {
         "anchor": "x15",
         "domain": [
          0.30612244897959184,
          0.3877551020408163
         ],
         "linecolor": "black",
         "linewidth": 2,
         "showgrid": false,
         "showline": true,
         "zeroline": false
        },
        "yaxis3": {
         "anchor": "x2",
         "domain": [
          0.9183673469387754,
          0.9999999999999999
         ],
         "linecolor": "black",
         "linewidth": 2,
         "showgrid": false,
         "showline": true,
         "zeroline": false
        },
        "yaxis30": {
         "anchor": "x15",
         "linecolor": "black",
         "linewidth": 2,
         "overlaying": "y29",
         "showgrid": false,
         "showline": true,
         "side": "right",
         "zeroline": false
        },
        "yaxis31": {
         "anchor": "x16",
         "domain": [
          0.15306122448979592,
          0.2346938775510204
         ],
         "linecolor": "black",
         "linewidth": 2,
         "showgrid": false,
         "showline": true,
         "zeroline": false
        },
        "yaxis32": {
         "anchor": "x16",
         "linecolor": "black",
         "linewidth": 2,
         "overlaying": "y31",
         "showgrid": false,
         "showline": true,
         "side": "right",
         "zeroline": false
        },
        "yaxis33": {
         "anchor": "x17",
         "domain": [
          0.15306122448979592,
          0.2346938775510204
         ],
         "linecolor": "black",
         "linewidth": 2,
         "showgrid": false,
         "showline": true,
         "zeroline": false
        },
        "yaxis34": {
         "anchor": "x17",
         "linecolor": "black",
         "linewidth": 2,
         "overlaying": "y33",
         "showgrid": false,
         "showline": true,
         "side": "right",
         "zeroline": false
        },
        "yaxis35": {
         "anchor": "x18",
         "domain": [
          0.15306122448979592,
          0.2346938775510204
         ],
         "linecolor": "black",
         "linewidth": 2,
         "showgrid": false,
         "showline": true,
         "zeroline": false
        },
        "yaxis36": {
         "anchor": "x18",
         "linecolor": "black",
         "linewidth": 2,
         "overlaying": "y35",
         "showgrid": false,
         "showline": true,
         "side": "right",
         "zeroline": false
        },
        "yaxis37": {
         "anchor": "x19",
         "domain": [
          0,
          0.08163265306122448
         ],
         "linecolor": "black",
         "linewidth": 2,
         "showgrid": false,
         "showline": true,
         "zeroline": false
        },
        "yaxis38": {
         "anchor": "x19",
         "linecolor": "black",
         "linewidth": 2,
         "overlaying": "y37",
         "showgrid": false,
         "showline": true,
         "side": "right",
         "zeroline": false
        },
        "yaxis39": {
         "anchor": "x20",
         "domain": [
          0,
          0.08163265306122448
         ],
         "linecolor": "black",
         "linewidth": 2,
         "showgrid": false,
         "showline": true,
         "zeroline": false
        },
        "yaxis4": {
         "anchor": "x2",
         "linecolor": "black",
         "linewidth": 2,
         "overlaying": "y3",
         "showgrid": false,
         "showline": true,
         "side": "right",
         "zeroline": false
        },
        "yaxis40": {
         "anchor": "x20",
         "linecolor": "black",
         "linewidth": 2,
         "overlaying": "y39",
         "showgrid": false,
         "showline": true,
         "side": "right",
         "zeroline": false
        },
        "yaxis41": {
         "anchor": "x21",
         "domain": [
          0,
          0.08163265306122448
         ],
         "linecolor": "black",
         "linewidth": 2,
         "showgrid": false,
         "showline": true,
         "zeroline": false
        },
        "yaxis42": {
         "anchor": "x21",
         "linecolor": "black",
         "linewidth": 2,
         "overlaying": "y41",
         "showgrid": false,
         "showline": true,
         "side": "right",
         "zeroline": false
        },
        "yaxis5": {
         "anchor": "x3",
         "domain": [
          0.9183673469387754,
          0.9999999999999999
         ],
         "linecolor": "black",
         "linewidth": 2,
         "showgrid": false,
         "showline": true,
         "zeroline": false
        },
        "yaxis6": {
         "anchor": "x3",
         "linecolor": "black",
         "linewidth": 2,
         "overlaying": "y5",
         "showgrid": false,
         "showline": true,
         "side": "right",
         "zeroline": false
        },
        "yaxis7": {
         "anchor": "x4",
         "domain": [
          0.7653061224489794,
          0.8469387755102039
         ],
         "linecolor": "black",
         "linewidth": 2,
         "showgrid": false,
         "showline": true,
         "zeroline": false
        },
        "yaxis8": {
         "anchor": "x4",
         "linecolor": "black",
         "linewidth": 2,
         "overlaying": "y7",
         "showgrid": false,
         "showline": true,
         "side": "right",
         "zeroline": false
        },
        "yaxis9": {
         "anchor": "x5",
         "domain": [
          0.7653061224489794,
          0.8469387755102039
         ],
         "linecolor": "black",
         "linewidth": 2,
         "showgrid": false,
         "showline": true,
         "zeroline": false
        }
       }
      },
      "text/html": [
       "<div>                            <div id=\"28794ee0-3a07-494e-99e0-b0489bcc544b\" class=\"plotly-graph-div\" style=\"height:350px; width:100%;\"></div>            <script type=\"text/javascript\">                require([\"plotly\"], function(Plotly) {                    window.PLOTLYENV=window.PLOTLYENV || {};                                    if (document.getElementById(\"28794ee0-3a07-494e-99e0-b0489bcc544b\")) {                    Plotly.newPlot(                        \"28794ee0-3a07-494e-99e0-b0489bcc544b\",                        [{\"fill\":\"tozeroy\",\"line\":{\"color\":\"blue\",\"width\":1},\"mode\":\"lines\",\"name\":\"Air Pollution Index (Max.)\",\"x\":[2000,2001,2002,2003,2004,2005,2006,2007,2008,2009,2010,2011,2012,2013,2014,2015,2016],\"y\":[79,84,126,86,77,133,104,73,76,179,89,96,97,93,84,99,149],\"type\":\"scatter\",\"xaxis\":\"x\",\"yaxis\":\"y2\"},{\"fill\":\"tozeroy\",\"line\":{\"color\":\"blue\",\"width\":1},\"mode\":\"lines\",\"name\":\"Air Pollution Index (Max.)\",\"x\":[2000,2001,2002,2003,2004,2005,2006,2007,2008,2009,2010,2011,2012,2013,2014,2015,2016],\"y\":[3,2,5,3,2,2,1,6,6,6,17,4,5,18,2,4,3],\"type\":\"scatter\",\"xaxis\":\"x\",\"yaxis\":\"y2\"},{\"fill\":\"tozeroy\",\"line\":{\"color\":\"blue\",\"width\":1},\"mode\":\"lines\",\"name\":\"Air Pollution Index (Max.)\",\"x\":[2000,2001,2002,2003,2004,2005,2006,2007,2008,2009,2010,2011,2012,2013,2014,2015,2016],\"y\":[79,84,126,86,77,133,104,73,76,179,89,96,97,93,84,99,149],\"type\":\"scatter\",\"xaxis\":\"x2\",\"yaxis\":\"y4\"},{\"fill\":\"tozeroy\",\"line\":{\"color\":\"blue\",\"width\":1},\"mode\":\"lines\",\"name\":\"Air Pollution Index (Min.)\",\"x\":[2000,2001,2002,2003,2004,2005,2006,2007,2008,2009,2010,2011,2012,2013,2014,2015,2016],\"y\":[3,2,5,3,2,2,1,6,6,6,17,4,5,18,2,4,3],\"type\":\"scatter\",\"xaxis\":\"x3\",\"yaxis\":\"y6\"},{\"fill\":\"tozeroy\",\"line\":{\"color\":\"blue\",\"width\":1},\"mode\":\"lines\",\"name\":\"Air Pollution Index (Max.)\",\"x\":[2000,2001,2002,2003,2004,2005,2006,2007,2008,2009,2010,2011,2012,2013,2014,2015,2016],\"y\":[122,127,105,114,147,114,153,92,80,137,139,97,83,415,128,176,87],\"type\":\"scatter\",\"xaxis\":\"x4\",\"yaxis\":\"y8\"},{\"fill\":\"tozeroy\",\"line\":{\"color\":\"blue\",\"width\":1},\"mode\":\"lines\",\"name\":\"Air Pollution Index (Max.)\",\"x\":[2000,2001,2002,2003,2004,2005,2006,2007,2008,2009,2010,2011,2012,2013,2014,2015,2016],\"y\":[4,3,5,6,5,2,5,4,3,4,22,12,3,16,5,6,5],\"type\":\"scatter\",\"xaxis\":\"x4\",\"yaxis\":\"y8\"},{\"fill\":\"tozeroy\",\"line\":{\"color\":\"blue\",\"width\":1},\"mode\":\"lines\",\"name\":\"Air Pollution Index (Max.)\",\"x\":[2000,2001,2002,2003,2004,2005,2006,2007,2008,2009,2010,2011,2012,2013,2014,2015,2016],\"y\":[122,127,105,114,147,114,153,92,80,137,139,97,83,415,128,176,87],\"type\":\"scatter\",\"xaxis\":\"x5\",\"yaxis\":\"y10\"},{\"fill\":\"tozeroy\",\"line\":{\"color\":\"blue\",\"width\":1},\"mode\":\"lines\",\"name\":\"Air Pollution Index (Min.)\",\"x\":[2000,2001,2002,2003,2004,2005,2006,2007,2008,2009,2010,2011,2012,2013,2014,2015,2016],\"y\":[4,3,5,6,5,2,5,4,3,4,22,12,3,16,5,6,5],\"type\":\"scatter\",\"xaxis\":\"x6\",\"yaxis\":\"y12\"},{\"fill\":\"tozeroy\",\"line\":{\"color\":\"blue\",\"width\":1},\"mode\":\"lines\",\"name\":\"Air Pollution Index (Max.)\",\"x\":[2000,2001,2002,2003,2004,2005,2006,2007,2008,2009,2010,2011,2012,2013,2014,2015,2016],\"y\":[141,157,153,143,97,390,162,131,135,168,169,150,155,186,170,185,151],\"type\":\"scatter\",\"xaxis\":\"x7\",\"yaxis\":\"y14\"},{\"fill\":\"tozeroy\",\"line\":{\"color\":\"blue\",\"width\":1},\"mode\":\"lines\",\"name\":\"Air Pollution Index (Max.)\",\"x\":[2000,2001,2002,2003,2004,2005,2006,2007,2008,2009,2010,2011,2012,2013,2014,2015,2016],\"y\":[13,16,11,11,32,5,5,4,8,4,26,11,4,22,3,9,7],\"type\":\"scatter\",\"xaxis\":\"x7\",\"yaxis\":\"y14\"},{\"fill\":\"tozeroy\",\"line\":{\"color\":\"blue\",\"width\":1},\"mode\":\"lines\",\"name\":\"Air Pollution Index (Max.)\",\"x\":[2000,2001,2002,2003,2004,2005,2006,2007,2008,2009,2010,2011,2012,2013,2014,2015,2016],\"y\":[141,157,153,143,97,390,162,131,135,168,169,150,155,186,170,185,151],\"type\":\"scatter\",\"xaxis\":\"x8\",\"yaxis\":\"y16\"},{\"fill\":\"tozeroy\",\"line\":{\"color\":\"blue\",\"width\":1},\"mode\":\"lines\",\"name\":\"Air Pollution Index (Min.)\",\"x\":[2000,2001,2002,2003,2004,2005,2006,2007,2008,2009,2010,2011,2012,2013,2014,2015,2016],\"y\":[13,16,11,11,32,5,5,4,8,4,26,11,4,22,3,9,7],\"type\":\"scatter\",\"xaxis\":\"x9\",\"yaxis\":\"y18\"},{\"fill\":\"tozeroy\",\"line\":{\"color\":\"blue\",\"width\":1},\"mode\":\"lines\",\"name\":\"Air Pollution Index (Max.)\",\"x\":[2000,2001,2002,2003,2004,2005,2006,2007,2008,2009,2010,2011,2012,2013,2014,2015,2016],\"y\":[70,80,88,76,62,63,86,64,55,78,68,61,61,90,59,75,73],\"type\":\"scatter\",\"xaxis\":\"x10\",\"yaxis\":\"y20\"},{\"fill\":\"tozeroy\",\"line\":{\"color\":\"blue\",\"width\":1},\"mode\":\"lines\",\"name\":\"Air Pollution Index (Max.)\",\"x\":[2000,2001,2002,2003,2004,2005,2006,2007,2008,2009,2010,2011,2012,2013,2014,2015,2016],\"y\":[1,1,8,2,1,2,2,3,1,1,10,2,1,8,3,5,3],\"type\":\"scatter\",\"xaxis\":\"x10\",\"yaxis\":\"y20\"},{\"fill\":\"tozeroy\",\"line\":{\"color\":\"blue\",\"width\":1},\"mode\":\"lines\",\"name\":\"Air Pollution Index (Max.)\",\"x\":[2000,2001,2002,2003,2004,2005,2006,2007,2008,2009,2010,2011,2012,2013,2014,2015,2016],\"y\":[70,80,88,76,62,63,86,64,55,78,68,61,61,90,59,75,73],\"type\":\"scatter\",\"xaxis\":\"x11\",\"yaxis\":\"y22\"},{\"fill\":\"tozeroy\",\"line\":{\"color\":\"blue\",\"width\":1},\"mode\":\"lines\",\"name\":\"Air Pollution Index (Min.)\",\"x\":[2000,2001,2002,2003,2004,2005,2006,2007,2008,2009,2010,2011,2012,2013,2014,2015,2016],\"y\":[1,1,8,2,1,2,2,3,1,1,10,2,1,8,3,5,3],\"type\":\"scatter\",\"xaxis\":\"x12\",\"yaxis\":\"y24\"},{\"fill\":\"tozeroy\",\"line\":{\"color\":\"blue\",\"width\":1},\"mode\":\"lines\",\"name\":\"Air Pollution Index (Max.)\",\"x\":[2000,2001,2002,2003,2004,2005,2006,2007,2008,2009,2010,2011,2012,2013,2014,2015,2016],\"y\":[84,84,130,85,97,78,188,75,72,114,54,100,93,89,123,209,71],\"type\":\"scatter\",\"xaxis\":\"x13\",\"yaxis\":\"y26\"},{\"fill\":\"tozeroy\",\"line\":{\"color\":\"blue\",\"width\":1},\"mode\":\"lines\",\"name\":\"Air Pollution Index (Max.)\",\"x\":[2000,2001,2002,2003,2004,2005,2006,2007,2008,2009,2010,2011,2012,2013,2014,2015,2016],\"y\":[1,1,1,6,17,23,5,6,5,10,16,4,16,17,11,5,6],\"type\":\"scatter\",\"xaxis\":\"x13\",\"yaxis\":\"y26\"},{\"fill\":\"tozeroy\",\"line\":{\"color\":\"blue\",\"width\":1},\"mode\":\"lines\",\"name\":\"Air Pollution Index (Max.)\",\"x\":[2000,2001,2002,2003,2004,2005,2006,2007,2008,2009,2010,2011,2012,2013,2014,2015,2016],\"y\":[84,84,130,85,97,78,188,75,72,114,54,100,93,89,123,209,71],\"type\":\"scatter\",\"xaxis\":\"x14\",\"yaxis\":\"y28\"},{\"fill\":\"tozeroy\",\"line\":{\"color\":\"blue\",\"width\":1},\"mode\":\"lines\",\"name\":\"Air Pollution Index (Min.)\",\"x\":[2000,2001,2002,2003,2004,2005,2006,2007,2008,2009,2010,2011,2012,2013,2014,2015,2016],\"y\":[1,1,1,6,17,23,5,6,5,10,16,4,16,17,11,5,6],\"type\":\"scatter\",\"xaxis\":\"x15\",\"yaxis\":\"y30\"},{\"fill\":\"tozeroy\",\"line\":{\"color\":\"blue\",\"width\":1},\"mode\":\"lines\",\"name\":\"Air Pollution Index (Max.)\",\"x\":[2000,2001,2002,2003,2004,2005,2006,2007,2008,2009,2010,2011,2012,2013,2014,2015,2016],\"y\":[119,119,116,112,126,111,143,141,101,99,111,84,137,226,198,192,109],\"type\":\"scatter\",\"xaxis\":\"x16\",\"yaxis\":\"y32\"},{\"fill\":\"tozeroy\",\"line\":{\"color\":\"blue\",\"width\":1},\"mode\":\"lines\",\"name\":\"Air Pollution Index (Max.)\",\"x\":[2000,2001,2002,2003,2004,2005,2006,2007,2008,2009,2010,2011,2012,2013,2014,2015,2016],\"y\":[7,10,4,2,8,1,5,0,5,2,15,3,2,17,10,28,5],\"type\":\"scatter\",\"xaxis\":\"x16\",\"yaxis\":\"y32\"},{\"fill\":\"tozeroy\",\"line\":{\"color\":\"blue\",\"width\":1},\"mode\":\"lines\",\"name\":\"Air Pollution Index (Max.)\",\"x\":[2000,2001,2002,2003,2004,2005,2006,2007,2008,2009,2010,2011,2012,2013,2014,2015,2016],\"y\":[119,119,116,112,126,111,143,141,101,99,111,84,137,226,198,192,109],\"type\":\"scatter\",\"xaxis\":\"x17\",\"yaxis\":\"y34\"},{\"fill\":\"tozeroy\",\"line\":{\"color\":\"blue\",\"width\":1},\"mode\":\"lines\",\"name\":\"Air Pollution Index (Min.)\",\"x\":[2000,2001,2002,2003,2004,2005,2006,2007,2008,2009,2010,2011,2012,2013,2014,2015,2016],\"y\":[7,10,4,2,8,1,5,0,5,2,15,3,2,17,10,28,5],\"type\":\"scatter\",\"xaxis\":\"x18\",\"yaxis\":\"y36\"},{\"fill\":\"tozeroy\",\"line\":{\"color\":\"blue\",\"width\":1},\"mode\":\"lines\",\"name\":\"Air Pollution Index (Max.)\",\"x\":[2000,2001,2002,2003,2004,2005,2006,2007,2008,2009,2010,2011,2012,2013,2014,2015,2016],\"y\":[127,140,115,106,121,151,121,101,99,106,93,98,105,132,119,287,87],\"type\":\"scatter\",\"xaxis\":\"x19\",\"yaxis\":\"y38\"},{\"fill\":\"tozeroy\",\"line\":{\"color\":\"blue\",\"width\":1},\"mode\":\"lines\",\"name\":\"Air Pollution Index (Max.)\",\"x\":[2000,2001,2002,2003,2004,2005,2006,2007,2008,2009,2010,2011,2012,2013,2014,2015,2016],\"y\":[4,8,4,11,8,10,6,8,6,5,28,6,6,27,14,9,7],\"type\":\"scatter\",\"xaxis\":\"x19\",\"yaxis\":\"y38\"},{\"fill\":\"tozeroy\",\"line\":{\"color\":\"blue\",\"width\":1},\"mode\":\"lines\",\"name\":\"Air Pollution Index (Max.)\",\"x\":[2000,2001,2002,2003,2004,2005,2006,2007,2008,2009,2010,2011,2012,2013,2014,2015,2016],\"y\":[127,140,115,106,121,151,121,101,99,106,93,98,105,132,119,287,87],\"type\":\"scatter\",\"xaxis\":\"x20\",\"yaxis\":\"y40\"},{\"fill\":\"tozeroy\",\"line\":{\"color\":\"blue\",\"width\":1},\"mode\":\"lines\",\"name\":\"Air Pollution Index (Min.)\",\"x\":[2000,2001,2002,2003,2004,2005,2006,2007,2008,2009,2010,2011,2012,2013,2014,2015,2016],\"y\":[4,8,4,11,8,10,6,8,6,5,28,6,6,27,14,9,7],\"type\":\"scatter\",\"xaxis\":\"x21\",\"yaxis\":\"y42\"}],                        {\"template\":{\"data\":{\"histogram2dcontour\":[{\"type\":\"histogram2dcontour\",\"colorbar\":{\"outlinewidth\":0,\"ticks\":\"\"},\"colorscale\":[[0.0,\"#0d0887\"],[0.1111111111111111,\"#46039f\"],[0.2222222222222222,\"#7201a8\"],[0.3333333333333333,\"#9c179e\"],[0.4444444444444444,\"#bd3786\"],[0.5555555555555556,\"#d8576b\"],[0.6666666666666666,\"#ed7953\"],[0.7777777777777778,\"#fb9f3a\"],[0.8888888888888888,\"#fdca26\"],[1.0,\"#f0f921\"]]}],\"choropleth\":[{\"type\":\"choropleth\",\"colorbar\":{\"outlinewidth\":0,\"ticks\":\"\"}}],\"histogram2d\":[{\"type\":\"histogram2d\",\"colorbar\":{\"outlinewidth\":0,\"ticks\":\"\"},\"colorscale\":[[0.0,\"#0d0887\"],[0.1111111111111111,\"#46039f\"],[0.2222222222222222,\"#7201a8\"],[0.3333333333333333,\"#9c179e\"],[0.4444444444444444,\"#bd3786\"],[0.5555555555555556,\"#d8576b\"],[0.6666666666666666,\"#ed7953\"],[0.7777777777777778,\"#fb9f3a\"],[0.8888888888888888,\"#fdca26\"],[1.0,\"#f0f921\"]]}],\"heatmap\":[{\"type\":\"heatmap\",\"colorbar\":{\"outlinewidth\":0,\"ticks\":\"\"},\"colorscale\":[[0.0,\"#0d0887\"],[0.1111111111111111,\"#46039f\"],[0.2222222222222222,\"#7201a8\"],[0.3333333333333333,\"#9c179e\"],[0.4444444444444444,\"#bd3786\"],[0.5555555555555556,\"#d8576b\"],[0.6666666666666666,\"#ed7953\"],[0.7777777777777778,\"#fb9f3a\"],[0.8888888888888888,\"#fdca26\"],[1.0,\"#f0f921\"]]}],\"heatmapgl\":[{\"type\":\"heatmapgl\",\"colorbar\":{\"outlinewidth\":0,\"ticks\":\"\"},\"colorscale\":[[0.0,\"#0d0887\"],[0.1111111111111111,\"#46039f\"],[0.2222222222222222,\"#7201a8\"],[0.3333333333333333,\"#9c179e\"],[0.4444444444444444,\"#bd3786\"],[0.5555555555555556,\"#d8576b\"],[0.6666666666666666,\"#ed7953\"],[0.7777777777777778,\"#fb9f3a\"],[0.8888888888888888,\"#fdca26\"],[1.0,\"#f0f921\"]]}],\"contourcarpet\":[{\"type\":\"contourcarpet\",\"colorbar\":{\"outlinewidth\":0,\"ticks\":\"\"}}],\"contour\":[{\"type\":\"contour\",\"colorbar\":{\"outlinewidth\":0,\"ticks\":\"\"},\"colorscale\":[[0.0,\"#0d0887\"],[0.1111111111111111,\"#46039f\"],[0.2222222222222222,\"#7201a8\"],[0.3333333333333333,\"#9c179e\"],[0.4444444444444444,\"#bd3786\"],[0.5555555555555556,\"#d8576b\"],[0.6666666666666666,\"#ed7953\"],[0.7777777777777778,\"#fb9f3a\"],[0.8888888888888888,\"#fdca26\"],[1.0,\"#f0f921\"]]}],\"surface\":[{\"type\":\"surface\",\"colorbar\":{\"outlinewidth\":0,\"ticks\":\"\"},\"colorscale\":[[0.0,\"#0d0887\"],[0.1111111111111111,\"#46039f\"],[0.2222222222222222,\"#7201a8\"],[0.3333333333333333,\"#9c179e\"],[0.4444444444444444,\"#bd3786\"],[0.5555555555555556,\"#d8576b\"],[0.6666666666666666,\"#ed7953\"],[0.7777777777777778,\"#fb9f3a\"],[0.8888888888888888,\"#fdca26\"],[1.0,\"#f0f921\"]]}],\"mesh3d\":[{\"type\":\"mesh3d\",\"colorbar\":{\"outlinewidth\":0,\"ticks\":\"\"}}],\"scatter\":[{\"fillpattern\":{\"fillmode\":\"overlay\",\"size\":10,\"solidity\":0.2},\"type\":\"scatter\"}],\"parcoords\":[{\"type\":\"parcoords\",\"line\":{\"colorbar\":{\"outlinewidth\":0,\"ticks\":\"\"}}}],\"scatterpolargl\":[{\"type\":\"scatterpolargl\",\"marker\":{\"colorbar\":{\"outlinewidth\":0,\"ticks\":\"\"}}}],\"bar\":[{\"error_x\":{\"color\":\"#2a3f5f\"},\"error_y\":{\"color\":\"#2a3f5f\"},\"marker\":{\"line\":{\"color\":\"#E5ECF6\",\"width\":0.5},\"pattern\":{\"fillmode\":\"overlay\",\"size\":10,\"solidity\":0.2}},\"type\":\"bar\"}],\"scattergeo\":[{\"type\":\"scattergeo\",\"marker\":{\"colorbar\":{\"outlinewidth\":0,\"ticks\":\"\"}}}],\"scatterpolar\":[{\"type\":\"scatterpolar\",\"marker\":{\"colorbar\":{\"outlinewidth\":0,\"ticks\":\"\"}}}],\"histogram\":[{\"marker\":{\"pattern\":{\"fillmode\":\"overlay\",\"size\":10,\"solidity\":0.2}},\"type\":\"histogram\"}],\"scattergl\":[{\"type\":\"scattergl\",\"marker\":{\"colorbar\":{\"outlinewidth\":0,\"ticks\":\"\"}}}],\"scatter3d\":[{\"type\":\"scatter3d\",\"line\":{\"colorbar\":{\"outlinewidth\":0,\"ticks\":\"\"}},\"marker\":{\"colorbar\":{\"outlinewidth\":0,\"ticks\":\"\"}}}],\"scattermapbox\":[{\"type\":\"scattermapbox\",\"marker\":{\"colorbar\":{\"outlinewidth\":0,\"ticks\":\"\"}}}],\"scatterternary\":[{\"type\":\"scatterternary\",\"marker\":{\"colorbar\":{\"outlinewidth\":0,\"ticks\":\"\"}}}],\"scattercarpet\":[{\"type\":\"scattercarpet\",\"marker\":{\"colorbar\":{\"outlinewidth\":0,\"ticks\":\"\"}}}],\"carpet\":[{\"aaxis\":{\"endlinecolor\":\"#2a3f5f\",\"gridcolor\":\"white\",\"linecolor\":\"white\",\"minorgridcolor\":\"white\",\"startlinecolor\":\"#2a3f5f\"},\"baxis\":{\"endlinecolor\":\"#2a3f5f\",\"gridcolor\":\"white\",\"linecolor\":\"white\",\"minorgridcolor\":\"white\",\"startlinecolor\":\"#2a3f5f\"},\"type\":\"carpet\"}],\"table\":[{\"cells\":{\"fill\":{\"color\":\"#EBF0F8\"},\"line\":{\"color\":\"white\"}},\"header\":{\"fill\":{\"color\":\"#C8D4E3\"},\"line\":{\"color\":\"white\"}},\"type\":\"table\"}],\"barpolar\":[{\"marker\":{\"line\":{\"color\":\"#E5ECF6\",\"width\":0.5},\"pattern\":{\"fillmode\":\"overlay\",\"size\":10,\"solidity\":0.2}},\"type\":\"barpolar\"}],\"pie\":[{\"automargin\":true,\"type\":\"pie\"}]},\"layout\":{\"autotypenumbers\":\"strict\",\"colorway\":[\"#636efa\",\"#EF553B\",\"#00cc96\",\"#ab63fa\",\"#FFA15A\",\"#19d3f3\",\"#FF6692\",\"#B6E880\",\"#FF97FF\",\"#FECB52\"],\"font\":{\"color\":\"#2a3f5f\"},\"hovermode\":\"closest\",\"hoverlabel\":{\"align\":\"left\"},\"paper_bgcolor\":\"white\",\"plot_bgcolor\":\"#E5ECF6\",\"polar\":{\"bgcolor\":\"#E5ECF6\",\"angularaxis\":{\"gridcolor\":\"white\",\"linecolor\":\"white\",\"ticks\":\"\"},\"radialaxis\":{\"gridcolor\":\"white\",\"linecolor\":\"white\",\"ticks\":\"\"}},\"ternary\":{\"bgcolor\":\"#E5ECF6\",\"aaxis\":{\"gridcolor\":\"white\",\"linecolor\":\"white\",\"ticks\":\"\"},\"baxis\":{\"gridcolor\":\"white\",\"linecolor\":\"white\",\"ticks\":\"\"},\"caxis\":{\"gridcolor\":\"white\",\"linecolor\":\"white\",\"ticks\":\"\"}},\"coloraxis\":{\"colorbar\":{\"outlinewidth\":0,\"ticks\":\"\"}},\"colorscale\":{\"sequential\":[[0.0,\"#0d0887\"],[0.1111111111111111,\"#46039f\"],[0.2222222222222222,\"#7201a8\"],[0.3333333333333333,\"#9c179e\"],[0.4444444444444444,\"#bd3786\"],[0.5555555555555556,\"#d8576b\"],[0.6666666666666666,\"#ed7953\"],[0.7777777777777778,\"#fb9f3a\"],[0.8888888888888888,\"#fdca26\"],[1.0,\"#f0f921\"]],\"sequentialminus\":[[0.0,\"#0d0887\"],[0.1111111111111111,\"#46039f\"],[0.2222222222222222,\"#7201a8\"],[0.3333333333333333,\"#9c179e\"],[0.4444444444444444,\"#bd3786\"],[0.5555555555555556,\"#d8576b\"],[0.6666666666666666,\"#ed7953\"],[0.7777777777777778,\"#fb9f3a\"],[0.8888888888888888,\"#fdca26\"],[1.0,\"#f0f921\"]],\"diverging\":[[0,\"#8e0152\"],[0.1,\"#c51b7d\"],[0.2,\"#de77ae\"],[0.3,\"#f1b6da\"],[0.4,\"#fde0ef\"],[0.5,\"#f7f7f7\"],[0.6,\"#e6f5d0\"],[0.7,\"#b8e186\"],[0.8,\"#7fbc41\"],[0.9,\"#4d9221\"],[1,\"#276419\"]]},\"xaxis\":{\"gridcolor\":\"white\",\"linecolor\":\"white\",\"ticks\":\"\",\"title\":{\"standoff\":15},\"zerolinecolor\":\"white\",\"automargin\":true,\"zerolinewidth\":2},\"yaxis\":{\"gridcolor\":\"white\",\"linecolor\":\"white\",\"ticks\":\"\",\"title\":{\"standoff\":15},\"zerolinecolor\":\"white\",\"automargin\":true,\"zerolinewidth\":2},\"scene\":{\"xaxis\":{\"backgroundcolor\":\"#E5ECF6\",\"gridcolor\":\"white\",\"linecolor\":\"white\",\"showbackground\":true,\"ticks\":\"\",\"zerolinecolor\":\"white\",\"gridwidth\":2},\"yaxis\":{\"backgroundcolor\":\"#E5ECF6\",\"gridcolor\":\"white\",\"linecolor\":\"white\",\"showbackground\":true,\"ticks\":\"\",\"zerolinecolor\":\"white\",\"gridwidth\":2},\"zaxis\":{\"backgroundcolor\":\"#E5ECF6\",\"gridcolor\":\"white\",\"linecolor\":\"white\",\"showbackground\":true,\"ticks\":\"\",\"zerolinecolor\":\"white\",\"gridwidth\":2}},\"shapedefaults\":{\"line\":{\"color\":\"#2a3f5f\"}},\"annotationdefaults\":{\"arrowcolor\":\"#2a3f5f\",\"arrowhead\":0,\"arrowwidth\":1},\"geo\":{\"bgcolor\":\"white\",\"landcolor\":\"#E5ECF6\",\"subunitcolor\":\"white\",\"showland\":true,\"showlakes\":true,\"lakecolor\":\"white\"},\"title\":{\"x\":0.05},\"mapbox\":{\"style\":\"light\"}}},\"xaxis\":{\"anchor\":\"y\",\"domain\":[0.0,0.22444444444444445],\"title\":{\"text\":\"\"},\"showgrid\":false,\"zeroline\":false,\"showline\":true,\"linewidth\":2,\"linecolor\":\"black\"},\"yaxis\":{\"anchor\":\"x\",\"domain\":[0.9183673469387754,0.9999999999999999],\"showgrid\":false,\"zeroline\":false,\"showline\":true,\"linewidth\":2,\"linecolor\":\"black\"},\"yaxis2\":{\"anchor\":\"x\",\"overlaying\":\"y\",\"side\":\"right\",\"showgrid\":false,\"zeroline\":false,\"showline\":true,\"linewidth\":2,\"linecolor\":\"black\"},\"xaxis2\":{\"anchor\":\"y3\",\"domain\":[0.35777777777777775,0.5822222222222222],\"title\":{\"text\":\"\"},\"showgrid\":false,\"zeroline\":false,\"showline\":true,\"linewidth\":2,\"linecolor\":\"black\"},\"yaxis3\":{\"anchor\":\"x2\",\"domain\":[0.9183673469387754,0.9999999999999999],\"showgrid\":false,\"zeroline\":false,\"showline\":true,\"linewidth\":2,\"linecolor\":\"black\"},\"yaxis4\":{\"anchor\":\"x2\",\"overlaying\":\"y3\",\"side\":\"right\",\"showgrid\":false,\"zeroline\":false,\"showline\":true,\"linewidth\":2,\"linecolor\":\"black\"},\"xaxis3\":{\"anchor\":\"y5\",\"domain\":[0.7155555555555555,0.94],\"title\":{\"text\":\"\"},\"showgrid\":false,\"zeroline\":false,\"showline\":true,\"linewidth\":2,\"linecolor\":\"black\"},\"yaxis5\":{\"anchor\":\"x3\",\"domain\":[0.9183673469387754,0.9999999999999999],\"showgrid\":false,\"zeroline\":false,\"showline\":true,\"linewidth\":2,\"linecolor\":\"black\"},\"yaxis6\":{\"anchor\":\"x3\",\"overlaying\":\"y5\",\"side\":\"right\",\"showgrid\":false,\"zeroline\":false,\"showline\":true,\"linewidth\":2,\"linecolor\":\"black\"},\"xaxis4\":{\"anchor\":\"y7\",\"domain\":[0.0,0.22444444444444445],\"title\":{\"text\":\"\"},\"showgrid\":false,\"zeroline\":false,\"showline\":true,\"linewidth\":2,\"linecolor\":\"black\"},\"yaxis7\":{\"anchor\":\"x4\",\"domain\":[0.7653061224489794,0.8469387755102039],\"showgrid\":false,\"zeroline\":false,\"showline\":true,\"linewidth\":2,\"linecolor\":\"black\"},\"yaxis8\":{\"anchor\":\"x4\",\"overlaying\":\"y7\",\"side\":\"right\",\"showgrid\":false,\"zeroline\":false,\"showline\":true,\"linewidth\":2,\"linecolor\":\"black\"},\"xaxis5\":{\"anchor\":\"y9\",\"domain\":[0.35777777777777775,0.5822222222222222],\"title\":{\"text\":\"\"},\"showgrid\":false,\"zeroline\":false,\"showline\":true,\"linewidth\":2,\"linecolor\":\"black\"},\"yaxis9\":{\"anchor\":\"x5\",\"domain\":[0.7653061224489794,0.8469387755102039],\"showgrid\":false,\"zeroline\":false,\"showline\":true,\"linewidth\":2,\"linecolor\":\"black\"},\"yaxis10\":{\"anchor\":\"x5\",\"overlaying\":\"y9\",\"side\":\"right\",\"showgrid\":false,\"zeroline\":false,\"showline\":true,\"linewidth\":2,\"linecolor\":\"black\"},\"xaxis6\":{\"anchor\":\"y11\",\"domain\":[0.7155555555555555,0.94],\"title\":{\"text\":\"\"},\"showgrid\":false,\"zeroline\":false,\"showline\":true,\"linewidth\":2,\"linecolor\":\"black\"},\"yaxis11\":{\"anchor\":\"x6\",\"domain\":[0.7653061224489794,0.8469387755102039],\"showgrid\":false,\"zeroline\":false,\"showline\":true,\"linewidth\":2,\"linecolor\":\"black\"},\"yaxis12\":{\"anchor\":\"x6\",\"overlaying\":\"y11\",\"side\":\"right\",\"showgrid\":false,\"zeroline\":false,\"showline\":true,\"linewidth\":2,\"linecolor\":\"black\"},\"xaxis7\":{\"anchor\":\"y13\",\"domain\":[0.0,0.22444444444444445],\"title\":{\"text\":\"\"},\"showgrid\":false,\"zeroline\":false,\"showline\":true,\"linewidth\":2,\"linecolor\":\"black\"},\"yaxis13\":{\"anchor\":\"x7\",\"domain\":[0.6122448979591837,0.6938775510204082],\"showgrid\":false,\"zeroline\":false,\"showline\":true,\"linewidth\":2,\"linecolor\":\"black\"},\"yaxis14\":{\"anchor\":\"x7\",\"overlaying\":\"y13\",\"side\":\"right\",\"showgrid\":false,\"zeroline\":false,\"showline\":true,\"linewidth\":2,\"linecolor\":\"black\"},\"xaxis8\":{\"anchor\":\"y15\",\"domain\":[0.35777777777777775,0.5822222222222222],\"title\":{\"text\":\"\"},\"showgrid\":false,\"zeroline\":false,\"showline\":true,\"linewidth\":2,\"linecolor\":\"black\"},\"yaxis15\":{\"anchor\":\"x8\",\"domain\":[0.6122448979591837,0.6938775510204082],\"showgrid\":false,\"zeroline\":false,\"showline\":true,\"linewidth\":2,\"linecolor\":\"black\"},\"yaxis16\":{\"anchor\":\"x8\",\"overlaying\":\"y15\",\"side\":\"right\",\"showgrid\":false,\"zeroline\":false,\"showline\":true,\"linewidth\":2,\"linecolor\":\"black\"},\"xaxis9\":{\"anchor\":\"y17\",\"domain\":[0.7155555555555555,0.94],\"title\":{\"text\":\"\"},\"showgrid\":false,\"zeroline\":false,\"showline\":true,\"linewidth\":2,\"linecolor\":\"black\"},\"yaxis17\":{\"anchor\":\"x9\",\"domain\":[0.6122448979591837,0.6938775510204082],\"showgrid\":false,\"zeroline\":false,\"showline\":true,\"linewidth\":2,\"linecolor\":\"black\"},\"yaxis18\":{\"anchor\":\"x9\",\"overlaying\":\"y17\",\"side\":\"right\",\"showgrid\":false,\"zeroline\":false,\"showline\":true,\"linewidth\":2,\"linecolor\":\"black\"},\"xaxis10\":{\"anchor\":\"y19\",\"domain\":[0.0,0.22444444444444445],\"title\":{\"text\":\"\"},\"showgrid\":false,\"zeroline\":false,\"showline\":true,\"linewidth\":2,\"linecolor\":\"black\"},\"yaxis19\":{\"anchor\":\"x10\",\"domain\":[0.4591836734693877,0.5408163265306122],\"showgrid\":false,\"zeroline\":false,\"showline\":true,\"linewidth\":2,\"linecolor\":\"black\"},\"yaxis20\":{\"anchor\":\"x10\",\"overlaying\":\"y19\",\"side\":\"right\",\"showgrid\":false,\"zeroline\":false,\"showline\":true,\"linewidth\":2,\"linecolor\":\"black\"},\"xaxis11\":{\"anchor\":\"y21\",\"domain\":[0.35777777777777775,0.5822222222222222],\"title\":{\"text\":\"\"},\"showgrid\":false,\"zeroline\":false,\"showline\":true,\"linewidth\":2,\"linecolor\":\"black\"},\"yaxis21\":{\"anchor\":\"x11\",\"domain\":[0.4591836734693877,0.5408163265306122],\"showgrid\":false,\"zeroline\":false,\"showline\":true,\"linewidth\":2,\"linecolor\":\"black\"},\"yaxis22\":{\"anchor\":\"x11\",\"overlaying\":\"y21\",\"side\":\"right\",\"showgrid\":false,\"zeroline\":false,\"showline\":true,\"linewidth\":2,\"linecolor\":\"black\"},\"xaxis12\":{\"anchor\":\"y23\",\"domain\":[0.7155555555555555,0.94],\"title\":{\"text\":\"\"},\"showgrid\":false,\"zeroline\":false,\"showline\":true,\"linewidth\":2,\"linecolor\":\"black\"},\"yaxis23\":{\"anchor\":\"x12\",\"domain\":[0.4591836734693877,0.5408163265306122],\"showgrid\":false,\"zeroline\":false,\"showline\":true,\"linewidth\":2,\"linecolor\":\"black\"},\"yaxis24\":{\"anchor\":\"x12\",\"overlaying\":\"y23\",\"side\":\"right\",\"showgrid\":false,\"zeroline\":false,\"showline\":true,\"linewidth\":2,\"linecolor\":\"black\"},\"xaxis13\":{\"anchor\":\"y25\",\"domain\":[0.0,0.22444444444444445],\"title\":{\"text\":\"\"},\"showgrid\":false,\"zeroline\":false,\"showline\":true,\"linewidth\":2,\"linecolor\":\"black\"},\"yaxis25\":{\"anchor\":\"x13\",\"domain\":[0.30612244897959184,0.3877551020408163],\"showgrid\":false,\"zeroline\":false,\"showline\":true,\"linewidth\":2,\"linecolor\":\"black\"},\"yaxis26\":{\"anchor\":\"x13\",\"overlaying\":\"y25\",\"side\":\"right\",\"showgrid\":false,\"zeroline\":false,\"showline\":true,\"linewidth\":2,\"linecolor\":\"black\"},\"xaxis14\":{\"anchor\":\"y27\",\"domain\":[0.35777777777777775,0.5822222222222222],\"title\":{\"text\":\"\"},\"showgrid\":false,\"zeroline\":false,\"showline\":true,\"linewidth\":2,\"linecolor\":\"black\"},\"yaxis27\":{\"anchor\":\"x14\",\"domain\":[0.30612244897959184,0.3877551020408163],\"showgrid\":false,\"zeroline\":false,\"showline\":true,\"linewidth\":2,\"linecolor\":\"black\"},\"yaxis28\":{\"anchor\":\"x14\",\"overlaying\":\"y27\",\"side\":\"right\",\"showgrid\":false,\"zeroline\":false,\"showline\":true,\"linewidth\":2,\"linecolor\":\"black\"},\"xaxis15\":{\"anchor\":\"y29\",\"domain\":[0.7155555555555555,0.94],\"title\":{\"text\":\"\"},\"showgrid\":false,\"zeroline\":false,\"showline\":true,\"linewidth\":2,\"linecolor\":\"black\"},\"yaxis29\":{\"anchor\":\"x15\",\"domain\":[0.30612244897959184,0.3877551020408163],\"showgrid\":false,\"zeroline\":false,\"showline\":true,\"linewidth\":2,\"linecolor\":\"black\"},\"yaxis30\":{\"anchor\":\"x15\",\"overlaying\":\"y29\",\"side\":\"right\",\"showgrid\":false,\"zeroline\":false,\"showline\":true,\"linewidth\":2,\"linecolor\":\"black\"},\"xaxis16\":{\"anchor\":\"y31\",\"domain\":[0.0,0.22444444444444445],\"title\":{\"text\":\"\"},\"showgrid\":false,\"zeroline\":false,\"showline\":true,\"linewidth\":2,\"linecolor\":\"black\"},\"yaxis31\":{\"anchor\":\"x16\",\"domain\":[0.15306122448979592,0.2346938775510204],\"showgrid\":false,\"zeroline\":false,\"showline\":true,\"linewidth\":2,\"linecolor\":\"black\"},\"yaxis32\":{\"anchor\":\"x16\",\"overlaying\":\"y31\",\"side\":\"right\",\"showgrid\":false,\"zeroline\":false,\"showline\":true,\"linewidth\":2,\"linecolor\":\"black\"},\"xaxis17\":{\"anchor\":\"y33\",\"domain\":[0.35777777777777775,0.5822222222222222],\"title\":{\"text\":\"\"},\"showgrid\":false,\"zeroline\":false,\"showline\":true,\"linewidth\":2,\"linecolor\":\"black\"},\"yaxis33\":{\"anchor\":\"x17\",\"domain\":[0.15306122448979592,0.2346938775510204],\"showgrid\":false,\"zeroline\":false,\"showline\":true,\"linewidth\":2,\"linecolor\":\"black\"},\"yaxis34\":{\"anchor\":\"x17\",\"overlaying\":\"y33\",\"side\":\"right\",\"showgrid\":false,\"zeroline\":false,\"showline\":true,\"linewidth\":2,\"linecolor\":\"black\"},\"xaxis18\":{\"anchor\":\"y35\",\"domain\":[0.7155555555555555,0.94],\"title\":{\"text\":\"\"},\"showgrid\":false,\"zeroline\":false,\"showline\":true,\"linewidth\":2,\"linecolor\":\"black\"},\"yaxis35\":{\"anchor\":\"x18\",\"domain\":[0.15306122448979592,0.2346938775510204],\"showgrid\":false,\"zeroline\":false,\"showline\":true,\"linewidth\":2,\"linecolor\":\"black\"},\"yaxis36\":{\"anchor\":\"x18\",\"overlaying\":\"y35\",\"side\":\"right\",\"showgrid\":false,\"zeroline\":false,\"showline\":true,\"linewidth\":2,\"linecolor\":\"black\"},\"xaxis19\":{\"anchor\":\"y37\",\"domain\":[0.0,0.22444444444444445],\"title\":{\"text\":\"\"},\"showgrid\":false,\"zeroline\":false,\"showline\":true,\"linewidth\":2,\"linecolor\":\"black\"},\"yaxis37\":{\"anchor\":\"x19\",\"domain\":[0.0,0.08163265306122448],\"showgrid\":false,\"zeroline\":false,\"showline\":true,\"linewidth\":2,\"linecolor\":\"black\"},\"yaxis38\":{\"anchor\":\"x19\",\"overlaying\":\"y37\",\"side\":\"right\",\"showgrid\":false,\"zeroline\":false,\"showline\":true,\"linewidth\":2,\"linecolor\":\"black\"},\"xaxis20\":{\"anchor\":\"y39\",\"domain\":[0.35777777777777775,0.5822222222222222],\"title\":{\"text\":\"\"},\"showgrid\":false,\"zeroline\":false,\"showline\":true,\"linewidth\":2,\"linecolor\":\"black\"},\"yaxis39\":{\"anchor\":\"x20\",\"domain\":[0.0,0.08163265306122448],\"showgrid\":false,\"zeroline\":false,\"showline\":true,\"linewidth\":2,\"linecolor\":\"black\"},\"yaxis40\":{\"anchor\":\"x20\",\"overlaying\":\"y39\",\"side\":\"right\",\"showgrid\":false,\"zeroline\":false,\"showline\":true,\"linewidth\":2,\"linecolor\":\"black\"},\"xaxis21\":{\"anchor\":\"y41\",\"domain\":[0.7155555555555555,0.94],\"title\":{\"text\":\"\"},\"showgrid\":false,\"zeroline\":false,\"showline\":true,\"linewidth\":2,\"linecolor\":\"black\"},\"yaxis41\":{\"anchor\":\"x21\",\"domain\":[0.0,0.08163265306122448],\"showgrid\":false,\"zeroline\":false,\"showline\":true,\"linewidth\":2,\"linecolor\":\"black\"},\"yaxis42\":{\"anchor\":\"x21\",\"overlaying\":\"y41\",\"side\":\"right\",\"showgrid\":false,\"zeroline\":false,\"showline\":true,\"linewidth\":2,\"linecolor\":\"black\"},\"annotations\":[{\"font\":{\"size\":11,\"family\":\"Helvetica\"},\"showarrow\":false,\"text\":\"<b>Miri API</b>\",\"x\":0.11222222222222222,\"xanchor\":\"center\",\"xref\":\"paper\",\"y\":0.9999999999999999,\"yanchor\":\"bottom\",\"yref\":\"paper\"},{\"font\":{\"size\":11,\"family\":\"Helvetica\"},\"showarrow\":false,\"text\":\"<b>API Max</b>\",\"x\":0.47,\"xanchor\":\"center\",\"xref\":\"paper\",\"y\":0.9999999999999999,\"yanchor\":\"bottom\",\"yref\":\"paper\"},{\"font\":{\"size\":11,\"family\":\"Helvetica\"},\"showarrow\":false,\"text\":\"<b>API Min</b>\",\"x\":0.8277777777777777,\"xanchor\":\"center\",\"xref\":\"paper\",\"y\":0.9999999999999999,\"yanchor\":\"bottom\",\"yref\":\"paper\"},{\"font\":{\"size\":11,\"family\":\"Helvetica\"},\"showarrow\":false,\"text\":\"<b>Melaka API</b>\",\"x\":0.11222222222222222,\"xanchor\":\"center\",\"xref\":\"paper\",\"y\":0.8469387755102039,\"yanchor\":\"bottom\",\"yref\":\"paper\"},{\"font\":{\"size\":11,\"family\":\"Helvetica\"},\"showarrow\":false,\"text\":\"<b>API Max</b>\",\"x\":0.47,\"xanchor\":\"center\",\"xref\":\"paper\",\"y\":0.8469387755102039,\"yanchor\":\"bottom\",\"yref\":\"paper\"},{\"font\":{\"size\":11,\"family\":\"Helvetica\"},\"showarrow\":false,\"text\":\"<b>API Min</b>\",\"x\":0.8277777777777777,\"xanchor\":\"center\",\"xref\":\"paper\",\"y\":0.8469387755102039,\"yanchor\":\"bottom\",\"yref\":\"paper\"},{\"font\":{\"size\":11,\"family\":\"Helvetica\"},\"showarrow\":false,\"text\":\"<b>Cheras API</b>\",\"x\":0.11222222222222222,\"xanchor\":\"center\",\"xref\":\"paper\",\"y\":0.6938775510204082,\"yanchor\":\"bottom\",\"yref\":\"paper\"},{\"font\":{\"size\":11,\"family\":\"Helvetica\"},\"showarrow\":false,\"text\":\"<b>API Max</b>\",\"x\":0.47,\"xanchor\":\"center\",\"xref\":\"paper\",\"y\":0.6938775510204082,\"yanchor\":\"bottom\",\"yref\":\"paper\"},{\"font\":{\"size\":11,\"family\":\"Helvetica\"},\"showarrow\":false,\"text\":\"<b>API Min</b>\",\"x\":0.8277777777777777,\"xanchor\":\"center\",\"xref\":\"paper\",\"y\":0.6938775510204082,\"yanchor\":\"bottom\",\"yref\":\"paper\"},{\"font\":{\"size\":11,\"family\":\"Helvetica\"},\"showarrow\":false,\"text\":\"<b>Kota Kinabalu API</b>\",\"x\":0.11222222222222222,\"xanchor\":\"center\",\"xref\":\"paper\",\"y\":0.5408163265306122,\"yanchor\":\"bottom\",\"yref\":\"paper\"},{\"font\":{\"size\":11,\"family\":\"Helvetica\"},\"showarrow\":false,\"text\":\"<b>API Max</b>\",\"x\":0.47,\"xanchor\":\"center\",\"xref\":\"paper\",\"y\":0.5408163265306122,\"yanchor\":\"bottom\",\"yref\":\"paper\"},{\"font\":{\"size\":11,\"family\":\"Helvetica\"},\"showarrow\":false,\"text\":\"<b>API Min</b>\",\"x\":0.8277777777777777,\"xanchor\":\"center\",\"xref\":\"paper\",\"y\":0.5408163265306122,\"yanchor\":\"bottom\",\"yref\":\"paper\"},{\"font\":{\"size\":11,\"family\":\"Helvetica\"},\"showarrow\":false,\"text\":\"<b>Kuching API</b>\",\"x\":0.11222222222222222,\"xanchor\":\"center\",\"xref\":\"paper\",\"y\":0.3877551020408163,\"yanchor\":\"bottom\",\"yref\":\"paper\"},{\"font\":{\"size\":11,\"family\":\"Helvetica\"},\"showarrow\":false,\"text\":\"<b>API Max</b>\",\"x\":0.47,\"xanchor\":\"center\",\"xref\":\"paper\",\"y\":0.3877551020408163,\"yanchor\":\"bottom\",\"yref\":\"paper\"},{\"font\":{\"size\":11,\"family\":\"Helvetica\"},\"showarrow\":false,\"text\":\"<b>API Min</b>\",\"x\":0.8277777777777777,\"xanchor\":\"center\",\"xref\":\"paper\",\"y\":0.3877551020408163,\"yanchor\":\"bottom\",\"yref\":\"paper\"},{\"font\":{\"size\":11,\"family\":\"Helvetica\"},\"showarrow\":false,\"text\":\"<b>Larkin API</b>\",\"x\":0.11222222222222222,\"xanchor\":\"center\",\"xref\":\"paper\",\"y\":0.2346938775510204,\"yanchor\":\"bottom\",\"yref\":\"paper\"},{\"font\":{\"size\":11,\"family\":\"Helvetica\"},\"showarrow\":false,\"text\":\"<b>API Max</b>\",\"x\":0.47,\"xanchor\":\"center\",\"xref\":\"paper\",\"y\":0.2346938775510204,\"yanchor\":\"bottom\",\"yref\":\"paper\"},{\"font\":{\"size\":11,\"family\":\"Helvetica\"},\"showarrow\":false,\"text\":\"<b>API Min</b>\",\"x\":0.8277777777777777,\"xanchor\":\"center\",\"xref\":\"paper\",\"y\":0.2346938775510204,\"yanchor\":\"bottom\",\"yref\":\"paper\"},{\"font\":{\"size\":11,\"family\":\"Helvetica\"},\"showarrow\":false,\"text\":\"<b>Seberang Jaya API</b>\",\"x\":0.11222222222222222,\"xanchor\":\"center\",\"xref\":\"paper\",\"y\":0.08163265306122448,\"yanchor\":\"bottom\",\"yref\":\"paper\"},{\"font\":{\"size\":11,\"family\":\"Helvetica\"},\"showarrow\":false,\"text\":\"<b>API Max</b>\",\"x\":0.47,\"xanchor\":\"center\",\"xref\":\"paper\",\"y\":0.08163265306122448,\"yanchor\":\"bottom\",\"yref\":\"paper\"},{\"font\":{\"size\":11,\"family\":\"Helvetica\"},\"showarrow\":false,\"text\":\"<b>API Min</b>\",\"x\":0.8277777777777777,\"xanchor\":\"center\",\"xref\":\"paper\",\"y\":0.08163265306122448,\"yanchor\":\"bottom\",\"yref\":\"paper\"}],\"title\":{\"text\":\"Malaysia Air Pollutant Index Stations\",\"x\":0.5},\"showlegend\":false,\"height\":350,\"font\":{\"family\":\"Helvetica\",\"size\":11}},                        {\"responsive\": true}                    ).then(function(){\n",
       "                            \n",
       "var gd = document.getElementById('28794ee0-3a07-494e-99e0-b0489bcc544b');\n",
       "var x = new MutationObserver(function (mutations, observer) {{\n",
       "        var display = window.getComputedStyle(gd).display;\n",
       "        if (!display || display === 'none') {{\n",
       "            console.log([gd, 'removed!']);\n",
       "            Plotly.purge(gd);\n",
       "            observer.disconnect();\n",
       "        }}\n",
       "}});\n",
       "\n",
       "// Listen for the removal of the full notebook cells\n",
       "var notebookContainer = gd.closest('#notebook-container');\n",
       "if (notebookContainer) {{\n",
       "    x.observe(notebookContainer, {childList: true});\n",
       "}}\n",
       "\n",
       "// Listen for the clearing of the current output cell\n",
       "var outputEl = gd.closest('.output');\n",
       "if (outputEl) {{\n",
       "    x.observe(outputEl, {childList: true});\n",
       "}}\n",
       "\n",
       "                        })                };                });            </script>        </div>"
      ]
     },
     "metadata": {},
     "output_type": "display_data"
    }
   ],
   "source": [
    "fig = make_subplots(rows=7, cols=3, specs=[[{'secondary_y': True},{'secondary_y': True},{'secondary_y': True}],\n",
    "                                           [{'secondary_y': True},{'secondary_y': True},{'secondary_y': True}],\n",
    "                                           [{'secondary_y': True},{'secondary_y': True},{'secondary_y': True}],\n",
    "                                           [{'secondary_y': True},{'secondary_y': True},{'secondary_y': True}],\n",
    "                                           [{'secondary_y': True},{'secondary_y': True},{'secondary_y': True}],\n",
    "                                           [{'secondary_y': True},{'secondary_y': True},{'secondary_y': True}],\n",
    "                                           [{'secondary_y': True},{'secondary_y': True},{'secondary_y': True}]],\n",
    "                    \n",
    "subplot_titles=('<b>Miri API</b>','<b>API Max</b>','<b>API Min</b>',\n",
    "                '<b>Melaka API</b>','<b>API Max</b>','<b>API Min</b>',\n",
    "                '<b>Cheras API</b>','<b>API Max</b>','<b>API Min</b>',\n",
    "                '<b>Kota Kinabalu API</b>','<b>API Max</b>','<b>API Min</b>',\n",
    "                '<b>Kuching API</b>','<b>API Max</b>','<b>API Min</b>',\n",
    "                '<b>Larkin API</b>','<b>API Max</b>','<b>API Min</b>',\n",
    "                '<b>Seberang Jaya API</b>','<b>API Max</b>','<b>API Min</b>'))\n",
    "#Graph Miri\n",
    "fig.add_trace(go.Scatter(x = df_miri['Year'], y = df_miri['Air Pollution Index (Max.)'],fill='tozeroy',\n",
    "                         mode='lines',name = 'Air Pollution Index (Max.)',\n",
    "                         line = dict(color='blue', width=1)),secondary_y=True, row=1, col=1)\n",
    "fig.add_trace(go.Scatter(x = df_miri['Year'], y = df_miri['Air Pollution Index (Min.)'],fill='tozeroy',\n",
    "                         mode='lines',name = 'Air Pollution Index (Max.)',\n",
    "                         line = dict(color='blue', width=1)),secondary_y=True, row=1, col=1)\n",
    "fig.add_trace(go.Scatter(x = df_miri['Year'], y = df_miri['Air Pollution Index (Max.)'],fill='tozeroy',\n",
    "                         mode='lines',name = 'Air Pollution Index (Max.)',\n",
    "                         line = dict(color='blue', width=1)),secondary_y=True, row=1, col=2)\n",
    "fig.add_trace(go.Scatter(x = df_miri['Year'], y = df_miri['Air Pollution Index (Min.)'],fill='tozeroy',\n",
    "                         mode='lines',name = 'Air Pollution Index (Min.)',\n",
    "                         line = dict(color='blue', width=1)),secondary_y=True, row=1, col=3)\n",
    "#Graph Melaka\n",
    "fig.add_trace(go.Scatter(x = df_melaka['Year'], y = df_melaka['Air Pollution Index (Max.)'],fill='tozeroy',\n",
    "                         mode='lines',name = 'Air Pollution Index (Max.)',\n",
    "                         line = dict(color='blue', width=1)),secondary_y=True, row=2, col=1)\n",
    "fig.add_trace(go.Scatter(x = df_melaka['Year'], y = df_melaka['Air Pollution Index (Min.)'],fill='tozeroy',\n",
    "                         mode='lines',name = 'Air Pollution Index (Max.)',\n",
    "                         line = dict(color='blue', width=1)),secondary_y=True, row=2, col=1)\n",
    "fig.add_trace(go.Scatter(x = df_melaka['Year'], y = df_melaka['Air Pollution Index (Max.)'],fill='tozeroy',\n",
    "                         mode='lines',name = 'Air Pollution Index (Max.)',\n",
    "                         line = dict(color='blue', width=1)),secondary_y=True, row=2, col=2)\n",
    "fig.add_trace(go.Scatter(x = df_melaka['Year'], y = df_melaka['Air Pollution Index (Min.)'],fill='tozeroy',\n",
    "                         mode='lines',name = 'Air Pollution Index (Min.)',\n",
    "                         line = dict(color='blue', width=1)),secondary_y=True, row=2, col=3)\n",
    "#Graph Cheras\n",
    "fig.add_trace(go.Scatter(x = df_cheras['Year'], y = df_cheras['Air Pollution Index (Max.)'],fill='tozeroy',\n",
    "                         mode='lines',name = 'Air Pollution Index (Max.)',\n",
    "                         line = dict(color='blue', width=1)),secondary_y=True, row=3, col=1)\n",
    "fig.add_trace(go.Scatter(x = df_cheras['Year'], y = df_cheras['Air Pollution Index (Min.)'],fill='tozeroy',\n",
    "                         mode='lines',name = 'Air Pollution Index (Max.)',\n",
    "                         line = dict(color='blue', width=1)),secondary_y=True, row=3, col=1)\n",
    "fig.add_trace(go.Scatter(x = df_cheras['Year'], y = df_cheras['Air Pollution Index (Max.)'],fill='tozeroy',\n",
    "                         mode='lines',name = 'Air Pollution Index (Max.)',\n",
    "                         line = dict(color='blue', width=1)),secondary_y=True, row=3, col=2)\n",
    "fig.add_trace(go.Scatter(x = df_cheras['Year'], y = df_cheras['Air Pollution Index (Min.)'],fill='tozeroy',\n",
    "                         mode='lines',name = 'Air Pollution Index (Min.)',\n",
    "                         line = dict(color='blue', width=1)),secondary_y=True, row=3, col=3)\n",
    "#Graph Kinabalu\n",
    "fig.add_trace(go.Scatter(x = df_kinabalu['Year'], y = df_kinabalu['Air Pollution Index (Max.)'],fill='tozeroy',\n",
    "                         mode='lines',name = 'Air Pollution Index (Max.)',\n",
    "                         line = dict(color='blue', width=1)),secondary_y=True, row=4, col=1)\n",
    "fig.add_trace(go.Scatter(x = df_kinabalu['Year'], y = df_kinabalu['Air Pollution Index (Min.)'],fill='tozeroy',\n",
    "                         mode='lines',name = 'Air Pollution Index (Max.)',\n",
    "                         line = dict(color='blue', width=1)),secondary_y=True, row=4, col=1)\n",
    "fig.add_trace(go.Scatter(x = df_kinabalu['Year'], y = df_kinabalu['Air Pollution Index (Max.)'],fill='tozeroy',\n",
    "                         mode='lines',name = 'Air Pollution Index (Max.)',\n",
    "                         line = dict(color='blue', width=1)),secondary_y=True, row=4, col=2)\n",
    "fig.add_trace(go.Scatter(x = df_kinabalu['Year'], y = df_kinabalu['Air Pollution Index (Min.)'],fill='tozeroy',\n",
    "                         mode='lines',name = 'Air Pollution Index (Min.)',\n",
    "                         line = dict(color='blue', width=1)),secondary_y=True, row=4, col=3)\n",
    "#Graph Kuching\n",
    "fig.add_trace(go.Scatter(x = df_kuching['Year'], y = df_kuching['Air Pollution Index (Max.)'],fill='tozeroy',\n",
    "                         mode='lines',name = 'Air Pollution Index (Max.)',\n",
    "                         line = dict(color='blue', width=1)),secondary_y=True, row=5, col=1)\n",
    "fig.add_trace(go.Scatter(x = df_kuching['Year'], y = df_kuching['Air Pollution Index (Min.)'],fill='tozeroy',\n",
    "                         mode='lines',name = 'Air Pollution Index (Max.)',\n",
    "                         line = dict(color='blue', width=1)),secondary_y=True, row=5, col=1)\n",
    "fig.add_trace(go.Scatter(x = df_kuching['Year'], y = df_kuching['Air Pollution Index (Max.)'],fill='tozeroy',\n",
    "                         mode='lines',name = 'Air Pollution Index (Max.)',\n",
    "                         line = dict(color='blue', width=1)),secondary_y=True, row=5, col=2)\n",
    "fig.add_trace(go.Scatter(x = df_kuching['Year'], y = df_kuching['Air Pollution Index (Min.)'],fill='tozeroy',\n",
    "                         mode='lines',name = 'Air Pollution Index (Min.)',\n",
    "                         line = dict(color='blue', width=1)),secondary_y=True, row=5, col=3)\n",
    "#Graph Larkin\n",
    "fig.add_trace(go.Scatter(x = df_larkin['Year'], y = df_larkin['Air Pollution Index (Max.)'],fill='tozeroy',\n",
    "                         mode='lines',name = 'Air Pollution Index (Max.)',\n",
    "                         line = dict(color='blue', width=1)),secondary_y=True, row=6, col=1)\n",
    "fig.add_trace(go.Scatter(x = df_larkin['Year'], y = df_larkin['Air Pollution Index (Min.)'],fill='tozeroy',\n",
    "                         mode='lines',name = 'Air Pollution Index (Max.)',\n",
    "                         line = dict(color='blue', width=1)),secondary_y=True, row=6, col=1)\n",
    "fig.add_trace(go.Scatter(x = df_larkin['Year'], y = df_larkin['Air Pollution Index (Max.)'],fill='tozeroy',\n",
    "                         mode='lines',name = 'Air Pollution Index (Max.)',\n",
    "                         line = dict(color='blue', width=1)),secondary_y=True, row=6, col=2)\n",
    "fig.add_trace(go.Scatter(x = df_larkin['Year'], y = df_larkin['Air Pollution Index (Min.)'],fill='tozeroy',\n",
    "                         mode='lines',name = 'Air Pollution Index (Min.)',\n",
    "                         line = dict(color='blue', width=1)),secondary_y=True, row=6, col=3)\n",
    "#Graph Seberang Jaya\n",
    "fig.add_trace(go.Scatter(x = df_jaya['Year'], y = df_jaya['Air Pollution Index (Max.)'],fill='tozeroy',\n",
    "                         mode='lines',name = 'Air Pollution Index (Max.)',\n",
    "                         line = dict(color='blue', width=1)),secondary_y=True, row=7, col=1)\n",
    "fig.add_trace(go.Scatter(x = df_jaya['Year'], y = df_jaya['Air Pollution Index (Min.)'],fill='tozeroy',\n",
    "                         mode='lines',name = 'Air Pollution Index (Max.)',\n",
    "                         line = dict(color='blue', width=1)),secondary_y=True, row=7, col=1)\n",
    "fig.add_trace(go.Scatter(x = df_jaya['Year'], y = df_jaya['Air Pollution Index (Max.)'],fill='tozeroy',\n",
    "                         mode='lines',name = 'Air Pollution Index (Max.)',\n",
    "                         line = dict(color='blue', width=1)),secondary_y=True, row=7, col=2)\n",
    "fig.add_trace(go.Scatter(x = df_jaya['Year'], y = df_jaya['Air Pollution Index (Min.)'],fill='tozeroy',\n",
    "                         mode='lines',name = 'Air Pollution Index (Min.)',\n",
    "                         line = dict(color='blue', width=1)),secondary_y=True, row=7, col=3)\n",
    "\n",
    "fig.update_layout(title_text='Malaysia Air Pollutant Index Stations', title_x=0.5, showlegend=False,\n",
    "                 height=350)\n",
    "fig.update_xaxes(title_text='')\n",
    "#Update Fonts & Size\n",
    "fig.update_annotations(font=dict(family=\"Helvetica\", size=11))\n",
    "fig.update_layout(font=dict(family=\"Helvetica\", size=11))\n",
    "fig.update_layout(height=350,showlegend=False)\n",
    "fig.update_xaxes(showgrid=False, zeroline=False, showline=True, linewidth=2, linecolor='black')\n",
    "fig.update_yaxes(showgrid=False, zeroline=False, showline=True, linewidth=2, linecolor='black')\n",
    "\n",
    "#Plotting the graph\n",
    "fig.show()"
   ]
  },
  {
   "cell_type": "code",
   "execution_count": 7,
   "id": "ec2fa890",
   "metadata": {},
   "outputs": [
    {
     "data": {
      "text/html": [
       "<div>\n",
       "<style scoped>\n",
       "    .dataframe tbody tr th:only-of-type {\n",
       "        vertical-align: middle;\n",
       "    }\n",
       "\n",
       "    .dataframe tbody tr th {\n",
       "        vertical-align: top;\n",
       "    }\n",
       "\n",
       "    .dataframe thead th {\n",
       "        text-align: right;\n",
       "    }\n",
       "</style>\n",
       "<table border=\"1\" class=\"dataframe\">\n",
       "  <thead>\n",
       "    <tr style=\"text-align: right;\">\n",
       "      <th></th>\n",
       "      <th>Year</th>\n",
       "      <th>Miri (Max.)</th>\n",
       "      <th>Miri (Min.)</th>\n",
       "      <th>Miri (Diff.)</th>\n",
       "      <th>Melaka (Max.)</th>\n",
       "      <th>Melaka (Min.)</th>\n",
       "      <th>Melaka (Diff.)</th>\n",
       "      <th>Cheras (Max.)</th>\n",
       "      <th>Cheras (Min.)</th>\n",
       "      <th>Cheras (Diff.)</th>\n",
       "      <th>...</th>\n",
       "      <th>Kuching (Diff.)</th>\n",
       "      <th>Larkin (Max.)</th>\n",
       "      <th>Larkin (Min.)</th>\n",
       "      <th>Larkin (Diff.)</th>\n",
       "      <th>S.Jaya (Max.)</th>\n",
       "      <th>S.Jaya (Min.)</th>\n",
       "      <th>S.Jaya (Diff.)</th>\n",
       "      <th>Cheras (Max.)</th>\n",
       "      <th>Cheras (Min.)</th>\n",
       "      <th>Cheras (Diff.)</th>\n",
       "    </tr>\n",
       "  </thead>\n",
       "  <tbody>\n",
       "    <tr>\n",
       "      <th>0</th>\n",
       "      <td>2000</td>\n",
       "      <td>79</td>\n",
       "      <td>3</td>\n",
       "      <td>76</td>\n",
       "      <td>122</td>\n",
       "      <td>4</td>\n",
       "      <td>118</td>\n",
       "      <td>141</td>\n",
       "      <td>13</td>\n",
       "      <td>128</td>\n",
       "      <td>...</td>\n",
       "      <td>83</td>\n",
       "      <td>119</td>\n",
       "      <td>7</td>\n",
       "      <td>112</td>\n",
       "      <td>127</td>\n",
       "      <td>4</td>\n",
       "      <td>123</td>\n",
       "      <td>141</td>\n",
       "      <td>13</td>\n",
       "      <td>128</td>\n",
       "    </tr>\n",
       "    <tr>\n",
       "      <th>1</th>\n",
       "      <td>2001</td>\n",
       "      <td>84</td>\n",
       "      <td>2</td>\n",
       "      <td>82</td>\n",
       "      <td>127</td>\n",
       "      <td>3</td>\n",
       "      <td>124</td>\n",
       "      <td>157</td>\n",
       "      <td>16</td>\n",
       "      <td>141</td>\n",
       "      <td>...</td>\n",
       "      <td>83</td>\n",
       "      <td>119</td>\n",
       "      <td>10</td>\n",
       "      <td>109</td>\n",
       "      <td>140</td>\n",
       "      <td>8</td>\n",
       "      <td>132</td>\n",
       "      <td>157</td>\n",
       "      <td>16</td>\n",
       "      <td>141</td>\n",
       "    </tr>\n",
       "    <tr>\n",
       "      <th>2</th>\n",
       "      <td>2002</td>\n",
       "      <td>126</td>\n",
       "      <td>5</td>\n",
       "      <td>121</td>\n",
       "      <td>105</td>\n",
       "      <td>5</td>\n",
       "      <td>100</td>\n",
       "      <td>153</td>\n",
       "      <td>11</td>\n",
       "      <td>142</td>\n",
       "      <td>...</td>\n",
       "      <td>129</td>\n",
       "      <td>116</td>\n",
       "      <td>4</td>\n",
       "      <td>112</td>\n",
       "      <td>115</td>\n",
       "      <td>4</td>\n",
       "      <td>111</td>\n",
       "      <td>153</td>\n",
       "      <td>11</td>\n",
       "      <td>142</td>\n",
       "    </tr>\n",
       "    <tr>\n",
       "      <th>3</th>\n",
       "      <td>2003</td>\n",
       "      <td>86</td>\n",
       "      <td>3</td>\n",
       "      <td>83</td>\n",
       "      <td>114</td>\n",
       "      <td>6</td>\n",
       "      <td>108</td>\n",
       "      <td>143</td>\n",
       "      <td>11</td>\n",
       "      <td>132</td>\n",
       "      <td>...</td>\n",
       "      <td>79</td>\n",
       "      <td>112</td>\n",
       "      <td>2</td>\n",
       "      <td>110</td>\n",
       "      <td>106</td>\n",
       "      <td>11</td>\n",
       "      <td>95</td>\n",
       "      <td>143</td>\n",
       "      <td>11</td>\n",
       "      <td>132</td>\n",
       "    </tr>\n",
       "    <tr>\n",
       "      <th>4</th>\n",
       "      <td>2004</td>\n",
       "      <td>77</td>\n",
       "      <td>2</td>\n",
       "      <td>75</td>\n",
       "      <td>147</td>\n",
       "      <td>5</td>\n",
       "      <td>142</td>\n",
       "      <td>97</td>\n",
       "      <td>32</td>\n",
       "      <td>65</td>\n",
       "      <td>...</td>\n",
       "      <td>80</td>\n",
       "      <td>126</td>\n",
       "      <td>8</td>\n",
       "      <td>118</td>\n",
       "      <td>121</td>\n",
       "      <td>8</td>\n",
       "      <td>113</td>\n",
       "      <td>97</td>\n",
       "      <td>32</td>\n",
       "      <td>65</td>\n",
       "    </tr>\n",
       "    <tr>\n",
       "      <th>5</th>\n",
       "      <td>2005</td>\n",
       "      <td>133</td>\n",
       "      <td>2</td>\n",
       "      <td>131</td>\n",
       "      <td>114</td>\n",
       "      <td>2</td>\n",
       "      <td>112</td>\n",
       "      <td>390</td>\n",
       "      <td>5</td>\n",
       "      <td>385</td>\n",
       "      <td>...</td>\n",
       "      <td>55</td>\n",
       "      <td>111</td>\n",
       "      <td>1</td>\n",
       "      <td>110</td>\n",
       "      <td>151</td>\n",
       "      <td>10</td>\n",
       "      <td>141</td>\n",
       "      <td>390</td>\n",
       "      <td>5</td>\n",
       "      <td>385</td>\n",
       "    </tr>\n",
       "    <tr>\n",
       "      <th>6</th>\n",
       "      <td>2006</td>\n",
       "      <td>104</td>\n",
       "      <td>1</td>\n",
       "      <td>103</td>\n",
       "      <td>153</td>\n",
       "      <td>5</td>\n",
       "      <td>148</td>\n",
       "      <td>162</td>\n",
       "      <td>5</td>\n",
       "      <td>157</td>\n",
       "      <td>...</td>\n",
       "      <td>183</td>\n",
       "      <td>143</td>\n",
       "      <td>5</td>\n",
       "      <td>138</td>\n",
       "      <td>121</td>\n",
       "      <td>6</td>\n",
       "      <td>115</td>\n",
       "      <td>162</td>\n",
       "      <td>5</td>\n",
       "      <td>157</td>\n",
       "    </tr>\n",
       "    <tr>\n",
       "      <th>7</th>\n",
       "      <td>2007</td>\n",
       "      <td>73</td>\n",
       "      <td>6</td>\n",
       "      <td>67</td>\n",
       "      <td>92</td>\n",
       "      <td>4</td>\n",
       "      <td>88</td>\n",
       "      <td>131</td>\n",
       "      <td>4</td>\n",
       "      <td>127</td>\n",
       "      <td>...</td>\n",
       "      <td>69</td>\n",
       "      <td>141</td>\n",
       "      <td>0</td>\n",
       "      <td>141</td>\n",
       "      <td>101</td>\n",
       "      <td>8</td>\n",
       "      <td>93</td>\n",
       "      <td>131</td>\n",
       "      <td>4</td>\n",
       "      <td>127</td>\n",
       "    </tr>\n",
       "    <tr>\n",
       "      <th>8</th>\n",
       "      <td>2008</td>\n",
       "      <td>76</td>\n",
       "      <td>6</td>\n",
       "      <td>70</td>\n",
       "      <td>80</td>\n",
       "      <td>3</td>\n",
       "      <td>77</td>\n",
       "      <td>135</td>\n",
       "      <td>8</td>\n",
       "      <td>127</td>\n",
       "      <td>...</td>\n",
       "      <td>67</td>\n",
       "      <td>101</td>\n",
       "      <td>5</td>\n",
       "      <td>96</td>\n",
       "      <td>99</td>\n",
       "      <td>6</td>\n",
       "      <td>93</td>\n",
       "      <td>135</td>\n",
       "      <td>8</td>\n",
       "      <td>127</td>\n",
       "    </tr>\n",
       "    <tr>\n",
       "      <th>9</th>\n",
       "      <td>2009</td>\n",
       "      <td>179</td>\n",
       "      <td>6</td>\n",
       "      <td>173</td>\n",
       "      <td>137</td>\n",
       "      <td>4</td>\n",
       "      <td>133</td>\n",
       "      <td>168</td>\n",
       "      <td>4</td>\n",
       "      <td>164</td>\n",
       "      <td>...</td>\n",
       "      <td>104</td>\n",
       "      <td>99</td>\n",
       "      <td>2</td>\n",
       "      <td>97</td>\n",
       "      <td>106</td>\n",
       "      <td>5</td>\n",
       "      <td>101</td>\n",
       "      <td>168</td>\n",
       "      <td>4</td>\n",
       "      <td>164</td>\n",
       "    </tr>\n",
       "    <tr>\n",
       "      <th>10</th>\n",
       "      <td>2010</td>\n",
       "      <td>89</td>\n",
       "      <td>17</td>\n",
       "      <td>72</td>\n",
       "      <td>139</td>\n",
       "      <td>22</td>\n",
       "      <td>117</td>\n",
       "      <td>169</td>\n",
       "      <td>26</td>\n",
       "      <td>143</td>\n",
       "      <td>...</td>\n",
       "      <td>38</td>\n",
       "      <td>111</td>\n",
       "      <td>15</td>\n",
       "      <td>96</td>\n",
       "      <td>93</td>\n",
       "      <td>28</td>\n",
       "      <td>65</td>\n",
       "      <td>169</td>\n",
       "      <td>26</td>\n",
       "      <td>143</td>\n",
       "    </tr>\n",
       "    <tr>\n",
       "      <th>11</th>\n",
       "      <td>2011</td>\n",
       "      <td>96</td>\n",
       "      <td>4</td>\n",
       "      <td>92</td>\n",
       "      <td>97</td>\n",
       "      <td>12</td>\n",
       "      <td>85</td>\n",
       "      <td>150</td>\n",
       "      <td>11</td>\n",
       "      <td>139</td>\n",
       "      <td>...</td>\n",
       "      <td>96</td>\n",
       "      <td>84</td>\n",
       "      <td>3</td>\n",
       "      <td>81</td>\n",
       "      <td>98</td>\n",
       "      <td>6</td>\n",
       "      <td>92</td>\n",
       "      <td>150</td>\n",
       "      <td>11</td>\n",
       "      <td>139</td>\n",
       "    </tr>\n",
       "    <tr>\n",
       "      <th>12</th>\n",
       "      <td>2012</td>\n",
       "      <td>97</td>\n",
       "      <td>5</td>\n",
       "      <td>92</td>\n",
       "      <td>83</td>\n",
       "      <td>3</td>\n",
       "      <td>80</td>\n",
       "      <td>155</td>\n",
       "      <td>4</td>\n",
       "      <td>151</td>\n",
       "      <td>...</td>\n",
       "      <td>77</td>\n",
       "      <td>137</td>\n",
       "      <td>2</td>\n",
       "      <td>135</td>\n",
       "      <td>105</td>\n",
       "      <td>6</td>\n",
       "      <td>99</td>\n",
       "      <td>155</td>\n",
       "      <td>4</td>\n",
       "      <td>151</td>\n",
       "    </tr>\n",
       "    <tr>\n",
       "      <th>13</th>\n",
       "      <td>2013</td>\n",
       "      <td>93</td>\n",
       "      <td>18</td>\n",
       "      <td>75</td>\n",
       "      <td>415</td>\n",
       "      <td>16</td>\n",
       "      <td>399</td>\n",
       "      <td>186</td>\n",
       "      <td>22</td>\n",
       "      <td>164</td>\n",
       "      <td>...</td>\n",
       "      <td>72</td>\n",
       "      <td>226</td>\n",
       "      <td>17</td>\n",
       "      <td>209</td>\n",
       "      <td>132</td>\n",
       "      <td>27</td>\n",
       "      <td>105</td>\n",
       "      <td>186</td>\n",
       "      <td>22</td>\n",
       "      <td>164</td>\n",
       "    </tr>\n",
       "    <tr>\n",
       "      <th>14</th>\n",
       "      <td>2014</td>\n",
       "      <td>84</td>\n",
       "      <td>2</td>\n",
       "      <td>82</td>\n",
       "      <td>128</td>\n",
       "      <td>5</td>\n",
       "      <td>123</td>\n",
       "      <td>170</td>\n",
       "      <td>3</td>\n",
       "      <td>167</td>\n",
       "      <td>...</td>\n",
       "      <td>112</td>\n",
       "      <td>198</td>\n",
       "      <td>10</td>\n",
       "      <td>188</td>\n",
       "      <td>119</td>\n",
       "      <td>14</td>\n",
       "      <td>105</td>\n",
       "      <td>170</td>\n",
       "      <td>3</td>\n",
       "      <td>167</td>\n",
       "    </tr>\n",
       "    <tr>\n",
       "      <th>15</th>\n",
       "      <td>2015</td>\n",
       "      <td>99</td>\n",
       "      <td>4</td>\n",
       "      <td>95</td>\n",
       "      <td>176</td>\n",
       "      <td>6</td>\n",
       "      <td>170</td>\n",
       "      <td>185</td>\n",
       "      <td>9</td>\n",
       "      <td>176</td>\n",
       "      <td>...</td>\n",
       "      <td>204</td>\n",
       "      <td>192</td>\n",
       "      <td>28</td>\n",
       "      <td>164</td>\n",
       "      <td>287</td>\n",
       "      <td>9</td>\n",
       "      <td>278</td>\n",
       "      <td>185</td>\n",
       "      <td>9</td>\n",
       "      <td>176</td>\n",
       "    </tr>\n",
       "    <tr>\n",
       "      <th>16</th>\n",
       "      <td>2016</td>\n",
       "      <td>149</td>\n",
       "      <td>3</td>\n",
       "      <td>146</td>\n",
       "      <td>87</td>\n",
       "      <td>5</td>\n",
       "      <td>82</td>\n",
       "      <td>151</td>\n",
       "      <td>7</td>\n",
       "      <td>144</td>\n",
       "      <td>...</td>\n",
       "      <td>65</td>\n",
       "      <td>109</td>\n",
       "      <td>5</td>\n",
       "      <td>104</td>\n",
       "      <td>87</td>\n",
       "      <td>7</td>\n",
       "      <td>80</td>\n",
       "      <td>151</td>\n",
       "      <td>7</td>\n",
       "      <td>144</td>\n",
       "    </tr>\n",
       "  </tbody>\n",
       "</table>\n",
       "<p>17 rows × 25 columns</p>\n",
       "</div>"
      ],
      "text/plain": [
       "    Year  Miri (Max.)  Miri (Min.)  Miri (Diff.)  Melaka (Max.)  \\\n",
       "0   2000           79            3            76            122   \n",
       "1   2001           84            2            82            127   \n",
       "2   2002          126            5           121            105   \n",
       "3   2003           86            3            83            114   \n",
       "4   2004           77            2            75            147   \n",
       "5   2005          133            2           131            114   \n",
       "6   2006          104            1           103            153   \n",
       "7   2007           73            6            67             92   \n",
       "8   2008           76            6            70             80   \n",
       "9   2009          179            6           173            137   \n",
       "10  2010           89           17            72            139   \n",
       "11  2011           96            4            92             97   \n",
       "12  2012           97            5            92             83   \n",
       "13  2013           93           18            75            415   \n",
       "14  2014           84            2            82            128   \n",
       "15  2015           99            4            95            176   \n",
       "16  2016          149            3           146             87   \n",
       "\n",
       "    Melaka (Min.)  Melaka (Diff.)  Cheras (Max.)  Cheras (Min.)  \\\n",
       "0               4             118            141             13   \n",
       "1               3             124            157             16   \n",
       "2               5             100            153             11   \n",
       "3               6             108            143             11   \n",
       "4               5             142             97             32   \n",
       "5               2             112            390              5   \n",
       "6               5             148            162              5   \n",
       "7               4              88            131              4   \n",
       "8               3              77            135              8   \n",
       "9               4             133            168              4   \n",
       "10             22             117            169             26   \n",
       "11             12              85            150             11   \n",
       "12              3              80            155              4   \n",
       "13             16             399            186             22   \n",
       "14              5             123            170              3   \n",
       "15              6             170            185              9   \n",
       "16              5              82            151              7   \n",
       "\n",
       "    Cheras (Diff.)  ...  Kuching (Diff.)  Larkin (Max.)  Larkin (Min.)  \\\n",
       "0              128  ...               83            119              7   \n",
       "1              141  ...               83            119             10   \n",
       "2              142  ...              129            116              4   \n",
       "3              132  ...               79            112              2   \n",
       "4               65  ...               80            126              8   \n",
       "5              385  ...               55            111              1   \n",
       "6              157  ...              183            143              5   \n",
       "7              127  ...               69            141              0   \n",
       "8              127  ...               67            101              5   \n",
       "9              164  ...              104             99              2   \n",
       "10             143  ...               38            111             15   \n",
       "11             139  ...               96             84              3   \n",
       "12             151  ...               77            137              2   \n",
       "13             164  ...               72            226             17   \n",
       "14             167  ...              112            198             10   \n",
       "15             176  ...              204            192             28   \n",
       "16             144  ...               65            109              5   \n",
       "\n",
       "    Larkin (Diff.)  S.Jaya (Max.)  S.Jaya (Min.)  S.Jaya (Diff.)  \\\n",
       "0              112            127              4             123   \n",
       "1              109            140              8             132   \n",
       "2              112            115              4             111   \n",
       "3              110            106             11              95   \n",
       "4              118            121              8             113   \n",
       "5              110            151             10             141   \n",
       "6              138            121              6             115   \n",
       "7              141            101              8              93   \n",
       "8               96             99              6              93   \n",
       "9               97            106              5             101   \n",
       "10              96             93             28              65   \n",
       "11              81             98              6              92   \n",
       "12             135            105              6              99   \n",
       "13             209            132             27             105   \n",
       "14             188            119             14             105   \n",
       "15             164            287              9             278   \n",
       "16             104             87              7              80   \n",
       "\n",
       "    Cheras (Max.)  Cheras (Min.)  Cheras (Diff.)  \n",
       "0             141             13             128  \n",
       "1             157             16             141  \n",
       "2             153             11             142  \n",
       "3             143             11             132  \n",
       "4              97             32              65  \n",
       "5             390              5             385  \n",
       "6             162              5             157  \n",
       "7             131              4             127  \n",
       "8             135              8             127  \n",
       "9             168              4             164  \n",
       "10            169             26             143  \n",
       "11            150             11             139  \n",
       "12            155              4             151  \n",
       "13            186             22             164  \n",
       "14            170              3             167  \n",
       "15            185              9             176  \n",
       "16            151              7             144  \n",
       "\n",
       "[17 rows x 25 columns]"
      ]
     },
     "execution_count": 7,
     "metadata": {},
     "output_type": "execute_result"
    }
   ],
   "source": [
    "df_table = pd.merge(df_miri,df_melaka, on='Year')\n",
    "df_table.rename(columns={'Air Pollution Index (Max.)_x':'Miri (Max.)',\n",
    "                         'Air Pollution Index (Min.)_x':'Miri (Min.)',\n",
    "                         'Air Pollution Index (Max.)_y':'Melaka (Max.)',\n",
    "                         'Air Pollution Index (Min.)_y':'Melaka (Min.)',\n",
    "                         'API Diff._x':'Miri (Diff.)',\n",
    "                         'API Diff._y':'Melaka (Diff.)'},inplace=True)\n",
    "df_table = pd.merge(df_table,df_cheras, on='Year')\n",
    "df_table.rename(columns={'Air Pollution Index (Max.)':'Cheras (Max.)',\n",
    "                         'Air Pollution Index (Min.)':'Cheras (Min.)',\n",
    "                         'API Diff.':'Cheras (Diff.)'},inplace=True)\n",
    "df_table = pd.merge(df_table,df_kinabalu, on='Year')\n",
    "df_table.rename(columns={'Air Pollution Index (Max.)':'K.Kinabalu (Max.)',\n",
    "                         'Air Pollution Index (Min.)':'K.Kinabalu (Min.)',\n",
    "                         'API Diff.':'K.Kinabalu (Diff.)'},inplace=True)\n",
    "df_table = pd.merge(df_table,df_kuching, on='Year')\n",
    "df_table.rename(columns={'Air Pollution Index (Max.)':'Kuching (Max.)',\n",
    "                         'Air Pollution Index (Min.)':'Kuching (Min.)',\n",
    "                         'API Diff.':'Kuching (Diff.)'},inplace=True)\n",
    "df_table = pd.merge(df_table,df_larkin, on='Year')\n",
    "df_table.rename(columns={'Air Pollution Index (Max.)':'Larkin (Max.)',\n",
    "                         'Air Pollution Index (Min.)':'Larkin (Min.)',\n",
    "                         'API Diff.':'Larkin (Diff.)'},inplace=True)\n",
    "df_table = pd.merge(df_table,df_jaya, on='Year')\n",
    "df_table.rename(columns={'Air Pollution Index (Max.)':'S.Jaya (Max.)',\n",
    "                         'Air Pollution Index (Min.)':'S.Jaya (Min.)',\n",
    "                         'API Diff.':'S.Jaya (Diff.)'},inplace=True)\n",
    "df_table = pd.merge(df_table,df_cheras, on='Year')\n",
    "df_table.rename(columns={'Air Pollution Index (Max.)':'Cheras (Max.)',\n",
    "                         'Air Pollution Index (Min.)':'Cheras (Min.)',\n",
    "                         'API Diff.':'Cheras (Diff.)'},inplace=True)\n",
    "df_table"
   ]
  },
  {
   "cell_type": "code",
   "execution_count": 8,
   "id": "18c2f9aa",
   "metadata": {},
   "outputs": [
    {
     "data": {
      "text/html": [
       "<div>\n",
       "<style scoped>\n",
       "    .dataframe tbody tr th:only-of-type {\n",
       "        vertical-align: middle;\n",
       "    }\n",
       "\n",
       "    .dataframe tbody tr th {\n",
       "        vertical-align: top;\n",
       "    }\n",
       "\n",
       "    .dataframe thead th {\n",
       "        text-align: right;\n",
       "    }\n",
       "</style>\n",
       "<table border=\"1\" class=\"dataframe\">\n",
       "  <thead>\n",
       "    <tr style=\"text-align: right;\">\n",
       "      <th></th>\n",
       "      <th>Year</th>\n",
       "      <th>Miri (Max.)</th>\n",
       "      <th>Melaka (Max.)</th>\n",
       "      <th>Cheras (Max.)</th>\n",
       "      <th>Cheras (Max.)</th>\n",
       "      <th>K.Kinabalu (Max.)</th>\n",
       "      <th>Kuching (Max.)</th>\n",
       "      <th>Larkin (Max.)</th>\n",
       "      <th>S.Jaya (Max.)</th>\n",
       "    </tr>\n",
       "  </thead>\n",
       "  <tbody>\n",
       "    <tr>\n",
       "      <th>0</th>\n",
       "      <td>2000</td>\n",
       "      <td>79</td>\n",
       "      <td>122</td>\n",
       "      <td>141</td>\n",
       "      <td>141</td>\n",
       "      <td>70</td>\n",
       "      <td>84</td>\n",
       "      <td>119</td>\n",
       "      <td>127</td>\n",
       "    </tr>\n",
       "    <tr>\n",
       "      <th>1</th>\n",
       "      <td>2001</td>\n",
       "      <td>84</td>\n",
       "      <td>127</td>\n",
       "      <td>157</td>\n",
       "      <td>157</td>\n",
       "      <td>80</td>\n",
       "      <td>84</td>\n",
       "      <td>119</td>\n",
       "      <td>140</td>\n",
       "    </tr>\n",
       "    <tr>\n",
       "      <th>2</th>\n",
       "      <td>2002</td>\n",
       "      <td>126</td>\n",
       "      <td>105</td>\n",
       "      <td>153</td>\n",
       "      <td>153</td>\n",
       "      <td>88</td>\n",
       "      <td>130</td>\n",
       "      <td>116</td>\n",
       "      <td>115</td>\n",
       "    </tr>\n",
       "    <tr>\n",
       "      <th>3</th>\n",
       "      <td>2003</td>\n",
       "      <td>86</td>\n",
       "      <td>114</td>\n",
       "      <td>143</td>\n",
       "      <td>143</td>\n",
       "      <td>76</td>\n",
       "      <td>85</td>\n",
       "      <td>112</td>\n",
       "      <td>106</td>\n",
       "    </tr>\n",
       "    <tr>\n",
       "      <th>4</th>\n",
       "      <td>2004</td>\n",
       "      <td>77</td>\n",
       "      <td>147</td>\n",
       "      <td>97</td>\n",
       "      <td>97</td>\n",
       "      <td>62</td>\n",
       "      <td>97</td>\n",
       "      <td>126</td>\n",
       "      <td>121</td>\n",
       "    </tr>\n",
       "    <tr>\n",
       "      <th>5</th>\n",
       "      <td>2005</td>\n",
       "      <td>133</td>\n",
       "      <td>114</td>\n",
       "      <td>390</td>\n",
       "      <td>390</td>\n",
       "      <td>63</td>\n",
       "      <td>78</td>\n",
       "      <td>111</td>\n",
       "      <td>151</td>\n",
       "    </tr>\n",
       "    <tr>\n",
       "      <th>6</th>\n",
       "      <td>2006</td>\n",
       "      <td>104</td>\n",
       "      <td>153</td>\n",
       "      <td>162</td>\n",
       "      <td>162</td>\n",
       "      <td>86</td>\n",
       "      <td>188</td>\n",
       "      <td>143</td>\n",
       "      <td>121</td>\n",
       "    </tr>\n",
       "    <tr>\n",
       "      <th>7</th>\n",
       "      <td>2007</td>\n",
       "      <td>73</td>\n",
       "      <td>92</td>\n",
       "      <td>131</td>\n",
       "      <td>131</td>\n",
       "      <td>64</td>\n",
       "      <td>75</td>\n",
       "      <td>141</td>\n",
       "      <td>101</td>\n",
       "    </tr>\n",
       "    <tr>\n",
       "      <th>8</th>\n",
       "      <td>2008</td>\n",
       "      <td>76</td>\n",
       "      <td>80</td>\n",
       "      <td>135</td>\n",
       "      <td>135</td>\n",
       "      <td>55</td>\n",
       "      <td>72</td>\n",
       "      <td>101</td>\n",
       "      <td>99</td>\n",
       "    </tr>\n",
       "    <tr>\n",
       "      <th>9</th>\n",
       "      <td>2009</td>\n",
       "      <td>179</td>\n",
       "      <td>137</td>\n",
       "      <td>168</td>\n",
       "      <td>168</td>\n",
       "      <td>78</td>\n",
       "      <td>114</td>\n",
       "      <td>99</td>\n",
       "      <td>106</td>\n",
       "    </tr>\n",
       "    <tr>\n",
       "      <th>10</th>\n",
       "      <td>2010</td>\n",
       "      <td>89</td>\n",
       "      <td>139</td>\n",
       "      <td>169</td>\n",
       "      <td>169</td>\n",
       "      <td>68</td>\n",
       "      <td>54</td>\n",
       "      <td>111</td>\n",
       "      <td>93</td>\n",
       "    </tr>\n",
       "    <tr>\n",
       "      <th>11</th>\n",
       "      <td>2011</td>\n",
       "      <td>96</td>\n",
       "      <td>97</td>\n",
       "      <td>150</td>\n",
       "      <td>150</td>\n",
       "      <td>61</td>\n",
       "      <td>100</td>\n",
       "      <td>84</td>\n",
       "      <td>98</td>\n",
       "    </tr>\n",
       "    <tr>\n",
       "      <th>12</th>\n",
       "      <td>2012</td>\n",
       "      <td>97</td>\n",
       "      <td>83</td>\n",
       "      <td>155</td>\n",
       "      <td>155</td>\n",
       "      <td>61</td>\n",
       "      <td>93</td>\n",
       "      <td>137</td>\n",
       "      <td>105</td>\n",
       "    </tr>\n",
       "    <tr>\n",
       "      <th>13</th>\n",
       "      <td>2013</td>\n",
       "      <td>93</td>\n",
       "      <td>415</td>\n",
       "      <td>186</td>\n",
       "      <td>186</td>\n",
       "      <td>90</td>\n",
       "      <td>89</td>\n",
       "      <td>226</td>\n",
       "      <td>132</td>\n",
       "    </tr>\n",
       "    <tr>\n",
       "      <th>14</th>\n",
       "      <td>2014</td>\n",
       "      <td>84</td>\n",
       "      <td>128</td>\n",
       "      <td>170</td>\n",
       "      <td>170</td>\n",
       "      <td>59</td>\n",
       "      <td>123</td>\n",
       "      <td>198</td>\n",
       "      <td>119</td>\n",
       "    </tr>\n",
       "    <tr>\n",
       "      <th>15</th>\n",
       "      <td>2015</td>\n",
       "      <td>99</td>\n",
       "      <td>176</td>\n",
       "      <td>185</td>\n",
       "      <td>185</td>\n",
       "      <td>75</td>\n",
       "      <td>209</td>\n",
       "      <td>192</td>\n",
       "      <td>287</td>\n",
       "    </tr>\n",
       "    <tr>\n",
       "      <th>16</th>\n",
       "      <td>2016</td>\n",
       "      <td>149</td>\n",
       "      <td>87</td>\n",
       "      <td>151</td>\n",
       "      <td>151</td>\n",
       "      <td>73</td>\n",
       "      <td>71</td>\n",
       "      <td>109</td>\n",
       "      <td>87</td>\n",
       "    </tr>\n",
       "  </tbody>\n",
       "</table>\n",
       "</div>"
      ],
      "text/plain": [
       "    Year  Miri (Max.)  Melaka (Max.)  Cheras (Max.)  Cheras (Max.)  \\\n",
       "0   2000           79            122            141            141   \n",
       "1   2001           84            127            157            157   \n",
       "2   2002          126            105            153            153   \n",
       "3   2003           86            114            143            143   \n",
       "4   2004           77            147             97             97   \n",
       "5   2005          133            114            390            390   \n",
       "6   2006          104            153            162            162   \n",
       "7   2007           73             92            131            131   \n",
       "8   2008           76             80            135            135   \n",
       "9   2009          179            137            168            168   \n",
       "10  2010           89            139            169            169   \n",
       "11  2011           96             97            150            150   \n",
       "12  2012           97             83            155            155   \n",
       "13  2013           93            415            186            186   \n",
       "14  2014           84            128            170            170   \n",
       "15  2015           99            176            185            185   \n",
       "16  2016          149             87            151            151   \n",
       "\n",
       "    K.Kinabalu (Max.)  Kuching (Max.)  Larkin (Max.)  S.Jaya (Max.)  \n",
       "0                  70              84            119            127  \n",
       "1                  80              84            119            140  \n",
       "2                  88             130            116            115  \n",
       "3                  76              85            112            106  \n",
       "4                  62              97            126            121  \n",
       "5                  63              78            111            151  \n",
       "6                  86             188            143            121  \n",
       "7                  64              75            141            101  \n",
       "8                  55              72            101             99  \n",
       "9                  78             114             99            106  \n",
       "10                 68              54            111             93  \n",
       "11                 61             100             84             98  \n",
       "12                 61              93            137            105  \n",
       "13                 90              89            226            132  \n",
       "14                 59             123            198            119  \n",
       "15                 75             209            192            287  \n",
       "16                 73              71            109             87  "
      ]
     },
     "execution_count": 8,
     "metadata": {},
     "output_type": "execute_result"
    }
   ],
   "source": [
    "df_max = df_table[['Year','Miri (Max.)','Melaka (Max.)','Cheras (Max.)','K.Kinabalu (Max.)',\n",
    "                   'Kuching (Max.)','Larkin (Max.)','S.Jaya (Max.)']]\n",
    "df_max"
   ]
  },
  {
   "cell_type": "code",
   "execution_count": 9,
   "id": "db20f0b0",
   "metadata": {},
   "outputs": [
    {
     "data": {
      "text/html": [
       "<div>\n",
       "<style scoped>\n",
       "    .dataframe tbody tr th:only-of-type {\n",
       "        vertical-align: middle;\n",
       "    }\n",
       "\n",
       "    .dataframe tbody tr th {\n",
       "        vertical-align: top;\n",
       "    }\n",
       "\n",
       "    .dataframe thead th {\n",
       "        text-align: right;\n",
       "    }\n",
       "</style>\n",
       "<table border=\"1\" class=\"dataframe\">\n",
       "  <thead>\n",
       "    <tr style=\"text-align: right;\">\n",
       "      <th></th>\n",
       "      <th>Year</th>\n",
       "      <th>Miri (Min.)</th>\n",
       "      <th>Melaka (Min.)</th>\n",
       "      <th>Cheras (Min.)</th>\n",
       "      <th>Cheras (Min.)</th>\n",
       "      <th>K.Kinabalu (Min.)</th>\n",
       "      <th>Kuching (Min.)</th>\n",
       "      <th>Larkin (Min.)</th>\n",
       "      <th>S.Jaya (Min.)</th>\n",
       "    </tr>\n",
       "  </thead>\n",
       "  <tbody>\n",
       "    <tr>\n",
       "      <th>0</th>\n",
       "      <td>2000</td>\n",
       "      <td>3</td>\n",
       "      <td>4</td>\n",
       "      <td>13</td>\n",
       "      <td>13</td>\n",
       "      <td>1</td>\n",
       "      <td>1</td>\n",
       "      <td>7</td>\n",
       "      <td>4</td>\n",
       "    </tr>\n",
       "    <tr>\n",
       "      <th>1</th>\n",
       "      <td>2001</td>\n",
       "      <td>2</td>\n",
       "      <td>3</td>\n",
       "      <td>16</td>\n",
       "      <td>16</td>\n",
       "      <td>1</td>\n",
       "      <td>1</td>\n",
       "      <td>10</td>\n",
       "      <td>8</td>\n",
       "    </tr>\n",
       "    <tr>\n",
       "      <th>2</th>\n",
       "      <td>2002</td>\n",
       "      <td>5</td>\n",
       "      <td>5</td>\n",
       "      <td>11</td>\n",
       "      <td>11</td>\n",
       "      <td>8</td>\n",
       "      <td>1</td>\n",
       "      <td>4</td>\n",
       "      <td>4</td>\n",
       "    </tr>\n",
       "    <tr>\n",
       "      <th>3</th>\n",
       "      <td>2003</td>\n",
       "      <td>3</td>\n",
       "      <td>6</td>\n",
       "      <td>11</td>\n",
       "      <td>11</td>\n",
       "      <td>2</td>\n",
       "      <td>6</td>\n",
       "      <td>2</td>\n",
       "      <td>11</td>\n",
       "    </tr>\n",
       "    <tr>\n",
       "      <th>4</th>\n",
       "      <td>2004</td>\n",
       "      <td>2</td>\n",
       "      <td>5</td>\n",
       "      <td>32</td>\n",
       "      <td>32</td>\n",
       "      <td>1</td>\n",
       "      <td>17</td>\n",
       "      <td>8</td>\n",
       "      <td>8</td>\n",
       "    </tr>\n",
       "    <tr>\n",
       "      <th>5</th>\n",
       "      <td>2005</td>\n",
       "      <td>2</td>\n",
       "      <td>2</td>\n",
       "      <td>5</td>\n",
       "      <td>5</td>\n",
       "      <td>2</td>\n",
       "      <td>23</td>\n",
       "      <td>1</td>\n",
       "      <td>10</td>\n",
       "    </tr>\n",
       "    <tr>\n",
       "      <th>6</th>\n",
       "      <td>2006</td>\n",
       "      <td>1</td>\n",
       "      <td>5</td>\n",
       "      <td>5</td>\n",
       "      <td>5</td>\n",
       "      <td>2</td>\n",
       "      <td>5</td>\n",
       "      <td>5</td>\n",
       "      <td>6</td>\n",
       "    </tr>\n",
       "    <tr>\n",
       "      <th>7</th>\n",
       "      <td>2007</td>\n",
       "      <td>6</td>\n",
       "      <td>4</td>\n",
       "      <td>4</td>\n",
       "      <td>4</td>\n",
       "      <td>3</td>\n",
       "      <td>6</td>\n",
       "      <td>0</td>\n",
       "      <td>8</td>\n",
       "    </tr>\n",
       "    <tr>\n",
       "      <th>8</th>\n",
       "      <td>2008</td>\n",
       "      <td>6</td>\n",
       "      <td>3</td>\n",
       "      <td>8</td>\n",
       "      <td>8</td>\n",
       "      <td>1</td>\n",
       "      <td>5</td>\n",
       "      <td>5</td>\n",
       "      <td>6</td>\n",
       "    </tr>\n",
       "    <tr>\n",
       "      <th>9</th>\n",
       "      <td>2009</td>\n",
       "      <td>6</td>\n",
       "      <td>4</td>\n",
       "      <td>4</td>\n",
       "      <td>4</td>\n",
       "      <td>1</td>\n",
       "      <td>10</td>\n",
       "      <td>2</td>\n",
       "      <td>5</td>\n",
       "    </tr>\n",
       "    <tr>\n",
       "      <th>10</th>\n",
       "      <td>2010</td>\n",
       "      <td>17</td>\n",
       "      <td>22</td>\n",
       "      <td>26</td>\n",
       "      <td>26</td>\n",
       "      <td>10</td>\n",
       "      <td>16</td>\n",
       "      <td>15</td>\n",
       "      <td>28</td>\n",
       "    </tr>\n",
       "    <tr>\n",
       "      <th>11</th>\n",
       "      <td>2011</td>\n",
       "      <td>4</td>\n",
       "      <td>12</td>\n",
       "      <td>11</td>\n",
       "      <td>11</td>\n",
       "      <td>2</td>\n",
       "      <td>4</td>\n",
       "      <td>3</td>\n",
       "      <td>6</td>\n",
       "    </tr>\n",
       "    <tr>\n",
       "      <th>12</th>\n",
       "      <td>2012</td>\n",
       "      <td>5</td>\n",
       "      <td>3</td>\n",
       "      <td>4</td>\n",
       "      <td>4</td>\n",
       "      <td>1</td>\n",
       "      <td>16</td>\n",
       "      <td>2</td>\n",
       "      <td>6</td>\n",
       "    </tr>\n",
       "    <tr>\n",
       "      <th>13</th>\n",
       "      <td>2013</td>\n",
       "      <td>18</td>\n",
       "      <td>16</td>\n",
       "      <td>22</td>\n",
       "      <td>22</td>\n",
       "      <td>8</td>\n",
       "      <td>17</td>\n",
       "      <td>17</td>\n",
       "      <td>27</td>\n",
       "    </tr>\n",
       "    <tr>\n",
       "      <th>14</th>\n",
       "      <td>2014</td>\n",
       "      <td>2</td>\n",
       "      <td>5</td>\n",
       "      <td>3</td>\n",
       "      <td>3</td>\n",
       "      <td>3</td>\n",
       "      <td>11</td>\n",
       "      <td>10</td>\n",
       "      <td>14</td>\n",
       "    </tr>\n",
       "    <tr>\n",
       "      <th>15</th>\n",
       "      <td>2015</td>\n",
       "      <td>4</td>\n",
       "      <td>6</td>\n",
       "      <td>9</td>\n",
       "      <td>9</td>\n",
       "      <td>5</td>\n",
       "      <td>5</td>\n",
       "      <td>28</td>\n",
       "      <td>9</td>\n",
       "    </tr>\n",
       "    <tr>\n",
       "      <th>16</th>\n",
       "      <td>2016</td>\n",
       "      <td>3</td>\n",
       "      <td>5</td>\n",
       "      <td>7</td>\n",
       "      <td>7</td>\n",
       "      <td>3</td>\n",
       "      <td>6</td>\n",
       "      <td>5</td>\n",
       "      <td>7</td>\n",
       "    </tr>\n",
       "  </tbody>\n",
       "</table>\n",
       "</div>"
      ],
      "text/plain": [
       "    Year  Miri (Min.)  Melaka (Min.)  Cheras (Min.)  Cheras (Min.)  \\\n",
       "0   2000            3              4             13             13   \n",
       "1   2001            2              3             16             16   \n",
       "2   2002            5              5             11             11   \n",
       "3   2003            3              6             11             11   \n",
       "4   2004            2              5             32             32   \n",
       "5   2005            2              2              5              5   \n",
       "6   2006            1              5              5              5   \n",
       "7   2007            6              4              4              4   \n",
       "8   2008            6              3              8              8   \n",
       "9   2009            6              4              4              4   \n",
       "10  2010           17             22             26             26   \n",
       "11  2011            4             12             11             11   \n",
       "12  2012            5              3              4              4   \n",
       "13  2013           18             16             22             22   \n",
       "14  2014            2              5              3              3   \n",
       "15  2015            4              6              9              9   \n",
       "16  2016            3              5              7              7   \n",
       "\n",
       "    K.Kinabalu (Min.)  Kuching (Min.)  Larkin (Min.)  S.Jaya (Min.)  \n",
       "0                   1               1              7              4  \n",
       "1                   1               1             10              8  \n",
       "2                   8               1              4              4  \n",
       "3                   2               6              2             11  \n",
       "4                   1              17              8              8  \n",
       "5                   2              23              1             10  \n",
       "6                   2               5              5              6  \n",
       "7                   3               6              0              8  \n",
       "8                   1               5              5              6  \n",
       "9                   1              10              2              5  \n",
       "10                 10              16             15             28  \n",
       "11                  2               4              3              6  \n",
       "12                  1              16              2              6  \n",
       "13                  8              17             17             27  \n",
       "14                  3              11             10             14  \n",
       "15                  5               5             28              9  \n",
       "16                  3               6              5              7  "
      ]
     },
     "execution_count": 9,
     "metadata": {},
     "output_type": "execute_result"
    }
   ],
   "source": [
    "df_min = df_table[['Year','Miri (Min.)','Melaka (Min.)','Cheras (Min.)','K.Kinabalu (Min.)',\n",
    "                   'Kuching (Min.)','Larkin (Min.)','S.Jaya (Min.)']]\n",
    "df_min"
   ]
  },
  {
   "cell_type": "code",
   "execution_count": 11,
   "id": "6cf20ffb",
   "metadata": {},
   "outputs": [
    {
     "data": {
      "text/html": [
       "<div>\n",
       "<style scoped>\n",
       "    .dataframe tbody tr th:only-of-type {\n",
       "        vertical-align: middle;\n",
       "    }\n",
       "\n",
       "    .dataframe tbody tr th {\n",
       "        vertical-align: top;\n",
       "    }\n",
       "\n",
       "    .dataframe thead th {\n",
       "        text-align: right;\n",
       "    }\n",
       "</style>\n",
       "<table border=\"1\" class=\"dataframe\">\n",
       "  <thead>\n",
       "    <tr style=\"text-align: right;\">\n",
       "      <th></th>\n",
       "      <th>Year</th>\n",
       "      <th>Miri (Diff.)</th>\n",
       "      <th>Melaka (Diff.)</th>\n",
       "      <th>Cheras (Diff.)</th>\n",
       "      <th>Cheras (Diff.)</th>\n",
       "      <th>K.Kinabalu (Diff.)</th>\n",
       "      <th>Kuching (Diff.)</th>\n",
       "      <th>Larkin (Diff.)</th>\n",
       "      <th>S.Jaya (Diff.)</th>\n",
       "    </tr>\n",
       "  </thead>\n",
       "  <tbody>\n",
       "    <tr>\n",
       "      <th>0</th>\n",
       "      <td>2000</td>\n",
       "      <td>76</td>\n",
       "      <td>118</td>\n",
       "      <td>128</td>\n",
       "      <td>128</td>\n",
       "      <td>69</td>\n",
       "      <td>83</td>\n",
       "      <td>112</td>\n",
       "      <td>123</td>\n",
       "    </tr>\n",
       "    <tr>\n",
       "      <th>1</th>\n",
       "      <td>2001</td>\n",
       "      <td>82</td>\n",
       "      <td>124</td>\n",
       "      <td>141</td>\n",
       "      <td>141</td>\n",
       "      <td>79</td>\n",
       "      <td>83</td>\n",
       "      <td>109</td>\n",
       "      <td>132</td>\n",
       "    </tr>\n",
       "    <tr>\n",
       "      <th>2</th>\n",
       "      <td>2002</td>\n",
       "      <td>121</td>\n",
       "      <td>100</td>\n",
       "      <td>142</td>\n",
       "      <td>142</td>\n",
       "      <td>80</td>\n",
       "      <td>129</td>\n",
       "      <td>112</td>\n",
       "      <td>111</td>\n",
       "    </tr>\n",
       "    <tr>\n",
       "      <th>3</th>\n",
       "      <td>2003</td>\n",
       "      <td>83</td>\n",
       "      <td>108</td>\n",
       "      <td>132</td>\n",
       "      <td>132</td>\n",
       "      <td>74</td>\n",
       "      <td>79</td>\n",
       "      <td>110</td>\n",
       "      <td>95</td>\n",
       "    </tr>\n",
       "    <tr>\n",
       "      <th>4</th>\n",
       "      <td>2004</td>\n",
       "      <td>75</td>\n",
       "      <td>142</td>\n",
       "      <td>65</td>\n",
       "      <td>65</td>\n",
       "      <td>61</td>\n",
       "      <td>80</td>\n",
       "      <td>118</td>\n",
       "      <td>113</td>\n",
       "    </tr>\n",
       "    <tr>\n",
       "      <th>5</th>\n",
       "      <td>2005</td>\n",
       "      <td>131</td>\n",
       "      <td>112</td>\n",
       "      <td>385</td>\n",
       "      <td>385</td>\n",
       "      <td>61</td>\n",
       "      <td>55</td>\n",
       "      <td>110</td>\n",
       "      <td>141</td>\n",
       "    </tr>\n",
       "    <tr>\n",
       "      <th>6</th>\n",
       "      <td>2006</td>\n",
       "      <td>103</td>\n",
       "      <td>148</td>\n",
       "      <td>157</td>\n",
       "      <td>157</td>\n",
       "      <td>84</td>\n",
       "      <td>183</td>\n",
       "      <td>138</td>\n",
       "      <td>115</td>\n",
       "    </tr>\n",
       "    <tr>\n",
       "      <th>7</th>\n",
       "      <td>2007</td>\n",
       "      <td>67</td>\n",
       "      <td>88</td>\n",
       "      <td>127</td>\n",
       "      <td>127</td>\n",
       "      <td>61</td>\n",
       "      <td>69</td>\n",
       "      <td>141</td>\n",
       "      <td>93</td>\n",
       "    </tr>\n",
       "    <tr>\n",
       "      <th>8</th>\n",
       "      <td>2008</td>\n",
       "      <td>70</td>\n",
       "      <td>77</td>\n",
       "      <td>127</td>\n",
       "      <td>127</td>\n",
       "      <td>54</td>\n",
       "      <td>67</td>\n",
       "      <td>96</td>\n",
       "      <td>93</td>\n",
       "    </tr>\n",
       "    <tr>\n",
       "      <th>9</th>\n",
       "      <td>2009</td>\n",
       "      <td>173</td>\n",
       "      <td>133</td>\n",
       "      <td>164</td>\n",
       "      <td>164</td>\n",
       "      <td>77</td>\n",
       "      <td>104</td>\n",
       "      <td>97</td>\n",
       "      <td>101</td>\n",
       "    </tr>\n",
       "    <tr>\n",
       "      <th>10</th>\n",
       "      <td>2010</td>\n",
       "      <td>72</td>\n",
       "      <td>117</td>\n",
       "      <td>143</td>\n",
       "      <td>143</td>\n",
       "      <td>58</td>\n",
       "      <td>38</td>\n",
       "      <td>96</td>\n",
       "      <td>65</td>\n",
       "    </tr>\n",
       "    <tr>\n",
       "      <th>11</th>\n",
       "      <td>2011</td>\n",
       "      <td>92</td>\n",
       "      <td>85</td>\n",
       "      <td>139</td>\n",
       "      <td>139</td>\n",
       "      <td>59</td>\n",
       "      <td>96</td>\n",
       "      <td>81</td>\n",
       "      <td>92</td>\n",
       "    </tr>\n",
       "    <tr>\n",
       "      <th>12</th>\n",
       "      <td>2012</td>\n",
       "      <td>92</td>\n",
       "      <td>80</td>\n",
       "      <td>151</td>\n",
       "      <td>151</td>\n",
       "      <td>60</td>\n",
       "      <td>77</td>\n",
       "      <td>135</td>\n",
       "      <td>99</td>\n",
       "    </tr>\n",
       "    <tr>\n",
       "      <th>13</th>\n",
       "      <td>2013</td>\n",
       "      <td>75</td>\n",
       "      <td>399</td>\n",
       "      <td>164</td>\n",
       "      <td>164</td>\n",
       "      <td>82</td>\n",
       "      <td>72</td>\n",
       "      <td>209</td>\n",
       "      <td>105</td>\n",
       "    </tr>\n",
       "    <tr>\n",
       "      <th>14</th>\n",
       "      <td>2014</td>\n",
       "      <td>82</td>\n",
       "      <td>123</td>\n",
       "      <td>167</td>\n",
       "      <td>167</td>\n",
       "      <td>56</td>\n",
       "      <td>112</td>\n",
       "      <td>188</td>\n",
       "      <td>105</td>\n",
       "    </tr>\n",
       "    <tr>\n",
       "      <th>15</th>\n",
       "      <td>2015</td>\n",
       "      <td>95</td>\n",
       "      <td>170</td>\n",
       "      <td>176</td>\n",
       "      <td>176</td>\n",
       "      <td>70</td>\n",
       "      <td>204</td>\n",
       "      <td>164</td>\n",
       "      <td>278</td>\n",
       "    </tr>\n",
       "    <tr>\n",
       "      <th>16</th>\n",
       "      <td>2016</td>\n",
       "      <td>146</td>\n",
       "      <td>82</td>\n",
       "      <td>144</td>\n",
       "      <td>144</td>\n",
       "      <td>70</td>\n",
       "      <td>65</td>\n",
       "      <td>104</td>\n",
       "      <td>80</td>\n",
       "    </tr>\n",
       "  </tbody>\n",
       "</table>\n",
       "</div>"
      ],
      "text/plain": [
       "    Year  Miri (Diff.)  Melaka (Diff.)  Cheras (Diff.)  Cheras (Diff.)  \\\n",
       "0   2000            76             118             128             128   \n",
       "1   2001            82             124             141             141   \n",
       "2   2002           121             100             142             142   \n",
       "3   2003            83             108             132             132   \n",
       "4   2004            75             142              65              65   \n",
       "5   2005           131             112             385             385   \n",
       "6   2006           103             148             157             157   \n",
       "7   2007            67              88             127             127   \n",
       "8   2008            70              77             127             127   \n",
       "9   2009           173             133             164             164   \n",
       "10  2010            72             117             143             143   \n",
       "11  2011            92              85             139             139   \n",
       "12  2012            92              80             151             151   \n",
       "13  2013            75             399             164             164   \n",
       "14  2014            82             123             167             167   \n",
       "15  2015            95             170             176             176   \n",
       "16  2016           146              82             144             144   \n",
       "\n",
       "    K.Kinabalu (Diff.)  Kuching (Diff.)  Larkin (Diff.)  S.Jaya (Diff.)  \n",
       "0                   69               83             112             123  \n",
       "1                   79               83             109             132  \n",
       "2                   80              129             112             111  \n",
       "3                   74               79             110              95  \n",
       "4                   61               80             118             113  \n",
       "5                   61               55             110             141  \n",
       "6                   84              183             138             115  \n",
       "7                   61               69             141              93  \n",
       "8                   54               67              96              93  \n",
       "9                   77              104              97             101  \n",
       "10                  58               38              96              65  \n",
       "11                  59               96              81              92  \n",
       "12                  60               77             135              99  \n",
       "13                  82               72             209             105  \n",
       "14                  56              112             188             105  \n",
       "15                  70              204             164             278  \n",
       "16                  70               65             104              80  "
      ]
     },
     "execution_count": 11,
     "metadata": {},
     "output_type": "execute_result"
    }
   ],
   "source": [
    "df_diff = df_table[['Year','Miri (Diff.)','Melaka (Diff.)','Cheras (Diff.)','K.Kinabalu (Diff.)',\n",
    "                   'Kuching (Diff.)','Larkin (Diff.)','S.Jaya (Diff.)']]\n",
    "df_diff"
   ]
  },
  {
   "cell_type": "code",
   "execution_count": null,
   "id": "90fb68c2",
   "metadata": {},
   "outputs": [],
   "source": []
  }
 ],
 "metadata": {
  "kernelspec": {
   "display_name": "Python 3 (ipykernel)",
   "language": "python",
   "name": "python3"
  },
  "language_info": {
   "codemirror_mode": {
    "name": "ipython",
    "version": 3
   },
   "file_extension": ".py",
   "mimetype": "text/x-python",
   "name": "python",
   "nbconvert_exporter": "python",
   "pygments_lexer": "ipython3",
   "version": "3.9.7"
  }
 },
 "nbformat": 4,
 "nbformat_minor": 5
}
