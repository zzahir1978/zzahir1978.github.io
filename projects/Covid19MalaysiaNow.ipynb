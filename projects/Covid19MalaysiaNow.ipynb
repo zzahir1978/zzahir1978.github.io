{
 "cells": [
  {
   "cell_type": "markdown",
   "metadata": {},
   "source": [
    "<h1 style=\"color:black; font-size:50px; font-family:Impact, Charcoal, sans-serif; \n",
    "           text-align:center;\">Malaysia Covid19 Cases Updates</h1>\n",
    "<h3>Prepared By: <a href='https://zzahir1978.github.io'>Zahiruddin Zahidanishah</a></h3>"
   ]
  },
  {
   "cell_type": "markdown",
   "metadata": {},
   "source": [
    "______________________________________________________________________________________________"
   ]
  },
  {
   "cell_type": "markdown",
   "metadata": {},
   "source": [
    "This reports is prepare to updates and shows the current status of Covid19 pandemics especially at Malaysia and also around the worlds. \n",
    "\n",
    "This report is separates in three different sections. Please click on the following sections for more details:-"
   ]
  },
  {
   "cell_type": "markdown",
   "metadata": {},
   "source": [
    "1. <a href='Covid19Malaysia1.html'>Section 1 - Malaysia Overall Updates</a>\n",
    "2. <a href='Covid19Malaysia2.html'>Section 2 - Malaysia States Updates</a>\n",
    "3. <a href='Covid19Malaysia3.html'>Section 3 - Worldwide Updates</a>"
   ]
  },
  {
   "cell_type": "markdown",
   "metadata": {},
   "source": [
    "<p>All datasets in this reports were retrieved from:-</p>\n",
    "<p>1. <a href='https://github.com/MoH-Malaysia/covid19-public'>Malaysia MOH Github Account</a></p>\n",
    "<p>2. <a href='https://github.com/CITF-Malaysia/citf-public'>CITF Github Account</a></p>\n",
    "<p>3. <a href='https://github.com/CSSEGISandData/COVID-19'> COVID-19 Data Repository by the Center for Systems Science and Engineering (CSSE) at Johns Hopkins University Github Account</a></p>"
   ]
  }
 ],
 "metadata": {
  "kernelspec": {
   "display_name": "Python 3 (ipykernel)",
   "language": "python",
   "name": "python3"
  },
  "language_info": {
   "codemirror_mode": {
    "name": "ipython",
    "version": 3
   },
   "file_extension": ".py",
   "mimetype": "text/x-python",
   "name": "python",
   "nbconvert_exporter": "python",
   "pygments_lexer": "ipython3",
   "version": "3.9.7"
  }
 },
 "nbformat": 4,
 "nbformat_minor": 4
}
