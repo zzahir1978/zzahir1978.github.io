{
 "cells": [
  {
   "cell_type": "markdown",
   "id": "6ca7fbfd",
   "metadata": {},
   "source": [
    "<h1 style=\"color:black; font-size:50px; font-family:Impact, Charcoal, sans-serif; \n",
    "           text-align:center;\">Malaysia Air Pollution Index Reading From Year 2000 to 2017</h1>\n",
    "<h3>Prepared By: <a href='https://zzahir1978.github.io'>Zahiruddin Zahidanishah</a></h3>"
   ]
  },
  {
   "cell_type": "code",
   "execution_count": 1,
   "id": "07a738d4",
   "metadata": {},
   "outputs": [
    {
     "data": {
      "text/html": [
       "        <script type=\"text/javascript\">\n",
       "        window.PlotlyConfig = {MathJaxConfig: 'local'};\n",
       "        if (window.MathJax) {MathJax.Hub.Config({SVG: {font: \"STIX-Web\"}});}\n",
       "        if (typeof require !== 'undefined') {\n",
       "        require.undef(\"plotly\");\n",
       "        requirejs.config({\n",
       "            paths: {\n",
       "                'plotly': ['https://cdn.plot.ly/plotly-2.11.1.min']\n",
       "            }\n",
       "        });\n",
       "        require(['plotly'], function(Plotly) {\n",
       "            window._Plotly = Plotly;\n",
       "        });\n",
       "        }\n",
       "        </script>\n",
       "        "
      ]
     },
     "metadata": {},
     "output_type": "display_data"
    },
    {
     "data": {
      "text/html": [
       "        <script type=\"text/javascript\">\n",
       "        window.PlotlyConfig = {MathJaxConfig: 'local'};\n",
       "        if (window.MathJax) {MathJax.Hub.Config({SVG: {font: \"STIX-Web\"}});}\n",
       "        if (typeof require !== 'undefined') {\n",
       "        require.undef(\"plotly\");\n",
       "        requirejs.config({\n",
       "            paths: {\n",
       "                'plotly': ['https://cdn.plot.ly/plotly-2.11.1.min']\n",
       "            }\n",
       "        });\n",
       "        require(['plotly'], function(Plotly) {\n",
       "            window._Plotly = Plotly;\n",
       "        });\n",
       "        }\n",
       "        </script>\n",
       "        "
      ]
     },
     "metadata": {},
     "output_type": "display_data"
    }
   ],
   "source": [
    "import pandas as pd\n",
    "import numpy as np\n",
    "import matplotlib.pyplot as plt\n",
    "import plotly.graph_objects as go\n",
    "import plotly.express as px\n",
    "from plotly.subplots import make_subplots\n",
    "import dataframe_image as dfi\n",
    "import adjustText as aT\n",
    "from jupyterthemes import jtplot\n",
    "#import requests\n",
    "import cufflinks as cf\n",
    "#from bs4 import BeautifulSoup as bs\n",
    "jtplot.style(theme='monokai', context='notebook', ticks=True, grid=False) \n",
    "import warnings\n",
    "warnings.filterwarnings('ignore')\n",
    "%matplotlib inline\n",
    "\n",
    "from plotly.offline import download_plotlyjs, init_notebook_mode, plot, iplot \n",
    "init_notebook_mode(connected=True)\n",
    "cf.go_offline()\n",
    "\n",
    "from IPython.display import display_html\n",
    "def display_side_by_side(*args):\n",
    "    html_str=''\n",
    "    for df in args:\n",
    "        html_str+=df.to_html()\n",
    "    display_html(html_str.replace('table','table style=\"display:inline\"'),raw=True)"
   ]
  },
  {
   "cell_type": "code",
   "execution_count": 9,
   "id": "790ac85c",
   "metadata": {},
   "outputs": [
    {
     "data": {
      "text/html": [
       "<div>\n",
       "<style scoped>\n",
       "    .dataframe tbody tr th:only-of-type {\n",
       "        vertical-align: middle;\n",
       "    }\n",
       "\n",
       "    .dataframe tbody tr th {\n",
       "        vertical-align: top;\n",
       "    }\n",
       "\n",
       "    .dataframe thead th {\n",
       "        text-align: right;\n",
       "    }\n",
       "</style>\n",
       "<table border=\"1\" class=\"dataframe\">\n",
       "  <thead>\n",
       "    <tr style=\"text-align: right;\">\n",
       "      <th></th>\n",
       "      <th>date</th>\n",
       "      <th>state</th>\n",
       "      <th>district</th>\n",
       "      <th>partial_malay</th>\n",
       "      <th>full_malay</th>\n",
       "      <th>booster_malay</th>\n",
       "      <th>partial_chinese</th>\n",
       "      <th>full_chinese</th>\n",
       "      <th>booster_chinese</th>\n",
       "      <th>partial_indian</th>\n",
       "      <th>...</th>\n",
       "      <th>booster_indian</th>\n",
       "      <th>partial_native</th>\n",
       "      <th>full_native</th>\n",
       "      <th>booster_native</th>\n",
       "      <th>partial_other</th>\n",
       "      <th>full_other</th>\n",
       "      <th>booster_other</th>\n",
       "      <th>partial_missing</th>\n",
       "      <th>full_missing</th>\n",
       "      <th>booster_missing</th>\n",
       "    </tr>\n",
       "  </thead>\n",
       "  <tbody>\n",
       "    <tr>\n",
       "      <th>0</th>\n",
       "      <td>2021-02-24</td>\n",
       "      <td>Johor</td>\n",
       "      <td>Batu Pahat</td>\n",
       "      <td>0</td>\n",
       "      <td>0</td>\n",
       "      <td>0</td>\n",
       "      <td>0</td>\n",
       "      <td>0</td>\n",
       "      <td>0</td>\n",
       "      <td>0</td>\n",
       "      <td>...</td>\n",
       "      <td>0</td>\n",
       "      <td>0</td>\n",
       "      <td>0</td>\n",
       "      <td>0</td>\n",
       "      <td>0</td>\n",
       "      <td>0</td>\n",
       "      <td>0</td>\n",
       "      <td>0</td>\n",
       "      <td>0</td>\n",
       "      <td>0</td>\n",
       "    </tr>\n",
       "    <tr>\n",
       "      <th>1</th>\n",
       "      <td>2021-02-24</td>\n",
       "      <td>Johor</td>\n",
       "      <td>Johor Bahru</td>\n",
       "      <td>0</td>\n",
       "      <td>0</td>\n",
       "      <td>0</td>\n",
       "      <td>0</td>\n",
       "      <td>0</td>\n",
       "      <td>0</td>\n",
       "      <td>0</td>\n",
       "      <td>...</td>\n",
       "      <td>0</td>\n",
       "      <td>0</td>\n",
       "      <td>0</td>\n",
       "      <td>0</td>\n",
       "      <td>0</td>\n",
       "      <td>0</td>\n",
       "      <td>0</td>\n",
       "      <td>0</td>\n",
       "      <td>0</td>\n",
       "      <td>0</td>\n",
       "    </tr>\n",
       "    <tr>\n",
       "      <th>2</th>\n",
       "      <td>2021-02-24</td>\n",
       "      <td>Johor</td>\n",
       "      <td>Kluang</td>\n",
       "      <td>0</td>\n",
       "      <td>0</td>\n",
       "      <td>0</td>\n",
       "      <td>0</td>\n",
       "      <td>0</td>\n",
       "      <td>0</td>\n",
       "      <td>0</td>\n",
       "      <td>...</td>\n",
       "      <td>0</td>\n",
       "      <td>0</td>\n",
       "      <td>0</td>\n",
       "      <td>0</td>\n",
       "      <td>0</td>\n",
       "      <td>0</td>\n",
       "      <td>0</td>\n",
       "      <td>0</td>\n",
       "      <td>0</td>\n",
       "      <td>0</td>\n",
       "    </tr>\n",
       "    <tr>\n",
       "      <th>3</th>\n",
       "      <td>2021-02-24</td>\n",
       "      <td>Johor</td>\n",
       "      <td>Kota Tinggi</td>\n",
       "      <td>0</td>\n",
       "      <td>0</td>\n",
       "      <td>0</td>\n",
       "      <td>0</td>\n",
       "      <td>0</td>\n",
       "      <td>0</td>\n",
       "      <td>0</td>\n",
       "      <td>...</td>\n",
       "      <td>0</td>\n",
       "      <td>0</td>\n",
       "      <td>0</td>\n",
       "      <td>0</td>\n",
       "      <td>0</td>\n",
       "      <td>0</td>\n",
       "      <td>0</td>\n",
       "      <td>0</td>\n",
       "      <td>0</td>\n",
       "      <td>0</td>\n",
       "    </tr>\n",
       "    <tr>\n",
       "      <th>4</th>\n",
       "      <td>2021-02-24</td>\n",
       "      <td>Johor</td>\n",
       "      <td>Kulai</td>\n",
       "      <td>0</td>\n",
       "      <td>0</td>\n",
       "      <td>0</td>\n",
       "      <td>0</td>\n",
       "      <td>0</td>\n",
       "      <td>0</td>\n",
       "      <td>0</td>\n",
       "      <td>...</td>\n",
       "      <td>0</td>\n",
       "      <td>0</td>\n",
       "      <td>0</td>\n",
       "      <td>0</td>\n",
       "      <td>0</td>\n",
       "      <td>0</td>\n",
       "      <td>0</td>\n",
       "      <td>0</td>\n",
       "      <td>0</td>\n",
       "      <td>0</td>\n",
       "    </tr>\n",
       "  </tbody>\n",
       "</table>\n",
       "<p>5 rows × 21 columns</p>\n",
       "</div>"
      ],
      "text/plain": [
       "         date  state     district  partial_malay  full_malay  booster_malay  \\\n",
       "0  2021-02-24  Johor   Batu Pahat              0           0              0   \n",
       "1  2021-02-24  Johor  Johor Bahru              0           0              0   \n",
       "2  2021-02-24  Johor       Kluang              0           0              0   \n",
       "3  2021-02-24  Johor  Kota Tinggi              0           0              0   \n",
       "4  2021-02-24  Johor        Kulai              0           0              0   \n",
       "\n",
       "   partial_chinese  full_chinese  booster_chinese  partial_indian  ...  \\\n",
       "0                0             0                0               0  ...   \n",
       "1                0             0                0               0  ...   \n",
       "2                0             0                0               0  ...   \n",
       "3                0             0                0               0  ...   \n",
       "4                0             0                0               0  ...   \n",
       "\n",
       "   booster_indian  partial_native  full_native  booster_native  partial_other  \\\n",
       "0               0               0            0               0              0   \n",
       "1               0               0            0               0              0   \n",
       "2               0               0            0               0              0   \n",
       "3               0               0            0               0              0   \n",
       "4               0               0            0               0              0   \n",
       "\n",
       "   full_other  booster_other  partial_missing  full_missing  booster_missing  \n",
       "0           0              0                0             0                0  \n",
       "1           0              0                0             0                0  \n",
       "2           0              0                0             0                0  \n",
       "3           0              0                0             0                0  \n",
       "4           0              0                0             0                0  \n",
       "\n",
       "[5 rows x 21 columns]"
      ]
     },
     "execution_count": 9,
     "metadata": {},
     "output_type": "execute_result"
    }
   ],
   "source": [
    "df = pd.read_csv('https://raw.githubusercontent.com/MoH-Malaysia/covid19-public/main/vaccination/vax_demog_ethnicity.csv')\n",
    "df.head()"
   ]
  },
  {
   "cell_type": "code",
   "execution_count": 17,
   "id": "6973f109",
   "metadata": {},
   "outputs": [
    {
     "data": {
      "text/html": [
       "<div>\n",
       "<style scoped>\n",
       "    .dataframe tbody tr th:only-of-type {\n",
       "        vertical-align: middle;\n",
       "    }\n",
       "\n",
       "    .dataframe tbody tr th {\n",
       "        vertical-align: top;\n",
       "    }\n",
       "\n",
       "    .dataframe thead th {\n",
       "        text-align: right;\n",
       "    }\n",
       "</style>\n",
       "<table border=\"1\" class=\"dataframe\">\n",
       "  <thead>\n",
       "    <tr style=\"text-align: right;\">\n",
       "      <th></th>\n",
       "      <th>state</th>\n",
       "      <th>partial_malay</th>\n",
       "      <th>full_malay</th>\n",
       "      <th>booster_malay</th>\n",
       "    </tr>\n",
       "  </thead>\n",
       "  <tbody>\n",
       "    <tr>\n",
       "      <th>0</th>\n",
       "      <td>Johor</td>\n",
       "      <td>1746213</td>\n",
       "      <td>1674712</td>\n",
       "      <td>934815</td>\n",
       "    </tr>\n",
       "    <tr>\n",
       "      <th>1</th>\n",
       "      <td>Kedah</td>\n",
       "      <td>1258067</td>\n",
       "      <td>1214180</td>\n",
       "      <td>459389</td>\n",
       "    </tr>\n",
       "    <tr>\n",
       "      <th>2</th>\n",
       "      <td>Kelantan</td>\n",
       "      <td>1120722</td>\n",
       "      <td>1089390</td>\n",
       "      <td>272872</td>\n",
       "    </tr>\n",
       "    <tr>\n",
       "      <th>3</th>\n",
       "      <td>Melaka</td>\n",
       "      <td>499764</td>\n",
       "      <td>478531</td>\n",
       "      <td>306894</td>\n",
       "    </tr>\n",
       "    <tr>\n",
       "      <th>4</th>\n",
       "      <td>Negeri Sembilan</td>\n",
       "      <td>592188</td>\n",
       "      <td>571364</td>\n",
       "      <td>336440</td>\n",
       "    </tr>\n",
       "    <tr>\n",
       "      <th>5</th>\n",
       "      <td>Pahang</td>\n",
       "      <td>863301</td>\n",
       "      <td>830912</td>\n",
       "      <td>363141</td>\n",
       "    </tr>\n",
       "    <tr>\n",
       "      <th>6</th>\n",
       "      <td>Perak</td>\n",
       "      <td>1060233</td>\n",
       "      <td>1017818</td>\n",
       "      <td>490317</td>\n",
       "    </tr>\n",
       "    <tr>\n",
       "      <th>7</th>\n",
       "      <td>Perlis</td>\n",
       "      <td>180289</td>\n",
       "      <td>175719</td>\n",
       "      <td>58628</td>\n",
       "    </tr>\n",
       "    <tr>\n",
       "      <th>8</th>\n",
       "      <td>Pulau Pinang</td>\n",
       "      <td>660691</td>\n",
       "      <td>643642</td>\n",
       "      <td>324567</td>\n",
       "    </tr>\n",
       "    <tr>\n",
       "      <th>9</th>\n",
       "      <td>Sabah</td>\n",
       "      <td>78466</td>\n",
       "      <td>74563</td>\n",
       "      <td>42712</td>\n",
       "    </tr>\n",
       "    <tr>\n",
       "      <th>10</th>\n",
       "      <td>Sarawak</td>\n",
       "      <td>569941</td>\n",
       "      <td>538188</td>\n",
       "      <td>366322</td>\n",
       "    </tr>\n",
       "    <tr>\n",
       "      <th>11</th>\n",
       "      <td>Selangor</td>\n",
       "      <td>2633495</td>\n",
       "      <td>2519026</td>\n",
       "      <td>1838909</td>\n",
       "    </tr>\n",
       "    <tr>\n",
       "      <th>12</th>\n",
       "      <td>Terengganu</td>\n",
       "      <td>864068</td>\n",
       "      <td>837349</td>\n",
       "      <td>311072</td>\n",
       "    </tr>\n",
       "    <tr>\n",
       "      <th>13</th>\n",
       "      <td>W.P. Kuala Lumpur</td>\n",
       "      <td>1356393</td>\n",
       "      <td>1287635</td>\n",
       "      <td>606201</td>\n",
       "    </tr>\n",
       "    <tr>\n",
       "      <th>14</th>\n",
       "      <td>W.P. Labuan</td>\n",
       "      <td>25146</td>\n",
       "      <td>23560</td>\n",
       "      <td>14906</td>\n",
       "    </tr>\n",
       "    <tr>\n",
       "      <th>15</th>\n",
       "      <td>W.P. Putrajaya</td>\n",
       "      <td>111616</td>\n",
       "      <td>105722</td>\n",
       "      <td>62074</td>\n",
       "    </tr>\n",
       "  </tbody>\n",
       "</table>\n",
       "</div>"
      ],
      "text/plain": [
       "                state  partial_malay  full_malay  booster_malay\n",
       "0               Johor        1746213     1674712         934815\n",
       "1               Kedah        1258067     1214180         459389\n",
       "2            Kelantan        1120722     1089390         272872\n",
       "3              Melaka         499764      478531         306894\n",
       "4     Negeri Sembilan         592188      571364         336440\n",
       "5              Pahang         863301      830912         363141\n",
       "6               Perak        1060233     1017818         490317\n",
       "7              Perlis         180289      175719          58628\n",
       "8        Pulau Pinang         660691      643642         324567\n",
       "9               Sabah          78466       74563          42712\n",
       "10            Sarawak         569941      538188         366322\n",
       "11           Selangor        2633495     2519026        1838909\n",
       "12         Terengganu         864068      837349         311072\n",
       "13  W.P. Kuala Lumpur        1356393     1287635         606201\n",
       "14        W.P. Labuan          25146       23560          14906\n",
       "15     W.P. Putrajaya         111616      105722          62074"
      ]
     },
     "execution_count": 17,
     "metadata": {},
     "output_type": "execute_result"
    }
   ],
   "source": [
    "df_malay = df[['date','state','partial_malay','full_malay','booster_malay']]\n",
    "df_malay = df_malay.groupby('state').sum().reset_index()\n",
    "df_chinese = df[['date','state','partial_chinese','full_chinese','booster_chinese']]\n",
    "df_chinese = df_chinese.groupby('state').sum().reset_index()\n",
    "df_indian = df[['date','state','partial_indian','full_indian','booster_indian']]\n",
    "df_indian = df_indian.groupby('state').sum().reset_index()\n",
    "df_native = df[['date','state','partial_native','full_native','booster_native']]\n",
    "df_native = df_native.groupby('state').sum().reset_index()\n",
    "df_other = df[['date','state','partial_other','full_other','booster_other']]\n",
    "df_other = df_other.groupby('state').sum().reset_index()\n",
    "df_missing = df[['date','state','partial_missing','full_missing','booster_missing']]\n",
    "df_missing = df_missing.groupby('state').sum().reset_index()\n",
    "df_malay"
   ]
  },
  {
   "cell_type": "code",
   "execution_count": 51,
   "id": "76f5e16b",
   "metadata": {},
   "outputs": [
    {
     "data": {
      "application/vnd.plotly.v1+json": {
       "config": {
        "plotlyServerURL": "https://plot.ly"
       },
       "data": [
        {
         "domain": {
          "x": [
           0,
           0.2888888888888889
          ],
          "y": [
           0.9027777777777777,
           0.9999999999999999
          ]
         },
         "labels": [
          "Johor",
          "Kedah",
          "Kelantan",
          "Melaka",
          "Negeri Sembilan",
          "Pahang",
          "Perak",
          "Perlis",
          "Pulau Pinang",
          "Sabah",
          "Sarawak",
          "Selangor",
          "Terengganu",
          "W.P. Kuala Lumpur",
          "W.P. Labuan",
          "W.P. Putrajaya"
         ],
         "textinfo": "percent+label",
         "textposition": "inside",
         "type": "pie",
         "values": [
          1746213,
          1258067,
          1120722,
          499764,
          592188,
          863301,
          1060233,
          180289,
          660691,
          78466,
          569941,
          2633495,
          864068,
          1356393,
          25146,
          111616
         ]
        },
        {
         "domain": {
          "x": [
           0.35555555555555557,
           0.6444444444444445
          ],
          "y": [
           0.9027777777777777,
           0.9999999999999999
          ]
         },
         "labels": [
          "Johor",
          "Kedah",
          "Kelantan",
          "Melaka",
          "Negeri Sembilan",
          "Pahang",
          "Perak",
          "Perlis",
          "Pulau Pinang",
          "Sabah",
          "Sarawak",
          "Selangor",
          "Terengganu",
          "W.P. Kuala Lumpur",
          "W.P. Labuan",
          "W.P. Putrajaya"
         ],
         "textinfo": "percent+label",
         "textposition": "inside",
         "type": "pie",
         "values": [
          1674712,
          1214180,
          1089390,
          478531,
          571364,
          830912,
          1017818,
          175719,
          643642,
          74563,
          538188,
          2519026,
          837349,
          1287635,
          23560,
          105722
         ]
        },
        {
         "domain": {
          "x": [
           0.7111111111111111,
           1
          ],
          "y": [
           0.9027777777777777,
           0.9999999999999999
          ]
         },
         "labels": [
          "Johor",
          "Kedah",
          "Kelantan",
          "Melaka",
          "Negeri Sembilan",
          "Pahang",
          "Perak",
          "Perlis",
          "Pulau Pinang",
          "Sabah",
          "Sarawak",
          "Selangor",
          "Terengganu",
          "W.P. Kuala Lumpur",
          "W.P. Labuan",
          "W.P. Putrajaya"
         ],
         "textinfo": "percent+label",
         "textposition": "inside",
         "type": "pie",
         "values": [
          934815,
          459389,
          272872,
          306894,
          336440,
          363141,
          490317,
          58628,
          324567,
          42712,
          366322,
          1838909,
          311072,
          606201,
          14906,
          62074
         ]
        },
        {
         "domain": {
          "x": [
           0,
           0.2888888888888889
          ],
          "y": [
           0.7222222222222222,
           0.8194444444444444
          ]
         },
         "labels": [
          "Johor",
          "Kedah",
          "Kelantan",
          "Melaka",
          "Negeri Sembilan",
          "Pahang",
          "Perak",
          "Perlis",
          "Pulau Pinang",
          "Sabah",
          "Sarawak",
          "Selangor",
          "Terengganu",
          "W.P. Kuala Lumpur",
          "W.P. Labuan",
          "W.P. Putrajaya"
         ],
         "textinfo": "percent+label",
         "textposition": "inside",
         "type": "pie",
         "values": [
          900152,
          193161,
          36949,
          162855,
          190251,
          167198,
          512668,
          17696,
          617577,
          205195,
          536617,
          1150442,
          18983,
          1016750,
          8402,
          6545
         ]
        },
        {
         "domain": {
          "x": [
           0.35555555555555557,
           0.6444444444444445
          ],
          "y": [
           0.7222222222222222,
           0.8194444444444444
          ]
         },
         "labels": [
          "Johor",
          "Kedah",
          "Kelantan",
          "Melaka",
          "Negeri Sembilan",
          "Pahang",
          "Perak",
          "Perlis",
          "Pulau Pinang",
          "Sabah",
          "Sarawak",
          "Selangor",
          "Terengganu",
          "W.P. Kuala Lumpur",
          "W.P. Labuan",
          "W.P. Putrajaya"
         ],
         "textinfo": "percent+label",
         "textposition": "inside",
         "type": "pie",
         "values": [
          881898,
          188968,
          36061,
          160532,
          187738,
          164989,
          503764,
          17410,
          610843,
          201096,
          519931,
          1132854,
          18537,
          1002337,
          8160,
          6491
         ]
        },
        {
         "domain": {
          "x": [
           0.7111111111111111,
           1
          ],
          "y": [
           0.7222222222222222,
           0.8194444444444444
          ]
         },
         "labels": [
          "Johor",
          "Kedah",
          "Kelantan",
          "Melaka",
          "Negeri Sembilan",
          "Pahang",
          "Perak",
          "Perlis",
          "Pulau Pinang",
          "Sabah",
          "Sarawak",
          "Selangor",
          "Terengganu",
          "W.P. Kuala Lumpur",
          "W.P. Labuan",
          "W.P. Putrajaya"
         ],
         "textinfo": "percent+label",
         "textposition": "inside",
         "type": "pie",
         "values": [
          689438,
          150781,
          24618,
          143030,
          149069,
          134614,
          407027,
          10403,
          498109,
          149283,
          396135,
          1061310,
          13896,
          637301,
          6159,
          9460
         ]
        },
        {
         "domain": {
          "x": [
           0,
           0.2888888888888889
          ],
          "y": [
           0.5416666666666667,
           0.638888888888889
          ]
         },
         "labels": [
          "Johor",
          "Kedah",
          "Kelantan",
          "Melaka",
          "Negeri Sembilan",
          "Pahang",
          "Perak",
          "Perlis",
          "Pulau Pinang",
          "Sabah",
          "Sarawak",
          "Selangor",
          "Terengganu",
          "W.P. Kuala Lumpur",
          "W.P. Labuan",
          "W.P. Putrajaya"
         ],
         "textinfo": "percent+label",
         "textposition": "inside",
         "type": "pie",
         "values": [
          180996,
          90152,
          2931,
          40245,
          122387,
          39990,
          204528,
          1915,
          133494,
          7490,
          5588,
          498082,
          1363,
          222792,
          756,
          5780
         ]
        },
        {
         "domain": {
          "x": [
           0.35555555555555557,
           0.6444444444444445
          ],
          "y": [
           0.5416666666666667,
           0.638888888888889
          ]
         },
         "labels": [
          "Johor",
          "Kedah",
          "Kelantan",
          "Melaka",
          "Negeri Sembilan",
          "Pahang",
          "Perak",
          "Perlis",
          "Pulau Pinang",
          "Sabah",
          "Sarawak",
          "Selangor",
          "Terengganu",
          "W.P. Kuala Lumpur",
          "W.P. Labuan",
          "W.P. Putrajaya"
         ],
         "textinfo": "percent+label",
         "textposition": "inside",
         "type": "pie",
         "values": [
          173907,
          87635,
          2731,
          38972,
          119184,
          38635,
          198574,
          1863,
          130435,
          7271,
          5291,
          483618,
          1310,
          216256,
          700,
          5639
         ]
        },
        {
         "domain": {
          "x": [
           0.7111111111111111,
           1
          ],
          "y": [
           0.5416666666666667,
           0.638888888888889
          ]
         },
         "labels": [
          "Johor",
          "Kedah",
          "Kelantan",
          "Melaka",
          "Negeri Sembilan",
          "Pahang",
          "Perak",
          "Perlis",
          "Pulau Pinang",
          "Sabah",
          "Sarawak",
          "Selangor",
          "Terengganu",
          "W.P. Kuala Lumpur",
          "W.P. Labuan",
          "W.P. Putrajaya"
         ],
         "textinfo": "percent+label",
         "textposition": "inside",
         "type": "pie",
         "values": [
          114101,
          51994,
          1640,
          27587,
          78784,
          23992,
          118487,
          962,
          80202,
          4060,
          4100,
          369156,
          947,
          114381,
          405,
          2044
         ]
        }
       ],
       "layout": {
        "annotations": [
         {
          "font": {
           "family": "Helvetica",
           "size": 11
          },
          "showarrow": false,
          "text": "<b>Malay Partial</b>",
          "x": 0.14444444444444446,
          "xanchor": "center",
          "xref": "paper",
          "y": 0.9999999999999999,
          "yanchor": "bottom",
          "yref": "paper"
         },
         {
          "font": {
           "family": "Helvetica",
           "size": 11
          },
          "showarrow": false,
          "text": "<b>Malay Full</b>",
          "x": 0.5,
          "xanchor": "center",
          "xref": "paper",
          "y": 0.9999999999999999,
          "yanchor": "bottom",
          "yref": "paper"
         },
         {
          "font": {
           "family": "Helvetica",
           "size": 11
          },
          "showarrow": false,
          "text": "<b>Malay Booster</b>",
          "x": 0.8555555555555556,
          "xanchor": "center",
          "xref": "paper",
          "y": 0.9999999999999999,
          "yanchor": "bottom",
          "yref": "paper"
         },
         {
          "font": {
           "family": "Helvetica",
           "size": 11
          },
          "showarrow": false,
          "text": "<b>Chinese Partial</b>",
          "x": 0.14444444444444446,
          "xanchor": "center",
          "xref": "paper",
          "y": 0.8194444444444444,
          "yanchor": "bottom",
          "yref": "paper"
         },
         {
          "font": {
           "family": "Helvetica",
           "size": 11
          },
          "showarrow": false,
          "text": "<b>Chinese Full</b>",
          "x": 0.5,
          "xanchor": "center",
          "xref": "paper",
          "y": 0.8194444444444444,
          "yanchor": "bottom",
          "yref": "paper"
         },
         {
          "font": {
           "family": "Helvetica",
           "size": 11
          },
          "showarrow": false,
          "text": "<b>Chinese Booster</b>",
          "x": 0.8555555555555556,
          "xanchor": "center",
          "xref": "paper",
          "y": 0.8194444444444444,
          "yanchor": "bottom",
          "yref": "paper"
         },
         {
          "font": {
           "family": "Helvetica",
           "size": 11
          },
          "showarrow": false,
          "text": "<b>Indian Partial</b>",
          "x": 0.14444444444444446,
          "xanchor": "center",
          "xref": "paper",
          "y": 0.638888888888889,
          "yanchor": "bottom",
          "yref": "paper"
         },
         {
          "font": {
           "family": "Helvetica",
           "size": 11
          },
          "showarrow": false,
          "text": "<b>Indian Full</b>",
          "x": 0.5,
          "xanchor": "center",
          "xref": "paper",
          "y": 0.638888888888889,
          "yanchor": "bottom",
          "yref": "paper"
         },
         {
          "font": {
           "family": "Helvetica",
           "size": 11
          },
          "showarrow": false,
          "text": "<b>Indian Booster</b>",
          "x": 0.8555555555555556,
          "xanchor": "center",
          "xref": "paper",
          "y": 0.638888888888889,
          "yanchor": "bottom",
          "yref": "paper"
         },
         {
          "font": {
           "family": "Helvetica",
           "size": 11
          },
          "showarrow": false,
          "text": "<b>Native Partial</b>",
          "x": 0.14444444444444446,
          "xanchor": "center",
          "xref": "paper",
          "y": 0.4583333333333333,
          "yanchor": "bottom",
          "yref": "paper"
         },
         {
          "font": {
           "family": "Helvetica",
           "size": 11
          },
          "showarrow": false,
          "text": "<b>Native Full</b>",
          "x": 0.5,
          "xanchor": "center",
          "xref": "paper",
          "y": 0.4583333333333333,
          "yanchor": "bottom",
          "yref": "paper"
         },
         {
          "font": {
           "family": "Helvetica",
           "size": 11
          },
          "showarrow": false,
          "text": "<b>Native Booster</b>",
          "x": 0.8555555555555556,
          "xanchor": "center",
          "xref": "paper",
          "y": 0.4583333333333333,
          "yanchor": "bottom",
          "yref": "paper"
         },
         {
          "font": {
           "family": "Helvetica",
           "size": 11
          },
          "showarrow": false,
          "text": "<b>Missing Partial</b>",
          "x": 0.14444444444444446,
          "xanchor": "center",
          "xref": "paper",
          "y": 0.2777777777777778,
          "yanchor": "bottom",
          "yref": "paper"
         },
         {
          "font": {
           "family": "Helvetica",
           "size": 11
          },
          "showarrow": false,
          "text": "<b>Missing Full</b>",
          "x": 0.5,
          "xanchor": "center",
          "xref": "paper",
          "y": 0.2777777777777778,
          "yanchor": "bottom",
          "yref": "paper"
         },
         {
          "font": {
           "family": "Helvetica",
           "size": 11
          },
          "showarrow": false,
          "text": "<b>Missing Booster</b>",
          "x": 0.8555555555555556,
          "xanchor": "center",
          "xref": "paper",
          "y": 0.2777777777777778,
          "yanchor": "bottom",
          "yref": "paper"
         }
        ],
        "font": {
         "family": "Helvetica",
         "size": 11
        },
        "height": 5000,
        "showlegend": false,
        "template": {
         "data": {
          "bar": [
           {
            "error_x": {
             "color": "#2a3f5f"
            },
            "error_y": {
             "color": "#2a3f5f"
            },
            "marker": {
             "line": {
              "color": "#E5ECF6",
              "width": 0.5
             },
             "pattern": {
              "fillmode": "overlay",
              "size": 10,
              "solidity": 0.2
             }
            },
            "type": "bar"
           }
          ],
          "barpolar": [
           {
            "marker": {
             "line": {
              "color": "#E5ECF6",
              "width": 0.5
             },
             "pattern": {
              "fillmode": "overlay",
              "size": 10,
              "solidity": 0.2
             }
            },
            "type": "barpolar"
           }
          ],
          "carpet": [
           {
            "aaxis": {
             "endlinecolor": "#2a3f5f",
             "gridcolor": "white",
             "linecolor": "white",
             "minorgridcolor": "white",
             "startlinecolor": "#2a3f5f"
            },
            "baxis": {
             "endlinecolor": "#2a3f5f",
             "gridcolor": "white",
             "linecolor": "white",
             "minorgridcolor": "white",
             "startlinecolor": "#2a3f5f"
            },
            "type": "carpet"
           }
          ],
          "choropleth": [
           {
            "colorbar": {
             "outlinewidth": 0,
             "ticks": ""
            },
            "type": "choropleth"
           }
          ],
          "contour": [
           {
            "colorbar": {
             "outlinewidth": 0,
             "ticks": ""
            },
            "colorscale": [
             [
              0,
              "#0d0887"
             ],
             [
              0.1111111111111111,
              "#46039f"
             ],
             [
              0.2222222222222222,
              "#7201a8"
             ],
             [
              0.3333333333333333,
              "#9c179e"
             ],
             [
              0.4444444444444444,
              "#bd3786"
             ],
             [
              0.5555555555555556,
              "#d8576b"
             ],
             [
              0.6666666666666666,
              "#ed7953"
             ],
             [
              0.7777777777777778,
              "#fb9f3a"
             ],
             [
              0.8888888888888888,
              "#fdca26"
             ],
             [
              1,
              "#f0f921"
             ]
            ],
            "type": "contour"
           }
          ],
          "contourcarpet": [
           {
            "colorbar": {
             "outlinewidth": 0,
             "ticks": ""
            },
            "type": "contourcarpet"
           }
          ],
          "heatmap": [
           {
            "colorbar": {
             "outlinewidth": 0,
             "ticks": ""
            },
            "colorscale": [
             [
              0,
              "#0d0887"
             ],
             [
              0.1111111111111111,
              "#46039f"
             ],
             [
              0.2222222222222222,
              "#7201a8"
             ],
             [
              0.3333333333333333,
              "#9c179e"
             ],
             [
              0.4444444444444444,
              "#bd3786"
             ],
             [
              0.5555555555555556,
              "#d8576b"
             ],
             [
              0.6666666666666666,
              "#ed7953"
             ],
             [
              0.7777777777777778,
              "#fb9f3a"
             ],
             [
              0.8888888888888888,
              "#fdca26"
             ],
             [
              1,
              "#f0f921"
             ]
            ],
            "type": "heatmap"
           }
          ],
          "heatmapgl": [
           {
            "colorbar": {
             "outlinewidth": 0,
             "ticks": ""
            },
            "colorscale": [
             [
              0,
              "#0d0887"
             ],
             [
              0.1111111111111111,
              "#46039f"
             ],
             [
              0.2222222222222222,
              "#7201a8"
             ],
             [
              0.3333333333333333,
              "#9c179e"
             ],
             [
              0.4444444444444444,
              "#bd3786"
             ],
             [
              0.5555555555555556,
              "#d8576b"
             ],
             [
              0.6666666666666666,
              "#ed7953"
             ],
             [
              0.7777777777777778,
              "#fb9f3a"
             ],
             [
              0.8888888888888888,
              "#fdca26"
             ],
             [
              1,
              "#f0f921"
             ]
            ],
            "type": "heatmapgl"
           }
          ],
          "histogram": [
           {
            "marker": {
             "pattern": {
              "fillmode": "overlay",
              "size": 10,
              "solidity": 0.2
             }
            },
            "type": "histogram"
           }
          ],
          "histogram2d": [
           {
            "colorbar": {
             "outlinewidth": 0,
             "ticks": ""
            },
            "colorscale": [
             [
              0,
              "#0d0887"
             ],
             [
              0.1111111111111111,
              "#46039f"
             ],
             [
              0.2222222222222222,
              "#7201a8"
             ],
             [
              0.3333333333333333,
              "#9c179e"
             ],
             [
              0.4444444444444444,
              "#bd3786"
             ],
             [
              0.5555555555555556,
              "#d8576b"
             ],
             [
              0.6666666666666666,
              "#ed7953"
             ],
             [
              0.7777777777777778,
              "#fb9f3a"
             ],
             [
              0.8888888888888888,
              "#fdca26"
             ],
             [
              1,
              "#f0f921"
             ]
            ],
            "type": "histogram2d"
           }
          ],
          "histogram2dcontour": [
           {
            "colorbar": {
             "outlinewidth": 0,
             "ticks": ""
            },
            "colorscale": [
             [
              0,
              "#0d0887"
             ],
             [
              0.1111111111111111,
              "#46039f"
             ],
             [
              0.2222222222222222,
              "#7201a8"
             ],
             [
              0.3333333333333333,
              "#9c179e"
             ],
             [
              0.4444444444444444,
              "#bd3786"
             ],
             [
              0.5555555555555556,
              "#d8576b"
             ],
             [
              0.6666666666666666,
              "#ed7953"
             ],
             [
              0.7777777777777778,
              "#fb9f3a"
             ],
             [
              0.8888888888888888,
              "#fdca26"
             ],
             [
              1,
              "#f0f921"
             ]
            ],
            "type": "histogram2dcontour"
           }
          ],
          "mesh3d": [
           {
            "colorbar": {
             "outlinewidth": 0,
             "ticks": ""
            },
            "type": "mesh3d"
           }
          ],
          "parcoords": [
           {
            "line": {
             "colorbar": {
              "outlinewidth": 0,
              "ticks": ""
             }
            },
            "type": "parcoords"
           }
          ],
          "pie": [
           {
            "automargin": true,
            "type": "pie"
           }
          ],
          "scatter": [
           {
            "fillpattern": {
             "fillmode": "overlay",
             "size": 10,
             "solidity": 0.2
            },
            "type": "scatter"
           }
          ],
          "scatter3d": [
           {
            "line": {
             "colorbar": {
              "outlinewidth": 0,
              "ticks": ""
             }
            },
            "marker": {
             "colorbar": {
              "outlinewidth": 0,
              "ticks": ""
             }
            },
            "type": "scatter3d"
           }
          ],
          "scattercarpet": [
           {
            "marker": {
             "colorbar": {
              "outlinewidth": 0,
              "ticks": ""
             }
            },
            "type": "scattercarpet"
           }
          ],
          "scattergeo": [
           {
            "marker": {
             "colorbar": {
              "outlinewidth": 0,
              "ticks": ""
             }
            },
            "type": "scattergeo"
           }
          ],
          "scattergl": [
           {
            "marker": {
             "colorbar": {
              "outlinewidth": 0,
              "ticks": ""
             }
            },
            "type": "scattergl"
           }
          ],
          "scattermapbox": [
           {
            "marker": {
             "colorbar": {
              "outlinewidth": 0,
              "ticks": ""
             }
            },
            "type": "scattermapbox"
           }
          ],
          "scatterpolar": [
           {
            "marker": {
             "colorbar": {
              "outlinewidth": 0,
              "ticks": ""
             }
            },
            "type": "scatterpolar"
           }
          ],
          "scatterpolargl": [
           {
            "marker": {
             "colorbar": {
              "outlinewidth": 0,
              "ticks": ""
             }
            },
            "type": "scatterpolargl"
           }
          ],
          "scatterternary": [
           {
            "marker": {
             "colorbar": {
              "outlinewidth": 0,
              "ticks": ""
             }
            },
            "type": "scatterternary"
           }
          ],
          "surface": [
           {
            "colorbar": {
             "outlinewidth": 0,
             "ticks": ""
            },
            "colorscale": [
             [
              0,
              "#0d0887"
             ],
             [
              0.1111111111111111,
              "#46039f"
             ],
             [
              0.2222222222222222,
              "#7201a8"
             ],
             [
              0.3333333333333333,
              "#9c179e"
             ],
             [
              0.4444444444444444,
              "#bd3786"
             ],
             [
              0.5555555555555556,
              "#d8576b"
             ],
             [
              0.6666666666666666,
              "#ed7953"
             ],
             [
              0.7777777777777778,
              "#fb9f3a"
             ],
             [
              0.8888888888888888,
              "#fdca26"
             ],
             [
              1,
              "#f0f921"
             ]
            ],
            "type": "surface"
           }
          ],
          "table": [
           {
            "cells": {
             "fill": {
              "color": "#EBF0F8"
             },
             "line": {
              "color": "white"
             }
            },
            "header": {
             "fill": {
              "color": "#C8D4E3"
             },
             "line": {
              "color": "white"
             }
            },
            "type": "table"
           }
          ]
         },
         "layout": {
          "annotationdefaults": {
           "arrowcolor": "#2a3f5f",
           "arrowhead": 0,
           "arrowwidth": 1
          },
          "autotypenumbers": "strict",
          "coloraxis": {
           "colorbar": {
            "outlinewidth": 0,
            "ticks": ""
           }
          },
          "colorscale": {
           "diverging": [
            [
             0,
             "#8e0152"
            ],
            [
             0.1,
             "#c51b7d"
            ],
            [
             0.2,
             "#de77ae"
            ],
            [
             0.3,
             "#f1b6da"
            ],
            [
             0.4,
             "#fde0ef"
            ],
            [
             0.5,
             "#f7f7f7"
            ],
            [
             0.6,
             "#e6f5d0"
            ],
            [
             0.7,
             "#b8e186"
            ],
            [
             0.8,
             "#7fbc41"
            ],
            [
             0.9,
             "#4d9221"
            ],
            [
             1,
             "#276419"
            ]
           ],
           "sequential": [
            [
             0,
             "#0d0887"
            ],
            [
             0.1111111111111111,
             "#46039f"
            ],
            [
             0.2222222222222222,
             "#7201a8"
            ],
            [
             0.3333333333333333,
             "#9c179e"
            ],
            [
             0.4444444444444444,
             "#bd3786"
            ],
            [
             0.5555555555555556,
             "#d8576b"
            ],
            [
             0.6666666666666666,
             "#ed7953"
            ],
            [
             0.7777777777777778,
             "#fb9f3a"
            ],
            [
             0.8888888888888888,
             "#fdca26"
            ],
            [
             1,
             "#f0f921"
            ]
           ],
           "sequentialminus": [
            [
             0,
             "#0d0887"
            ],
            [
             0.1111111111111111,
             "#46039f"
            ],
            [
             0.2222222222222222,
             "#7201a8"
            ],
            [
             0.3333333333333333,
             "#9c179e"
            ],
            [
             0.4444444444444444,
             "#bd3786"
            ],
            [
             0.5555555555555556,
             "#d8576b"
            ],
            [
             0.6666666666666666,
             "#ed7953"
            ],
            [
             0.7777777777777778,
             "#fb9f3a"
            ],
            [
             0.8888888888888888,
             "#fdca26"
            ],
            [
             1,
             "#f0f921"
            ]
           ]
          },
          "colorway": [
           "#636efa",
           "#EF553B",
           "#00cc96",
           "#ab63fa",
           "#FFA15A",
           "#19d3f3",
           "#FF6692",
           "#B6E880",
           "#FF97FF",
           "#FECB52"
          ],
          "font": {
           "color": "#2a3f5f"
          },
          "geo": {
           "bgcolor": "white",
           "lakecolor": "white",
           "landcolor": "#E5ECF6",
           "showlakes": true,
           "showland": true,
           "subunitcolor": "white"
          },
          "hoverlabel": {
           "align": "left"
          },
          "hovermode": "closest",
          "mapbox": {
           "style": "light"
          },
          "paper_bgcolor": "white",
          "plot_bgcolor": "#E5ECF6",
          "polar": {
           "angularaxis": {
            "gridcolor": "white",
            "linecolor": "white",
            "ticks": ""
           },
           "bgcolor": "#E5ECF6",
           "radialaxis": {
            "gridcolor": "white",
            "linecolor": "white",
            "ticks": ""
           }
          },
          "scene": {
           "xaxis": {
            "backgroundcolor": "#E5ECF6",
            "gridcolor": "white",
            "gridwidth": 2,
            "linecolor": "white",
            "showbackground": true,
            "ticks": "",
            "zerolinecolor": "white"
           },
           "yaxis": {
            "backgroundcolor": "#E5ECF6",
            "gridcolor": "white",
            "gridwidth": 2,
            "linecolor": "white",
            "showbackground": true,
            "ticks": "",
            "zerolinecolor": "white"
           },
           "zaxis": {
            "backgroundcolor": "#E5ECF6",
            "gridcolor": "white",
            "gridwidth": 2,
            "linecolor": "white",
            "showbackground": true,
            "ticks": "",
            "zerolinecolor": "white"
           }
          },
          "shapedefaults": {
           "line": {
            "color": "#2a3f5f"
           }
          },
          "ternary": {
           "aaxis": {
            "gridcolor": "white",
            "linecolor": "white",
            "ticks": ""
           },
           "baxis": {
            "gridcolor": "white",
            "linecolor": "white",
            "ticks": ""
           },
           "bgcolor": "#E5ECF6",
           "caxis": {
            "gridcolor": "white",
            "linecolor": "white",
            "ticks": ""
           }
          },
          "title": {
           "x": 0.05
          },
          "xaxis": {
           "automargin": true,
           "gridcolor": "white",
           "linecolor": "white",
           "ticks": "",
           "title": {
            "standoff": 15
           },
           "zerolinecolor": "white",
           "zerolinewidth": 2
          },
          "yaxis": {
           "automargin": true,
           "gridcolor": "white",
           "linecolor": "white",
           "ticks": "",
           "title": {
            "standoff": 15
           },
           "zerolinecolor": "white",
           "zerolinewidth": 2
          }
         }
        }
       }
      },
      "text/html": [
       "<div>                            <div id=\"cc597f77-9e14-4caa-becf-f52c50531441\" class=\"plotly-graph-div\" style=\"height:5000px; width:100%;\"></div>            <script type=\"text/javascript\">                require([\"plotly\"], function(Plotly) {                    window.PLOTLYENV=window.PLOTLYENV || {};                                    if (document.getElementById(\"cc597f77-9e14-4caa-becf-f52c50531441\")) {                    Plotly.newPlot(                        \"cc597f77-9e14-4caa-becf-f52c50531441\",                        [{\"labels\":[\"Johor\",\"Kedah\",\"Kelantan\",\"Melaka\",\"Negeri Sembilan\",\"Pahang\",\"Perak\",\"Perlis\",\"Pulau Pinang\",\"Sabah\",\"Sarawak\",\"Selangor\",\"Terengganu\",\"W.P. Kuala Lumpur\",\"W.P. Labuan\",\"W.P. Putrajaya\"],\"textinfo\":\"percent+label\",\"values\":[1746213,1258067,1120722,499764,592188,863301,1060233,180289,660691,78466,569941,2633495,864068,1356393,25146,111616],\"type\":\"pie\",\"domain\":{\"x\":[0.0,0.2888888888888889],\"y\":[0.9027777777777777,0.9999999999999999]},\"textposition\":\"inside\"},{\"labels\":[\"Johor\",\"Kedah\",\"Kelantan\",\"Melaka\",\"Negeri Sembilan\",\"Pahang\",\"Perak\",\"Perlis\",\"Pulau Pinang\",\"Sabah\",\"Sarawak\",\"Selangor\",\"Terengganu\",\"W.P. Kuala Lumpur\",\"W.P. Labuan\",\"W.P. Putrajaya\"],\"textinfo\":\"percent+label\",\"values\":[1674712,1214180,1089390,478531,571364,830912,1017818,175719,643642,74563,538188,2519026,837349,1287635,23560,105722],\"type\":\"pie\",\"domain\":{\"x\":[0.35555555555555557,0.6444444444444445],\"y\":[0.9027777777777777,0.9999999999999999]},\"textposition\":\"inside\"},{\"labels\":[\"Johor\",\"Kedah\",\"Kelantan\",\"Melaka\",\"Negeri Sembilan\",\"Pahang\",\"Perak\",\"Perlis\",\"Pulau Pinang\",\"Sabah\",\"Sarawak\",\"Selangor\",\"Terengganu\",\"W.P. Kuala Lumpur\",\"W.P. Labuan\",\"W.P. Putrajaya\"],\"textinfo\":\"percent+label\",\"values\":[934815,459389,272872,306894,336440,363141,490317,58628,324567,42712,366322,1838909,311072,606201,14906,62074],\"type\":\"pie\",\"domain\":{\"x\":[0.7111111111111111,1.0],\"y\":[0.9027777777777777,0.9999999999999999]},\"textposition\":\"inside\"},{\"labels\":[\"Johor\",\"Kedah\",\"Kelantan\",\"Melaka\",\"Negeri Sembilan\",\"Pahang\",\"Perak\",\"Perlis\",\"Pulau Pinang\",\"Sabah\",\"Sarawak\",\"Selangor\",\"Terengganu\",\"W.P. Kuala Lumpur\",\"W.P. Labuan\",\"W.P. Putrajaya\"],\"textinfo\":\"percent+label\",\"values\":[900152,193161,36949,162855,190251,167198,512668,17696,617577,205195,536617,1150442,18983,1016750,8402,6545],\"type\":\"pie\",\"domain\":{\"x\":[0.0,0.2888888888888889],\"y\":[0.7222222222222222,0.8194444444444444]},\"textposition\":\"inside\"},{\"labels\":[\"Johor\",\"Kedah\",\"Kelantan\",\"Melaka\",\"Negeri Sembilan\",\"Pahang\",\"Perak\",\"Perlis\",\"Pulau Pinang\",\"Sabah\",\"Sarawak\",\"Selangor\",\"Terengganu\",\"W.P. Kuala Lumpur\",\"W.P. Labuan\",\"W.P. Putrajaya\"],\"textinfo\":\"percent+label\",\"values\":[881898,188968,36061,160532,187738,164989,503764,17410,610843,201096,519931,1132854,18537,1002337,8160,6491],\"type\":\"pie\",\"domain\":{\"x\":[0.35555555555555557,0.6444444444444445],\"y\":[0.7222222222222222,0.8194444444444444]},\"textposition\":\"inside\"},{\"labels\":[\"Johor\",\"Kedah\",\"Kelantan\",\"Melaka\",\"Negeri Sembilan\",\"Pahang\",\"Perak\",\"Perlis\",\"Pulau Pinang\",\"Sabah\",\"Sarawak\",\"Selangor\",\"Terengganu\",\"W.P. Kuala Lumpur\",\"W.P. Labuan\",\"W.P. Putrajaya\"],\"textinfo\":\"percent+label\",\"values\":[689438,150781,24618,143030,149069,134614,407027,10403,498109,149283,396135,1061310,13896,637301,6159,9460],\"type\":\"pie\",\"domain\":{\"x\":[0.7111111111111111,1.0],\"y\":[0.7222222222222222,0.8194444444444444]},\"textposition\":\"inside\"},{\"labels\":[\"Johor\",\"Kedah\",\"Kelantan\",\"Melaka\",\"Negeri Sembilan\",\"Pahang\",\"Perak\",\"Perlis\",\"Pulau Pinang\",\"Sabah\",\"Sarawak\",\"Selangor\",\"Terengganu\",\"W.P. Kuala Lumpur\",\"W.P. Labuan\",\"W.P. Putrajaya\"],\"textinfo\":\"percent+label\",\"values\":[180996,90152,2931,40245,122387,39990,204528,1915,133494,7490,5588,498082,1363,222792,756,5780],\"type\":\"pie\",\"domain\":{\"x\":[0.0,0.2888888888888889],\"y\":[0.5416666666666667,0.638888888888889]},\"textposition\":\"inside\"},{\"labels\":[\"Johor\",\"Kedah\",\"Kelantan\",\"Melaka\",\"Negeri Sembilan\",\"Pahang\",\"Perak\",\"Perlis\",\"Pulau Pinang\",\"Sabah\",\"Sarawak\",\"Selangor\",\"Terengganu\",\"W.P. Kuala Lumpur\",\"W.P. Labuan\",\"W.P. Putrajaya\"],\"textinfo\":\"percent+label\",\"values\":[173907,87635,2731,38972,119184,38635,198574,1863,130435,7271,5291,483618,1310,216256,700,5639],\"type\":\"pie\",\"domain\":{\"x\":[0.35555555555555557,0.6444444444444445],\"y\":[0.5416666666666667,0.638888888888889]},\"textposition\":\"inside\"},{\"labels\":[\"Johor\",\"Kedah\",\"Kelantan\",\"Melaka\",\"Negeri Sembilan\",\"Pahang\",\"Perak\",\"Perlis\",\"Pulau Pinang\",\"Sabah\",\"Sarawak\",\"Selangor\",\"Terengganu\",\"W.P. Kuala Lumpur\",\"W.P. Labuan\",\"W.P. Putrajaya\"],\"textinfo\":\"percent+label\",\"values\":[114101,51994,1640,27587,78784,23992,118487,962,80202,4060,4100,369156,947,114381,405,2044],\"type\":\"pie\",\"domain\":{\"x\":[0.7111111111111111,1.0],\"y\":[0.5416666666666667,0.638888888888889]},\"textposition\":\"inside\"}],                        {\"template\":{\"data\":{\"histogram2dcontour\":[{\"type\":\"histogram2dcontour\",\"colorbar\":{\"outlinewidth\":0,\"ticks\":\"\"},\"colorscale\":[[0.0,\"#0d0887\"],[0.1111111111111111,\"#46039f\"],[0.2222222222222222,\"#7201a8\"],[0.3333333333333333,\"#9c179e\"],[0.4444444444444444,\"#bd3786\"],[0.5555555555555556,\"#d8576b\"],[0.6666666666666666,\"#ed7953\"],[0.7777777777777778,\"#fb9f3a\"],[0.8888888888888888,\"#fdca26\"],[1.0,\"#f0f921\"]]}],\"choropleth\":[{\"type\":\"choropleth\",\"colorbar\":{\"outlinewidth\":0,\"ticks\":\"\"}}],\"histogram2d\":[{\"type\":\"histogram2d\",\"colorbar\":{\"outlinewidth\":0,\"ticks\":\"\"},\"colorscale\":[[0.0,\"#0d0887\"],[0.1111111111111111,\"#46039f\"],[0.2222222222222222,\"#7201a8\"],[0.3333333333333333,\"#9c179e\"],[0.4444444444444444,\"#bd3786\"],[0.5555555555555556,\"#d8576b\"],[0.6666666666666666,\"#ed7953\"],[0.7777777777777778,\"#fb9f3a\"],[0.8888888888888888,\"#fdca26\"],[1.0,\"#f0f921\"]]}],\"heatmap\":[{\"type\":\"heatmap\",\"colorbar\":{\"outlinewidth\":0,\"ticks\":\"\"},\"colorscale\":[[0.0,\"#0d0887\"],[0.1111111111111111,\"#46039f\"],[0.2222222222222222,\"#7201a8\"],[0.3333333333333333,\"#9c179e\"],[0.4444444444444444,\"#bd3786\"],[0.5555555555555556,\"#d8576b\"],[0.6666666666666666,\"#ed7953\"],[0.7777777777777778,\"#fb9f3a\"],[0.8888888888888888,\"#fdca26\"],[1.0,\"#f0f921\"]]}],\"heatmapgl\":[{\"type\":\"heatmapgl\",\"colorbar\":{\"outlinewidth\":0,\"ticks\":\"\"},\"colorscale\":[[0.0,\"#0d0887\"],[0.1111111111111111,\"#46039f\"],[0.2222222222222222,\"#7201a8\"],[0.3333333333333333,\"#9c179e\"],[0.4444444444444444,\"#bd3786\"],[0.5555555555555556,\"#d8576b\"],[0.6666666666666666,\"#ed7953\"],[0.7777777777777778,\"#fb9f3a\"],[0.8888888888888888,\"#fdca26\"],[1.0,\"#f0f921\"]]}],\"contourcarpet\":[{\"type\":\"contourcarpet\",\"colorbar\":{\"outlinewidth\":0,\"ticks\":\"\"}}],\"contour\":[{\"type\":\"contour\",\"colorbar\":{\"outlinewidth\":0,\"ticks\":\"\"},\"colorscale\":[[0.0,\"#0d0887\"],[0.1111111111111111,\"#46039f\"],[0.2222222222222222,\"#7201a8\"],[0.3333333333333333,\"#9c179e\"],[0.4444444444444444,\"#bd3786\"],[0.5555555555555556,\"#d8576b\"],[0.6666666666666666,\"#ed7953\"],[0.7777777777777778,\"#fb9f3a\"],[0.8888888888888888,\"#fdca26\"],[1.0,\"#f0f921\"]]}],\"surface\":[{\"type\":\"surface\",\"colorbar\":{\"outlinewidth\":0,\"ticks\":\"\"},\"colorscale\":[[0.0,\"#0d0887\"],[0.1111111111111111,\"#46039f\"],[0.2222222222222222,\"#7201a8\"],[0.3333333333333333,\"#9c179e\"],[0.4444444444444444,\"#bd3786\"],[0.5555555555555556,\"#d8576b\"],[0.6666666666666666,\"#ed7953\"],[0.7777777777777778,\"#fb9f3a\"],[0.8888888888888888,\"#fdca26\"],[1.0,\"#f0f921\"]]}],\"mesh3d\":[{\"type\":\"mesh3d\",\"colorbar\":{\"outlinewidth\":0,\"ticks\":\"\"}}],\"scatter\":[{\"fillpattern\":{\"fillmode\":\"overlay\",\"size\":10,\"solidity\":0.2},\"type\":\"scatter\"}],\"parcoords\":[{\"type\":\"parcoords\",\"line\":{\"colorbar\":{\"outlinewidth\":0,\"ticks\":\"\"}}}],\"scatterpolargl\":[{\"type\":\"scatterpolargl\",\"marker\":{\"colorbar\":{\"outlinewidth\":0,\"ticks\":\"\"}}}],\"bar\":[{\"error_x\":{\"color\":\"#2a3f5f\"},\"error_y\":{\"color\":\"#2a3f5f\"},\"marker\":{\"line\":{\"color\":\"#E5ECF6\",\"width\":0.5},\"pattern\":{\"fillmode\":\"overlay\",\"size\":10,\"solidity\":0.2}},\"type\":\"bar\"}],\"scattergeo\":[{\"type\":\"scattergeo\",\"marker\":{\"colorbar\":{\"outlinewidth\":0,\"ticks\":\"\"}}}],\"scatterpolar\":[{\"type\":\"scatterpolar\",\"marker\":{\"colorbar\":{\"outlinewidth\":0,\"ticks\":\"\"}}}],\"histogram\":[{\"marker\":{\"pattern\":{\"fillmode\":\"overlay\",\"size\":10,\"solidity\":0.2}},\"type\":\"histogram\"}],\"scattergl\":[{\"type\":\"scattergl\",\"marker\":{\"colorbar\":{\"outlinewidth\":0,\"ticks\":\"\"}}}],\"scatter3d\":[{\"type\":\"scatter3d\",\"line\":{\"colorbar\":{\"outlinewidth\":0,\"ticks\":\"\"}},\"marker\":{\"colorbar\":{\"outlinewidth\":0,\"ticks\":\"\"}}}],\"scattermapbox\":[{\"type\":\"scattermapbox\",\"marker\":{\"colorbar\":{\"outlinewidth\":0,\"ticks\":\"\"}}}],\"scatterternary\":[{\"type\":\"scatterternary\",\"marker\":{\"colorbar\":{\"outlinewidth\":0,\"ticks\":\"\"}}}],\"scattercarpet\":[{\"type\":\"scattercarpet\",\"marker\":{\"colorbar\":{\"outlinewidth\":0,\"ticks\":\"\"}}}],\"carpet\":[{\"aaxis\":{\"endlinecolor\":\"#2a3f5f\",\"gridcolor\":\"white\",\"linecolor\":\"white\",\"minorgridcolor\":\"white\",\"startlinecolor\":\"#2a3f5f\"},\"baxis\":{\"endlinecolor\":\"#2a3f5f\",\"gridcolor\":\"white\",\"linecolor\":\"white\",\"minorgridcolor\":\"white\",\"startlinecolor\":\"#2a3f5f\"},\"type\":\"carpet\"}],\"table\":[{\"cells\":{\"fill\":{\"color\":\"#EBF0F8\"},\"line\":{\"color\":\"white\"}},\"header\":{\"fill\":{\"color\":\"#C8D4E3\"},\"line\":{\"color\":\"white\"}},\"type\":\"table\"}],\"barpolar\":[{\"marker\":{\"line\":{\"color\":\"#E5ECF6\",\"width\":0.5},\"pattern\":{\"fillmode\":\"overlay\",\"size\":10,\"solidity\":0.2}},\"type\":\"barpolar\"}],\"pie\":[{\"automargin\":true,\"type\":\"pie\"}]},\"layout\":{\"autotypenumbers\":\"strict\",\"colorway\":[\"#636efa\",\"#EF553B\",\"#00cc96\",\"#ab63fa\",\"#FFA15A\",\"#19d3f3\",\"#FF6692\",\"#B6E880\",\"#FF97FF\",\"#FECB52\"],\"font\":{\"color\":\"#2a3f5f\"},\"hovermode\":\"closest\",\"hoverlabel\":{\"align\":\"left\"},\"paper_bgcolor\":\"white\",\"plot_bgcolor\":\"#E5ECF6\",\"polar\":{\"bgcolor\":\"#E5ECF6\",\"angularaxis\":{\"gridcolor\":\"white\",\"linecolor\":\"white\",\"ticks\":\"\"},\"radialaxis\":{\"gridcolor\":\"white\",\"linecolor\":\"white\",\"ticks\":\"\"}},\"ternary\":{\"bgcolor\":\"#E5ECF6\",\"aaxis\":{\"gridcolor\":\"white\",\"linecolor\":\"white\",\"ticks\":\"\"},\"baxis\":{\"gridcolor\":\"white\",\"linecolor\":\"white\",\"ticks\":\"\"},\"caxis\":{\"gridcolor\":\"white\",\"linecolor\":\"white\",\"ticks\":\"\"}},\"coloraxis\":{\"colorbar\":{\"outlinewidth\":0,\"ticks\":\"\"}},\"colorscale\":{\"sequential\":[[0.0,\"#0d0887\"],[0.1111111111111111,\"#46039f\"],[0.2222222222222222,\"#7201a8\"],[0.3333333333333333,\"#9c179e\"],[0.4444444444444444,\"#bd3786\"],[0.5555555555555556,\"#d8576b\"],[0.6666666666666666,\"#ed7953\"],[0.7777777777777778,\"#fb9f3a\"],[0.8888888888888888,\"#fdca26\"],[1.0,\"#f0f921\"]],\"sequentialminus\":[[0.0,\"#0d0887\"],[0.1111111111111111,\"#46039f\"],[0.2222222222222222,\"#7201a8\"],[0.3333333333333333,\"#9c179e\"],[0.4444444444444444,\"#bd3786\"],[0.5555555555555556,\"#d8576b\"],[0.6666666666666666,\"#ed7953\"],[0.7777777777777778,\"#fb9f3a\"],[0.8888888888888888,\"#fdca26\"],[1.0,\"#f0f921\"]],\"diverging\":[[0,\"#8e0152\"],[0.1,\"#c51b7d\"],[0.2,\"#de77ae\"],[0.3,\"#f1b6da\"],[0.4,\"#fde0ef\"],[0.5,\"#f7f7f7\"],[0.6,\"#e6f5d0\"],[0.7,\"#b8e186\"],[0.8,\"#7fbc41\"],[0.9,\"#4d9221\"],[1,\"#276419\"]]},\"xaxis\":{\"gridcolor\":\"white\",\"linecolor\":\"white\",\"ticks\":\"\",\"title\":{\"standoff\":15},\"zerolinecolor\":\"white\",\"automargin\":true,\"zerolinewidth\":2},\"yaxis\":{\"gridcolor\":\"white\",\"linecolor\":\"white\",\"ticks\":\"\",\"title\":{\"standoff\":15},\"zerolinecolor\":\"white\",\"automargin\":true,\"zerolinewidth\":2},\"scene\":{\"xaxis\":{\"backgroundcolor\":\"#E5ECF6\",\"gridcolor\":\"white\",\"linecolor\":\"white\",\"showbackground\":true,\"ticks\":\"\",\"zerolinecolor\":\"white\",\"gridwidth\":2},\"yaxis\":{\"backgroundcolor\":\"#E5ECF6\",\"gridcolor\":\"white\",\"linecolor\":\"white\",\"showbackground\":true,\"ticks\":\"\",\"zerolinecolor\":\"white\",\"gridwidth\":2},\"zaxis\":{\"backgroundcolor\":\"#E5ECF6\",\"gridcolor\":\"white\",\"linecolor\":\"white\",\"showbackground\":true,\"ticks\":\"\",\"zerolinecolor\":\"white\",\"gridwidth\":2}},\"shapedefaults\":{\"line\":{\"color\":\"#2a3f5f\"}},\"annotationdefaults\":{\"arrowcolor\":\"#2a3f5f\",\"arrowhead\":0,\"arrowwidth\":1},\"geo\":{\"bgcolor\":\"white\",\"landcolor\":\"#E5ECF6\",\"subunitcolor\":\"white\",\"showland\":true,\"showlakes\":true,\"lakecolor\":\"white\"},\"title\":{\"x\":0.05},\"mapbox\":{\"style\":\"light\"}}},\"annotations\":[{\"font\":{\"size\":11,\"family\":\"Helvetica\"},\"showarrow\":false,\"text\":\"<b>Malay Partial</b>\",\"x\":0.14444444444444446,\"xanchor\":\"center\",\"xref\":\"paper\",\"y\":0.9999999999999999,\"yanchor\":\"bottom\",\"yref\":\"paper\"},{\"font\":{\"size\":11,\"family\":\"Helvetica\"},\"showarrow\":false,\"text\":\"<b>Malay Full</b>\",\"x\":0.5,\"xanchor\":\"center\",\"xref\":\"paper\",\"y\":0.9999999999999999,\"yanchor\":\"bottom\",\"yref\":\"paper\"},{\"font\":{\"size\":11,\"family\":\"Helvetica\"},\"showarrow\":false,\"text\":\"<b>Malay Booster</b>\",\"x\":0.8555555555555556,\"xanchor\":\"center\",\"xref\":\"paper\",\"y\":0.9999999999999999,\"yanchor\":\"bottom\",\"yref\":\"paper\"},{\"font\":{\"size\":11,\"family\":\"Helvetica\"},\"showarrow\":false,\"text\":\"<b>Chinese Partial</b>\",\"x\":0.14444444444444446,\"xanchor\":\"center\",\"xref\":\"paper\",\"y\":0.8194444444444444,\"yanchor\":\"bottom\",\"yref\":\"paper\"},{\"font\":{\"size\":11,\"family\":\"Helvetica\"},\"showarrow\":false,\"text\":\"<b>Chinese Full</b>\",\"x\":0.5,\"xanchor\":\"center\",\"xref\":\"paper\",\"y\":0.8194444444444444,\"yanchor\":\"bottom\",\"yref\":\"paper\"},{\"font\":{\"size\":11,\"family\":\"Helvetica\"},\"showarrow\":false,\"text\":\"<b>Chinese Booster</b>\",\"x\":0.8555555555555556,\"xanchor\":\"center\",\"xref\":\"paper\",\"y\":0.8194444444444444,\"yanchor\":\"bottom\",\"yref\":\"paper\"},{\"font\":{\"size\":11,\"family\":\"Helvetica\"},\"showarrow\":false,\"text\":\"<b>Indian Partial</b>\",\"x\":0.14444444444444446,\"xanchor\":\"center\",\"xref\":\"paper\",\"y\":0.638888888888889,\"yanchor\":\"bottom\",\"yref\":\"paper\"},{\"font\":{\"size\":11,\"family\":\"Helvetica\"},\"showarrow\":false,\"text\":\"<b>Indian Full</b>\",\"x\":0.5,\"xanchor\":\"center\",\"xref\":\"paper\",\"y\":0.638888888888889,\"yanchor\":\"bottom\",\"yref\":\"paper\"},{\"font\":{\"size\":11,\"family\":\"Helvetica\"},\"showarrow\":false,\"text\":\"<b>Indian Booster</b>\",\"x\":0.8555555555555556,\"xanchor\":\"center\",\"xref\":\"paper\",\"y\":0.638888888888889,\"yanchor\":\"bottom\",\"yref\":\"paper\"},{\"font\":{\"size\":11,\"family\":\"Helvetica\"},\"showarrow\":false,\"text\":\"<b>Native Partial</b>\",\"x\":0.14444444444444446,\"xanchor\":\"center\",\"xref\":\"paper\",\"y\":0.4583333333333333,\"yanchor\":\"bottom\",\"yref\":\"paper\"},{\"font\":{\"size\":11,\"family\":\"Helvetica\"},\"showarrow\":false,\"text\":\"<b>Native Full</b>\",\"x\":0.5,\"xanchor\":\"center\",\"xref\":\"paper\",\"y\":0.4583333333333333,\"yanchor\":\"bottom\",\"yref\":\"paper\"},{\"font\":{\"size\":11,\"family\":\"Helvetica\"},\"showarrow\":false,\"text\":\"<b>Native Booster</b>\",\"x\":0.8555555555555556,\"xanchor\":\"center\",\"xref\":\"paper\",\"y\":0.4583333333333333,\"yanchor\":\"bottom\",\"yref\":\"paper\"},{\"font\":{\"size\":11,\"family\":\"Helvetica\"},\"showarrow\":false,\"text\":\"<b>Missing Partial</b>\",\"x\":0.14444444444444446,\"xanchor\":\"center\",\"xref\":\"paper\",\"y\":0.2777777777777778,\"yanchor\":\"bottom\",\"yref\":\"paper\"},{\"font\":{\"size\":11,\"family\":\"Helvetica\"},\"showarrow\":false,\"text\":\"<b>Missing Full</b>\",\"x\":0.5,\"xanchor\":\"center\",\"xref\":\"paper\",\"y\":0.2777777777777778,\"yanchor\":\"bottom\",\"yref\":\"paper\"},{\"font\":{\"size\":11,\"family\":\"Helvetica\"},\"showarrow\":false,\"text\":\"<b>Missing Booster</b>\",\"x\":0.8555555555555556,\"xanchor\":\"center\",\"xref\":\"paper\",\"y\":0.2777777777777778,\"yanchor\":\"bottom\",\"yref\":\"paper\"}],\"font\":{\"family\":\"Helvetica\",\"size\":11},\"height\":5000,\"showlegend\":false},                        {\"responsive\": true}                    ).then(function(){\n",
       "                            \n",
       "var gd = document.getElementById('cc597f77-9e14-4caa-becf-f52c50531441');\n",
       "var x = new MutationObserver(function (mutations, observer) {{\n",
       "        var display = window.getComputedStyle(gd).display;\n",
       "        if (!display || display === 'none') {{\n",
       "            console.log([gd, 'removed!']);\n",
       "            Plotly.purge(gd);\n",
       "            observer.disconnect();\n",
       "        }}\n",
       "}});\n",
       "\n",
       "// Listen for the removal of the full notebook cells\n",
       "var notebookContainer = gd.closest('#notebook-container');\n",
       "if (notebookContainer) {{\n",
       "    x.observe(notebookContainer, {childList: true});\n",
       "}}\n",
       "\n",
       "// Listen for the clearing of the current output cell\n",
       "var outputEl = gd.closest('.output');\n",
       "if (outputEl) {{\n",
       "    x.observe(outputEl, {childList: true});\n",
       "}}\n",
       "\n",
       "                        })                };                });            </script>        </div>"
      ]
     },
     "metadata": {},
     "output_type": "display_data"
    }
   ],
   "source": [
    "fig = make_subplots(rows=6, cols=3, specs=[[{\"type\": \"domain\"},{\"type\": \"domain\"},{\"type\": \"domain\"}],\n",
    "                                           [{\"type\": \"domain\"},{\"type\": \"domain\"},{\"type\": \"domain\"}],\n",
    "                                           [{\"type\": \"domain\"},{\"type\": \"domain\"},{\"type\": \"domain\"}],\n",
    "                                           [{\"type\": \"domain\"},{\"type\": \"domain\"},{\"type\": \"domain\"}],\n",
    "                                           [{\"type\": \"domain\"},{\"type\": \"domain\"},{\"type\": \"domain\"}],\n",
    "                                           [{\"type\": \"domain\"},{\"type\": \"domain\"},{\"type\": \"domain\"}]],\n",
    "                    horizontal_spacing = 0.02, vertical_spacing = 0.15,\n",
    "                    \n",
    "subplot_titles=('<b>Malay Partial</b>','<b>Malay Full</b>','<b>Malay Booster</b>',\n",
    "                '<b>Chinese Partial</b>','<b>Chinese Full</b>','<b>Chinese Booster</b>',\n",
    "                '<b>Indian Partial</b>','<b>Indian Full</b>','<b>Indian Booster</b>',\n",
    "                '<b>Native Partial</b>','<b>Native Full</b>','<b>Native Booster</b>',\n",
    "                '<b>Missing Partial</b>','<b>Missing Full</b>','<b>Missing Booster</b>'))\n",
    "#Graph 1\n",
    "fig.add_trace(go.Pie(values=df_malay['partial_malay'],labels=df_malay['state'],\n",
    "                    textinfo='label+percent'),row=1, col=1)\n",
    "#Graph 2\n",
    "fig.add_trace(go.Pie(values=df_malay['full_malay'],labels=df_malay['state'],\n",
    "                    textinfo='label+percent'),row=1, col=2)\n",
    "#Graph 3\n",
    "fig.add_trace(go.Pie(values=df_malay['booster_malay'],labels=df_malay['state'],\n",
    "                    textinfo='label+percent'),row=1, col=3)\n",
    "#Graph 4\n",
    "fig.add_trace(go.Pie(values=df_chinese['partial_chinese'],labels=df_chinese['state'],\n",
    "                    textinfo='label+percent'),row=2, col=1)\n",
    "#Graph 5\n",
    "fig.add_trace(go.Pie(values=df_chinese['full_chinese'],labels=df_chinese['state'],\n",
    "                    textinfo='label+percent'),row=2, col=2)\n",
    "#Graph 6\n",
    "fig.add_trace(go.Pie(values=df_chinese['booster_chinese'],labels=df_chinese['state'],\n",
    "                    textinfo='label+percent'),row=2, col=3)\n",
    "#Graph 7\n",
    "fig.add_trace(go.Pie(values=df_indian['partial_indian'],labels=df_indian['state'],\n",
    "                    textinfo='label+percent'),row=3, col=1)\n",
    "#Graph 8\n",
    "fig.add_trace(go.Pie(values=df_indian['full_indian'],labels=df_indian['state'],\n",
    "                    textinfo='label+percent'),row=3, col=2)\n",
    "#Graph 9\n",
    "fig.add_trace(go.Pie(values=df_indian['booster_indian'],labels=df_indian['state'],\n",
    "                    textinfo='label+percent'),row=3, col=3)\n",
    "\n",
    "#Update Fonts & Size\n",
    "fig.update_annotations(font=dict(family=\"Helvetica\", size=11))\n",
    "fig.update_layout(font=dict(family=\"Helvetica\", size=11))\n",
    "fig.update_layout(height=5000,showlegend=False)\n",
    "fig.update_traces(textposition='inside', textinfo='percent+label')\n",
    "#fig.update_layout(height=100,title_text='Malaysia Vaccination By Demography', title_x=0.5)\n",
    "\n",
    "#Plotting the graph\n",
    "fig.show()"
   ]
  },
  {
   "cell_type": "code",
   "execution_count": null,
   "id": "9645529f",
   "metadata": {},
   "outputs": [],
   "source": []
  }
 ],
 "metadata": {
  "kernelspec": {
   "display_name": "Python 3 (ipykernel)",
   "language": "python",
   "name": "python3"
  },
  "language_info": {
   "codemirror_mode": {
    "name": "ipython",
    "version": 3
   },
   "file_extension": ".py",
   "mimetype": "text/x-python",
   "name": "python",
   "nbconvert_exporter": "python",
   "pygments_lexer": "ipython3",
   "version": "3.9.7"
  }
 },
 "nbformat": 4,
 "nbformat_minor": 5
}
