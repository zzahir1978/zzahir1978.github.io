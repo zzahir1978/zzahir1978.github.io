{
 "cells": [
  {
   "cell_type": "markdown",
   "metadata": {},
   "source": [
    "<h1 style=\"color:black; font-size:50px; font-family:Impact, Charcoal, sans-serif; \n",
    "           text-align:center;\">Malaysia Covid19 Cases Updates</h1>\n",
    "<h3>Prepared By: <a href='https://zzahir1978.github.io'>Zahiruddin Zahidanishah</a></h3>"
   ]
  },
  {
   "cell_type": "markdown",
   "metadata": {},
   "source": [
    "______________________________________________________________________________________________"
   ]
  },
  {
   "cell_type": "markdown",
   "metadata": {},
   "source": [
    "<h3>Introduction</h3>\n",
    "\n",
    "Coronavirus disease 2019 (COVID-19) is a contagious disease caused by a virus, the severe acute respiratory syndrome coronavirus 2 (SARS-CoV-2). The first known case was identified in Wuhan, China, in December 2019. The disease has since spread worldwide, leading to the ongoing COVID-19 pandemic.\n",
    "\n",
    "Symptoms of COVID‑19 are variable, but often include fever, cough, headache, fatigue, breathing difficulties, loss of smell, and loss of taste. Symptoms may begin one to fourteen days after exposure to the virus. \n",
    "\n",
    "At least a third of people who are infected do not develop noticeable symptoms. Of those people who develop symptoms noticeable enough to be classed as patients, most (81%) develop mild to moderate symptoms (up to mild pneumonia), while 14% develop severe symptoms (dyspnea, hypoxia, or more than 50% lung involvement on imaging), and 5% suffer critical symptoms (respiratory failure, shock, or multiorgan dysfunction). \n",
    "\n",
    "Older people are at a higher risk of developing severe symptoms. Some people continue to experience a range of effects (long COVID) for months after recovery, and damage to organs has been observed. Multi-year studies are underway to further investigate the long-term effects of the disease.\n",
    "\n",
    "This reports is prepare to updates and shows the current status of Covid19 pandemics especially at Malaysia and also around the worlds.\n",
    "\n",
    "This report is separates in three different sections. Please click on the following sections for more details:-"
   ]
  },
  {
   "cell_type": "markdown",
   "metadata": {},
   "source": [
    "1. <a href='Covid19Malaysia1.html'>Section 1 - Malaysia Overall Updates</a>\n",
    "2. <a href='Covid19Malaysia2.html'>Section 2 - Malaysia States Updates</a>\n",
    "3. <a href='Covid19Malaysia3.html'>Section 3 - Worldwide Updates</a>"
   ]
  },
  {
   "cell_type": "markdown",
   "metadata": {},
   "source": [
    "<h3>Notes</h3>\n",
    "\n",
    "<p>All datasets in this reports retrieved from the following websites:-</p>\n",
    "<p>1. <a href='https://github.com/MoH-Malaysia/covid19-public'>Malaysia MOH Github Account</a></p>\n",
    "<p>2. <a href='https://github.com/CITF-Malaysia/citf-public'>CITF Github Account</a></p>\n",
    "<p>3. <a href='https://github.com/CSSEGISandData/COVID-19'> COVID-19 Data Repository by the Center for Systems Science and Engineering (CSSE) at Johns Hopkins University Github Account</a></p>"
   ]
  }
 ],
 "metadata": {
  "kernelspec": {
   "display_name": "Python 3 (ipykernel)",
   "language": "python",
   "name": "python3"
  },
  "language_info": {
   "codemirror_mode": {
    "name": "ipython",
    "version": 3
   },
   "file_extension": ".py",
   "mimetype": "text/x-python",
   "name": "python",
   "nbconvert_exporter": "python",
   "pygments_lexer": "ipython3",
   "version": "3.9.7"
  }
 },
 "nbformat": 4,
 "nbformat_minor": 4
}
