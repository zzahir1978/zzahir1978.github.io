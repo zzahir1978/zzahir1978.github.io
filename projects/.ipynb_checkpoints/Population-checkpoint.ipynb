{
 "cells": [
  {
   "cell_type": "code",
   "execution_count": 1,
   "id": "2c875e9b",
   "metadata": {},
   "outputs": [
    {
     "data": {
      "text/html": [
       "        <script type=\"text/javascript\">\n",
       "        window.PlotlyConfig = {MathJaxConfig: 'local'};\n",
       "        if (window.MathJax) {MathJax.Hub.Config({SVG: {font: \"STIX-Web\"}});}\n",
       "        if (typeof require !== 'undefined') {\n",
       "        require.undef(\"plotly\");\n",
       "        requirejs.config({\n",
       "            paths: {\n",
       "                'plotly': ['https://cdn.plot.ly/plotly-2.11.1.min']\n",
       "            }\n",
       "        });\n",
       "        require(['plotly'], function(Plotly) {\n",
       "            window._Plotly = Plotly;\n",
       "        });\n",
       "        }\n",
       "        </script>\n",
       "        "
      ]
     },
     "metadata": {},
     "output_type": "display_data"
    },
    {
     "data": {
      "text/html": [
       "        <script type=\"text/javascript\">\n",
       "        window.PlotlyConfig = {MathJaxConfig: 'local'};\n",
       "        if (window.MathJax) {MathJax.Hub.Config({SVG: {font: \"STIX-Web\"}});}\n",
       "        if (typeof require !== 'undefined') {\n",
       "        require.undef(\"plotly\");\n",
       "        requirejs.config({\n",
       "            paths: {\n",
       "                'plotly': ['https://cdn.plot.ly/plotly-2.11.1.min']\n",
       "            }\n",
       "        });\n",
       "        require(['plotly'], function(Plotly) {\n",
       "            window._Plotly = Plotly;\n",
       "        });\n",
       "        }\n",
       "        </script>\n",
       "        "
      ]
     },
     "metadata": {},
     "output_type": "display_data"
    }
   ],
   "source": [
    "import pandas as pd\n",
    "import numpy as np\n",
    "import matplotlib.pyplot as plt\n",
    "import plotly.graph_objects as go\n",
    "import plotly.express as px\n",
    "from plotly.subplots import make_subplots\n",
    "import dataframe_image as dfi\n",
    "import adjustText as aT\n",
    "from jupyterthemes import jtplot\n",
    "#import requests\n",
    "import cufflinks as cf\n",
    "#from bs4 import BeautifulSoup as bs\n",
    "jtplot.style(theme='monokai', context='notebook', ticks=True, grid=False) \n",
    "import warnings\n",
    "warnings.filterwarnings('ignore')\n",
    "%matplotlib inline\n",
    "\n",
    "from plotly.offline import download_plotlyjs, init_notebook_mode, plot, iplot \n",
    "init_notebook_mode(connected=True)\n",
    "cf.go_offline()\n",
    "\n",
    "from IPython.display import display_html\n",
    "def display_side_by_side(*args):\n",
    "    html_str=''\n",
    "    for df in args:\n",
    "        html_str+=df.to_html()\n",
    "    display_html(html_str.replace('table','table style=\"display:inline\"'),raw=True)"
   ]
  },
  {
   "cell_type": "code",
   "execution_count": 2,
   "id": "32b50102",
   "metadata": {},
   "outputs": [],
   "source": [
    "df = pd.read_csv('Population_by_age_group_sex_and_ethnic_group_2010-2019e_Malaysia.csv')\n",
    "df['Population'] = df['Population (\"000)']*1000\n",
    "df = df[['Sex','Age Group','Year','Citizen category','Ethnic','Population']]"
   ]
  },
  {
   "cell_type": "code",
   "execution_count": 3,
   "id": "6215b1f9",
   "metadata": {},
   "outputs": [],
   "source": [
    "df['Ethnic'] = df['Ethnic'].replace(np.nan, 'Non Malaysian')\n",
    "df['Age Group'] = df['Age Group'].replace('05-Sep', '0-9')\n",
    "df['Age Group'] = df['Age Group'].replace('Oct-14', '10-14')"
   ]
  },
  {
   "cell_type": "code",
   "execution_count": 4,
   "id": "bc8a5fe3",
   "metadata": {},
   "outputs": [],
   "source": [
    "df_2010 = df[df.Year == '2010']\n",
    "df_2011 = df[df.Year == '2011']\n",
    "df_2012 = df[df.Year == '2012']\n",
    "df_2013 = df[df.Year == '2013']\n",
    "df_2014 = df[df.Year == '2014']\n",
    "df_2015 = df[df.Year == '2015']\n",
    "df_2016 = df[df.Year == '2016']\n",
    "df_2017 = df[df.Year == '2017']\n",
    "df_2018 = df[df.Year == '2018']\n",
    "df_2019 = df[df.Year == '2019e']"
   ]
  },
  {
   "cell_type": "code",
   "execution_count": 5,
   "id": "cfa2c81d",
   "metadata": {},
   "outputs": [],
   "source": [
    "df_sex_2010 = df_2010.groupby('Sex').sum()\n",
    "df_sex_2011 = df_2011.groupby('Sex').sum()\n",
    "df_sex_2012 = df_2012.groupby('Sex').sum()\n",
    "df_sex_2013 = df_2013.groupby('Sex').sum()\n",
    "df_sex_2014 = df_2014.groupby('Sex').sum()\n",
    "df_sex_2015 = df_2015.groupby('Sex').sum()\n",
    "df_sex_2016 = df_2016.groupby('Sex').sum()\n",
    "df_sex_2017 = df_2017.groupby('Sex').sum()\n",
    "df_sex_2018 = df_2018.groupby('Sex').sum()\n",
    "df_sex_2019 = df_2019.groupby('Sex').sum()"
   ]
  },
  {
   "cell_type": "code",
   "execution_count": 6,
   "id": "29121867",
   "metadata": {},
   "outputs": [],
   "source": [
    "df_sex_population = pd.merge(df_sex_2010,df_sex_2011, on='Sex')\n",
    "df_sex_population.rename(columns={'Population_x':'2010','Population_y':'2011'},inplace=True)\n",
    "df_sex_population = pd.merge(df_sex_population,df_sex_2012, on='Sex')\n",
    "df_sex_population.rename(columns={'Population':'2012'},inplace=True)\n",
    "df_sex_population = pd.merge(df_sex_population,df_sex_2013, on='Sex')\n",
    "df_sex_population.rename(columns={'Population':'2013'},inplace=True)\n",
    "df_sex_population = pd.merge(df_sex_population,df_sex_2014, on='Sex')\n",
    "df_sex_population.rename(columns={'Population':'2014'},inplace=True)\n",
    "df_sex_population = pd.merge(df_sex_population,df_sex_2015, on='Sex')\n",
    "df_sex_population.rename(columns={'Population':'2015'},inplace=True)\n",
    "df_sex_population = pd.merge(df_sex_population,df_sex_2016, on='Sex')\n",
    "df_sex_population.rename(columns={'Population':'2016'},inplace=True)\n",
    "df_sex_population = pd.merge(df_sex_population,df_sex_2017, on='Sex')\n",
    "df_sex_population.rename(columns={'Population':'2017'},inplace=True)\n",
    "df_sex_population = pd.merge(df_sex_population,df_sex_2018, on='Sex')\n",
    "df_sex_population.rename(columns={'Population':'2018'},inplace=True)\n",
    "df_sex_population = pd.merge(df_sex_population,df_sex_2019, on='Sex')\n",
    "df_sex_population.rename(columns={'Population':'2019'},inplace=True)\n",
    "df_sex_population = df_sex_population.reset_index()"
   ]
  },
  {
   "cell_type": "code",
   "execution_count": 7,
   "id": "d4926fb0",
   "metadata": {},
   "outputs": [],
   "source": [
    "bar_plots = [\n",
    "    go.Bar(x = df_sex_population['Sex'], y = df_sex_population['2010'],name='2010'),\n",
    "    go.Bar(x = df_sex_population['Sex'], y = df_sex_population['2011'],name='2011'),\n",
    "    go.Bar(x = df_sex_population['Sex'], y = df_sex_population['2012'],name='2012'),\n",
    "    go.Bar(x = df_sex_population['Sex'], y = df_sex_population['2013'],name='2013'),\n",
    "    go.Bar(x = df_sex_population['Sex'], y = df_sex_population['2014'],name='2014'),\n",
    "    go.Bar(x = df_sex_population['Sex'], y = df_sex_population['2015'],name='2015'),\n",
    "    go.Bar(x = df_sex_population['Sex'], y = df_sex_population['2016'],name='2016'),\n",
    "    go.Bar(x = df_sex_population['Sex'], y = df_sex_population['2017'],name='2017'),\n",
    "    go.Bar(x = df_sex_population['Sex'], y = df_sex_population['2018'],name='2018'),\n",
    "    go.Bar(x = df_sex_population['Sex'], y = df_sex_population['2019'],name='2019')\n",
    "           ]\n",
    "layout = go.Layout(\n",
    "title=go.layout.Title(text='Malaysia Population By Sex',x=0.5),\n",
    "yaxis_title='Population',xaxis_tickmode='array')\n",
    "fig = go.Figure(data=bar_plots, layout=layout)\n",
    "#fig.show()"
   ]
  },
  {
   "cell_type": "code",
   "execution_count": 8,
   "id": "27012229",
   "metadata": {},
   "outputs": [
    {
     "data": {
      "application/vnd.plotly.v1+json": {
       "config": {
        "plotlyServerURL": "https://plot.ly"
       },
       "data": [
        {
         "name": "2010",
         "type": "bar",
         "x": [
          "Female",
          "Male"
         ],
         "xaxis": "x",
         "y": [
          13858095,
          14730542
         ],
         "yaxis": "y"
        },
        {
         "domain": {
          "x": [
           0.55,
           1
          ],
          "y": [
           0.9450000000000001,
           1
          ]
         },
         "labels": [
          13858095,
          14730542
         ],
         "textinfo": "label+percent",
         "type": "pie",
         "values": [
          "Female",
          "Male"
         ]
        },
        {
         "name": "2011",
         "type": "bar",
         "x": [
          "Female",
          "Male"
         ],
         "xaxis": "x2",
         "y": [
          14081700,
          14980200
         ],
         "yaxis": "y2"
        },
        {
         "domain": {
          "x": [
           0.55,
           1
          ],
          "y": [
           0.8400000000000001,
           0.8950000000000001
          ]
         },
         "labels": [
          14081700,
          14980200
         ],
         "textinfo": "label+percent",
         "type": "pie",
         "values": [
          "Female",
          "Male"
         ]
        },
        {
         "name": "2012",
         "type": "bar",
         "x": [
          "Female",
          "Male"
         ],
         "xaxis": "x3",
         "y": [
          14294400,
          15214900
         ],
         "yaxis": "y3"
        },
        {
         "domain": {
          "x": [
           0.55,
           1
          ],
          "y": [
           0.7350000000000001,
           0.7900000000000001
          ]
         },
         "labels": [
          14294400,
          15214900
         ],
         "textinfo": "label+percent",
         "type": "pie",
         "values": [
          "Female",
          "Male"
         ]
        },
        {
         "name": "2013",
         "type": "bar",
         "x": [
          "Female",
          "Male"
         ],
         "xaxis": "x4",
         "y": [
          14608900,
          15605100
         ],
         "yaxis": "y4"
        },
        {
         "domain": {
          "x": [
           0.55,
           1
          ],
          "y": [
           0.6300000000000001,
           0.6850000000000002
          ]
         },
         "labels": [
          14608900,
          15605100
         ],
         "textinfo": "label+percent",
         "type": "pie",
         "values": [
          "Female",
          "Male"
         ]
        },
        {
         "name": "2014",
         "type": "bar",
         "x": [
          "Female",
          "Male"
         ],
         "xaxis": "x5",
         "y": [
          14840600,
          15867800
         ],
         "yaxis": "y5"
        },
        {
         "domain": {
          "x": [
           0.55,
           1
          ],
          "y": [
           0.525,
           0.5800000000000001
          ]
         },
         "labels": [
          14840600,
          15867800
         ],
         "textinfo": "label+percent",
         "type": "pie",
         "values": [
          "Female",
          "Male"
         ]
        },
        {
         "name": "2015",
         "type": "bar",
         "x": [
          "Female",
          "Male"
         ],
         "xaxis": "x6",
         "y": [
          15074100,
          16112300
         ],
         "yaxis": "y6"
        },
        {
         "domain": {
          "x": [
           0.55,
           1
          ],
          "y": [
           0.42000000000000004,
           0.47500000000000003
          ]
         },
         "labels": [
          15074100,
          16112300
         ],
         "textinfo": "label+percent",
         "type": "pie",
         "values": [
          "Female",
          "Male"
         ]
        },
        {
         "name": "2016",
         "type": "bar",
         "x": [
          "Female",
          "Male"
         ],
         "xaxis": "x7",
         "y": [
          15286800,
          16346500
         ],
         "yaxis": "y7"
        },
        {
         "domain": {
          "x": [
           0.55,
           1
          ],
          "y": [
           0.31500000000000006,
           0.37000000000000005
          ]
         },
         "labels": [
          15286800,
          16346500
         ],
         "textinfo": "label+percent",
         "type": "pie",
         "values": [
          "Female",
          "Male"
         ]
        },
        {
         "name": "2017",
         "type": "bar",
         "x": [
          "Female",
          "Male"
         ],
         "xaxis": "x8",
         "y": [
          15479800,
          16542600
         ],
         "yaxis": "y8"
        },
        {
         "domain": {
          "x": [
           0.55,
           1
          ],
          "y": [
           0.21000000000000002,
           0.265
          ]
         },
         "labels": [
          15479800,
          16542600
         ],
         "textinfo": "label+percent",
         "type": "pie",
         "values": [
          "Female",
          "Male"
         ]
        },
        {
         "name": "2018",
         "type": "bar",
         "x": [
          "Female",
          "Male"
         ],
         "xaxis": "x9",
         "y": [
          15660800,
          16721500
         ],
         "yaxis": "y9"
        },
        {
         "domain": {
          "x": [
           0.55,
           1
          ],
          "y": [
           0.10500000000000001,
           0.16000000000000003
          ]
         },
         "labels": [
          15660800,
          16721500
         ],
         "textinfo": "label+percent",
         "type": "pie",
         "values": [
          "Female",
          "Male"
         ]
        },
        {
         "name": "2019",
         "type": "bar",
         "x": [
          "Female",
          "Male"
         ],
         "xaxis": "x10",
         "y": [
          15751400,
          16830600
         ],
         "yaxis": "y10"
        },
        {
         "domain": {
          "x": [
           0.55,
           1
          ],
          "y": [
           0,
           0.05500000000000001
          ]
         },
         "labels": [
          15751400,
          16830600
         ],
         "textinfo": "label+percent",
         "type": "pie",
         "values": [
          "Female",
          "Male"
         ]
        }
       ],
       "layout": {
        "annotations": [
         {
          "font": {
           "family": "Helvetica",
           "size": 12
          },
          "showarrow": false,
          "text": "<b>Population By Ethnic Group 2010</b>",
          "x": 0.225,
          "xanchor": "center",
          "xref": "paper",
          "y": 1,
          "yanchor": "bottom",
          "yref": "paper"
         },
         {
          "font": {
           "family": "Helvetica",
           "size": 12
          },
          "showarrow": false,
          "text": "<b>Ethnic Group In Percentage 2010</b>",
          "x": 0.775,
          "xanchor": "center",
          "xref": "paper",
          "y": 1,
          "yanchor": "bottom",
          "yref": "paper"
         },
         {
          "font": {
           "family": "Helvetica",
           "size": 12
          },
          "showarrow": false,
          "text": "<b>Population By Ethnic Group 2011</b>",
          "x": 0.225,
          "xanchor": "center",
          "xref": "paper",
          "y": 0.8950000000000001,
          "yanchor": "bottom",
          "yref": "paper"
         },
         {
          "font": {
           "family": "Helvetica",
           "size": 12
          },
          "showarrow": false,
          "text": "<b>Ethnic Group In Percentage 2011</b>",
          "x": 0.775,
          "xanchor": "center",
          "xref": "paper",
          "y": 0.8950000000000001,
          "yanchor": "bottom",
          "yref": "paper"
         },
         {
          "font": {
           "family": "Helvetica",
           "size": 12
          },
          "showarrow": false,
          "text": "<b>Population By Ethnic Group 2012</b>",
          "x": 0.225,
          "xanchor": "center",
          "xref": "paper",
          "y": 0.7900000000000001,
          "yanchor": "bottom",
          "yref": "paper"
         },
         {
          "font": {
           "family": "Helvetica",
           "size": 12
          },
          "showarrow": false,
          "text": "<b>Ethnic Group In Percentage 2012</b>",
          "x": 0.775,
          "xanchor": "center",
          "xref": "paper",
          "y": 0.7900000000000001,
          "yanchor": "bottom",
          "yref": "paper"
         },
         {
          "font": {
           "family": "Helvetica",
           "size": 12
          },
          "showarrow": false,
          "text": "<b>Population By Ethnic Group 2013</b>",
          "x": 0.225,
          "xanchor": "center",
          "xref": "paper",
          "y": 0.6850000000000002,
          "yanchor": "bottom",
          "yref": "paper"
         },
         {
          "font": {
           "family": "Helvetica",
           "size": 12
          },
          "showarrow": false,
          "text": "<b>Ethnic Group In Percentage 2013</b>",
          "x": 0.775,
          "xanchor": "center",
          "xref": "paper",
          "y": 0.6850000000000002,
          "yanchor": "bottom",
          "yref": "paper"
         },
         {
          "font": {
           "family": "Helvetica",
           "size": 12
          },
          "showarrow": false,
          "text": "<b>Population By Ethnic Group 2014</b>",
          "x": 0.225,
          "xanchor": "center",
          "xref": "paper",
          "y": 0.5800000000000001,
          "yanchor": "bottom",
          "yref": "paper"
         },
         {
          "font": {
           "family": "Helvetica",
           "size": 12
          },
          "showarrow": false,
          "text": "<b>Ethnic Group In Percentage 2014</b>",
          "x": 0.775,
          "xanchor": "center",
          "xref": "paper",
          "y": 0.5800000000000001,
          "yanchor": "bottom",
          "yref": "paper"
         },
         {
          "font": {
           "family": "Helvetica",
           "size": 12
          },
          "showarrow": false,
          "text": "<b>Population By Ethnic Group 2015</b>",
          "x": 0.225,
          "xanchor": "center",
          "xref": "paper",
          "y": 0.47500000000000003,
          "yanchor": "bottom",
          "yref": "paper"
         },
         {
          "font": {
           "family": "Helvetica",
           "size": 12
          },
          "showarrow": false,
          "text": "<b>Ethnic Group In Percentage 2015</b>",
          "x": 0.775,
          "xanchor": "center",
          "xref": "paper",
          "y": 0.47500000000000003,
          "yanchor": "bottom",
          "yref": "paper"
         },
         {
          "font": {
           "family": "Helvetica",
           "size": 12
          },
          "showarrow": false,
          "text": "<b>Population By Ethnic Group 2016</b>",
          "x": 0.225,
          "xanchor": "center",
          "xref": "paper",
          "y": 0.37000000000000005,
          "yanchor": "bottom",
          "yref": "paper"
         },
         {
          "font": {
           "family": "Helvetica",
           "size": 12
          },
          "showarrow": false,
          "text": "<b>Ethnic Group In Percentage 2016</b>",
          "x": 0.775,
          "xanchor": "center",
          "xref": "paper",
          "y": 0.37000000000000005,
          "yanchor": "bottom",
          "yref": "paper"
         },
         {
          "font": {
           "family": "Helvetica",
           "size": 12
          },
          "showarrow": false,
          "text": "<b>Population By Ethnic Group 2017</b>",
          "x": 0.225,
          "xanchor": "center",
          "xref": "paper",
          "y": 0.265,
          "yanchor": "bottom",
          "yref": "paper"
         },
         {
          "font": {
           "family": "Helvetica",
           "size": 12
          },
          "showarrow": false,
          "text": "<b>Ethnic Group In Percentage 2017</b>",
          "x": 0.775,
          "xanchor": "center",
          "xref": "paper",
          "y": 0.265,
          "yanchor": "bottom",
          "yref": "paper"
         },
         {
          "font": {
           "family": "Helvetica",
           "size": 12
          },
          "showarrow": false,
          "text": "<b>Population By Ethnic Group 2018</b>",
          "x": 0.225,
          "xanchor": "center",
          "xref": "paper",
          "y": 0.16000000000000003,
          "yanchor": "bottom",
          "yref": "paper"
         },
         {
          "font": {
           "family": "Helvetica",
           "size": 12
          },
          "showarrow": false,
          "text": "<b>Ethnic Group In Percentage 2018</b>",
          "x": 0.775,
          "xanchor": "center",
          "xref": "paper",
          "y": 0.16000000000000003,
          "yanchor": "bottom",
          "yref": "paper"
         },
         {
          "font": {
           "family": "Helvetica",
           "size": 12
          },
          "showarrow": false,
          "text": "<b>Population By Ethnic Group 2019</b>",
          "x": 0.225,
          "xanchor": "center",
          "xref": "paper",
          "y": 0.05500000000000001,
          "yanchor": "bottom",
          "yref": "paper"
         },
         {
          "font": {
           "family": "Helvetica",
           "size": 12
          },
          "showarrow": false,
          "text": "<b>Ethnic Group In Percentage 2019</b>",
          "x": 0.775,
          "xanchor": "center",
          "xref": "paper",
          "y": 0.05500000000000001,
          "yanchor": "bottom",
          "yref": "paper"
         }
        ],
        "font": {
         "family": "Helvetica",
         "size": 12
        },
        "height": 500,
        "showlegend": false,
        "template": {
         "data": {
          "bar": [
           {
            "error_x": {
             "color": "#2a3f5f"
            },
            "error_y": {
             "color": "#2a3f5f"
            },
            "marker": {
             "line": {
              "color": "#E5ECF6",
              "width": 0.5
             },
             "pattern": {
              "fillmode": "overlay",
              "size": 10,
              "solidity": 0.2
             }
            },
            "type": "bar"
           }
          ],
          "barpolar": [
           {
            "marker": {
             "line": {
              "color": "#E5ECF6",
              "width": 0.5
             },
             "pattern": {
              "fillmode": "overlay",
              "size": 10,
              "solidity": 0.2
             }
            },
            "type": "barpolar"
           }
          ],
          "carpet": [
           {
            "aaxis": {
             "endlinecolor": "#2a3f5f",
             "gridcolor": "white",
             "linecolor": "white",
             "minorgridcolor": "white",
             "startlinecolor": "#2a3f5f"
            },
            "baxis": {
             "endlinecolor": "#2a3f5f",
             "gridcolor": "white",
             "linecolor": "white",
             "minorgridcolor": "white",
             "startlinecolor": "#2a3f5f"
            },
            "type": "carpet"
           }
          ],
          "choropleth": [
           {
            "colorbar": {
             "outlinewidth": 0,
             "ticks": ""
            },
            "type": "choropleth"
           }
          ],
          "contour": [
           {
            "colorbar": {
             "outlinewidth": 0,
             "ticks": ""
            },
            "colorscale": [
             [
              0,
              "#0d0887"
             ],
             [
              0.1111111111111111,
              "#46039f"
             ],
             [
              0.2222222222222222,
              "#7201a8"
             ],
             [
              0.3333333333333333,
              "#9c179e"
             ],
             [
              0.4444444444444444,
              "#bd3786"
             ],
             [
              0.5555555555555556,
              "#d8576b"
             ],
             [
              0.6666666666666666,
              "#ed7953"
             ],
             [
              0.7777777777777778,
              "#fb9f3a"
             ],
             [
              0.8888888888888888,
              "#fdca26"
             ],
             [
              1,
              "#f0f921"
             ]
            ],
            "type": "contour"
           }
          ],
          "contourcarpet": [
           {
            "colorbar": {
             "outlinewidth": 0,
             "ticks": ""
            },
            "type": "contourcarpet"
           }
          ],
          "heatmap": [
           {
            "colorbar": {
             "outlinewidth": 0,
             "ticks": ""
            },
            "colorscale": [
             [
              0,
              "#0d0887"
             ],
             [
              0.1111111111111111,
              "#46039f"
             ],
             [
              0.2222222222222222,
              "#7201a8"
             ],
             [
              0.3333333333333333,
              "#9c179e"
             ],
             [
              0.4444444444444444,
              "#bd3786"
             ],
             [
              0.5555555555555556,
              "#d8576b"
             ],
             [
              0.6666666666666666,
              "#ed7953"
             ],
             [
              0.7777777777777778,
              "#fb9f3a"
             ],
             [
              0.8888888888888888,
              "#fdca26"
             ],
             [
              1,
              "#f0f921"
             ]
            ],
            "type": "heatmap"
           }
          ],
          "heatmapgl": [
           {
            "colorbar": {
             "outlinewidth": 0,
             "ticks": ""
            },
            "colorscale": [
             [
              0,
              "#0d0887"
             ],
             [
              0.1111111111111111,
              "#46039f"
             ],
             [
              0.2222222222222222,
              "#7201a8"
             ],
             [
              0.3333333333333333,
              "#9c179e"
             ],
             [
              0.4444444444444444,
              "#bd3786"
             ],
             [
              0.5555555555555556,
              "#d8576b"
             ],
             [
              0.6666666666666666,
              "#ed7953"
             ],
             [
              0.7777777777777778,
              "#fb9f3a"
             ],
             [
              0.8888888888888888,
              "#fdca26"
             ],
             [
              1,
              "#f0f921"
             ]
            ],
            "type": "heatmapgl"
           }
          ],
          "histogram": [
           {
            "marker": {
             "pattern": {
              "fillmode": "overlay",
              "size": 10,
              "solidity": 0.2
             }
            },
            "type": "histogram"
           }
          ],
          "histogram2d": [
           {
            "colorbar": {
             "outlinewidth": 0,
             "ticks": ""
            },
            "colorscale": [
             [
              0,
              "#0d0887"
             ],
             [
              0.1111111111111111,
              "#46039f"
             ],
             [
              0.2222222222222222,
              "#7201a8"
             ],
             [
              0.3333333333333333,
              "#9c179e"
             ],
             [
              0.4444444444444444,
              "#bd3786"
             ],
             [
              0.5555555555555556,
              "#d8576b"
             ],
             [
              0.6666666666666666,
              "#ed7953"
             ],
             [
              0.7777777777777778,
              "#fb9f3a"
             ],
             [
              0.8888888888888888,
              "#fdca26"
             ],
             [
              1,
              "#f0f921"
             ]
            ],
            "type": "histogram2d"
           }
          ],
          "histogram2dcontour": [
           {
            "colorbar": {
             "outlinewidth": 0,
             "ticks": ""
            },
            "colorscale": [
             [
              0,
              "#0d0887"
             ],
             [
              0.1111111111111111,
              "#46039f"
             ],
             [
              0.2222222222222222,
              "#7201a8"
             ],
             [
              0.3333333333333333,
              "#9c179e"
             ],
             [
              0.4444444444444444,
              "#bd3786"
             ],
             [
              0.5555555555555556,
              "#d8576b"
             ],
             [
              0.6666666666666666,
              "#ed7953"
             ],
             [
              0.7777777777777778,
              "#fb9f3a"
             ],
             [
              0.8888888888888888,
              "#fdca26"
             ],
             [
              1,
              "#f0f921"
             ]
            ],
            "type": "histogram2dcontour"
           }
          ],
          "mesh3d": [
           {
            "colorbar": {
             "outlinewidth": 0,
             "ticks": ""
            },
            "type": "mesh3d"
           }
          ],
          "parcoords": [
           {
            "line": {
             "colorbar": {
              "outlinewidth": 0,
              "ticks": ""
             }
            },
            "type": "parcoords"
           }
          ],
          "pie": [
           {
            "automargin": true,
            "type": "pie"
           }
          ],
          "scatter": [
           {
            "fillpattern": {
             "fillmode": "overlay",
             "size": 10,
             "solidity": 0.2
            },
            "type": "scatter"
           }
          ],
          "scatter3d": [
           {
            "line": {
             "colorbar": {
              "outlinewidth": 0,
              "ticks": ""
             }
            },
            "marker": {
             "colorbar": {
              "outlinewidth": 0,
              "ticks": ""
             }
            },
            "type": "scatter3d"
           }
          ],
          "scattercarpet": [
           {
            "marker": {
             "colorbar": {
              "outlinewidth": 0,
              "ticks": ""
             }
            },
            "type": "scattercarpet"
           }
          ],
          "scattergeo": [
           {
            "marker": {
             "colorbar": {
              "outlinewidth": 0,
              "ticks": ""
             }
            },
            "type": "scattergeo"
           }
          ],
          "scattergl": [
           {
            "marker": {
             "colorbar": {
              "outlinewidth": 0,
              "ticks": ""
             }
            },
            "type": "scattergl"
           }
          ],
          "scattermapbox": [
           {
            "marker": {
             "colorbar": {
              "outlinewidth": 0,
              "ticks": ""
             }
            },
            "type": "scattermapbox"
           }
          ],
          "scatterpolar": [
           {
            "marker": {
             "colorbar": {
              "outlinewidth": 0,
              "ticks": ""
             }
            },
            "type": "scatterpolar"
           }
          ],
          "scatterpolargl": [
           {
            "marker": {
             "colorbar": {
              "outlinewidth": 0,
              "ticks": ""
             }
            },
            "type": "scatterpolargl"
           }
          ],
          "scatterternary": [
           {
            "marker": {
             "colorbar": {
              "outlinewidth": 0,
              "ticks": ""
             }
            },
            "type": "scatterternary"
           }
          ],
          "surface": [
           {
            "colorbar": {
             "outlinewidth": 0,
             "ticks": ""
            },
            "colorscale": [
             [
              0,
              "#0d0887"
             ],
             [
              0.1111111111111111,
              "#46039f"
             ],
             [
              0.2222222222222222,
              "#7201a8"
             ],
             [
              0.3333333333333333,
              "#9c179e"
             ],
             [
              0.4444444444444444,
              "#bd3786"
             ],
             [
              0.5555555555555556,
              "#d8576b"
             ],
             [
              0.6666666666666666,
              "#ed7953"
             ],
             [
              0.7777777777777778,
              "#fb9f3a"
             ],
             [
              0.8888888888888888,
              "#fdca26"
             ],
             [
              1,
              "#f0f921"
             ]
            ],
            "type": "surface"
           }
          ],
          "table": [
           {
            "cells": {
             "fill": {
              "color": "#EBF0F8"
             },
             "line": {
              "color": "white"
             }
            },
            "header": {
             "fill": {
              "color": "#C8D4E3"
             },
             "line": {
              "color": "white"
             }
            },
            "type": "table"
           }
          ]
         },
         "layout": {
          "annotationdefaults": {
           "arrowcolor": "#2a3f5f",
           "arrowhead": 0,
           "arrowwidth": 1
          },
          "autotypenumbers": "strict",
          "coloraxis": {
           "colorbar": {
            "outlinewidth": 0,
            "ticks": ""
           }
          },
          "colorscale": {
           "diverging": [
            [
             0,
             "#8e0152"
            ],
            [
             0.1,
             "#c51b7d"
            ],
            [
             0.2,
             "#de77ae"
            ],
            [
             0.3,
             "#f1b6da"
            ],
            [
             0.4,
             "#fde0ef"
            ],
            [
             0.5,
             "#f7f7f7"
            ],
            [
             0.6,
             "#e6f5d0"
            ],
            [
             0.7,
             "#b8e186"
            ],
            [
             0.8,
             "#7fbc41"
            ],
            [
             0.9,
             "#4d9221"
            ],
            [
             1,
             "#276419"
            ]
           ],
           "sequential": [
            [
             0,
             "#0d0887"
            ],
            [
             0.1111111111111111,
             "#46039f"
            ],
            [
             0.2222222222222222,
             "#7201a8"
            ],
            [
             0.3333333333333333,
             "#9c179e"
            ],
            [
             0.4444444444444444,
             "#bd3786"
            ],
            [
             0.5555555555555556,
             "#d8576b"
            ],
            [
             0.6666666666666666,
             "#ed7953"
            ],
            [
             0.7777777777777778,
             "#fb9f3a"
            ],
            [
             0.8888888888888888,
             "#fdca26"
            ],
            [
             1,
             "#f0f921"
            ]
           ],
           "sequentialminus": [
            [
             0,
             "#0d0887"
            ],
            [
             0.1111111111111111,
             "#46039f"
            ],
            [
             0.2222222222222222,
             "#7201a8"
            ],
            [
             0.3333333333333333,
             "#9c179e"
            ],
            [
             0.4444444444444444,
             "#bd3786"
            ],
            [
             0.5555555555555556,
             "#d8576b"
            ],
            [
             0.6666666666666666,
             "#ed7953"
            ],
            [
             0.7777777777777778,
             "#fb9f3a"
            ],
            [
             0.8888888888888888,
             "#fdca26"
            ],
            [
             1,
             "#f0f921"
            ]
           ]
          },
          "colorway": [
           "#636efa",
           "#EF553B",
           "#00cc96",
           "#ab63fa",
           "#FFA15A",
           "#19d3f3",
           "#FF6692",
           "#B6E880",
           "#FF97FF",
           "#FECB52"
          ],
          "font": {
           "color": "#2a3f5f"
          },
          "geo": {
           "bgcolor": "white",
           "lakecolor": "white",
           "landcolor": "#E5ECF6",
           "showlakes": true,
           "showland": true,
           "subunitcolor": "white"
          },
          "hoverlabel": {
           "align": "left"
          },
          "hovermode": "closest",
          "mapbox": {
           "style": "light"
          },
          "paper_bgcolor": "white",
          "plot_bgcolor": "#E5ECF6",
          "polar": {
           "angularaxis": {
            "gridcolor": "white",
            "linecolor": "white",
            "ticks": ""
           },
           "bgcolor": "#E5ECF6",
           "radialaxis": {
            "gridcolor": "white",
            "linecolor": "white",
            "ticks": ""
           }
          },
          "scene": {
           "xaxis": {
            "backgroundcolor": "#E5ECF6",
            "gridcolor": "white",
            "gridwidth": 2,
            "linecolor": "white",
            "showbackground": true,
            "ticks": "",
            "zerolinecolor": "white"
           },
           "yaxis": {
            "backgroundcolor": "#E5ECF6",
            "gridcolor": "white",
            "gridwidth": 2,
            "linecolor": "white",
            "showbackground": true,
            "ticks": "",
            "zerolinecolor": "white"
           },
           "zaxis": {
            "backgroundcolor": "#E5ECF6",
            "gridcolor": "white",
            "gridwidth": 2,
            "linecolor": "white",
            "showbackground": true,
            "ticks": "",
            "zerolinecolor": "white"
           }
          },
          "shapedefaults": {
           "line": {
            "color": "#2a3f5f"
           }
          },
          "ternary": {
           "aaxis": {
            "gridcolor": "white",
            "linecolor": "white",
            "ticks": ""
           },
           "baxis": {
            "gridcolor": "white",
            "linecolor": "white",
            "ticks": ""
           },
           "bgcolor": "#E5ECF6",
           "caxis": {
            "gridcolor": "white",
            "linecolor": "white",
            "ticks": ""
           }
          },
          "title": {
           "x": 0.05
          },
          "xaxis": {
           "automargin": true,
           "gridcolor": "white",
           "linecolor": "white",
           "ticks": "",
           "title": {
            "standoff": 15
           },
           "zerolinecolor": "white",
           "zerolinewidth": 2
          },
          "yaxis": {
           "automargin": true,
           "gridcolor": "white",
           "linecolor": "white",
           "ticks": "",
           "title": {
            "standoff": 15
           },
           "zerolinecolor": "white",
           "zerolinewidth": 2
          }
         }
        },
        "title": {
         "text": "Malaysia Population By Sex Groups",
         "x": 0.5
        },
        "xaxis": {
         "anchor": "y",
         "domain": [
          0,
          0.45
         ]
        },
        "xaxis10": {
         "anchor": "y10",
         "domain": [
          0,
          0.45
         ]
        },
        "xaxis2": {
         "anchor": "y2",
         "domain": [
          0,
          0.45
         ]
        },
        "xaxis3": {
         "anchor": "y3",
         "domain": [
          0,
          0.45
         ]
        },
        "xaxis4": {
         "anchor": "y4",
         "domain": [
          0,
          0.45
         ]
        },
        "xaxis5": {
         "anchor": "y5",
         "domain": [
          0,
          0.45
         ]
        },
        "xaxis6": {
         "anchor": "y6",
         "domain": [
          0,
          0.45
         ]
        },
        "xaxis7": {
         "anchor": "y7",
         "domain": [
          0,
          0.45
         ]
        },
        "xaxis8": {
         "anchor": "y8",
         "domain": [
          0,
          0.45
         ]
        },
        "xaxis9": {
         "anchor": "y9",
         "domain": [
          0,
          0.45
         ]
        },
        "yaxis": {
         "anchor": "x",
         "domain": [
          0.9450000000000001,
          1
         ]
        },
        "yaxis10": {
         "anchor": "x10",
         "domain": [
          0,
          0.05500000000000001
         ]
        },
        "yaxis2": {
         "anchor": "x2",
         "domain": [
          0.8400000000000001,
          0.8950000000000001
         ]
        },
        "yaxis3": {
         "anchor": "x3",
         "domain": [
          0.7350000000000001,
          0.7900000000000001
         ]
        },
        "yaxis4": {
         "anchor": "x4",
         "domain": [
          0.6300000000000001,
          0.6850000000000002
         ]
        },
        "yaxis5": {
         "anchor": "x5",
         "domain": [
          0.525,
          0.5800000000000001
         ]
        },
        "yaxis6": {
         "anchor": "x6",
         "domain": [
          0.42000000000000004,
          0.47500000000000003
         ]
        },
        "yaxis7": {
         "anchor": "x7",
         "domain": [
          0.31500000000000006,
          0.37000000000000005
         ]
        },
        "yaxis8": {
         "anchor": "x8",
         "domain": [
          0.21000000000000002,
          0.265
         ]
        },
        "yaxis9": {
         "anchor": "x9",
         "domain": [
          0.10500000000000001,
          0.16000000000000003
         ]
        }
       }
      },
      "text/html": [
       "<div>                            <div id=\"856599b1-7249-40c3-a1b9-21b7356ace12\" class=\"plotly-graph-div\" style=\"height:500px; width:100%;\"></div>            <script type=\"text/javascript\">                require([\"plotly\"], function(Plotly) {                    window.PLOTLYENV=window.PLOTLYENV || {};                                    if (document.getElementById(\"856599b1-7249-40c3-a1b9-21b7356ace12\")) {                    Plotly.newPlot(                        \"856599b1-7249-40c3-a1b9-21b7356ace12\",                        [{\"name\":\"2010\",\"x\":[\"Female\",\"Male\"],\"y\":[13858095.0,14730542.0],\"type\":\"bar\",\"xaxis\":\"x\",\"yaxis\":\"y\"},{\"labels\":[13858095.0,14730542.0],\"textinfo\":\"label+percent\",\"values\":[\"Female\",\"Male\"],\"type\":\"pie\",\"domain\":{\"x\":[0.55,1.0],\"y\":[0.9450000000000001,1.0]}},{\"name\":\"2011\",\"x\":[\"Female\",\"Male\"],\"y\":[14081700.0,14980200.0],\"type\":\"bar\",\"xaxis\":\"x2\",\"yaxis\":\"y2\"},{\"labels\":[14081700.0,14980200.0],\"textinfo\":\"label+percent\",\"values\":[\"Female\",\"Male\"],\"type\":\"pie\",\"domain\":{\"x\":[0.55,1.0],\"y\":[0.8400000000000001,0.8950000000000001]}},{\"name\":\"2012\",\"x\":[\"Female\",\"Male\"],\"y\":[14294400.0,15214900.0],\"type\":\"bar\",\"xaxis\":\"x3\",\"yaxis\":\"y3\"},{\"labels\":[14294400.0,15214900.0],\"textinfo\":\"label+percent\",\"values\":[\"Female\",\"Male\"],\"type\":\"pie\",\"domain\":{\"x\":[0.55,1.0],\"y\":[0.7350000000000001,0.7900000000000001]}},{\"name\":\"2013\",\"x\":[\"Female\",\"Male\"],\"y\":[14608900.0,15605100.0],\"type\":\"bar\",\"xaxis\":\"x4\",\"yaxis\":\"y4\"},{\"labels\":[14608900.0,15605100.0],\"textinfo\":\"label+percent\",\"values\":[\"Female\",\"Male\"],\"type\":\"pie\",\"domain\":{\"x\":[0.55,1.0],\"y\":[0.6300000000000001,0.6850000000000002]}},{\"name\":\"2014\",\"x\":[\"Female\",\"Male\"],\"y\":[14840600.0,15867800.0],\"type\":\"bar\",\"xaxis\":\"x5\",\"yaxis\":\"y5\"},{\"labels\":[14840600.0,15867800.0],\"textinfo\":\"label+percent\",\"values\":[\"Female\",\"Male\"],\"type\":\"pie\",\"domain\":{\"x\":[0.55,1.0],\"y\":[0.525,0.5800000000000001]}},{\"name\":\"2015\",\"x\":[\"Female\",\"Male\"],\"y\":[15074100.0,16112300.0],\"type\":\"bar\",\"xaxis\":\"x6\",\"yaxis\":\"y6\"},{\"labels\":[15074100.0,16112300.0],\"textinfo\":\"label+percent\",\"values\":[\"Female\",\"Male\"],\"type\":\"pie\",\"domain\":{\"x\":[0.55,1.0],\"y\":[0.42000000000000004,0.47500000000000003]}},{\"name\":\"2016\",\"x\":[\"Female\",\"Male\"],\"y\":[15286800.0,16346500.0],\"type\":\"bar\",\"xaxis\":\"x7\",\"yaxis\":\"y7\"},{\"labels\":[15286800.0,16346500.0],\"textinfo\":\"label+percent\",\"values\":[\"Female\",\"Male\"],\"type\":\"pie\",\"domain\":{\"x\":[0.55,1.0],\"y\":[0.31500000000000006,0.37000000000000005]}},{\"name\":\"2017\",\"x\":[\"Female\",\"Male\"],\"y\":[15479800.0,16542600.0],\"type\":\"bar\",\"xaxis\":\"x8\",\"yaxis\":\"y8\"},{\"labels\":[15479800.0,16542600.0],\"textinfo\":\"label+percent\",\"values\":[\"Female\",\"Male\"],\"type\":\"pie\",\"domain\":{\"x\":[0.55,1.0],\"y\":[0.21000000000000002,0.265]}},{\"name\":\"2018\",\"x\":[\"Female\",\"Male\"],\"y\":[15660800.0,16721500.0],\"type\":\"bar\",\"xaxis\":\"x9\",\"yaxis\":\"y9\"},{\"labels\":[15660800.0,16721500.0],\"textinfo\":\"label+percent\",\"values\":[\"Female\",\"Male\"],\"type\":\"pie\",\"domain\":{\"x\":[0.55,1.0],\"y\":[0.10500000000000001,0.16000000000000003]}},{\"name\":\"2019\",\"x\":[\"Female\",\"Male\"],\"y\":[15751400.0,16830600.0],\"type\":\"bar\",\"xaxis\":\"x10\",\"yaxis\":\"y10\"},{\"labels\":[15751400.0,16830600.0],\"textinfo\":\"label+percent\",\"values\":[\"Female\",\"Male\"],\"type\":\"pie\",\"domain\":{\"x\":[0.55,1.0],\"y\":[0.0,0.05500000000000001]}}],                        {\"template\":{\"data\":{\"histogram2dcontour\":[{\"type\":\"histogram2dcontour\",\"colorbar\":{\"outlinewidth\":0,\"ticks\":\"\"},\"colorscale\":[[0.0,\"#0d0887\"],[0.1111111111111111,\"#46039f\"],[0.2222222222222222,\"#7201a8\"],[0.3333333333333333,\"#9c179e\"],[0.4444444444444444,\"#bd3786\"],[0.5555555555555556,\"#d8576b\"],[0.6666666666666666,\"#ed7953\"],[0.7777777777777778,\"#fb9f3a\"],[0.8888888888888888,\"#fdca26\"],[1.0,\"#f0f921\"]]}],\"choropleth\":[{\"type\":\"choropleth\",\"colorbar\":{\"outlinewidth\":0,\"ticks\":\"\"}}],\"histogram2d\":[{\"type\":\"histogram2d\",\"colorbar\":{\"outlinewidth\":0,\"ticks\":\"\"},\"colorscale\":[[0.0,\"#0d0887\"],[0.1111111111111111,\"#46039f\"],[0.2222222222222222,\"#7201a8\"],[0.3333333333333333,\"#9c179e\"],[0.4444444444444444,\"#bd3786\"],[0.5555555555555556,\"#d8576b\"],[0.6666666666666666,\"#ed7953\"],[0.7777777777777778,\"#fb9f3a\"],[0.8888888888888888,\"#fdca26\"],[1.0,\"#f0f921\"]]}],\"heatmap\":[{\"type\":\"heatmap\",\"colorbar\":{\"outlinewidth\":0,\"ticks\":\"\"},\"colorscale\":[[0.0,\"#0d0887\"],[0.1111111111111111,\"#46039f\"],[0.2222222222222222,\"#7201a8\"],[0.3333333333333333,\"#9c179e\"],[0.4444444444444444,\"#bd3786\"],[0.5555555555555556,\"#d8576b\"],[0.6666666666666666,\"#ed7953\"],[0.7777777777777778,\"#fb9f3a\"],[0.8888888888888888,\"#fdca26\"],[1.0,\"#f0f921\"]]}],\"heatmapgl\":[{\"type\":\"heatmapgl\",\"colorbar\":{\"outlinewidth\":0,\"ticks\":\"\"},\"colorscale\":[[0.0,\"#0d0887\"],[0.1111111111111111,\"#46039f\"],[0.2222222222222222,\"#7201a8\"],[0.3333333333333333,\"#9c179e\"],[0.4444444444444444,\"#bd3786\"],[0.5555555555555556,\"#d8576b\"],[0.6666666666666666,\"#ed7953\"],[0.7777777777777778,\"#fb9f3a\"],[0.8888888888888888,\"#fdca26\"],[1.0,\"#f0f921\"]]}],\"contourcarpet\":[{\"type\":\"contourcarpet\",\"colorbar\":{\"outlinewidth\":0,\"ticks\":\"\"}}],\"contour\":[{\"type\":\"contour\",\"colorbar\":{\"outlinewidth\":0,\"ticks\":\"\"},\"colorscale\":[[0.0,\"#0d0887\"],[0.1111111111111111,\"#46039f\"],[0.2222222222222222,\"#7201a8\"],[0.3333333333333333,\"#9c179e\"],[0.4444444444444444,\"#bd3786\"],[0.5555555555555556,\"#d8576b\"],[0.6666666666666666,\"#ed7953\"],[0.7777777777777778,\"#fb9f3a\"],[0.8888888888888888,\"#fdca26\"],[1.0,\"#f0f921\"]]}],\"surface\":[{\"type\":\"surface\",\"colorbar\":{\"outlinewidth\":0,\"ticks\":\"\"},\"colorscale\":[[0.0,\"#0d0887\"],[0.1111111111111111,\"#46039f\"],[0.2222222222222222,\"#7201a8\"],[0.3333333333333333,\"#9c179e\"],[0.4444444444444444,\"#bd3786\"],[0.5555555555555556,\"#d8576b\"],[0.6666666666666666,\"#ed7953\"],[0.7777777777777778,\"#fb9f3a\"],[0.8888888888888888,\"#fdca26\"],[1.0,\"#f0f921\"]]}],\"mesh3d\":[{\"type\":\"mesh3d\",\"colorbar\":{\"outlinewidth\":0,\"ticks\":\"\"}}],\"scatter\":[{\"fillpattern\":{\"fillmode\":\"overlay\",\"size\":10,\"solidity\":0.2},\"type\":\"scatter\"}],\"parcoords\":[{\"type\":\"parcoords\",\"line\":{\"colorbar\":{\"outlinewidth\":0,\"ticks\":\"\"}}}],\"scatterpolargl\":[{\"type\":\"scatterpolargl\",\"marker\":{\"colorbar\":{\"outlinewidth\":0,\"ticks\":\"\"}}}],\"bar\":[{\"error_x\":{\"color\":\"#2a3f5f\"},\"error_y\":{\"color\":\"#2a3f5f\"},\"marker\":{\"line\":{\"color\":\"#E5ECF6\",\"width\":0.5},\"pattern\":{\"fillmode\":\"overlay\",\"size\":10,\"solidity\":0.2}},\"type\":\"bar\"}],\"scattergeo\":[{\"type\":\"scattergeo\",\"marker\":{\"colorbar\":{\"outlinewidth\":0,\"ticks\":\"\"}}}],\"scatterpolar\":[{\"type\":\"scatterpolar\",\"marker\":{\"colorbar\":{\"outlinewidth\":0,\"ticks\":\"\"}}}],\"histogram\":[{\"marker\":{\"pattern\":{\"fillmode\":\"overlay\",\"size\":10,\"solidity\":0.2}},\"type\":\"histogram\"}],\"scattergl\":[{\"type\":\"scattergl\",\"marker\":{\"colorbar\":{\"outlinewidth\":0,\"ticks\":\"\"}}}],\"scatter3d\":[{\"type\":\"scatter3d\",\"line\":{\"colorbar\":{\"outlinewidth\":0,\"ticks\":\"\"}},\"marker\":{\"colorbar\":{\"outlinewidth\":0,\"ticks\":\"\"}}}],\"scattermapbox\":[{\"type\":\"scattermapbox\",\"marker\":{\"colorbar\":{\"outlinewidth\":0,\"ticks\":\"\"}}}],\"scatterternary\":[{\"type\":\"scatterternary\",\"marker\":{\"colorbar\":{\"outlinewidth\":0,\"ticks\":\"\"}}}],\"scattercarpet\":[{\"type\":\"scattercarpet\",\"marker\":{\"colorbar\":{\"outlinewidth\":0,\"ticks\":\"\"}}}],\"carpet\":[{\"aaxis\":{\"endlinecolor\":\"#2a3f5f\",\"gridcolor\":\"white\",\"linecolor\":\"white\",\"minorgridcolor\":\"white\",\"startlinecolor\":\"#2a3f5f\"},\"baxis\":{\"endlinecolor\":\"#2a3f5f\",\"gridcolor\":\"white\",\"linecolor\":\"white\",\"minorgridcolor\":\"white\",\"startlinecolor\":\"#2a3f5f\"},\"type\":\"carpet\"}],\"table\":[{\"cells\":{\"fill\":{\"color\":\"#EBF0F8\"},\"line\":{\"color\":\"white\"}},\"header\":{\"fill\":{\"color\":\"#C8D4E3\"},\"line\":{\"color\":\"white\"}},\"type\":\"table\"}],\"barpolar\":[{\"marker\":{\"line\":{\"color\":\"#E5ECF6\",\"width\":0.5},\"pattern\":{\"fillmode\":\"overlay\",\"size\":10,\"solidity\":0.2}},\"type\":\"barpolar\"}],\"pie\":[{\"automargin\":true,\"type\":\"pie\"}]},\"layout\":{\"autotypenumbers\":\"strict\",\"colorway\":[\"#636efa\",\"#EF553B\",\"#00cc96\",\"#ab63fa\",\"#FFA15A\",\"#19d3f3\",\"#FF6692\",\"#B6E880\",\"#FF97FF\",\"#FECB52\"],\"font\":{\"color\":\"#2a3f5f\"},\"hovermode\":\"closest\",\"hoverlabel\":{\"align\":\"left\"},\"paper_bgcolor\":\"white\",\"plot_bgcolor\":\"#E5ECF6\",\"polar\":{\"bgcolor\":\"#E5ECF6\",\"angularaxis\":{\"gridcolor\":\"white\",\"linecolor\":\"white\",\"ticks\":\"\"},\"radialaxis\":{\"gridcolor\":\"white\",\"linecolor\":\"white\",\"ticks\":\"\"}},\"ternary\":{\"bgcolor\":\"#E5ECF6\",\"aaxis\":{\"gridcolor\":\"white\",\"linecolor\":\"white\",\"ticks\":\"\"},\"baxis\":{\"gridcolor\":\"white\",\"linecolor\":\"white\",\"ticks\":\"\"},\"caxis\":{\"gridcolor\":\"white\",\"linecolor\":\"white\",\"ticks\":\"\"}},\"coloraxis\":{\"colorbar\":{\"outlinewidth\":0,\"ticks\":\"\"}},\"colorscale\":{\"sequential\":[[0.0,\"#0d0887\"],[0.1111111111111111,\"#46039f\"],[0.2222222222222222,\"#7201a8\"],[0.3333333333333333,\"#9c179e\"],[0.4444444444444444,\"#bd3786\"],[0.5555555555555556,\"#d8576b\"],[0.6666666666666666,\"#ed7953\"],[0.7777777777777778,\"#fb9f3a\"],[0.8888888888888888,\"#fdca26\"],[1.0,\"#f0f921\"]],\"sequentialminus\":[[0.0,\"#0d0887\"],[0.1111111111111111,\"#46039f\"],[0.2222222222222222,\"#7201a8\"],[0.3333333333333333,\"#9c179e\"],[0.4444444444444444,\"#bd3786\"],[0.5555555555555556,\"#d8576b\"],[0.6666666666666666,\"#ed7953\"],[0.7777777777777778,\"#fb9f3a\"],[0.8888888888888888,\"#fdca26\"],[1.0,\"#f0f921\"]],\"diverging\":[[0,\"#8e0152\"],[0.1,\"#c51b7d\"],[0.2,\"#de77ae\"],[0.3,\"#f1b6da\"],[0.4,\"#fde0ef\"],[0.5,\"#f7f7f7\"],[0.6,\"#e6f5d0\"],[0.7,\"#b8e186\"],[0.8,\"#7fbc41\"],[0.9,\"#4d9221\"],[1,\"#276419\"]]},\"xaxis\":{\"gridcolor\":\"white\",\"linecolor\":\"white\",\"ticks\":\"\",\"title\":{\"standoff\":15},\"zerolinecolor\":\"white\",\"automargin\":true,\"zerolinewidth\":2},\"yaxis\":{\"gridcolor\":\"white\",\"linecolor\":\"white\",\"ticks\":\"\",\"title\":{\"standoff\":15},\"zerolinecolor\":\"white\",\"automargin\":true,\"zerolinewidth\":2},\"scene\":{\"xaxis\":{\"backgroundcolor\":\"#E5ECF6\",\"gridcolor\":\"white\",\"linecolor\":\"white\",\"showbackground\":true,\"ticks\":\"\",\"zerolinecolor\":\"white\",\"gridwidth\":2},\"yaxis\":{\"backgroundcolor\":\"#E5ECF6\",\"gridcolor\":\"white\",\"linecolor\":\"white\",\"showbackground\":true,\"ticks\":\"\",\"zerolinecolor\":\"white\",\"gridwidth\":2},\"zaxis\":{\"backgroundcolor\":\"#E5ECF6\",\"gridcolor\":\"white\",\"linecolor\":\"white\",\"showbackground\":true,\"ticks\":\"\",\"zerolinecolor\":\"white\",\"gridwidth\":2}},\"shapedefaults\":{\"line\":{\"color\":\"#2a3f5f\"}},\"annotationdefaults\":{\"arrowcolor\":\"#2a3f5f\",\"arrowhead\":0,\"arrowwidth\":1},\"geo\":{\"bgcolor\":\"white\",\"landcolor\":\"#E5ECF6\",\"subunitcolor\":\"white\",\"showland\":true,\"showlakes\":true,\"lakecolor\":\"white\"},\"title\":{\"x\":0.05},\"mapbox\":{\"style\":\"light\"}}},\"xaxis\":{\"anchor\":\"y\",\"domain\":[0.0,0.45]},\"yaxis\":{\"anchor\":\"x\",\"domain\":[0.9450000000000001,1.0]},\"xaxis2\":{\"anchor\":\"y2\",\"domain\":[0.0,0.45]},\"yaxis2\":{\"anchor\":\"x2\",\"domain\":[0.8400000000000001,0.8950000000000001]},\"xaxis3\":{\"anchor\":\"y3\",\"domain\":[0.0,0.45]},\"yaxis3\":{\"anchor\":\"x3\",\"domain\":[0.7350000000000001,0.7900000000000001]},\"xaxis4\":{\"anchor\":\"y4\",\"domain\":[0.0,0.45]},\"yaxis4\":{\"anchor\":\"x4\",\"domain\":[0.6300000000000001,0.6850000000000002]},\"xaxis5\":{\"anchor\":\"y5\",\"domain\":[0.0,0.45]},\"yaxis5\":{\"anchor\":\"x5\",\"domain\":[0.525,0.5800000000000001]},\"xaxis6\":{\"anchor\":\"y6\",\"domain\":[0.0,0.45]},\"yaxis6\":{\"anchor\":\"x6\",\"domain\":[0.42000000000000004,0.47500000000000003]},\"xaxis7\":{\"anchor\":\"y7\",\"domain\":[0.0,0.45]},\"yaxis7\":{\"anchor\":\"x7\",\"domain\":[0.31500000000000006,0.37000000000000005]},\"xaxis8\":{\"anchor\":\"y8\",\"domain\":[0.0,0.45]},\"yaxis8\":{\"anchor\":\"x8\",\"domain\":[0.21000000000000002,0.265]},\"xaxis9\":{\"anchor\":\"y9\",\"domain\":[0.0,0.45]},\"yaxis9\":{\"anchor\":\"x9\",\"domain\":[0.10500000000000001,0.16000000000000003]},\"xaxis10\":{\"anchor\":\"y10\",\"domain\":[0.0,0.45]},\"yaxis10\":{\"anchor\":\"x10\",\"domain\":[0.0,0.05500000000000001]},\"annotations\":[{\"font\":{\"size\":12,\"family\":\"Helvetica\"},\"showarrow\":false,\"text\":\"<b>Population By Ethnic Group 2010</b>\",\"x\":0.225,\"xanchor\":\"center\",\"xref\":\"paper\",\"y\":1.0,\"yanchor\":\"bottom\",\"yref\":\"paper\"},{\"font\":{\"size\":12,\"family\":\"Helvetica\"},\"showarrow\":false,\"text\":\"<b>Ethnic Group In Percentage 2010</b>\",\"x\":0.775,\"xanchor\":\"center\",\"xref\":\"paper\",\"y\":1.0,\"yanchor\":\"bottom\",\"yref\":\"paper\"},{\"font\":{\"size\":12,\"family\":\"Helvetica\"},\"showarrow\":false,\"text\":\"<b>Population By Ethnic Group 2011</b>\",\"x\":0.225,\"xanchor\":\"center\",\"xref\":\"paper\",\"y\":0.8950000000000001,\"yanchor\":\"bottom\",\"yref\":\"paper\"},{\"font\":{\"size\":12,\"family\":\"Helvetica\"},\"showarrow\":false,\"text\":\"<b>Ethnic Group In Percentage 2011</b>\",\"x\":0.775,\"xanchor\":\"center\",\"xref\":\"paper\",\"y\":0.8950000000000001,\"yanchor\":\"bottom\",\"yref\":\"paper\"},{\"font\":{\"size\":12,\"family\":\"Helvetica\"},\"showarrow\":false,\"text\":\"<b>Population By Ethnic Group 2012</b>\",\"x\":0.225,\"xanchor\":\"center\",\"xref\":\"paper\",\"y\":0.7900000000000001,\"yanchor\":\"bottom\",\"yref\":\"paper\"},{\"font\":{\"size\":12,\"family\":\"Helvetica\"},\"showarrow\":false,\"text\":\"<b>Ethnic Group In Percentage 2012</b>\",\"x\":0.775,\"xanchor\":\"center\",\"xref\":\"paper\",\"y\":0.7900000000000001,\"yanchor\":\"bottom\",\"yref\":\"paper\"},{\"font\":{\"size\":12,\"family\":\"Helvetica\"},\"showarrow\":false,\"text\":\"<b>Population By Ethnic Group 2013</b>\",\"x\":0.225,\"xanchor\":\"center\",\"xref\":\"paper\",\"y\":0.6850000000000002,\"yanchor\":\"bottom\",\"yref\":\"paper\"},{\"font\":{\"size\":12,\"family\":\"Helvetica\"},\"showarrow\":false,\"text\":\"<b>Ethnic Group In Percentage 2013</b>\",\"x\":0.775,\"xanchor\":\"center\",\"xref\":\"paper\",\"y\":0.6850000000000002,\"yanchor\":\"bottom\",\"yref\":\"paper\"},{\"font\":{\"size\":12,\"family\":\"Helvetica\"},\"showarrow\":false,\"text\":\"<b>Population By Ethnic Group 2014</b>\",\"x\":0.225,\"xanchor\":\"center\",\"xref\":\"paper\",\"y\":0.5800000000000001,\"yanchor\":\"bottom\",\"yref\":\"paper\"},{\"font\":{\"size\":12,\"family\":\"Helvetica\"},\"showarrow\":false,\"text\":\"<b>Ethnic Group In Percentage 2014</b>\",\"x\":0.775,\"xanchor\":\"center\",\"xref\":\"paper\",\"y\":0.5800000000000001,\"yanchor\":\"bottom\",\"yref\":\"paper\"},{\"font\":{\"size\":12,\"family\":\"Helvetica\"},\"showarrow\":false,\"text\":\"<b>Population By Ethnic Group 2015</b>\",\"x\":0.225,\"xanchor\":\"center\",\"xref\":\"paper\",\"y\":0.47500000000000003,\"yanchor\":\"bottom\",\"yref\":\"paper\"},{\"font\":{\"size\":12,\"family\":\"Helvetica\"},\"showarrow\":false,\"text\":\"<b>Ethnic Group In Percentage 2015</b>\",\"x\":0.775,\"xanchor\":\"center\",\"xref\":\"paper\",\"y\":0.47500000000000003,\"yanchor\":\"bottom\",\"yref\":\"paper\"},{\"font\":{\"size\":12,\"family\":\"Helvetica\"},\"showarrow\":false,\"text\":\"<b>Population By Ethnic Group 2016</b>\",\"x\":0.225,\"xanchor\":\"center\",\"xref\":\"paper\",\"y\":0.37000000000000005,\"yanchor\":\"bottom\",\"yref\":\"paper\"},{\"font\":{\"size\":12,\"family\":\"Helvetica\"},\"showarrow\":false,\"text\":\"<b>Ethnic Group In Percentage 2016</b>\",\"x\":0.775,\"xanchor\":\"center\",\"xref\":\"paper\",\"y\":0.37000000000000005,\"yanchor\":\"bottom\",\"yref\":\"paper\"},{\"font\":{\"size\":12,\"family\":\"Helvetica\"},\"showarrow\":false,\"text\":\"<b>Population By Ethnic Group 2017</b>\",\"x\":0.225,\"xanchor\":\"center\",\"xref\":\"paper\",\"y\":0.265,\"yanchor\":\"bottom\",\"yref\":\"paper\"},{\"font\":{\"size\":12,\"family\":\"Helvetica\"},\"showarrow\":false,\"text\":\"<b>Ethnic Group In Percentage 2017</b>\",\"x\":0.775,\"xanchor\":\"center\",\"xref\":\"paper\",\"y\":0.265,\"yanchor\":\"bottom\",\"yref\":\"paper\"},{\"font\":{\"size\":12,\"family\":\"Helvetica\"},\"showarrow\":false,\"text\":\"<b>Population By Ethnic Group 2018</b>\",\"x\":0.225,\"xanchor\":\"center\",\"xref\":\"paper\",\"y\":0.16000000000000003,\"yanchor\":\"bottom\",\"yref\":\"paper\"},{\"font\":{\"size\":12,\"family\":\"Helvetica\"},\"showarrow\":false,\"text\":\"<b>Ethnic Group In Percentage 2018</b>\",\"x\":0.775,\"xanchor\":\"center\",\"xref\":\"paper\",\"y\":0.16000000000000003,\"yanchor\":\"bottom\",\"yref\":\"paper\"},{\"font\":{\"size\":12,\"family\":\"Helvetica\"},\"showarrow\":false,\"text\":\"<b>Population By Ethnic Group 2019</b>\",\"x\":0.225,\"xanchor\":\"center\",\"xref\":\"paper\",\"y\":0.05500000000000001,\"yanchor\":\"bottom\",\"yref\":\"paper\"},{\"font\":{\"size\":12,\"family\":\"Helvetica\"},\"showarrow\":false,\"text\":\"<b>Ethnic Group In Percentage 2019</b>\",\"x\":0.775,\"xanchor\":\"center\",\"xref\":\"paper\",\"y\":0.05500000000000001,\"yanchor\":\"bottom\",\"yref\":\"paper\"}],\"title\":{\"text\":\"Malaysia Population By Sex Groups\",\"x\":0.5},\"height\":500,\"showlegend\":false,\"font\":{\"family\":\"Helvetica\",\"size\":12}},                        {\"responsive\": true}                    ).then(function(){\n",
       "                            \n",
       "var gd = document.getElementById('856599b1-7249-40c3-a1b9-21b7356ace12');\n",
       "var x = new MutationObserver(function (mutations, observer) {{\n",
       "        var display = window.getComputedStyle(gd).display;\n",
       "        if (!display || display === 'none') {{\n",
       "            console.log([gd, 'removed!']);\n",
       "            Plotly.purge(gd);\n",
       "            observer.disconnect();\n",
       "        }}\n",
       "}});\n",
       "\n",
       "// Listen for the removal of the full notebook cells\n",
       "var notebookContainer = gd.closest('#notebook-container');\n",
       "if (notebookContainer) {{\n",
       "    x.observe(notebookContainer, {childList: true});\n",
       "}}\n",
       "\n",
       "// Listen for the clearing of the current output cell\n",
       "var outputEl = gd.closest('.output');\n",
       "if (outputEl) {{\n",
       "    x.observe(outputEl, {childList: true});\n",
       "}}\n",
       "\n",
       "                        })                };                });            </script>        </div>"
      ]
     },
     "metadata": {},
     "output_type": "display_data"
    }
   ],
   "source": [
    "fig = make_subplots(\n",
    "    rows=10, cols=2,\n",
    "    specs=[[{\"type\": \"xy\"},{\"type\": \"domain\"}],\n",
    "           [{\"type\": \"xy\"},{\"type\": \"domain\"}],\n",
    "           [{\"type\": \"xy\"},{\"type\": \"domain\"}],\n",
    "           [{\"type\": \"xy\"},{\"type\": \"domain\"}],\n",
    "           [{\"type\": \"xy\"},{\"type\": \"domain\"}],\n",
    "           [{\"type\": \"xy\"},{\"type\": \"domain\"}],\n",
    "           [{\"type\": \"xy\"},{\"type\": \"domain\"}],\n",
    "           [{\"type\": \"xy\"},{\"type\": \"domain\"}],\n",
    "           [{\"type\": \"xy\"},{\"type\": \"domain\"}],\n",
    "           [{\"type\": \"xy\"},{\"type\": \"domain\"}]],\n",
    "    subplot_titles=('<b>Population By Ethnic Group 2010</b>','<b>Ethnic Group In Percentage 2010</b>',\n",
    "                    '<b>Population By Ethnic Group 2011</b>','<b>Ethnic Group In Percentage 2011</b>',\n",
    "                    '<b>Population By Ethnic Group 2012</b>','<b>Ethnic Group In Percentage 2012</b>',\n",
    "                    '<b>Population By Ethnic Group 2013</b>','<b>Ethnic Group In Percentage 2013</b>',\n",
    "                    '<b>Population By Ethnic Group 2014</b>','<b>Ethnic Group In Percentage 2014</b>',\n",
    "                    '<b>Population By Ethnic Group 2015</b>','<b>Ethnic Group In Percentage 2015</b>',\n",
    "                    '<b>Population By Ethnic Group 2016</b>','<b>Ethnic Group In Percentage 2016</b>',\n",
    "                    '<b>Population By Ethnic Group 2017</b>','<b>Ethnic Group In Percentage 2017</b>',\n",
    "                    '<b>Population By Ethnic Group 2018</b>','<b>Ethnic Group In Percentage 2018</b>',\n",
    "                    '<b>Population By Ethnic Group 2019</b>','<b>Ethnic Group In Percentage 2019</b>')\n",
    ")\n",
    "#Graph 2010\n",
    "fig.add_trace(go.Bar(x = df_sex_population['Sex'], y = df_sex_population['2010'],name='2010'),row=1, col=1)\n",
    "fig.add_trace(go.Pie(values=df_sex_population['Sex'],labels=df_sex_population['2010'],\n",
    "                     textinfo='label+percent'),row=1, col=2)\n",
    "#Graph 2011\n",
    "fig.add_trace(go.Bar(x = df_sex_population['Sex'], y = df_sex_population['2011'],name='2011'),row=2, col=1)\n",
    "fig.add_trace(go.Pie(values=df_sex_population['Sex'],labels=df_sex_population['2011'],\n",
    "                     textinfo='label+percent'),row=2, col=2)\n",
    "#Graph 2012\n",
    "fig.add_trace(go.Bar(x = df_sex_population['Sex'], y = df_sex_population['2012'],name='2012'),row=3, col=1)\n",
    "fig.add_trace(go.Pie(values=df_sex_population['Sex'],labels=df_sex_population['2012'],\n",
    "                     textinfo='label+percent'),row=3, col=2)\n",
    "#Graph 2013\n",
    "fig.add_trace(go.Bar(x = df_sex_population['Sex'], y = df_sex_population['2013'],name='2013'),row=4, col=1)\n",
    "fig.add_trace(go.Pie(values=df_sex_population['Sex'],labels=df_sex_population['2013'],\n",
    "                     textinfo='label+percent'),row=4, col=2)\n",
    "#Graph 2014\n",
    "fig.add_trace(go.Bar(x = df_sex_population['Sex'], y = df_sex_population['2014'],name='2014'),row=5, col=1)\n",
    "fig.add_trace(go.Pie(values=df_sex_population['Sex'],labels=df_sex_population['2014'],\n",
    "                     textinfo='label+percent'),row=5, col=2)\n",
    "#Graph 2015\n",
    "fig.add_trace(go.Bar(x = df_sex_population['Sex'], y = df_sex_population['2015'],name='2015'),row=6, col=1)\n",
    "fig.add_trace(go.Pie(values=df_sex_population['Sex'],labels=df_sex_population['2015'],\n",
    "                     textinfo='label+percent'),row=6, col=2)\n",
    "#Graph 2016\n",
    "fig.add_trace(go.Bar(x = df_sex_population['Sex'], y = df_sex_population['2016'],name='2016'),row=7, col=1)\n",
    "fig.add_trace(go.Pie(values=df_sex_population['Sex'],labels=df_sex_population['2016'],\n",
    "                     textinfo='label+percent'),row=7, col=2)\n",
    "#Graph 2017\n",
    "fig.add_trace(go.Bar(x = df_sex_population['Sex'], y = df_sex_population['2017'],name='2017'),row=8, col=1)\n",
    "fig.add_trace(go.Pie(values=df_sex_population['Sex'],labels=df_sex_population['2017'],\n",
    "                     textinfo='label+percent'),row=8, col=2)\n",
    "#Graph 2018\n",
    "fig.add_trace(go.Bar(x = df_sex_population['Sex'], y = df_sex_population['2018'],name='2018'),row=9, col=1)\n",
    "fig.add_trace(go.Pie(values=df_sex_population['Sex'],labels=df_sex_population['2018'],\n",
    "                     textinfo='label+percent'),row=9, col=2)\n",
    "#Graph 2019\n",
    "fig.add_trace(go.Bar(x = df_sex_population['Sex'], y = df_sex_population['2019'],name='2019'),row=10, col=1)\n",
    "fig.add_trace(go.Pie(values=df_sex_population['Sex'],labels=df_sex_population['2019'],\n",
    "                     textinfo='label+percent'),row=10, col=2)\n",
    "\n",
    "fig.update_layout(height=500, showlegend=False,\n",
    "                 title_text='Malaysia Population By Sex Groups', title_x=0.5)\n",
    "fig.update_annotations(font=dict(family=\"Helvetica\", size=12))\n",
    "fig.update_layout(font=dict(family=\"Helvetica\", size=12))\n",
    "\n",
    "#fig.show()"
   ]
  },
  {
   "cell_type": "code",
   "execution_count": 9,
   "id": "b0aab944",
   "metadata": {},
   "outputs": [
    {
     "data": {
      "text/html": [
       "<style type=\"text/css\">\n",
       "#T_96c2c_ caption {\n",
       "  color: black;\n",
       "  font-size: 20px;\n",
       "  text-align: center;\n",
       "  text-decoration: underline;\n",
       "  font-family: Arial;\n",
       "  text-shadow: 2px 2px 5px grey;\n",
       "}\n",
       "#T_96c2c_ th {\n",
       "  text-align: left;\n",
       "}\n",
       "#T_96c2c_row0_col0, #T_96c2c_row1_col0 {\n",
       "  text-align: left;\n",
       "}\n",
       "#T_96c2c_row2_col0 {\n",
       "  text-align: left;\n",
       "  background: yellow;\n",
       "}\n",
       "#T_96c2c_row2_col1, #T_96c2c_row2_col2, #T_96c2c_row2_col3, #T_96c2c_row2_col4, #T_96c2c_row2_col5, #T_96c2c_row2_col6, #T_96c2c_row2_col7, #T_96c2c_row2_col8, #T_96c2c_row2_col9, #T_96c2c_row2_col10, #T_96c2c_row2_col11, #T_96c2c_row2_col12, #T_96c2c_row2_col13, #T_96c2c_row2_col14, #T_96c2c_row2_col15, #T_96c2c_row2_col16, #T_96c2c_row2_col17, #T_96c2c_row2_col18, #T_96c2c_row2_col19 {\n",
       "  background: yellow;\n",
       "}\n",
       "</style>\n",
       "<table id=\"T_96c2c_\">\n",
       "  <caption>Malaysia Total Population By Sex Category</caption>\n",
       "  <thead>\n",
       "    <tr>\n",
       "      <th class=\"col_heading level0 col0\" >Sex</th>\n",
       "      <th class=\"col_heading level0 col1\" >2010</th>\n",
       "      <th class=\"col_heading level0 col2\" >2011 Inc.</th>\n",
       "      <th class=\"col_heading level0 col3\" >2011</th>\n",
       "      <th class=\"col_heading level0 col4\" >2012 Inc.</th>\n",
       "      <th class=\"col_heading level0 col5\" >2012</th>\n",
       "      <th class=\"col_heading level0 col6\" >2013 Inc.</th>\n",
       "      <th class=\"col_heading level0 col7\" >2013</th>\n",
       "      <th class=\"col_heading level0 col8\" >2014 Inc.</th>\n",
       "      <th class=\"col_heading level0 col9\" >2014</th>\n",
       "      <th class=\"col_heading level0 col10\" >2015 Inc.</th>\n",
       "      <th class=\"col_heading level0 col11\" >2015</th>\n",
       "      <th class=\"col_heading level0 col12\" >2016 Inc.</th>\n",
       "      <th class=\"col_heading level0 col13\" >2016</th>\n",
       "      <th class=\"col_heading level0 col14\" >2017 Inc.</th>\n",
       "      <th class=\"col_heading level0 col15\" >2017</th>\n",
       "      <th class=\"col_heading level0 col16\" >2018 Inc.</th>\n",
       "      <th class=\"col_heading level0 col17\" >2018</th>\n",
       "      <th class=\"col_heading level0 col18\" >2019 Inc.</th>\n",
       "      <th class=\"col_heading level0 col19\" >2019</th>\n",
       "    </tr>\n",
       "  </thead>\n",
       "  <tbody>\n",
       "    <tr>\n",
       "      <td id=\"T_96c2c_row0_col0\" class=\"data row0 col0\" >Female</td>\n",
       "      <td id=\"T_96c2c_row0_col1\" class=\"data row0 col1\" >13,858,095</td>\n",
       "      <td id=\"T_96c2c_row0_col2\" class=\"data row0 col2\" >1.6</td>\n",
       "      <td id=\"T_96c2c_row0_col3\" class=\"data row0 col3\" >14,081,700</td>\n",
       "      <td id=\"T_96c2c_row0_col4\" class=\"data row0 col4\" >1.5</td>\n",
       "      <td id=\"T_96c2c_row0_col5\" class=\"data row0 col5\" >14,294,400</td>\n",
       "      <td id=\"T_96c2c_row0_col6\" class=\"data row0 col6\" >2.2</td>\n",
       "      <td id=\"T_96c2c_row0_col7\" class=\"data row0 col7\" >14,608,900</td>\n",
       "      <td id=\"T_96c2c_row0_col8\" class=\"data row0 col8\" >1.6</td>\n",
       "      <td id=\"T_96c2c_row0_col9\" class=\"data row0 col9\" >14,840,600</td>\n",
       "      <td id=\"T_96c2c_row0_col10\" class=\"data row0 col10\" >1.6</td>\n",
       "      <td id=\"T_96c2c_row0_col11\" class=\"data row0 col11\" >15,074,100</td>\n",
       "      <td id=\"T_96c2c_row0_col12\" class=\"data row0 col12\" >1.4</td>\n",
       "      <td id=\"T_96c2c_row0_col13\" class=\"data row0 col13\" >15,286,800</td>\n",
       "      <td id=\"T_96c2c_row0_col14\" class=\"data row0 col14\" >1.3</td>\n",
       "      <td id=\"T_96c2c_row0_col15\" class=\"data row0 col15\" >15,479,800</td>\n",
       "      <td id=\"T_96c2c_row0_col16\" class=\"data row0 col16\" >1.2</td>\n",
       "      <td id=\"T_96c2c_row0_col17\" class=\"data row0 col17\" >15,660,800</td>\n",
       "      <td id=\"T_96c2c_row0_col18\" class=\"data row0 col18\" >0.6</td>\n",
       "      <td id=\"T_96c2c_row0_col19\" class=\"data row0 col19\" >15,751,400</td>\n",
       "    </tr>\n",
       "    <tr>\n",
       "      <td id=\"T_96c2c_row1_col0\" class=\"data row1 col0\" >Male</td>\n",
       "      <td id=\"T_96c2c_row1_col1\" class=\"data row1 col1\" >14,730,542</td>\n",
       "      <td id=\"T_96c2c_row1_col2\" class=\"data row1 col2\" >1.7</td>\n",
       "      <td id=\"T_96c2c_row1_col3\" class=\"data row1 col3\" >14,980,200</td>\n",
       "      <td id=\"T_96c2c_row1_col4\" class=\"data row1 col4\" >1.6</td>\n",
       "      <td id=\"T_96c2c_row1_col5\" class=\"data row1 col5\" >15,214,900</td>\n",
       "      <td id=\"T_96c2c_row1_col6\" class=\"data row1 col6\" >2.6</td>\n",
       "      <td id=\"T_96c2c_row1_col7\" class=\"data row1 col7\" >15,605,100</td>\n",
       "      <td id=\"T_96c2c_row1_col8\" class=\"data row1 col8\" >1.7</td>\n",
       "      <td id=\"T_96c2c_row1_col9\" class=\"data row1 col9\" >15,867,800</td>\n",
       "      <td id=\"T_96c2c_row1_col10\" class=\"data row1 col10\" >1.5</td>\n",
       "      <td id=\"T_96c2c_row1_col11\" class=\"data row1 col11\" >16,112,300</td>\n",
       "      <td id=\"T_96c2c_row1_col12\" class=\"data row1 col12\" >1.5</td>\n",
       "      <td id=\"T_96c2c_row1_col13\" class=\"data row1 col13\" >16,346,500</td>\n",
       "      <td id=\"T_96c2c_row1_col14\" class=\"data row1 col14\" >1.2</td>\n",
       "      <td id=\"T_96c2c_row1_col15\" class=\"data row1 col15\" >16,542,600</td>\n",
       "      <td id=\"T_96c2c_row1_col16\" class=\"data row1 col16\" >1.1</td>\n",
       "      <td id=\"T_96c2c_row1_col17\" class=\"data row1 col17\" >16,721,500</td>\n",
       "      <td id=\"T_96c2c_row1_col18\" class=\"data row1 col18\" >0.7</td>\n",
       "      <td id=\"T_96c2c_row1_col19\" class=\"data row1 col19\" >16,830,600</td>\n",
       "    </tr>\n",
       "    <tr>\n",
       "      <td id=\"T_96c2c_row2_col0\" class=\"data row2 col0\" >Total</td>\n",
       "      <td id=\"T_96c2c_row2_col1\" class=\"data row2 col1\" >28,588,637</td>\n",
       "      <td id=\"T_96c2c_row2_col2\" class=\"data row2 col2\" >1.7</td>\n",
       "      <td id=\"T_96c2c_row2_col3\" class=\"data row2 col3\" >29,061,900</td>\n",
       "      <td id=\"T_96c2c_row2_col4\" class=\"data row2 col4\" >1.5</td>\n",
       "      <td id=\"T_96c2c_row2_col5\" class=\"data row2 col5\" >29,509,300</td>\n",
       "      <td id=\"T_96c2c_row2_col6\" class=\"data row2 col6\" >2.4</td>\n",
       "      <td id=\"T_96c2c_row2_col7\" class=\"data row2 col7\" >30,214,000</td>\n",
       "      <td id=\"T_96c2c_row2_col8\" class=\"data row2 col8\" >1.6</td>\n",
       "      <td id=\"T_96c2c_row2_col9\" class=\"data row2 col9\" >30,708,400</td>\n",
       "      <td id=\"T_96c2c_row2_col10\" class=\"data row2 col10\" >1.6</td>\n",
       "      <td id=\"T_96c2c_row2_col11\" class=\"data row2 col11\" >31,186,400</td>\n",
       "      <td id=\"T_96c2c_row2_col12\" class=\"data row2 col12\" >1.4</td>\n",
       "      <td id=\"T_96c2c_row2_col13\" class=\"data row2 col13\" >31,633,300</td>\n",
       "      <td id=\"T_96c2c_row2_col14\" class=\"data row2 col14\" >1.2</td>\n",
       "      <td id=\"T_96c2c_row2_col15\" class=\"data row2 col15\" >32,022,400</td>\n",
       "      <td id=\"T_96c2c_row2_col16\" class=\"data row2 col16\" >1.1</td>\n",
       "      <td id=\"T_96c2c_row2_col17\" class=\"data row2 col17\" >32,382,300</td>\n",
       "      <td id=\"T_96c2c_row2_col18\" class=\"data row2 col18\" >0.6</td>\n",
       "      <td id=\"T_96c2c_row2_col19\" class=\"data row2 col19\" >32,582,000</td>\n",
       "    </tr>\n",
       "  </tbody>\n",
       "</table>\n"
      ],
      "text/plain": [
       "<pandas.io.formats.style.Styler at 0x10ccf8d00>"
      ]
     },
     "execution_count": 9,
     "metadata": {},
     "output_type": "execute_result"
    }
   ],
   "source": [
    "df_sex_population.loc['Total'] = df_sex_population.sum(numeric_only=True, axis=0)\n",
    "df_sex_population['Sex'] = df_sex_population['Sex'].replace(np.nan, 'Total')\n",
    "df_sex_population['2011 Inc.'] = ((df_sex_population['2011'] - df_sex_population['2010'])/df_sex_population['2010'])*100\n",
    "df_sex_population['2012 Inc.'] = ((df_sex_population['2012'] - df_sex_population['2011'])/df_sex_population['2011'])*100\n",
    "df_sex_population['2013 Inc.'] = ((df_sex_population['2013'] - df_sex_population['2012'])/df_sex_population['2012'])*100\n",
    "df_sex_population['2014 Inc.'] = ((df_sex_population['2014'] - df_sex_population['2013'])/df_sex_population['2013'])*100\n",
    "df_sex_population['2015 Inc.'] = ((df_sex_population['2015'] - df_sex_population['2014'])/df_sex_population['2014'])*100\n",
    "df_sex_population['2016 Inc.'] = ((df_sex_population['2016'] - df_sex_population['2015'])/df_sex_population['2015'])*100\n",
    "df_sex_population['2017 Inc.'] = ((df_sex_population['2017'] - df_sex_population['2016'])/df_sex_population['2016'])*100\n",
    "df_sex_population['2018 Inc.'] = ((df_sex_population['2018'] - df_sex_population['2017'])/df_sex_population['2017'])*100\n",
    "df_sex_population['2019 Inc.'] = ((df_sex_population['2019'] - df_sex_population['2018'])/df_sex_population['2018'])*100\n",
    "df_sex_population = df_sex_population[['Sex','2010','2011 Inc.','2011','2012 Inc.','2012','2013 Inc.','2013','2014 Inc.',\n",
    "                                       '2014','2015 Inc.','2015','2016 Inc.','2016','2017 Inc.','2017','2018 Inc.','2018',\n",
    "                                       '2019 Inc.','2019']]\n",
    "df_sex_population.style.set_caption(\"Malaysia Total Population By Sex Category\").set_table_styles([{\n",
    "    'selector': 'caption',\n",
    "    'props': [\n",
    "        ('color', 'black'),\n",
    "        ('font-size', '20px'),\n",
    "        (\"text-align\", \"center\"),\n",
    "        ('text-decoration', 'underline'),\n",
    "        ('font-family','Arial'),\n",
    "        ('text-shadow', '2px 2px 5px grey')\n",
    "    ]},(dict\n",
    "        (selector='th',props=[('text-align',\n",
    "                               'left')]))]).format(\n",
    "    {'2010':'{:,.0f}','2011':'{:,.0f}','2012':'{:,.0f}','2013':'{:,.0f}','2014':'{:,.0f}','2015':'{:,.0f}',\n",
    "     '2016':'{:,.0f}','2017':'{:,.0f}','2018':'{:,.0f}','2019':'{:,.0f}','2011 Inc.':'{:,.1f}','2012 Inc.':'{:,.1f}',\n",
    "     '2013 Inc.':'{:,.1f}','2014 Inc.':'{:,.1f}','2015 Inc.':'{:,.1f}','2016 Inc.':'{:,.1f}','2017 Inc.':'{:,.1f}',\n",
    "     '2018 Inc.':'{:,.1f}','2019 Inc.':'{:,.1f}'\n",
    "    }).set_properties(subset=['Sex'],**{'text-align': 'left'}).apply(lambda x: ['background: yellow' if x.name in ['Total'] else '' for i in x], axis=1).hide_index()"
   ]
  },
  {
   "cell_type": "code",
   "execution_count": 10,
   "id": "bdf02af7",
   "metadata": {},
   "outputs": [],
   "source": [
    "df_citizen_2010 = df_2010.groupby('Citizen category').sum()\n",
    "df_citizen_2011 = df_2011.groupby('Citizen category').sum()\n",
    "df_citizen_2012 = df_2012.groupby('Citizen category').sum()\n",
    "df_citizen_2013 = df_2013.groupby('Citizen category').sum()\n",
    "df_citizen_2014 = df_2014.groupby('Citizen category').sum()\n",
    "df_citizen_2015 = df_2015.groupby('Citizen category').sum()\n",
    "df_citizen_2016 = df_2016.groupby('Citizen category').sum()\n",
    "df_citizen_2017 = df_2017.groupby('Citizen category').sum()\n",
    "df_citizen_2018 = df_2018.groupby('Citizen category').sum()\n",
    "df_citizen_2019 = df_2019.groupby('Citizen category').sum()"
   ]
  },
  {
   "cell_type": "code",
   "execution_count": 11,
   "id": "092730c9",
   "metadata": {},
   "outputs": [],
   "source": [
    "df_citizen_population = pd.merge(df_citizen_2010,df_citizen_2011, on='Citizen category')\n",
    "df_citizen_population.rename(columns={'Population_x':'2010','Population_y':'2011'},inplace=True)\n",
    "df_citizen_population = pd.merge(df_citizen_population,df_citizen_2012, on='Citizen category')\n",
    "df_citizen_population.rename(columns={'Population':'2012'},inplace=True)\n",
    "df_citizen_population = pd.merge(df_citizen_population,df_citizen_2013, on='Citizen category')\n",
    "df_citizen_population.rename(columns={'Population':'2013'},inplace=True)\n",
    "df_citizen_population = pd.merge(df_citizen_population,df_citizen_2014, on='Citizen category')\n",
    "df_citizen_population.rename(columns={'Population':'2014'},inplace=True)\n",
    "df_citizen_population = pd.merge(df_citizen_population,df_citizen_2015, on='Citizen category')\n",
    "df_citizen_population.rename(columns={'Population':'2015'},inplace=True)\n",
    "df_citizen_population = pd.merge(df_citizen_population,df_citizen_2016, on='Citizen category')\n",
    "df_citizen_population.rename(columns={'Population':'2016'},inplace=True)\n",
    "df_citizen_population = pd.merge(df_citizen_population,df_citizen_2017, on='Citizen category')\n",
    "df_citizen_population.rename(columns={'Population':'2017'},inplace=True)\n",
    "df_citizen_population = pd.merge(df_citizen_population,df_citizen_2018, on='Citizen category')\n",
    "df_citizen_population.rename(columns={'Population':'2018'},inplace=True)\n",
    "df_citizen_population = pd.merge(df_citizen_population,df_citizen_2019, on='Citizen category')\n",
    "df_citizen_population.rename(columns={'Population':'2019'},inplace=True)\n",
    "df_citizen_population = df_citizen_population.reset_index()"
   ]
  },
  {
   "cell_type": "code",
   "execution_count": 12,
   "id": "9a245b77",
   "metadata": {},
   "outputs": [],
   "source": [
    "bar_plots = [\n",
    "    go.Bar(x = df_citizen_population['Citizen category'], y = df_citizen_population['2010'],name='2010'),\n",
    "    go.Bar(x = df_citizen_population['Citizen category'], y = df_citizen_population['2011'],name='2011'),\n",
    "    go.Bar(x = df_citizen_population['Citizen category'], y = df_citizen_population['2012'],name='2012'),\n",
    "    go.Bar(x = df_citizen_population['Citizen category'], y = df_citizen_population['2013'],name='2013'),\n",
    "    go.Bar(x = df_citizen_population['Citizen category'], y = df_citizen_population['2014'],name='2014'),\n",
    "    go.Bar(x = df_citizen_population['Citizen category'], y = df_citizen_population['2015'],name='2015'),\n",
    "    go.Bar(x = df_citizen_population['Citizen category'], y = df_citizen_population['2016'],name='2016'),\n",
    "    go.Bar(x = df_citizen_population['Citizen category'], y = df_citizen_population['2017'],name='2017'),\n",
    "    go.Bar(x = df_citizen_population['Citizen category'], y = df_citizen_population['2018'],name='2018'),\n",
    "    go.Bar(x = df_citizen_population['Citizen category'], y = df_citizen_population['2019'],name='2019')\n",
    "           ]\n",
    "layout = go.Layout(\n",
    "title=go.layout.Title(text='Malaysia Population By Sex',x=0.5),\n",
    "yaxis_title='Population',xaxis_tickmode='array')\n",
    "fig = go.Figure(data=bar_plots, layout=layout)\n",
    "#fig.show()"
   ]
  },
  {
   "cell_type": "code",
   "execution_count": 13,
   "id": "96cf34de",
   "metadata": {},
   "outputs": [
    {
     "data": {
      "application/vnd.plotly.v1+json": {
       "config": {
        "plotlyServerURL": "https://plot.ly"
       },
       "data": [
        {
         "name": "2010",
         "type": "bar",
         "x": [
          "Malaysian citizens",
          "Non-Malaysian citizens"
         ],
         "xaxis": "x",
         "y": [
          26264097,
          2324540
         ],
         "yaxis": "y"
        },
        {
         "domain": {
          "x": [
           0.55,
           1
          ],
          "y": [
           0.9450000000000001,
           1
          ]
         },
         "labels": [
          26264097,
          2324540
         ],
         "textinfo": "label+percent",
         "type": "pie",
         "values": [
          "Malaysian citizens",
          "Non-Malaysian citizens"
         ]
        },
        {
         "name": "2011",
         "type": "bar",
         "x": [
          "Malaysian citizens",
          "Non-Malaysian citizens"
         ],
         "xaxis": "x2",
         "y": [
          26616700,
          2445200
         ],
         "yaxis": "y2"
        },
        {
         "domain": {
          "x": [
           0.55,
           1
          ],
          "y": [
           0.8400000000000001,
           0.8950000000000001
          ]
         },
         "labels": [
          26616700,
          2445200
         ],
         "textinfo": "label+percent",
         "type": "pie",
         "values": [
          "Malaysian citizens",
          "Non-Malaysian citizens"
         ]
        },
        {
         "name": "2012",
         "type": "bar",
         "x": [
          "Malaysian citizens",
          "Non-Malaysian citizens"
         ],
         "xaxis": "x3",
         "y": [
          26961200,
          2548100
         ],
         "yaxis": "y3"
        },
        {
         "domain": {
          "x": [
           0.55,
           1
          ],
          "y": [
           0.7350000000000001,
           0.7900000000000001
          ]
         },
         "labels": [
          26961200,
          2548100
         ],
         "textinfo": "label+percent",
         "type": "pie",
         "values": [
          "Malaysian citizens",
          "Non-Malaysian citizens"
         ]
        },
        {
         "name": "2013",
         "type": "bar",
         "x": [
          "Malaysian citizens",
          "Non-Malaysian citizens"
         ],
         "xaxis": "x4",
         "y": [
          27325700,
          2888300
         ],
         "yaxis": "y4"
        },
        {
         "domain": {
          "x": [
           0.55,
           1
          ],
          "y": [
           0.6300000000000001,
           0.6850000000000002
          ]
         },
         "labels": [
          27325700,
          2888300
         ],
         "textinfo": "label+percent",
         "type": "pie",
         "values": [
          "Malaysian citizens",
          "Non-Malaysian citizens"
         ]
        },
        {
         "name": "2014",
         "type": "bar",
         "x": [
          "Malaysian citizens",
          "Non-Malaysian citizens"
         ],
         "xaxis": "x5",
         "y": [
          27696000,
          3012400
         ],
         "yaxis": "y5"
        },
        {
         "domain": {
          "x": [
           0.55,
           1
          ],
          "y": [
           0.525,
           0.5800000000000001
          ]
         },
         "labels": [
          27696000,
          3012400
         ],
         "textinfo": "label+percent",
         "type": "pie",
         "values": [
          "Malaysian citizens",
          "Non-Malaysian citizens"
         ]
        },
        {
         "name": "2015",
         "type": "bar",
         "x": [
          "Malaysian citizens",
          "Non-Malaysian citizens"
         ],
         "xaxis": "x6",
         "y": [
          28060500,
          3125900
         ],
         "yaxis": "y6"
        },
        {
         "domain": {
          "x": [
           0.55,
           1
          ],
          "y": [
           0.42000000000000004,
           0.47500000000000003
          ]
         },
         "labels": [
          28060500,
          3125900
         ],
         "textinfo": "label+percent",
         "type": "pie",
         "values": [
          "Malaysian citizens",
          "Non-Malaysian citizens"
         ]
        },
        {
         "name": "2016",
         "type": "bar",
         "x": [
          "Malaysian citizens",
          "Non-Malaysian citizens"
         ],
         "xaxis": "x7",
         "y": [
          28403500,
          3229800
         ],
         "yaxis": "y7"
        },
        {
         "domain": {
          "x": [
           0.55,
           1
          ],
          "y": [
           0.31500000000000006,
           0.37000000000000005
          ]
         },
         "labels": [
          28403500,
          3229800
         ],
         "textinfo": "label+percent",
         "type": "pie",
         "values": [
          "Malaysian citizens",
          "Non-Malaysian citizens"
         ]
        },
        {
         "name": "2017",
         "type": "bar",
         "x": [
          "Malaysian citizens",
          "Non-Malaysian citizens"
         ],
         "xaxis": "x8",
         "y": [
          28735000,
          3287400
         ],
         "yaxis": "y8"
        },
        {
         "domain": {
          "x": [
           0.55,
           1
          ],
          "y": [
           0.21000000000000002,
           0.265
          ]
         },
         "labels": [
          28735000,
          3287400
         ],
         "textinfo": "label+percent",
         "type": "pie",
         "values": [
          "Malaysian citizens",
          "Non-Malaysian citizens"
         ]
        },
        {
         "name": "2018",
         "type": "bar",
         "x": [
          "Malaysian citizens",
          "Non-Malaysian citizens"
         ],
         "xaxis": "x9",
         "y": [
          29059500,
          3322800
         ],
         "yaxis": "y9"
        },
        {
         "domain": {
          "x": [
           0.55,
           1
          ],
          "y": [
           0.10500000000000001,
           0.16000000000000003
          ]
         },
         "labels": [
          29059500,
          3322800
         ],
         "textinfo": "label+percent",
         "type": "pie",
         "values": [
          "Malaysian citizens",
          "Non-Malaysian citizens"
         ]
        },
        {
         "name": "2019",
         "type": "bar",
         "x": [
          "Malaysian citizens",
          "Non-Malaysian citizens"
         ],
         "xaxis": "x10",
         "y": [
          29377500,
          3204500
         ],
         "yaxis": "y10"
        },
        {
         "domain": {
          "x": [
           0.55,
           1
          ],
          "y": [
           0,
           0.05500000000000001
          ]
         },
         "labels": [
          29377500,
          3204500
         ],
         "textinfo": "label+percent",
         "type": "pie",
         "values": [
          "Malaysian citizens",
          "Non-Malaysian citizens"
         ]
        }
       ],
       "layout": {
        "annotations": [
         {
          "font": {
           "family": "Helvetica",
           "size": 12
          },
          "showarrow": false,
          "text": "<b>Population By Citizen Group 2010</b>",
          "x": 0.225,
          "xanchor": "center",
          "xref": "paper",
          "y": 1,
          "yanchor": "bottom",
          "yref": "paper"
         },
         {
          "font": {
           "family": "Helvetica",
           "size": 12
          },
          "showarrow": false,
          "text": "<b>Citizen Group In Percentage 2010</b>",
          "x": 0.775,
          "xanchor": "center",
          "xref": "paper",
          "y": 1,
          "yanchor": "bottom",
          "yref": "paper"
         },
         {
          "font": {
           "family": "Helvetica",
           "size": 12
          },
          "showarrow": false,
          "text": "<b>Population By Citizen Group 2011</b>",
          "x": 0.225,
          "xanchor": "center",
          "xref": "paper",
          "y": 0.8950000000000001,
          "yanchor": "bottom",
          "yref": "paper"
         },
         {
          "font": {
           "family": "Helvetica",
           "size": 12
          },
          "showarrow": false,
          "text": "<b>Citizen Group In Percentage 2011</b>",
          "x": 0.775,
          "xanchor": "center",
          "xref": "paper",
          "y": 0.8950000000000001,
          "yanchor": "bottom",
          "yref": "paper"
         },
         {
          "font": {
           "family": "Helvetica",
           "size": 12
          },
          "showarrow": false,
          "text": "<b>Population By Citizen Group 2012</b>",
          "x": 0.225,
          "xanchor": "center",
          "xref": "paper",
          "y": 0.7900000000000001,
          "yanchor": "bottom",
          "yref": "paper"
         },
         {
          "font": {
           "family": "Helvetica",
           "size": 12
          },
          "showarrow": false,
          "text": "<b>Citizen Group In Percentage 2012</b>",
          "x": 0.775,
          "xanchor": "center",
          "xref": "paper",
          "y": 0.7900000000000001,
          "yanchor": "bottom",
          "yref": "paper"
         },
         {
          "font": {
           "family": "Helvetica",
           "size": 12
          },
          "showarrow": false,
          "text": "<b>Population By Citizen Group 2013</b>",
          "x": 0.225,
          "xanchor": "center",
          "xref": "paper",
          "y": 0.6850000000000002,
          "yanchor": "bottom",
          "yref": "paper"
         },
         {
          "font": {
           "family": "Helvetica",
           "size": 12
          },
          "showarrow": false,
          "text": "<b>Citizen Group In Percentage 2013</b>",
          "x": 0.775,
          "xanchor": "center",
          "xref": "paper",
          "y": 0.6850000000000002,
          "yanchor": "bottom",
          "yref": "paper"
         },
         {
          "font": {
           "family": "Helvetica",
           "size": 12
          },
          "showarrow": false,
          "text": "<b>Population By Citizen Group 2014</b>",
          "x": 0.225,
          "xanchor": "center",
          "xref": "paper",
          "y": 0.5800000000000001,
          "yanchor": "bottom",
          "yref": "paper"
         },
         {
          "font": {
           "family": "Helvetica",
           "size": 12
          },
          "showarrow": false,
          "text": "<b>Citizen Group In Percentage 2014</b>",
          "x": 0.775,
          "xanchor": "center",
          "xref": "paper",
          "y": 0.5800000000000001,
          "yanchor": "bottom",
          "yref": "paper"
         },
         {
          "font": {
           "family": "Helvetica",
           "size": 12
          },
          "showarrow": false,
          "text": "<b>Population By Citizen Group 2015</b>",
          "x": 0.225,
          "xanchor": "center",
          "xref": "paper",
          "y": 0.47500000000000003,
          "yanchor": "bottom",
          "yref": "paper"
         },
         {
          "font": {
           "family": "Helvetica",
           "size": 12
          },
          "showarrow": false,
          "text": "<b>Citizen Group In Percentage 2015</b>",
          "x": 0.775,
          "xanchor": "center",
          "xref": "paper",
          "y": 0.47500000000000003,
          "yanchor": "bottom",
          "yref": "paper"
         },
         {
          "font": {
           "family": "Helvetica",
           "size": 12
          },
          "showarrow": false,
          "text": "<b>Population By Citizen Group 2016</b>",
          "x": 0.225,
          "xanchor": "center",
          "xref": "paper",
          "y": 0.37000000000000005,
          "yanchor": "bottom",
          "yref": "paper"
         },
         {
          "font": {
           "family": "Helvetica",
           "size": 12
          },
          "showarrow": false,
          "text": "<b>Citizen Group In Percentage 2016</b>",
          "x": 0.775,
          "xanchor": "center",
          "xref": "paper",
          "y": 0.37000000000000005,
          "yanchor": "bottom",
          "yref": "paper"
         },
         {
          "font": {
           "family": "Helvetica",
           "size": 12
          },
          "showarrow": false,
          "text": "<b>Population By Citizen Group 2017</b>",
          "x": 0.225,
          "xanchor": "center",
          "xref": "paper",
          "y": 0.265,
          "yanchor": "bottom",
          "yref": "paper"
         },
         {
          "font": {
           "family": "Helvetica",
           "size": 12
          },
          "showarrow": false,
          "text": "<b>Citizen Group In Percentage 2017</b>",
          "x": 0.775,
          "xanchor": "center",
          "xref": "paper",
          "y": 0.265,
          "yanchor": "bottom",
          "yref": "paper"
         },
         {
          "font": {
           "family": "Helvetica",
           "size": 12
          },
          "showarrow": false,
          "text": "<b>Population By Citizen Group 2018</b>",
          "x": 0.225,
          "xanchor": "center",
          "xref": "paper",
          "y": 0.16000000000000003,
          "yanchor": "bottom",
          "yref": "paper"
         },
         {
          "font": {
           "family": "Helvetica",
           "size": 12
          },
          "showarrow": false,
          "text": "<b>Citizen Group In Percentage 2018</b>",
          "x": 0.775,
          "xanchor": "center",
          "xref": "paper",
          "y": 0.16000000000000003,
          "yanchor": "bottom",
          "yref": "paper"
         },
         {
          "font": {
           "family": "Helvetica",
           "size": 12
          },
          "showarrow": false,
          "text": "<b>Population By Citizen Group 2019</b>",
          "x": 0.225,
          "xanchor": "center",
          "xref": "paper",
          "y": 0.05500000000000001,
          "yanchor": "bottom",
          "yref": "paper"
         },
         {
          "font": {
           "family": "Helvetica",
           "size": 12
          },
          "showarrow": false,
          "text": "<b>Citizen Group In Percentage 2019</b>",
          "x": 0.775,
          "xanchor": "center",
          "xref": "paper",
          "y": 0.05500000000000001,
          "yanchor": "bottom",
          "yref": "paper"
         }
        ],
        "font": {
         "family": "Helvetica",
         "size": 12
        },
        "height": 500,
        "showlegend": false,
        "template": {
         "data": {
          "bar": [
           {
            "error_x": {
             "color": "#2a3f5f"
            },
            "error_y": {
             "color": "#2a3f5f"
            },
            "marker": {
             "line": {
              "color": "#E5ECF6",
              "width": 0.5
             },
             "pattern": {
              "fillmode": "overlay",
              "size": 10,
              "solidity": 0.2
             }
            },
            "type": "bar"
           }
          ],
          "barpolar": [
           {
            "marker": {
             "line": {
              "color": "#E5ECF6",
              "width": 0.5
             },
             "pattern": {
              "fillmode": "overlay",
              "size": 10,
              "solidity": 0.2
             }
            },
            "type": "barpolar"
           }
          ],
          "carpet": [
           {
            "aaxis": {
             "endlinecolor": "#2a3f5f",
             "gridcolor": "white",
             "linecolor": "white",
             "minorgridcolor": "white",
             "startlinecolor": "#2a3f5f"
            },
            "baxis": {
             "endlinecolor": "#2a3f5f",
             "gridcolor": "white",
             "linecolor": "white",
             "minorgridcolor": "white",
             "startlinecolor": "#2a3f5f"
            },
            "type": "carpet"
           }
          ],
          "choropleth": [
           {
            "colorbar": {
             "outlinewidth": 0,
             "ticks": ""
            },
            "type": "choropleth"
           }
          ],
          "contour": [
           {
            "colorbar": {
             "outlinewidth": 0,
             "ticks": ""
            },
            "colorscale": [
             [
              0,
              "#0d0887"
             ],
             [
              0.1111111111111111,
              "#46039f"
             ],
             [
              0.2222222222222222,
              "#7201a8"
             ],
             [
              0.3333333333333333,
              "#9c179e"
             ],
             [
              0.4444444444444444,
              "#bd3786"
             ],
             [
              0.5555555555555556,
              "#d8576b"
             ],
             [
              0.6666666666666666,
              "#ed7953"
             ],
             [
              0.7777777777777778,
              "#fb9f3a"
             ],
             [
              0.8888888888888888,
              "#fdca26"
             ],
             [
              1,
              "#f0f921"
             ]
            ],
            "type": "contour"
           }
          ],
          "contourcarpet": [
           {
            "colorbar": {
             "outlinewidth": 0,
             "ticks": ""
            },
            "type": "contourcarpet"
           }
          ],
          "heatmap": [
           {
            "colorbar": {
             "outlinewidth": 0,
             "ticks": ""
            },
            "colorscale": [
             [
              0,
              "#0d0887"
             ],
             [
              0.1111111111111111,
              "#46039f"
             ],
             [
              0.2222222222222222,
              "#7201a8"
             ],
             [
              0.3333333333333333,
              "#9c179e"
             ],
             [
              0.4444444444444444,
              "#bd3786"
             ],
             [
              0.5555555555555556,
              "#d8576b"
             ],
             [
              0.6666666666666666,
              "#ed7953"
             ],
             [
              0.7777777777777778,
              "#fb9f3a"
             ],
             [
              0.8888888888888888,
              "#fdca26"
             ],
             [
              1,
              "#f0f921"
             ]
            ],
            "type": "heatmap"
           }
          ],
          "heatmapgl": [
           {
            "colorbar": {
             "outlinewidth": 0,
             "ticks": ""
            },
            "colorscale": [
             [
              0,
              "#0d0887"
             ],
             [
              0.1111111111111111,
              "#46039f"
             ],
             [
              0.2222222222222222,
              "#7201a8"
             ],
             [
              0.3333333333333333,
              "#9c179e"
             ],
             [
              0.4444444444444444,
              "#bd3786"
             ],
             [
              0.5555555555555556,
              "#d8576b"
             ],
             [
              0.6666666666666666,
              "#ed7953"
             ],
             [
              0.7777777777777778,
              "#fb9f3a"
             ],
             [
              0.8888888888888888,
              "#fdca26"
             ],
             [
              1,
              "#f0f921"
             ]
            ],
            "type": "heatmapgl"
           }
          ],
          "histogram": [
           {
            "marker": {
             "pattern": {
              "fillmode": "overlay",
              "size": 10,
              "solidity": 0.2
             }
            },
            "type": "histogram"
           }
          ],
          "histogram2d": [
           {
            "colorbar": {
             "outlinewidth": 0,
             "ticks": ""
            },
            "colorscale": [
             [
              0,
              "#0d0887"
             ],
             [
              0.1111111111111111,
              "#46039f"
             ],
             [
              0.2222222222222222,
              "#7201a8"
             ],
             [
              0.3333333333333333,
              "#9c179e"
             ],
             [
              0.4444444444444444,
              "#bd3786"
             ],
             [
              0.5555555555555556,
              "#d8576b"
             ],
             [
              0.6666666666666666,
              "#ed7953"
             ],
             [
              0.7777777777777778,
              "#fb9f3a"
             ],
             [
              0.8888888888888888,
              "#fdca26"
             ],
             [
              1,
              "#f0f921"
             ]
            ],
            "type": "histogram2d"
           }
          ],
          "histogram2dcontour": [
           {
            "colorbar": {
             "outlinewidth": 0,
             "ticks": ""
            },
            "colorscale": [
             [
              0,
              "#0d0887"
             ],
             [
              0.1111111111111111,
              "#46039f"
             ],
             [
              0.2222222222222222,
              "#7201a8"
             ],
             [
              0.3333333333333333,
              "#9c179e"
             ],
             [
              0.4444444444444444,
              "#bd3786"
             ],
             [
              0.5555555555555556,
              "#d8576b"
             ],
             [
              0.6666666666666666,
              "#ed7953"
             ],
             [
              0.7777777777777778,
              "#fb9f3a"
             ],
             [
              0.8888888888888888,
              "#fdca26"
             ],
             [
              1,
              "#f0f921"
             ]
            ],
            "type": "histogram2dcontour"
           }
          ],
          "mesh3d": [
           {
            "colorbar": {
             "outlinewidth": 0,
             "ticks": ""
            },
            "type": "mesh3d"
           }
          ],
          "parcoords": [
           {
            "line": {
             "colorbar": {
              "outlinewidth": 0,
              "ticks": ""
             }
            },
            "type": "parcoords"
           }
          ],
          "pie": [
           {
            "automargin": true,
            "type": "pie"
           }
          ],
          "scatter": [
           {
            "fillpattern": {
             "fillmode": "overlay",
             "size": 10,
             "solidity": 0.2
            },
            "type": "scatter"
           }
          ],
          "scatter3d": [
           {
            "line": {
             "colorbar": {
              "outlinewidth": 0,
              "ticks": ""
             }
            },
            "marker": {
             "colorbar": {
              "outlinewidth": 0,
              "ticks": ""
             }
            },
            "type": "scatter3d"
           }
          ],
          "scattercarpet": [
           {
            "marker": {
             "colorbar": {
              "outlinewidth": 0,
              "ticks": ""
             }
            },
            "type": "scattercarpet"
           }
          ],
          "scattergeo": [
           {
            "marker": {
             "colorbar": {
              "outlinewidth": 0,
              "ticks": ""
             }
            },
            "type": "scattergeo"
           }
          ],
          "scattergl": [
           {
            "marker": {
             "colorbar": {
              "outlinewidth": 0,
              "ticks": ""
             }
            },
            "type": "scattergl"
           }
          ],
          "scattermapbox": [
           {
            "marker": {
             "colorbar": {
              "outlinewidth": 0,
              "ticks": ""
             }
            },
            "type": "scattermapbox"
           }
          ],
          "scatterpolar": [
           {
            "marker": {
             "colorbar": {
              "outlinewidth": 0,
              "ticks": ""
             }
            },
            "type": "scatterpolar"
           }
          ],
          "scatterpolargl": [
           {
            "marker": {
             "colorbar": {
              "outlinewidth": 0,
              "ticks": ""
             }
            },
            "type": "scatterpolargl"
           }
          ],
          "scatterternary": [
           {
            "marker": {
             "colorbar": {
              "outlinewidth": 0,
              "ticks": ""
             }
            },
            "type": "scatterternary"
           }
          ],
          "surface": [
           {
            "colorbar": {
             "outlinewidth": 0,
             "ticks": ""
            },
            "colorscale": [
             [
              0,
              "#0d0887"
             ],
             [
              0.1111111111111111,
              "#46039f"
             ],
             [
              0.2222222222222222,
              "#7201a8"
             ],
             [
              0.3333333333333333,
              "#9c179e"
             ],
             [
              0.4444444444444444,
              "#bd3786"
             ],
             [
              0.5555555555555556,
              "#d8576b"
             ],
             [
              0.6666666666666666,
              "#ed7953"
             ],
             [
              0.7777777777777778,
              "#fb9f3a"
             ],
             [
              0.8888888888888888,
              "#fdca26"
             ],
             [
              1,
              "#f0f921"
             ]
            ],
            "type": "surface"
           }
          ],
          "table": [
           {
            "cells": {
             "fill": {
              "color": "#EBF0F8"
             },
             "line": {
              "color": "white"
             }
            },
            "header": {
             "fill": {
              "color": "#C8D4E3"
             },
             "line": {
              "color": "white"
             }
            },
            "type": "table"
           }
          ]
         },
         "layout": {
          "annotationdefaults": {
           "arrowcolor": "#2a3f5f",
           "arrowhead": 0,
           "arrowwidth": 1
          },
          "autotypenumbers": "strict",
          "coloraxis": {
           "colorbar": {
            "outlinewidth": 0,
            "ticks": ""
           }
          },
          "colorscale": {
           "diverging": [
            [
             0,
             "#8e0152"
            ],
            [
             0.1,
             "#c51b7d"
            ],
            [
             0.2,
             "#de77ae"
            ],
            [
             0.3,
             "#f1b6da"
            ],
            [
             0.4,
             "#fde0ef"
            ],
            [
             0.5,
             "#f7f7f7"
            ],
            [
             0.6,
             "#e6f5d0"
            ],
            [
             0.7,
             "#b8e186"
            ],
            [
             0.8,
             "#7fbc41"
            ],
            [
             0.9,
             "#4d9221"
            ],
            [
             1,
             "#276419"
            ]
           ],
           "sequential": [
            [
             0,
             "#0d0887"
            ],
            [
             0.1111111111111111,
             "#46039f"
            ],
            [
             0.2222222222222222,
             "#7201a8"
            ],
            [
             0.3333333333333333,
             "#9c179e"
            ],
            [
             0.4444444444444444,
             "#bd3786"
            ],
            [
             0.5555555555555556,
             "#d8576b"
            ],
            [
             0.6666666666666666,
             "#ed7953"
            ],
            [
             0.7777777777777778,
             "#fb9f3a"
            ],
            [
             0.8888888888888888,
             "#fdca26"
            ],
            [
             1,
             "#f0f921"
            ]
           ],
           "sequentialminus": [
            [
             0,
             "#0d0887"
            ],
            [
             0.1111111111111111,
             "#46039f"
            ],
            [
             0.2222222222222222,
             "#7201a8"
            ],
            [
             0.3333333333333333,
             "#9c179e"
            ],
            [
             0.4444444444444444,
             "#bd3786"
            ],
            [
             0.5555555555555556,
             "#d8576b"
            ],
            [
             0.6666666666666666,
             "#ed7953"
            ],
            [
             0.7777777777777778,
             "#fb9f3a"
            ],
            [
             0.8888888888888888,
             "#fdca26"
            ],
            [
             1,
             "#f0f921"
            ]
           ]
          },
          "colorway": [
           "#636efa",
           "#EF553B",
           "#00cc96",
           "#ab63fa",
           "#FFA15A",
           "#19d3f3",
           "#FF6692",
           "#B6E880",
           "#FF97FF",
           "#FECB52"
          ],
          "font": {
           "color": "#2a3f5f"
          },
          "geo": {
           "bgcolor": "white",
           "lakecolor": "white",
           "landcolor": "#E5ECF6",
           "showlakes": true,
           "showland": true,
           "subunitcolor": "white"
          },
          "hoverlabel": {
           "align": "left"
          },
          "hovermode": "closest",
          "mapbox": {
           "style": "light"
          },
          "paper_bgcolor": "white",
          "plot_bgcolor": "#E5ECF6",
          "polar": {
           "angularaxis": {
            "gridcolor": "white",
            "linecolor": "white",
            "ticks": ""
           },
           "bgcolor": "#E5ECF6",
           "radialaxis": {
            "gridcolor": "white",
            "linecolor": "white",
            "ticks": ""
           }
          },
          "scene": {
           "xaxis": {
            "backgroundcolor": "#E5ECF6",
            "gridcolor": "white",
            "gridwidth": 2,
            "linecolor": "white",
            "showbackground": true,
            "ticks": "",
            "zerolinecolor": "white"
           },
           "yaxis": {
            "backgroundcolor": "#E5ECF6",
            "gridcolor": "white",
            "gridwidth": 2,
            "linecolor": "white",
            "showbackground": true,
            "ticks": "",
            "zerolinecolor": "white"
           },
           "zaxis": {
            "backgroundcolor": "#E5ECF6",
            "gridcolor": "white",
            "gridwidth": 2,
            "linecolor": "white",
            "showbackground": true,
            "ticks": "",
            "zerolinecolor": "white"
           }
          },
          "shapedefaults": {
           "line": {
            "color": "#2a3f5f"
           }
          },
          "ternary": {
           "aaxis": {
            "gridcolor": "white",
            "linecolor": "white",
            "ticks": ""
           },
           "baxis": {
            "gridcolor": "white",
            "linecolor": "white",
            "ticks": ""
           },
           "bgcolor": "#E5ECF6",
           "caxis": {
            "gridcolor": "white",
            "linecolor": "white",
            "ticks": ""
           }
          },
          "title": {
           "x": 0.05
          },
          "xaxis": {
           "automargin": true,
           "gridcolor": "white",
           "linecolor": "white",
           "ticks": "",
           "title": {
            "standoff": 15
           },
           "zerolinecolor": "white",
           "zerolinewidth": 2
          },
          "yaxis": {
           "automargin": true,
           "gridcolor": "white",
           "linecolor": "white",
           "ticks": "",
           "title": {
            "standoff": 15
           },
           "zerolinecolor": "white",
           "zerolinewidth": 2
          }
         }
        },
        "title": {
         "text": "Malaysia Population By Citizen Groups",
         "x": 0.5
        },
        "xaxis": {
         "anchor": "y",
         "domain": [
          0,
          0.45
         ]
        },
        "xaxis10": {
         "anchor": "y10",
         "domain": [
          0,
          0.45
         ]
        },
        "xaxis2": {
         "anchor": "y2",
         "domain": [
          0,
          0.45
         ]
        },
        "xaxis3": {
         "anchor": "y3",
         "domain": [
          0,
          0.45
         ]
        },
        "xaxis4": {
         "anchor": "y4",
         "domain": [
          0,
          0.45
         ]
        },
        "xaxis5": {
         "anchor": "y5",
         "domain": [
          0,
          0.45
         ]
        },
        "xaxis6": {
         "anchor": "y6",
         "domain": [
          0,
          0.45
         ]
        },
        "xaxis7": {
         "anchor": "y7",
         "domain": [
          0,
          0.45
         ]
        },
        "xaxis8": {
         "anchor": "y8",
         "domain": [
          0,
          0.45
         ]
        },
        "xaxis9": {
         "anchor": "y9",
         "domain": [
          0,
          0.45
         ]
        },
        "yaxis": {
         "anchor": "x",
         "domain": [
          0.9450000000000001,
          1
         ]
        },
        "yaxis10": {
         "anchor": "x10",
         "domain": [
          0,
          0.05500000000000001
         ]
        },
        "yaxis2": {
         "anchor": "x2",
         "domain": [
          0.8400000000000001,
          0.8950000000000001
         ]
        },
        "yaxis3": {
         "anchor": "x3",
         "domain": [
          0.7350000000000001,
          0.7900000000000001
         ]
        },
        "yaxis4": {
         "anchor": "x4",
         "domain": [
          0.6300000000000001,
          0.6850000000000002
         ]
        },
        "yaxis5": {
         "anchor": "x5",
         "domain": [
          0.525,
          0.5800000000000001
         ]
        },
        "yaxis6": {
         "anchor": "x6",
         "domain": [
          0.42000000000000004,
          0.47500000000000003
         ]
        },
        "yaxis7": {
         "anchor": "x7",
         "domain": [
          0.31500000000000006,
          0.37000000000000005
         ]
        },
        "yaxis8": {
         "anchor": "x8",
         "domain": [
          0.21000000000000002,
          0.265
         ]
        },
        "yaxis9": {
         "anchor": "x9",
         "domain": [
          0.10500000000000001,
          0.16000000000000003
         ]
        }
       }
      },
      "text/html": [
       "<div>                            <div id=\"658fe862-6aa4-42c8-9b32-b0dd02119f0b\" class=\"plotly-graph-div\" style=\"height:500px; width:100%;\"></div>            <script type=\"text/javascript\">                require([\"plotly\"], function(Plotly) {                    window.PLOTLYENV=window.PLOTLYENV || {};                                    if (document.getElementById(\"658fe862-6aa4-42c8-9b32-b0dd02119f0b\")) {                    Plotly.newPlot(                        \"658fe862-6aa4-42c8-9b32-b0dd02119f0b\",                        [{\"name\":\"2010\",\"x\":[\"Malaysian citizens\",\"Non-Malaysian citizens\"],\"y\":[26264097.0,2324540.0],\"type\":\"bar\",\"xaxis\":\"x\",\"yaxis\":\"y\"},{\"labels\":[26264097.0,2324540.0],\"textinfo\":\"label+percent\",\"values\":[\"Malaysian citizens\",\"Non-Malaysian citizens\"],\"type\":\"pie\",\"domain\":{\"x\":[0.55,1.0],\"y\":[0.9450000000000001,1.0]}},{\"name\":\"2011\",\"x\":[\"Malaysian citizens\",\"Non-Malaysian citizens\"],\"y\":[26616700.0,2445200.0],\"type\":\"bar\",\"xaxis\":\"x2\",\"yaxis\":\"y2\"},{\"labels\":[26616700.0,2445200.0],\"textinfo\":\"label+percent\",\"values\":[\"Malaysian citizens\",\"Non-Malaysian citizens\"],\"type\":\"pie\",\"domain\":{\"x\":[0.55,1.0],\"y\":[0.8400000000000001,0.8950000000000001]}},{\"name\":\"2012\",\"x\":[\"Malaysian citizens\",\"Non-Malaysian citizens\"],\"y\":[26961200.0,2548100.0],\"type\":\"bar\",\"xaxis\":\"x3\",\"yaxis\":\"y3\"},{\"labels\":[26961200.0,2548100.0],\"textinfo\":\"label+percent\",\"values\":[\"Malaysian citizens\",\"Non-Malaysian citizens\"],\"type\":\"pie\",\"domain\":{\"x\":[0.55,1.0],\"y\":[0.7350000000000001,0.7900000000000001]}},{\"name\":\"2013\",\"x\":[\"Malaysian citizens\",\"Non-Malaysian citizens\"],\"y\":[27325700.0,2888300.0],\"type\":\"bar\",\"xaxis\":\"x4\",\"yaxis\":\"y4\"},{\"labels\":[27325700.0,2888300.0],\"textinfo\":\"label+percent\",\"values\":[\"Malaysian citizens\",\"Non-Malaysian citizens\"],\"type\":\"pie\",\"domain\":{\"x\":[0.55,1.0],\"y\":[0.6300000000000001,0.6850000000000002]}},{\"name\":\"2014\",\"x\":[\"Malaysian citizens\",\"Non-Malaysian citizens\"],\"y\":[27696000.0,3012400.0],\"type\":\"bar\",\"xaxis\":\"x5\",\"yaxis\":\"y5\"},{\"labels\":[27696000.0,3012400.0],\"textinfo\":\"label+percent\",\"values\":[\"Malaysian citizens\",\"Non-Malaysian citizens\"],\"type\":\"pie\",\"domain\":{\"x\":[0.55,1.0],\"y\":[0.525,0.5800000000000001]}},{\"name\":\"2015\",\"x\":[\"Malaysian citizens\",\"Non-Malaysian citizens\"],\"y\":[28060500.0,3125900.0],\"type\":\"bar\",\"xaxis\":\"x6\",\"yaxis\":\"y6\"},{\"labels\":[28060500.0,3125900.0],\"textinfo\":\"label+percent\",\"values\":[\"Malaysian citizens\",\"Non-Malaysian citizens\"],\"type\":\"pie\",\"domain\":{\"x\":[0.55,1.0],\"y\":[0.42000000000000004,0.47500000000000003]}},{\"name\":\"2016\",\"x\":[\"Malaysian citizens\",\"Non-Malaysian citizens\"],\"y\":[28403500.0,3229800.0],\"type\":\"bar\",\"xaxis\":\"x7\",\"yaxis\":\"y7\"},{\"labels\":[28403500.0,3229800.0],\"textinfo\":\"label+percent\",\"values\":[\"Malaysian citizens\",\"Non-Malaysian citizens\"],\"type\":\"pie\",\"domain\":{\"x\":[0.55,1.0],\"y\":[0.31500000000000006,0.37000000000000005]}},{\"name\":\"2017\",\"x\":[\"Malaysian citizens\",\"Non-Malaysian citizens\"],\"y\":[28735000.0,3287400.0],\"type\":\"bar\",\"xaxis\":\"x8\",\"yaxis\":\"y8\"},{\"labels\":[28735000.0,3287400.0],\"textinfo\":\"label+percent\",\"values\":[\"Malaysian citizens\",\"Non-Malaysian citizens\"],\"type\":\"pie\",\"domain\":{\"x\":[0.55,1.0],\"y\":[0.21000000000000002,0.265]}},{\"name\":\"2018\",\"x\":[\"Malaysian citizens\",\"Non-Malaysian citizens\"],\"y\":[29059500.0,3322800.0],\"type\":\"bar\",\"xaxis\":\"x9\",\"yaxis\":\"y9\"},{\"labels\":[29059500.0,3322800.0],\"textinfo\":\"label+percent\",\"values\":[\"Malaysian citizens\",\"Non-Malaysian citizens\"],\"type\":\"pie\",\"domain\":{\"x\":[0.55,1.0],\"y\":[0.10500000000000001,0.16000000000000003]}},{\"name\":\"2019\",\"x\":[\"Malaysian citizens\",\"Non-Malaysian citizens\"],\"y\":[29377500.0,3204500.0],\"type\":\"bar\",\"xaxis\":\"x10\",\"yaxis\":\"y10\"},{\"labels\":[29377500.0,3204500.0],\"textinfo\":\"label+percent\",\"values\":[\"Malaysian citizens\",\"Non-Malaysian citizens\"],\"type\":\"pie\",\"domain\":{\"x\":[0.55,1.0],\"y\":[0.0,0.05500000000000001]}}],                        {\"template\":{\"data\":{\"histogram2dcontour\":[{\"type\":\"histogram2dcontour\",\"colorbar\":{\"outlinewidth\":0,\"ticks\":\"\"},\"colorscale\":[[0.0,\"#0d0887\"],[0.1111111111111111,\"#46039f\"],[0.2222222222222222,\"#7201a8\"],[0.3333333333333333,\"#9c179e\"],[0.4444444444444444,\"#bd3786\"],[0.5555555555555556,\"#d8576b\"],[0.6666666666666666,\"#ed7953\"],[0.7777777777777778,\"#fb9f3a\"],[0.8888888888888888,\"#fdca26\"],[1.0,\"#f0f921\"]]}],\"choropleth\":[{\"type\":\"choropleth\",\"colorbar\":{\"outlinewidth\":0,\"ticks\":\"\"}}],\"histogram2d\":[{\"type\":\"histogram2d\",\"colorbar\":{\"outlinewidth\":0,\"ticks\":\"\"},\"colorscale\":[[0.0,\"#0d0887\"],[0.1111111111111111,\"#46039f\"],[0.2222222222222222,\"#7201a8\"],[0.3333333333333333,\"#9c179e\"],[0.4444444444444444,\"#bd3786\"],[0.5555555555555556,\"#d8576b\"],[0.6666666666666666,\"#ed7953\"],[0.7777777777777778,\"#fb9f3a\"],[0.8888888888888888,\"#fdca26\"],[1.0,\"#f0f921\"]]}],\"heatmap\":[{\"type\":\"heatmap\",\"colorbar\":{\"outlinewidth\":0,\"ticks\":\"\"},\"colorscale\":[[0.0,\"#0d0887\"],[0.1111111111111111,\"#46039f\"],[0.2222222222222222,\"#7201a8\"],[0.3333333333333333,\"#9c179e\"],[0.4444444444444444,\"#bd3786\"],[0.5555555555555556,\"#d8576b\"],[0.6666666666666666,\"#ed7953\"],[0.7777777777777778,\"#fb9f3a\"],[0.8888888888888888,\"#fdca26\"],[1.0,\"#f0f921\"]]}],\"heatmapgl\":[{\"type\":\"heatmapgl\",\"colorbar\":{\"outlinewidth\":0,\"ticks\":\"\"},\"colorscale\":[[0.0,\"#0d0887\"],[0.1111111111111111,\"#46039f\"],[0.2222222222222222,\"#7201a8\"],[0.3333333333333333,\"#9c179e\"],[0.4444444444444444,\"#bd3786\"],[0.5555555555555556,\"#d8576b\"],[0.6666666666666666,\"#ed7953\"],[0.7777777777777778,\"#fb9f3a\"],[0.8888888888888888,\"#fdca26\"],[1.0,\"#f0f921\"]]}],\"contourcarpet\":[{\"type\":\"contourcarpet\",\"colorbar\":{\"outlinewidth\":0,\"ticks\":\"\"}}],\"contour\":[{\"type\":\"contour\",\"colorbar\":{\"outlinewidth\":0,\"ticks\":\"\"},\"colorscale\":[[0.0,\"#0d0887\"],[0.1111111111111111,\"#46039f\"],[0.2222222222222222,\"#7201a8\"],[0.3333333333333333,\"#9c179e\"],[0.4444444444444444,\"#bd3786\"],[0.5555555555555556,\"#d8576b\"],[0.6666666666666666,\"#ed7953\"],[0.7777777777777778,\"#fb9f3a\"],[0.8888888888888888,\"#fdca26\"],[1.0,\"#f0f921\"]]}],\"surface\":[{\"type\":\"surface\",\"colorbar\":{\"outlinewidth\":0,\"ticks\":\"\"},\"colorscale\":[[0.0,\"#0d0887\"],[0.1111111111111111,\"#46039f\"],[0.2222222222222222,\"#7201a8\"],[0.3333333333333333,\"#9c179e\"],[0.4444444444444444,\"#bd3786\"],[0.5555555555555556,\"#d8576b\"],[0.6666666666666666,\"#ed7953\"],[0.7777777777777778,\"#fb9f3a\"],[0.8888888888888888,\"#fdca26\"],[1.0,\"#f0f921\"]]}],\"mesh3d\":[{\"type\":\"mesh3d\",\"colorbar\":{\"outlinewidth\":0,\"ticks\":\"\"}}],\"scatter\":[{\"fillpattern\":{\"fillmode\":\"overlay\",\"size\":10,\"solidity\":0.2},\"type\":\"scatter\"}],\"parcoords\":[{\"type\":\"parcoords\",\"line\":{\"colorbar\":{\"outlinewidth\":0,\"ticks\":\"\"}}}],\"scatterpolargl\":[{\"type\":\"scatterpolargl\",\"marker\":{\"colorbar\":{\"outlinewidth\":0,\"ticks\":\"\"}}}],\"bar\":[{\"error_x\":{\"color\":\"#2a3f5f\"},\"error_y\":{\"color\":\"#2a3f5f\"},\"marker\":{\"line\":{\"color\":\"#E5ECF6\",\"width\":0.5},\"pattern\":{\"fillmode\":\"overlay\",\"size\":10,\"solidity\":0.2}},\"type\":\"bar\"}],\"scattergeo\":[{\"type\":\"scattergeo\",\"marker\":{\"colorbar\":{\"outlinewidth\":0,\"ticks\":\"\"}}}],\"scatterpolar\":[{\"type\":\"scatterpolar\",\"marker\":{\"colorbar\":{\"outlinewidth\":0,\"ticks\":\"\"}}}],\"histogram\":[{\"marker\":{\"pattern\":{\"fillmode\":\"overlay\",\"size\":10,\"solidity\":0.2}},\"type\":\"histogram\"}],\"scattergl\":[{\"type\":\"scattergl\",\"marker\":{\"colorbar\":{\"outlinewidth\":0,\"ticks\":\"\"}}}],\"scatter3d\":[{\"type\":\"scatter3d\",\"line\":{\"colorbar\":{\"outlinewidth\":0,\"ticks\":\"\"}},\"marker\":{\"colorbar\":{\"outlinewidth\":0,\"ticks\":\"\"}}}],\"scattermapbox\":[{\"type\":\"scattermapbox\",\"marker\":{\"colorbar\":{\"outlinewidth\":0,\"ticks\":\"\"}}}],\"scatterternary\":[{\"type\":\"scatterternary\",\"marker\":{\"colorbar\":{\"outlinewidth\":0,\"ticks\":\"\"}}}],\"scattercarpet\":[{\"type\":\"scattercarpet\",\"marker\":{\"colorbar\":{\"outlinewidth\":0,\"ticks\":\"\"}}}],\"carpet\":[{\"aaxis\":{\"endlinecolor\":\"#2a3f5f\",\"gridcolor\":\"white\",\"linecolor\":\"white\",\"minorgridcolor\":\"white\",\"startlinecolor\":\"#2a3f5f\"},\"baxis\":{\"endlinecolor\":\"#2a3f5f\",\"gridcolor\":\"white\",\"linecolor\":\"white\",\"minorgridcolor\":\"white\",\"startlinecolor\":\"#2a3f5f\"},\"type\":\"carpet\"}],\"table\":[{\"cells\":{\"fill\":{\"color\":\"#EBF0F8\"},\"line\":{\"color\":\"white\"}},\"header\":{\"fill\":{\"color\":\"#C8D4E3\"},\"line\":{\"color\":\"white\"}},\"type\":\"table\"}],\"barpolar\":[{\"marker\":{\"line\":{\"color\":\"#E5ECF6\",\"width\":0.5},\"pattern\":{\"fillmode\":\"overlay\",\"size\":10,\"solidity\":0.2}},\"type\":\"barpolar\"}],\"pie\":[{\"automargin\":true,\"type\":\"pie\"}]},\"layout\":{\"autotypenumbers\":\"strict\",\"colorway\":[\"#636efa\",\"#EF553B\",\"#00cc96\",\"#ab63fa\",\"#FFA15A\",\"#19d3f3\",\"#FF6692\",\"#B6E880\",\"#FF97FF\",\"#FECB52\"],\"font\":{\"color\":\"#2a3f5f\"},\"hovermode\":\"closest\",\"hoverlabel\":{\"align\":\"left\"},\"paper_bgcolor\":\"white\",\"plot_bgcolor\":\"#E5ECF6\",\"polar\":{\"bgcolor\":\"#E5ECF6\",\"angularaxis\":{\"gridcolor\":\"white\",\"linecolor\":\"white\",\"ticks\":\"\"},\"radialaxis\":{\"gridcolor\":\"white\",\"linecolor\":\"white\",\"ticks\":\"\"}},\"ternary\":{\"bgcolor\":\"#E5ECF6\",\"aaxis\":{\"gridcolor\":\"white\",\"linecolor\":\"white\",\"ticks\":\"\"},\"baxis\":{\"gridcolor\":\"white\",\"linecolor\":\"white\",\"ticks\":\"\"},\"caxis\":{\"gridcolor\":\"white\",\"linecolor\":\"white\",\"ticks\":\"\"}},\"coloraxis\":{\"colorbar\":{\"outlinewidth\":0,\"ticks\":\"\"}},\"colorscale\":{\"sequential\":[[0.0,\"#0d0887\"],[0.1111111111111111,\"#46039f\"],[0.2222222222222222,\"#7201a8\"],[0.3333333333333333,\"#9c179e\"],[0.4444444444444444,\"#bd3786\"],[0.5555555555555556,\"#d8576b\"],[0.6666666666666666,\"#ed7953\"],[0.7777777777777778,\"#fb9f3a\"],[0.8888888888888888,\"#fdca26\"],[1.0,\"#f0f921\"]],\"sequentialminus\":[[0.0,\"#0d0887\"],[0.1111111111111111,\"#46039f\"],[0.2222222222222222,\"#7201a8\"],[0.3333333333333333,\"#9c179e\"],[0.4444444444444444,\"#bd3786\"],[0.5555555555555556,\"#d8576b\"],[0.6666666666666666,\"#ed7953\"],[0.7777777777777778,\"#fb9f3a\"],[0.8888888888888888,\"#fdca26\"],[1.0,\"#f0f921\"]],\"diverging\":[[0,\"#8e0152\"],[0.1,\"#c51b7d\"],[0.2,\"#de77ae\"],[0.3,\"#f1b6da\"],[0.4,\"#fde0ef\"],[0.5,\"#f7f7f7\"],[0.6,\"#e6f5d0\"],[0.7,\"#b8e186\"],[0.8,\"#7fbc41\"],[0.9,\"#4d9221\"],[1,\"#276419\"]]},\"xaxis\":{\"gridcolor\":\"white\",\"linecolor\":\"white\",\"ticks\":\"\",\"title\":{\"standoff\":15},\"zerolinecolor\":\"white\",\"automargin\":true,\"zerolinewidth\":2},\"yaxis\":{\"gridcolor\":\"white\",\"linecolor\":\"white\",\"ticks\":\"\",\"title\":{\"standoff\":15},\"zerolinecolor\":\"white\",\"automargin\":true,\"zerolinewidth\":2},\"scene\":{\"xaxis\":{\"backgroundcolor\":\"#E5ECF6\",\"gridcolor\":\"white\",\"linecolor\":\"white\",\"showbackground\":true,\"ticks\":\"\",\"zerolinecolor\":\"white\",\"gridwidth\":2},\"yaxis\":{\"backgroundcolor\":\"#E5ECF6\",\"gridcolor\":\"white\",\"linecolor\":\"white\",\"showbackground\":true,\"ticks\":\"\",\"zerolinecolor\":\"white\",\"gridwidth\":2},\"zaxis\":{\"backgroundcolor\":\"#E5ECF6\",\"gridcolor\":\"white\",\"linecolor\":\"white\",\"showbackground\":true,\"ticks\":\"\",\"zerolinecolor\":\"white\",\"gridwidth\":2}},\"shapedefaults\":{\"line\":{\"color\":\"#2a3f5f\"}},\"annotationdefaults\":{\"arrowcolor\":\"#2a3f5f\",\"arrowhead\":0,\"arrowwidth\":1},\"geo\":{\"bgcolor\":\"white\",\"landcolor\":\"#E5ECF6\",\"subunitcolor\":\"white\",\"showland\":true,\"showlakes\":true,\"lakecolor\":\"white\"},\"title\":{\"x\":0.05},\"mapbox\":{\"style\":\"light\"}}},\"xaxis\":{\"anchor\":\"y\",\"domain\":[0.0,0.45]},\"yaxis\":{\"anchor\":\"x\",\"domain\":[0.9450000000000001,1.0]},\"xaxis2\":{\"anchor\":\"y2\",\"domain\":[0.0,0.45]},\"yaxis2\":{\"anchor\":\"x2\",\"domain\":[0.8400000000000001,0.8950000000000001]},\"xaxis3\":{\"anchor\":\"y3\",\"domain\":[0.0,0.45]},\"yaxis3\":{\"anchor\":\"x3\",\"domain\":[0.7350000000000001,0.7900000000000001]},\"xaxis4\":{\"anchor\":\"y4\",\"domain\":[0.0,0.45]},\"yaxis4\":{\"anchor\":\"x4\",\"domain\":[0.6300000000000001,0.6850000000000002]},\"xaxis5\":{\"anchor\":\"y5\",\"domain\":[0.0,0.45]},\"yaxis5\":{\"anchor\":\"x5\",\"domain\":[0.525,0.5800000000000001]},\"xaxis6\":{\"anchor\":\"y6\",\"domain\":[0.0,0.45]},\"yaxis6\":{\"anchor\":\"x6\",\"domain\":[0.42000000000000004,0.47500000000000003]},\"xaxis7\":{\"anchor\":\"y7\",\"domain\":[0.0,0.45]},\"yaxis7\":{\"anchor\":\"x7\",\"domain\":[0.31500000000000006,0.37000000000000005]},\"xaxis8\":{\"anchor\":\"y8\",\"domain\":[0.0,0.45]},\"yaxis8\":{\"anchor\":\"x8\",\"domain\":[0.21000000000000002,0.265]},\"xaxis9\":{\"anchor\":\"y9\",\"domain\":[0.0,0.45]},\"yaxis9\":{\"anchor\":\"x9\",\"domain\":[0.10500000000000001,0.16000000000000003]},\"xaxis10\":{\"anchor\":\"y10\",\"domain\":[0.0,0.45]},\"yaxis10\":{\"anchor\":\"x10\",\"domain\":[0.0,0.05500000000000001]},\"annotations\":[{\"font\":{\"size\":12,\"family\":\"Helvetica\"},\"showarrow\":false,\"text\":\"<b>Population By Citizen Group 2010</b>\",\"x\":0.225,\"xanchor\":\"center\",\"xref\":\"paper\",\"y\":1.0,\"yanchor\":\"bottom\",\"yref\":\"paper\"},{\"font\":{\"size\":12,\"family\":\"Helvetica\"},\"showarrow\":false,\"text\":\"<b>Citizen Group In Percentage 2010</b>\",\"x\":0.775,\"xanchor\":\"center\",\"xref\":\"paper\",\"y\":1.0,\"yanchor\":\"bottom\",\"yref\":\"paper\"},{\"font\":{\"size\":12,\"family\":\"Helvetica\"},\"showarrow\":false,\"text\":\"<b>Population By Citizen Group 2011</b>\",\"x\":0.225,\"xanchor\":\"center\",\"xref\":\"paper\",\"y\":0.8950000000000001,\"yanchor\":\"bottom\",\"yref\":\"paper\"},{\"font\":{\"size\":12,\"family\":\"Helvetica\"},\"showarrow\":false,\"text\":\"<b>Citizen Group In Percentage 2011</b>\",\"x\":0.775,\"xanchor\":\"center\",\"xref\":\"paper\",\"y\":0.8950000000000001,\"yanchor\":\"bottom\",\"yref\":\"paper\"},{\"font\":{\"size\":12,\"family\":\"Helvetica\"},\"showarrow\":false,\"text\":\"<b>Population By Citizen Group 2012</b>\",\"x\":0.225,\"xanchor\":\"center\",\"xref\":\"paper\",\"y\":0.7900000000000001,\"yanchor\":\"bottom\",\"yref\":\"paper\"},{\"font\":{\"size\":12,\"family\":\"Helvetica\"},\"showarrow\":false,\"text\":\"<b>Citizen Group In Percentage 2012</b>\",\"x\":0.775,\"xanchor\":\"center\",\"xref\":\"paper\",\"y\":0.7900000000000001,\"yanchor\":\"bottom\",\"yref\":\"paper\"},{\"font\":{\"size\":12,\"family\":\"Helvetica\"},\"showarrow\":false,\"text\":\"<b>Population By Citizen Group 2013</b>\",\"x\":0.225,\"xanchor\":\"center\",\"xref\":\"paper\",\"y\":0.6850000000000002,\"yanchor\":\"bottom\",\"yref\":\"paper\"},{\"font\":{\"size\":12,\"family\":\"Helvetica\"},\"showarrow\":false,\"text\":\"<b>Citizen Group In Percentage 2013</b>\",\"x\":0.775,\"xanchor\":\"center\",\"xref\":\"paper\",\"y\":0.6850000000000002,\"yanchor\":\"bottom\",\"yref\":\"paper\"},{\"font\":{\"size\":12,\"family\":\"Helvetica\"},\"showarrow\":false,\"text\":\"<b>Population By Citizen Group 2014</b>\",\"x\":0.225,\"xanchor\":\"center\",\"xref\":\"paper\",\"y\":0.5800000000000001,\"yanchor\":\"bottom\",\"yref\":\"paper\"},{\"font\":{\"size\":12,\"family\":\"Helvetica\"},\"showarrow\":false,\"text\":\"<b>Citizen Group In Percentage 2014</b>\",\"x\":0.775,\"xanchor\":\"center\",\"xref\":\"paper\",\"y\":0.5800000000000001,\"yanchor\":\"bottom\",\"yref\":\"paper\"},{\"font\":{\"size\":12,\"family\":\"Helvetica\"},\"showarrow\":false,\"text\":\"<b>Population By Citizen Group 2015</b>\",\"x\":0.225,\"xanchor\":\"center\",\"xref\":\"paper\",\"y\":0.47500000000000003,\"yanchor\":\"bottom\",\"yref\":\"paper\"},{\"font\":{\"size\":12,\"family\":\"Helvetica\"},\"showarrow\":false,\"text\":\"<b>Citizen Group In Percentage 2015</b>\",\"x\":0.775,\"xanchor\":\"center\",\"xref\":\"paper\",\"y\":0.47500000000000003,\"yanchor\":\"bottom\",\"yref\":\"paper\"},{\"font\":{\"size\":12,\"family\":\"Helvetica\"},\"showarrow\":false,\"text\":\"<b>Population By Citizen Group 2016</b>\",\"x\":0.225,\"xanchor\":\"center\",\"xref\":\"paper\",\"y\":0.37000000000000005,\"yanchor\":\"bottom\",\"yref\":\"paper\"},{\"font\":{\"size\":12,\"family\":\"Helvetica\"},\"showarrow\":false,\"text\":\"<b>Citizen Group In Percentage 2016</b>\",\"x\":0.775,\"xanchor\":\"center\",\"xref\":\"paper\",\"y\":0.37000000000000005,\"yanchor\":\"bottom\",\"yref\":\"paper\"},{\"font\":{\"size\":12,\"family\":\"Helvetica\"},\"showarrow\":false,\"text\":\"<b>Population By Citizen Group 2017</b>\",\"x\":0.225,\"xanchor\":\"center\",\"xref\":\"paper\",\"y\":0.265,\"yanchor\":\"bottom\",\"yref\":\"paper\"},{\"font\":{\"size\":12,\"family\":\"Helvetica\"},\"showarrow\":false,\"text\":\"<b>Citizen Group In Percentage 2017</b>\",\"x\":0.775,\"xanchor\":\"center\",\"xref\":\"paper\",\"y\":0.265,\"yanchor\":\"bottom\",\"yref\":\"paper\"},{\"font\":{\"size\":12,\"family\":\"Helvetica\"},\"showarrow\":false,\"text\":\"<b>Population By Citizen Group 2018</b>\",\"x\":0.225,\"xanchor\":\"center\",\"xref\":\"paper\",\"y\":0.16000000000000003,\"yanchor\":\"bottom\",\"yref\":\"paper\"},{\"font\":{\"size\":12,\"family\":\"Helvetica\"},\"showarrow\":false,\"text\":\"<b>Citizen Group In Percentage 2018</b>\",\"x\":0.775,\"xanchor\":\"center\",\"xref\":\"paper\",\"y\":0.16000000000000003,\"yanchor\":\"bottom\",\"yref\":\"paper\"},{\"font\":{\"size\":12,\"family\":\"Helvetica\"},\"showarrow\":false,\"text\":\"<b>Population By Citizen Group 2019</b>\",\"x\":0.225,\"xanchor\":\"center\",\"xref\":\"paper\",\"y\":0.05500000000000001,\"yanchor\":\"bottom\",\"yref\":\"paper\"},{\"font\":{\"size\":12,\"family\":\"Helvetica\"},\"showarrow\":false,\"text\":\"<b>Citizen Group In Percentage 2019</b>\",\"x\":0.775,\"xanchor\":\"center\",\"xref\":\"paper\",\"y\":0.05500000000000001,\"yanchor\":\"bottom\",\"yref\":\"paper\"}],\"title\":{\"text\":\"Malaysia Population By Citizen Groups\",\"x\":0.5},\"height\":500,\"showlegend\":false,\"font\":{\"family\":\"Helvetica\",\"size\":12}},                        {\"responsive\": true}                    ).then(function(){\n",
       "                            \n",
       "var gd = document.getElementById('658fe862-6aa4-42c8-9b32-b0dd02119f0b');\n",
       "var x = new MutationObserver(function (mutations, observer) {{\n",
       "        var display = window.getComputedStyle(gd).display;\n",
       "        if (!display || display === 'none') {{\n",
       "            console.log([gd, 'removed!']);\n",
       "            Plotly.purge(gd);\n",
       "            observer.disconnect();\n",
       "        }}\n",
       "}});\n",
       "\n",
       "// Listen for the removal of the full notebook cells\n",
       "var notebookContainer = gd.closest('#notebook-container');\n",
       "if (notebookContainer) {{\n",
       "    x.observe(notebookContainer, {childList: true});\n",
       "}}\n",
       "\n",
       "// Listen for the clearing of the current output cell\n",
       "var outputEl = gd.closest('.output');\n",
       "if (outputEl) {{\n",
       "    x.observe(outputEl, {childList: true});\n",
       "}}\n",
       "\n",
       "                        })                };                });            </script>        </div>"
      ]
     },
     "metadata": {},
     "output_type": "display_data"
    }
   ],
   "source": [
    "fig = make_subplots(\n",
    "    rows=10, cols=2,\n",
    "    specs=[[{\"type\": \"xy\"},{\"type\": \"domain\"}],\n",
    "           [{\"type\": \"xy\"},{\"type\": \"domain\"}],\n",
    "           [{\"type\": \"xy\"},{\"type\": \"domain\"}],\n",
    "           [{\"type\": \"xy\"},{\"type\": \"domain\"}],\n",
    "           [{\"type\": \"xy\"},{\"type\": \"domain\"}],\n",
    "           [{\"type\": \"xy\"},{\"type\": \"domain\"}],\n",
    "           [{\"type\": \"xy\"},{\"type\": \"domain\"}],\n",
    "           [{\"type\": \"xy\"},{\"type\": \"domain\"}],\n",
    "           [{\"type\": \"xy\"},{\"type\": \"domain\"}],\n",
    "           [{\"type\": \"xy\"},{\"type\": \"domain\"}]],\n",
    "    subplot_titles=('<b>Population By Citizen Group 2010</b>','<b>Citizen Group In Percentage 2010</b>',\n",
    "                    '<b>Population By Citizen Group 2011</b>','<b>Citizen Group In Percentage 2011</b>',\n",
    "                    '<b>Population By Citizen Group 2012</b>','<b>Citizen Group In Percentage 2012</b>',\n",
    "                    '<b>Population By Citizen Group 2013</b>','<b>Citizen Group In Percentage 2013</b>',\n",
    "                    '<b>Population By Citizen Group 2014</b>','<b>Citizen Group In Percentage 2014</b>',\n",
    "                    '<b>Population By Citizen Group 2015</b>','<b>Citizen Group In Percentage 2015</b>',\n",
    "                    '<b>Population By Citizen Group 2016</b>','<b>Citizen Group In Percentage 2016</b>',\n",
    "                    '<b>Population By Citizen Group 2017</b>','<b>Citizen Group In Percentage 2017</b>',\n",
    "                    '<b>Population By Citizen Group 2018</b>','<b>Citizen Group In Percentage 2018</b>',\n",
    "                    '<b>Population By Citizen Group 2019</b>','<b>Citizen Group In Percentage 2019</b>')\n",
    ")\n",
    "#Graph 2010\n",
    "fig.add_trace(go.Bar(x = df_citizen_population['Citizen category'], y = df_citizen_population['2010'],name='2010'),row=1, col=1)\n",
    "fig.add_trace(go.Pie(values=df_citizen_population['Citizen category'],labels=df_citizen_population['2010'],\n",
    "                     textinfo='label+percent'),row=1, col=2)\n",
    "#Graph 2011\n",
    "fig.add_trace(go.Bar(x = df_citizen_population['Citizen category'], y = df_citizen_population['2011'],name='2011'),row=2, col=1)\n",
    "fig.add_trace(go.Pie(values=df_citizen_population['Citizen category'],labels=df_citizen_population['2011'],\n",
    "                     textinfo='label+percent'),row=2, col=2)\n",
    "#Graph 2012\n",
    "fig.add_trace(go.Bar(x = df_citizen_population['Citizen category'], y = df_citizen_population['2012'],name='2012'),row=3, col=1)\n",
    "fig.add_trace(go.Pie(values=df_citizen_population['Citizen category'],labels=df_citizen_population['2012'],\n",
    "                     textinfo='label+percent'),row=3, col=2)\n",
    "#Graph 2013\n",
    "fig.add_trace(go.Bar(x = df_citizen_population['Citizen category'], y = df_citizen_population['2013'],name='2013'),row=4, col=1)\n",
    "fig.add_trace(go.Pie(values=df_citizen_population['Citizen category'],labels=df_citizen_population['2013'],\n",
    "                     textinfo='label+percent'),row=4, col=2)\n",
    "#Graph 2014\n",
    "fig.add_trace(go.Bar(x = df_citizen_population['Citizen category'], y = df_citizen_population['2014'],name='2014'),row=5, col=1)\n",
    "fig.add_trace(go.Pie(values=df_citizen_population['Citizen category'],labels=df_citizen_population['2014'],\n",
    "                     textinfo='label+percent'),row=5, col=2)\n",
    "#Graph 2015\n",
    "fig.add_trace(go.Bar(x = df_citizen_population['Citizen category'], y = df_citizen_population['2015'],name='2015'),row=6, col=1)\n",
    "fig.add_trace(go.Pie(values=df_citizen_population['Citizen category'],labels=df_citizen_population['2015'],\n",
    "                     textinfo='label+percent'),row=6, col=2)\n",
    "#Graph 2016\n",
    "fig.add_trace(go.Bar(x = df_citizen_population['Citizen category'], y = df_citizen_population['2016'],name='2016'),row=7, col=1)\n",
    "fig.add_trace(go.Pie(values=df_citizen_population['Citizen category'],labels=df_citizen_population['2016'],\n",
    "                     textinfo='label+percent'),row=7, col=2)\n",
    "#Graph 2017\n",
    "fig.add_trace(go.Bar(x = df_citizen_population['Citizen category'], y = df_citizen_population['2017'],name='2017'),row=8, col=1)\n",
    "fig.add_trace(go.Pie(values=df_citizen_population['Citizen category'],labels=df_citizen_population['2017'],\n",
    "                     textinfo='label+percent'),row=8, col=2)\n",
    "#Graph 2018\n",
    "fig.add_trace(go.Bar(x = df_citizen_population['Citizen category'], y = df_citizen_population['2018'],name='2018'),row=9, col=1)\n",
    "fig.add_trace(go.Pie(values=df_citizen_population['Citizen category'],labels=df_citizen_population['2018'],\n",
    "                     textinfo='label+percent'),row=9, col=2)\n",
    "#Graph 2019\n",
    "fig.add_trace(go.Bar(x = df_citizen_population['Citizen category'], y = df_citizen_population['2019'],name='2019'),row=10, col=1)\n",
    "fig.add_trace(go.Pie(values=df_citizen_population['Citizen category'],labels=df_citizen_population['2019'],\n",
    "                     textinfo='label+percent'),row=10, col=2)\n",
    "\n",
    "fig.update_layout(height=500, showlegend=False,\n",
    "                 title_text='Malaysia Population By Citizen Groups', title_x=0.5)\n",
    "fig.update_annotations(font=dict(family=\"Helvetica\", size=12))\n",
    "fig.update_layout(font=dict(family=\"Helvetica\", size=12))\n",
    "#fig.show()"
   ]
  },
  {
   "cell_type": "code",
   "execution_count": 14,
   "id": "9d8ea4fc",
   "metadata": {},
   "outputs": [
    {
     "data": {
      "text/html": [
       "<style type=\"text/css\">\n",
       "#T_c05e4_ caption {\n",
       "  color: black;\n",
       "  font-size: 20px;\n",
       "  text-align: center;\n",
       "  text-decoration: underline;\n",
       "  font-family: Arial;\n",
       "  text-shadow: 2px 2px 5px grey;\n",
       "}\n",
       "#T_c05e4_ th {\n",
       "  text-align: left;\n",
       "}\n",
       "#T_c05e4_row0_col0, #T_c05e4_row1_col0 {\n",
       "  text-align: left;\n",
       "}\n",
       "#T_c05e4_row2_col0 {\n",
       "  text-align: left;\n",
       "  background: yellow;\n",
       "}\n",
       "#T_c05e4_row2_col1, #T_c05e4_row2_col2, #T_c05e4_row2_col3, #T_c05e4_row2_col4, #T_c05e4_row2_col5, #T_c05e4_row2_col6, #T_c05e4_row2_col7, #T_c05e4_row2_col8, #T_c05e4_row2_col9, #T_c05e4_row2_col10, #T_c05e4_row2_col11, #T_c05e4_row2_col12, #T_c05e4_row2_col13, #T_c05e4_row2_col14, #T_c05e4_row2_col15, #T_c05e4_row2_col16, #T_c05e4_row2_col17, #T_c05e4_row2_col18, #T_c05e4_row2_col19 {\n",
       "  background: yellow;\n",
       "}\n",
       "</style>\n",
       "<table id=\"T_c05e4_\">\n",
       "  <caption>Malaysia Total Population By Citizen Category</caption>\n",
       "  <thead>\n",
       "    <tr>\n",
       "      <th class=\"col_heading level0 col0\" >Citizen category</th>\n",
       "      <th class=\"col_heading level0 col1\" >2010</th>\n",
       "      <th class=\"col_heading level0 col2\" >2011 Inc.</th>\n",
       "      <th class=\"col_heading level0 col3\" >2011</th>\n",
       "      <th class=\"col_heading level0 col4\" >2012 Inc.</th>\n",
       "      <th class=\"col_heading level0 col5\" >2012</th>\n",
       "      <th class=\"col_heading level0 col6\" >2013 Inc.</th>\n",
       "      <th class=\"col_heading level0 col7\" >2013</th>\n",
       "      <th class=\"col_heading level0 col8\" >2014 Inc.</th>\n",
       "      <th class=\"col_heading level0 col9\" >2014</th>\n",
       "      <th class=\"col_heading level0 col10\" >2015 Inc.</th>\n",
       "      <th class=\"col_heading level0 col11\" >2015</th>\n",
       "      <th class=\"col_heading level0 col12\" >2016 Inc.</th>\n",
       "      <th class=\"col_heading level0 col13\" >2016</th>\n",
       "      <th class=\"col_heading level0 col14\" >2017 Inc.</th>\n",
       "      <th class=\"col_heading level0 col15\" >2017</th>\n",
       "      <th class=\"col_heading level0 col16\" >2018 Inc.</th>\n",
       "      <th class=\"col_heading level0 col17\" >2018</th>\n",
       "      <th class=\"col_heading level0 col18\" >2019 Inc.</th>\n",
       "      <th class=\"col_heading level0 col19\" >2019</th>\n",
       "    </tr>\n",
       "  </thead>\n",
       "  <tbody>\n",
       "    <tr>\n",
       "      <td id=\"T_c05e4_row0_col0\" class=\"data row0 col0\" >Malaysian citizens</td>\n",
       "      <td id=\"T_c05e4_row0_col1\" class=\"data row0 col1\" >26,264,097</td>\n",
       "      <td id=\"T_c05e4_row0_col2\" class=\"data row0 col2\" >1.3</td>\n",
       "      <td id=\"T_c05e4_row0_col3\" class=\"data row0 col3\" >26,616,700</td>\n",
       "      <td id=\"T_c05e4_row0_col4\" class=\"data row0 col4\" >1.3</td>\n",
       "      <td id=\"T_c05e4_row0_col5\" class=\"data row0 col5\" >26,961,200</td>\n",
       "      <td id=\"T_c05e4_row0_col6\" class=\"data row0 col6\" >1.4</td>\n",
       "      <td id=\"T_c05e4_row0_col7\" class=\"data row0 col7\" >27,325,700</td>\n",
       "      <td id=\"T_c05e4_row0_col8\" class=\"data row0 col8\" >1.4</td>\n",
       "      <td id=\"T_c05e4_row0_col9\" class=\"data row0 col9\" >27,696,000</td>\n",
       "      <td id=\"T_c05e4_row0_col10\" class=\"data row0 col10\" >1.3</td>\n",
       "      <td id=\"T_c05e4_row0_col11\" class=\"data row0 col11\" >28,060,500</td>\n",
       "      <td id=\"T_c05e4_row0_col12\" class=\"data row0 col12\" >1.2</td>\n",
       "      <td id=\"T_c05e4_row0_col13\" class=\"data row0 col13\" >28,403,500</td>\n",
       "      <td id=\"T_c05e4_row0_col14\" class=\"data row0 col14\" >1.2</td>\n",
       "      <td id=\"T_c05e4_row0_col15\" class=\"data row0 col15\" >28,735,000</td>\n",
       "      <td id=\"T_c05e4_row0_col16\" class=\"data row0 col16\" >1.1</td>\n",
       "      <td id=\"T_c05e4_row0_col17\" class=\"data row0 col17\" >29,059,500</td>\n",
       "      <td id=\"T_c05e4_row0_col18\" class=\"data row0 col18\" >1.1</td>\n",
       "      <td id=\"T_c05e4_row0_col19\" class=\"data row0 col19\" >29,377,500</td>\n",
       "    </tr>\n",
       "    <tr>\n",
       "      <td id=\"T_c05e4_row1_col0\" class=\"data row1 col0\" >Non-Malaysian citizens</td>\n",
       "      <td id=\"T_c05e4_row1_col1\" class=\"data row1 col1\" >2,324,540</td>\n",
       "      <td id=\"T_c05e4_row1_col2\" class=\"data row1 col2\" >5.2</td>\n",
       "      <td id=\"T_c05e4_row1_col3\" class=\"data row1 col3\" >2,445,200</td>\n",
       "      <td id=\"T_c05e4_row1_col4\" class=\"data row1 col4\" >4.2</td>\n",
       "      <td id=\"T_c05e4_row1_col5\" class=\"data row1 col5\" >2,548,100</td>\n",
       "      <td id=\"T_c05e4_row1_col6\" class=\"data row1 col6\" >13.4</td>\n",
       "      <td id=\"T_c05e4_row1_col7\" class=\"data row1 col7\" >2,888,300</td>\n",
       "      <td id=\"T_c05e4_row1_col8\" class=\"data row1 col8\" >4.3</td>\n",
       "      <td id=\"T_c05e4_row1_col9\" class=\"data row1 col9\" >3,012,400</td>\n",
       "      <td id=\"T_c05e4_row1_col10\" class=\"data row1 col10\" >3.8</td>\n",
       "      <td id=\"T_c05e4_row1_col11\" class=\"data row1 col11\" >3,125,900</td>\n",
       "      <td id=\"T_c05e4_row1_col12\" class=\"data row1 col12\" >3.3</td>\n",
       "      <td id=\"T_c05e4_row1_col13\" class=\"data row1 col13\" >3,229,800</td>\n",
       "      <td id=\"T_c05e4_row1_col14\" class=\"data row1 col14\" >1.8</td>\n",
       "      <td id=\"T_c05e4_row1_col15\" class=\"data row1 col15\" >3,287,400</td>\n",
       "      <td id=\"T_c05e4_row1_col16\" class=\"data row1 col16\" >1.1</td>\n",
       "      <td id=\"T_c05e4_row1_col17\" class=\"data row1 col17\" >3,322,800</td>\n",
       "      <td id=\"T_c05e4_row1_col18\" class=\"data row1 col18\" >-3.6</td>\n",
       "      <td id=\"T_c05e4_row1_col19\" class=\"data row1 col19\" >3,204,500</td>\n",
       "    </tr>\n",
       "    <tr>\n",
       "      <td id=\"T_c05e4_row2_col0\" class=\"data row2 col0\" >Total</td>\n",
       "      <td id=\"T_c05e4_row2_col1\" class=\"data row2 col1\" >28,588,637</td>\n",
       "      <td id=\"T_c05e4_row2_col2\" class=\"data row2 col2\" >1.7</td>\n",
       "      <td id=\"T_c05e4_row2_col3\" class=\"data row2 col3\" >29,061,900</td>\n",
       "      <td id=\"T_c05e4_row2_col4\" class=\"data row2 col4\" >1.5</td>\n",
       "      <td id=\"T_c05e4_row2_col5\" class=\"data row2 col5\" >29,509,300</td>\n",
       "      <td id=\"T_c05e4_row2_col6\" class=\"data row2 col6\" >2.4</td>\n",
       "      <td id=\"T_c05e4_row2_col7\" class=\"data row2 col7\" >30,214,000</td>\n",
       "      <td id=\"T_c05e4_row2_col8\" class=\"data row2 col8\" >1.6</td>\n",
       "      <td id=\"T_c05e4_row2_col9\" class=\"data row2 col9\" >30,708,400</td>\n",
       "      <td id=\"T_c05e4_row2_col10\" class=\"data row2 col10\" >1.6</td>\n",
       "      <td id=\"T_c05e4_row2_col11\" class=\"data row2 col11\" >31,186,400</td>\n",
       "      <td id=\"T_c05e4_row2_col12\" class=\"data row2 col12\" >1.4</td>\n",
       "      <td id=\"T_c05e4_row2_col13\" class=\"data row2 col13\" >31,633,300</td>\n",
       "      <td id=\"T_c05e4_row2_col14\" class=\"data row2 col14\" >1.2</td>\n",
       "      <td id=\"T_c05e4_row2_col15\" class=\"data row2 col15\" >32,022,400</td>\n",
       "      <td id=\"T_c05e4_row2_col16\" class=\"data row2 col16\" >1.1</td>\n",
       "      <td id=\"T_c05e4_row2_col17\" class=\"data row2 col17\" >32,382,300</td>\n",
       "      <td id=\"T_c05e4_row2_col18\" class=\"data row2 col18\" >0.6</td>\n",
       "      <td id=\"T_c05e4_row2_col19\" class=\"data row2 col19\" >32,582,000</td>\n",
       "    </tr>\n",
       "  </tbody>\n",
       "</table>\n"
      ],
      "text/plain": [
       "<pandas.io.formats.style.Styler at 0x10ccf5250>"
      ]
     },
     "execution_count": 14,
     "metadata": {},
     "output_type": "execute_result"
    }
   ],
   "source": [
    "df_citizen_population.loc['Total'] = df_citizen_population.sum(numeric_only=True, axis=0)\n",
    "df_citizen_population['Citizen category'] = df_citizen_population['Citizen category'].replace(np.nan, 'Total')\n",
    "df_citizen_population['2011 Inc.'] = ((df_citizen_population['2011'] - df_citizen_population['2010'])/df_citizen_population['2010'])*100\n",
    "df_citizen_population['2012 Inc.'] = ((df_citizen_population['2012'] - df_citizen_population['2011'])/df_citizen_population['2011'])*100\n",
    "df_citizen_population['2013 Inc.'] = ((df_citizen_population['2013'] - df_citizen_population['2012'])/df_citizen_population['2012'])*100\n",
    "df_citizen_population['2014 Inc.'] = ((df_citizen_population['2014'] - df_citizen_population['2013'])/df_citizen_population['2013'])*100\n",
    "df_citizen_population['2015 Inc.'] = ((df_citizen_population['2015'] - df_citizen_population['2014'])/df_citizen_population['2014'])*100\n",
    "df_citizen_population['2016 Inc.'] = ((df_citizen_population['2016'] - df_citizen_population['2015'])/df_citizen_population['2015'])*100\n",
    "df_citizen_population['2017 Inc.'] = ((df_citizen_population['2017'] - df_citizen_population['2016'])/df_citizen_population['2016'])*100\n",
    "df_citizen_population['2018 Inc.'] = ((df_citizen_population['2018'] - df_citizen_population['2017'])/df_citizen_population['2017'])*100\n",
    "df_citizen_population['2019 Inc.'] = ((df_citizen_population['2019'] - df_citizen_population['2018'])/df_citizen_population['2018'])*100\n",
    "df_citizen_population = df_citizen_population[['Citizen category','2010','2011 Inc.','2011','2012 Inc.','2012','2013 Inc.','2013','2014 Inc.',\n",
    "                                       '2014','2015 Inc.','2015','2016 Inc.','2016','2017 Inc.','2017','2018 Inc.','2018',\n",
    "                                       '2019 Inc.','2019']]\n",
    "df_citizen_population.style.set_caption(\"Malaysia Total Population By Citizen Category\").set_table_styles([{\n",
    "    'selector': 'caption',\n",
    "    'props': [\n",
    "        ('color', 'black'),\n",
    "        ('font-size', '20px'),\n",
    "        (\"text-align\", \"center\"),\n",
    "        ('text-decoration', 'underline'),\n",
    "        ('font-family','Arial'),\n",
    "        ('text-shadow', '2px 2px 5px grey')\n",
    "    ]},(dict\n",
    "        (selector='th',props=[('text-align',\n",
    "                               'left')]))]).format(\n",
    "    {'2010':'{:,.0f}','2011':'{:,.0f}','2012':'{:,.0f}','2013':'{:,.0f}','2014':'{:,.0f}','2015':'{:,.0f}',\n",
    "     '2016':'{:,.0f}','2017':'{:,.0f}','2018':'{:,.0f}','2019':'{:,.0f}','2011 Inc.':'{:,.1f}','2012 Inc.':'{:,.1f}',\n",
    "     '2013 Inc.':'{:,.1f}','2014 Inc.':'{:,.1f}','2015 Inc.':'{:,.1f}','2016 Inc.':'{:,.1f}','2017 Inc.':'{:,.1f}',\n",
    "     '2018 Inc.':'{:,.1f}','2019 Inc.':'{:,.1f}'\n",
    "    }).set_properties(subset=['Citizen category'],**{'text-align': 'left'}).apply(lambda x: ['background: yellow' if x.name in ['Total'] else '' for i in x], axis=1).hide_index()"
   ]
  },
  {
   "cell_type": "code",
   "execution_count": 15,
   "id": "74babbff",
   "metadata": {},
   "outputs": [],
   "source": [
    "df_ethnic_2010 = df_2010.groupby('Ethnic').sum()\n",
    "df_ethnic_2011 = df_2011.groupby('Ethnic').sum()\n",
    "df_ethnic_2012 = df_2012.groupby('Ethnic').sum()\n",
    "df_ethnic_2013 = df_2013.groupby('Ethnic').sum()\n",
    "df_ethnic_2014 = df_2014.groupby('Ethnic').sum()\n",
    "df_ethnic_2015 = df_2015.groupby('Ethnic').sum()\n",
    "df_ethnic_2016 = df_2016.groupby('Ethnic').sum()\n",
    "df_ethnic_2017 = df_2017.groupby('Ethnic').sum()\n",
    "df_ethnic_2018 = df_2018.groupby('Ethnic').sum()\n",
    "df_ethnic_2019 = df_2019.groupby('Ethnic').sum()"
   ]
  },
  {
   "cell_type": "code",
   "execution_count": 16,
   "id": "7a7e22e9",
   "metadata": {},
   "outputs": [],
   "source": [
    "df_ethnic_population = pd.merge(df_ethnic_2010,df_ethnic_2011, on='Ethnic')\n",
    "df_ethnic_population.rename(columns={'Population_x':'2010','Population_y':'2011'},inplace=True)\n",
    "df_ethnic_population = pd.merge(df_ethnic_population,df_ethnic_2012, on='Ethnic')\n",
    "df_ethnic_population.rename(columns={'Population':'2012'},inplace=True)\n",
    "df_ethnic_population = pd.merge(df_ethnic_population,df_ethnic_2013, on='Ethnic')\n",
    "df_ethnic_population.rename(columns={'Population':'2013'},inplace=True)\n",
    "df_ethnic_population = pd.merge(df_ethnic_population,df_ethnic_2014, on='Ethnic')\n",
    "df_ethnic_population.rename(columns={'Population':'2014'},inplace=True)\n",
    "df_ethnic_population = pd.merge(df_ethnic_population,df_ethnic_2015, on='Ethnic')\n",
    "df_ethnic_population.rename(columns={'Population':'2015'},inplace=True)\n",
    "df_ethnic_population = pd.merge(df_ethnic_population,df_ethnic_2016, on='Ethnic')\n",
    "df_ethnic_population.rename(columns={'Population':'2016'},inplace=True)\n",
    "df_ethnic_population = pd.merge(df_ethnic_population,df_ethnic_2017, on='Ethnic')\n",
    "df_ethnic_population.rename(columns={'Population':'2017'},inplace=True)\n",
    "df_ethnic_population = pd.merge(df_ethnic_population,df_ethnic_2018, on='Ethnic')\n",
    "df_ethnic_population.rename(columns={'Population':'2018'},inplace=True)\n",
    "df_ethnic_population = pd.merge(df_ethnic_population,df_ethnic_2019, on='Ethnic')\n",
    "df_ethnic_population.rename(columns={'Population':'2019'},inplace=True)\n",
    "df_ethnic_population = df_ethnic_population.reset_index()"
   ]
  },
  {
   "cell_type": "code",
   "execution_count": 17,
   "id": "1b9cd666",
   "metadata": {},
   "outputs": [],
   "source": [
    "bar_plots = [\n",
    "    go.Bar(x = df_ethnic_population['Ethnic'], y = df_ethnic_population['2010'],name='2010'),\n",
    "    go.Bar(x = df_ethnic_population['Ethnic'], y = df_ethnic_population['2011'],name='2011'),\n",
    "    go.Bar(x = df_ethnic_population['Ethnic'], y = df_ethnic_population['2012'],name='2012'),\n",
    "    go.Bar(x = df_ethnic_population['Ethnic'], y = df_ethnic_population['2013'],name='2013'),\n",
    "    go.Bar(x = df_ethnic_population['Ethnic'], y = df_ethnic_population['2014'],name='2014'),\n",
    "    go.Bar(x = df_ethnic_population['Ethnic'], y = df_ethnic_population['2015'],name='2015'),\n",
    "    go.Bar(x = df_ethnic_population['Ethnic'], y = df_ethnic_population['2016'],name='2016'),\n",
    "    go.Bar(x = df_ethnic_population['Ethnic'], y = df_ethnic_population['2017'],name='2017'),\n",
    "    go.Bar(x = df_ethnic_population['Ethnic'], y = df_ethnic_population['2018'],name='2018'),\n",
    "    go.Bar(x = df_ethnic_population['Ethnic'], y = df_ethnic_population['2019'],name='2019')\n",
    "           ]\n",
    "layout = go.Layout(\n",
    "title=go.layout.Title(text='Malaysia Population By Sex',x=0.5),\n",
    "yaxis_title='Population',xaxis_tickmode='array')\n",
    "fig = go.Figure(data=bar_plots, layout=layout)\n",
    "#fig.show()"
   ]
  },
  {
   "cell_type": "code",
   "execution_count": 18,
   "id": "4104e51e",
   "metadata": {},
   "outputs": [
    {
     "data": {
      "application/vnd.plotly.v1+json": {
       "config": {
        "plotlyServerURL": "https://plot.ly"
       },
       "data": [
        {
         "name": "2010",
         "type": "bar",
         "x": [
          "Bumiputera",
          "Chinese",
          "Indians",
          "Non Malaysian",
          "Others"
         ],
         "xaxis": "x",
         "y": [
          17676799,
          6430389,
          1924899,
          2324540,
          232010
         ],
         "yaxis": "y"
        },
        {
         "domain": {
          "x": [
           0.55,
           1
          ],
          "y": [
           0.9450000000000001,
           1
          ]
         },
         "labels": [
          17676799,
          6430389,
          1924899,
          2324540,
          232010
         ],
         "textinfo": "label+percent",
         "type": "pie",
         "values": [
          "Bumiputera",
          "Chinese",
          "Indians",
          "Non Malaysian",
          "Others"
         ]
        },
        {
         "name": "2011",
         "type": "bar",
         "x": [
          "Bumiputera",
          "Chinese",
          "Indians",
          "Non Malaysian",
          "Others"
         ],
         "xaxis": "x2",
         "y": [
          17963900,
          6471200,
          1939900,
          2445200,
          241700
         ],
         "yaxis": "y2"
        },
        {
         "domain": {
          "x": [
           0.55,
           1
          ],
          "y": [
           0.8400000000000001,
           0.8950000000000001
          ]
         },
         "labels": [
          17963900,
          6471200,
          1939900,
          2445200,
          241700
         ],
         "textinfo": "label+percent",
         "type": "pie",
         "values": [
          "Bumiputera",
          "Chinese",
          "Indians",
          "Non Malaysian",
          "Others"
         ]
        },
        {
         "name": "2012",
         "type": "bar",
         "x": [
          "Bumiputera",
          "Chinese",
          "Indians",
          "Non Malaysian",
          "Others"
         ],
         "xaxis": "x3",
         "y": [
          18249700,
          6510700,
          1951900,
          2548100,
          248900
         ],
         "yaxis": "y3"
        },
        {
         "domain": {
          "x": [
           0.55,
           1
          ],
          "y": [
           0.7350000000000001,
           0.7900000000000001
          ]
         },
         "labels": [
          18249700,
          6510700,
          1951900,
          2548100,
          248900
         ],
         "textinfo": "label+percent",
         "type": "pie",
         "values": [
          "Bumiputera",
          "Chinese",
          "Indians",
          "Non Malaysian",
          "Others"
         ]
        },
        {
         "name": "2013",
         "type": "bar",
         "x": [
          "Bumiputera",
          "Chinese",
          "Indians",
          "Non Malaysian",
          "Others"
         ],
         "xaxis": "x4",
         "y": [
          18549100,
          6554600,
          1965200,
          2888300,
          256800
         ],
         "yaxis": "y4"
        },
        {
         "domain": {
          "x": [
           0.55,
           1
          ],
          "y": [
           0.6300000000000001,
           0.6850000000000002
          ]
         },
         "labels": [
          18549100,
          6554600,
          1965200,
          2888300,
          256800
         ],
         "textinfo": "label+percent",
         "type": "pie",
         "values": [
          "Bumiputera",
          "Chinese",
          "Indians",
          "Non Malaysian",
          "Others"
         ]
        },
        {
         "name": "2014",
         "type": "bar",
         "x": [
          "Bumiputera",
          "Chinese",
          "Indians",
          "Non Malaysian",
          "Others"
         ],
         "xaxis": "x5",
         "y": [
          18866700,
          6586100,
          1977500,
          3012400,
          265700
         ],
         "yaxis": "y5"
        },
        {
         "domain": {
          "x": [
           0.55,
           1
          ],
          "y": [
           0.525,
           0.5800000000000001
          ]
         },
         "labels": [
          18866700,
          6586100,
          1977500,
          3012400,
          265700
         ],
         "textinfo": "label+percent",
         "type": "pie",
         "values": [
          "Bumiputera",
          "Chinese",
          "Indians",
          "Non Malaysian",
          "Others"
         ]
        },
        {
         "name": "2015",
         "type": "bar",
         "x": [
          "Bumiputera",
          "Chinese",
          "Indians",
          "Non Malaysian",
          "Others"
         ],
         "xaxis": "x6",
         "y": [
          19182700,
          6619000,
          1986400,
          3125900,
          272400
         ],
         "yaxis": "y6"
        },
        {
         "domain": {
          "x": [
           0.55,
           1
          ],
          "y": [
           0.42000000000000004,
           0.47500000000000003
          ]
         },
         "labels": [
          19182700,
          6619000,
          1986400,
          3125900,
          272400
         ],
         "textinfo": "label+percent",
         "type": "pie",
         "values": [
          "Bumiputera",
          "Chinese",
          "Indians",
          "Non Malaysian",
          "Others"
         ]
        },
        {
         "name": "2016",
         "type": "bar",
         "x": [
          "Bumiputera",
          "Chinese",
          "Indians",
          "Non Malaysian",
          "Others"
         ],
         "xaxis": "x7",
         "y": [
          19485300,
          6645800,
          1991600,
          3229800,
          280800
         ],
         "yaxis": "y7"
        },
        {
         "domain": {
          "x": [
           0.55,
           1
          ],
          "y": [
           0.31500000000000006,
           0.37000000000000005
          ]
         },
         "labels": [
          19485300,
          6645800,
          1991600,
          3229800,
          280800
         ],
         "textinfo": "label+percent",
         "type": "pie",
         "values": [
          "Bumiputera",
          "Chinese",
          "Indians",
          "Non Malaysian",
          "Others"
         ]
        },
        {
         "name": "2017",
         "type": "bar",
         "x": [
          "Bumiputera",
          "Chinese",
          "Indians",
          "Non Malaysian",
          "Others"
         ],
         "xaxis": "x8",
         "y": [
          19781000,
          6665100,
          2001000,
          3287400,
          287900
         ],
         "yaxis": "y8"
        },
        {
         "domain": {
          "x": [
           0.55,
           1
          ],
          "y": [
           0.21000000000000002,
           0.265
          ]
         },
         "labels": [
          19781000,
          6665100,
          2001000,
          3287400,
          287900
         ],
         "textinfo": "label+percent",
         "type": "pie",
         "values": [
          "Bumiputera",
          "Chinese",
          "Indians",
          "Non Malaysian",
          "Others"
         ]
        },
        {
         "name": "2018",
         "type": "bar",
         "x": [
          "Bumiputera",
          "Chinese",
          "Indians",
          "Non Malaysian",
          "Others"
         ],
         "xaxis": "x9",
         "y": [
          20075700,
          6682100,
          2008100,
          3322800,
          293600
         ],
         "yaxis": "y9"
        },
        {
         "domain": {
          "x": [
           0.55,
           1
          ],
          "y": [
           0.10500000000000001,
           0.16000000000000003
          ]
         },
         "labels": [
          20075700,
          6682100,
          2008100,
          3322800,
          293600
         ],
         "textinfo": "label+percent",
         "type": "pie",
         "values": [
          "Bumiputera",
          "Chinese",
          "Indians",
          "Non Malaysian",
          "Others"
         ]
        },
        {
         "name": "2019",
         "type": "bar",
         "x": [
          "Bumiputera",
          "Chinese",
          "Indians",
          "Non Malaysian",
          "Others"
         ],
         "xaxis": "x10",
         "y": [
          20367300,
          6695800,
          2014600,
          3204500,
          299800
         ],
         "yaxis": "y10"
        },
        {
         "domain": {
          "x": [
           0.55,
           1
          ],
          "y": [
           0,
           0.05500000000000001
          ]
         },
         "labels": [
          20367300,
          6695800,
          2014600,
          3204500,
          299800
         ],
         "textinfo": "label+percent",
         "type": "pie",
         "values": [
          "Bumiputera",
          "Chinese",
          "Indians",
          "Non Malaysian",
          "Others"
         ]
        }
       ],
       "layout": {
        "annotations": [
         {
          "font": {
           "family": "Helvetica",
           "size": 12
          },
          "showarrow": false,
          "text": "<b>Population By Ethnic Group 2010</b>",
          "x": 0.225,
          "xanchor": "center",
          "xref": "paper",
          "y": 1,
          "yanchor": "bottom",
          "yref": "paper"
         },
         {
          "font": {
           "family": "Helvetica",
           "size": 12
          },
          "showarrow": false,
          "text": "<b>Ethnic Group In Percentage 2010</b>",
          "x": 0.775,
          "xanchor": "center",
          "xref": "paper",
          "y": 1,
          "yanchor": "bottom",
          "yref": "paper"
         },
         {
          "font": {
           "family": "Helvetica",
           "size": 12
          },
          "showarrow": false,
          "text": "<b>Population By Ethnic Group 2011</b>",
          "x": 0.225,
          "xanchor": "center",
          "xref": "paper",
          "y": 0.8950000000000001,
          "yanchor": "bottom",
          "yref": "paper"
         },
         {
          "font": {
           "family": "Helvetica",
           "size": 12
          },
          "showarrow": false,
          "text": "<b>Ethnic Group In Percentage 2011</b>",
          "x": 0.775,
          "xanchor": "center",
          "xref": "paper",
          "y": 0.8950000000000001,
          "yanchor": "bottom",
          "yref": "paper"
         },
         {
          "font": {
           "family": "Helvetica",
           "size": 12
          },
          "showarrow": false,
          "text": "<b>Population By Ethnic Group 2012</b>",
          "x": 0.225,
          "xanchor": "center",
          "xref": "paper",
          "y": 0.7900000000000001,
          "yanchor": "bottom",
          "yref": "paper"
         },
         {
          "font": {
           "family": "Helvetica",
           "size": 12
          },
          "showarrow": false,
          "text": "<b>Ethnic Group In Percentage 2012</b>",
          "x": 0.775,
          "xanchor": "center",
          "xref": "paper",
          "y": 0.7900000000000001,
          "yanchor": "bottom",
          "yref": "paper"
         },
         {
          "font": {
           "family": "Helvetica",
           "size": 12
          },
          "showarrow": false,
          "text": "<b>Population By Ethnic Group 2013</b>",
          "x": 0.225,
          "xanchor": "center",
          "xref": "paper",
          "y": 0.6850000000000002,
          "yanchor": "bottom",
          "yref": "paper"
         },
         {
          "font": {
           "family": "Helvetica",
           "size": 12
          },
          "showarrow": false,
          "text": "<b>Ethnic Group In Percentage 2013</b>",
          "x": 0.775,
          "xanchor": "center",
          "xref": "paper",
          "y": 0.6850000000000002,
          "yanchor": "bottom",
          "yref": "paper"
         },
         {
          "font": {
           "family": "Helvetica",
           "size": 12
          },
          "showarrow": false,
          "text": "<b>Population By Ethnic Group 2014</b>",
          "x": 0.225,
          "xanchor": "center",
          "xref": "paper",
          "y": 0.5800000000000001,
          "yanchor": "bottom",
          "yref": "paper"
         },
         {
          "font": {
           "family": "Helvetica",
           "size": 12
          },
          "showarrow": false,
          "text": "<b>Ethnic Group In Percentage 2014</b>",
          "x": 0.775,
          "xanchor": "center",
          "xref": "paper",
          "y": 0.5800000000000001,
          "yanchor": "bottom",
          "yref": "paper"
         },
         {
          "font": {
           "family": "Helvetica",
           "size": 12
          },
          "showarrow": false,
          "text": "<b>Population By Ethnic Group 2015</b>",
          "x": 0.225,
          "xanchor": "center",
          "xref": "paper",
          "y": 0.47500000000000003,
          "yanchor": "bottom",
          "yref": "paper"
         },
         {
          "font": {
           "family": "Helvetica",
           "size": 12
          },
          "showarrow": false,
          "text": "<b>Ethnic Group In Percentage 2015</b>",
          "x": 0.775,
          "xanchor": "center",
          "xref": "paper",
          "y": 0.47500000000000003,
          "yanchor": "bottom",
          "yref": "paper"
         },
         {
          "font": {
           "family": "Helvetica",
           "size": 12
          },
          "showarrow": false,
          "text": "<b>Population By Ethnic Group 2016</b>",
          "x": 0.225,
          "xanchor": "center",
          "xref": "paper",
          "y": 0.37000000000000005,
          "yanchor": "bottom",
          "yref": "paper"
         },
         {
          "font": {
           "family": "Helvetica",
           "size": 12
          },
          "showarrow": false,
          "text": "<b>Ethnic Group In Percentage 2016</b>",
          "x": 0.775,
          "xanchor": "center",
          "xref": "paper",
          "y": 0.37000000000000005,
          "yanchor": "bottom",
          "yref": "paper"
         },
         {
          "font": {
           "family": "Helvetica",
           "size": 12
          },
          "showarrow": false,
          "text": "<b>Population By Ethnic Group 2017</b>",
          "x": 0.225,
          "xanchor": "center",
          "xref": "paper",
          "y": 0.265,
          "yanchor": "bottom",
          "yref": "paper"
         },
         {
          "font": {
           "family": "Helvetica",
           "size": 12
          },
          "showarrow": false,
          "text": "<b>Ethnic Group In Percentage 2017</b>",
          "x": 0.775,
          "xanchor": "center",
          "xref": "paper",
          "y": 0.265,
          "yanchor": "bottom",
          "yref": "paper"
         },
         {
          "font": {
           "family": "Helvetica",
           "size": 12
          },
          "showarrow": false,
          "text": "<b>Population By Ethnic Group 2018</b>",
          "x": 0.225,
          "xanchor": "center",
          "xref": "paper",
          "y": 0.16000000000000003,
          "yanchor": "bottom",
          "yref": "paper"
         },
         {
          "font": {
           "family": "Helvetica",
           "size": 12
          },
          "showarrow": false,
          "text": "<b>Ethnic Group In Percentage 2018</b>",
          "x": 0.775,
          "xanchor": "center",
          "xref": "paper",
          "y": 0.16000000000000003,
          "yanchor": "bottom",
          "yref": "paper"
         },
         {
          "font": {
           "family": "Helvetica",
           "size": 12
          },
          "showarrow": false,
          "text": "<b>Population By Ethnic Group 2019</b>",
          "x": 0.225,
          "xanchor": "center",
          "xref": "paper",
          "y": 0.05500000000000001,
          "yanchor": "bottom",
          "yref": "paper"
         },
         {
          "font": {
           "family": "Helvetica",
           "size": 12
          },
          "showarrow": false,
          "text": "<b>Ethnic Group In Percentage 2019</b>",
          "x": 0.775,
          "xanchor": "center",
          "xref": "paper",
          "y": 0.05500000000000001,
          "yanchor": "bottom",
          "yref": "paper"
         }
        ],
        "font": {
         "family": "Helvetica",
         "size": 12
        },
        "height": 500,
        "showlegend": false,
        "template": {
         "data": {
          "bar": [
           {
            "error_x": {
             "color": "#2a3f5f"
            },
            "error_y": {
             "color": "#2a3f5f"
            },
            "marker": {
             "line": {
              "color": "#E5ECF6",
              "width": 0.5
             },
             "pattern": {
              "fillmode": "overlay",
              "size": 10,
              "solidity": 0.2
             }
            },
            "type": "bar"
           }
          ],
          "barpolar": [
           {
            "marker": {
             "line": {
              "color": "#E5ECF6",
              "width": 0.5
             },
             "pattern": {
              "fillmode": "overlay",
              "size": 10,
              "solidity": 0.2
             }
            },
            "type": "barpolar"
           }
          ],
          "carpet": [
           {
            "aaxis": {
             "endlinecolor": "#2a3f5f",
             "gridcolor": "white",
             "linecolor": "white",
             "minorgridcolor": "white",
             "startlinecolor": "#2a3f5f"
            },
            "baxis": {
             "endlinecolor": "#2a3f5f",
             "gridcolor": "white",
             "linecolor": "white",
             "minorgridcolor": "white",
             "startlinecolor": "#2a3f5f"
            },
            "type": "carpet"
           }
          ],
          "choropleth": [
           {
            "colorbar": {
             "outlinewidth": 0,
             "ticks": ""
            },
            "type": "choropleth"
           }
          ],
          "contour": [
           {
            "colorbar": {
             "outlinewidth": 0,
             "ticks": ""
            },
            "colorscale": [
             [
              0,
              "#0d0887"
             ],
             [
              0.1111111111111111,
              "#46039f"
             ],
             [
              0.2222222222222222,
              "#7201a8"
             ],
             [
              0.3333333333333333,
              "#9c179e"
             ],
             [
              0.4444444444444444,
              "#bd3786"
             ],
             [
              0.5555555555555556,
              "#d8576b"
             ],
             [
              0.6666666666666666,
              "#ed7953"
             ],
             [
              0.7777777777777778,
              "#fb9f3a"
             ],
             [
              0.8888888888888888,
              "#fdca26"
             ],
             [
              1,
              "#f0f921"
             ]
            ],
            "type": "contour"
           }
          ],
          "contourcarpet": [
           {
            "colorbar": {
             "outlinewidth": 0,
             "ticks": ""
            },
            "type": "contourcarpet"
           }
          ],
          "heatmap": [
           {
            "colorbar": {
             "outlinewidth": 0,
             "ticks": ""
            },
            "colorscale": [
             [
              0,
              "#0d0887"
             ],
             [
              0.1111111111111111,
              "#46039f"
             ],
             [
              0.2222222222222222,
              "#7201a8"
             ],
             [
              0.3333333333333333,
              "#9c179e"
             ],
             [
              0.4444444444444444,
              "#bd3786"
             ],
             [
              0.5555555555555556,
              "#d8576b"
             ],
             [
              0.6666666666666666,
              "#ed7953"
             ],
             [
              0.7777777777777778,
              "#fb9f3a"
             ],
             [
              0.8888888888888888,
              "#fdca26"
             ],
             [
              1,
              "#f0f921"
             ]
            ],
            "type": "heatmap"
           }
          ],
          "heatmapgl": [
           {
            "colorbar": {
             "outlinewidth": 0,
             "ticks": ""
            },
            "colorscale": [
             [
              0,
              "#0d0887"
             ],
             [
              0.1111111111111111,
              "#46039f"
             ],
             [
              0.2222222222222222,
              "#7201a8"
             ],
             [
              0.3333333333333333,
              "#9c179e"
             ],
             [
              0.4444444444444444,
              "#bd3786"
             ],
             [
              0.5555555555555556,
              "#d8576b"
             ],
             [
              0.6666666666666666,
              "#ed7953"
             ],
             [
              0.7777777777777778,
              "#fb9f3a"
             ],
             [
              0.8888888888888888,
              "#fdca26"
             ],
             [
              1,
              "#f0f921"
             ]
            ],
            "type": "heatmapgl"
           }
          ],
          "histogram": [
           {
            "marker": {
             "pattern": {
              "fillmode": "overlay",
              "size": 10,
              "solidity": 0.2
             }
            },
            "type": "histogram"
           }
          ],
          "histogram2d": [
           {
            "colorbar": {
             "outlinewidth": 0,
             "ticks": ""
            },
            "colorscale": [
             [
              0,
              "#0d0887"
             ],
             [
              0.1111111111111111,
              "#46039f"
             ],
             [
              0.2222222222222222,
              "#7201a8"
             ],
             [
              0.3333333333333333,
              "#9c179e"
             ],
             [
              0.4444444444444444,
              "#bd3786"
             ],
             [
              0.5555555555555556,
              "#d8576b"
             ],
             [
              0.6666666666666666,
              "#ed7953"
             ],
             [
              0.7777777777777778,
              "#fb9f3a"
             ],
             [
              0.8888888888888888,
              "#fdca26"
             ],
             [
              1,
              "#f0f921"
             ]
            ],
            "type": "histogram2d"
           }
          ],
          "histogram2dcontour": [
           {
            "colorbar": {
             "outlinewidth": 0,
             "ticks": ""
            },
            "colorscale": [
             [
              0,
              "#0d0887"
             ],
             [
              0.1111111111111111,
              "#46039f"
             ],
             [
              0.2222222222222222,
              "#7201a8"
             ],
             [
              0.3333333333333333,
              "#9c179e"
             ],
             [
              0.4444444444444444,
              "#bd3786"
             ],
             [
              0.5555555555555556,
              "#d8576b"
             ],
             [
              0.6666666666666666,
              "#ed7953"
             ],
             [
              0.7777777777777778,
              "#fb9f3a"
             ],
             [
              0.8888888888888888,
              "#fdca26"
             ],
             [
              1,
              "#f0f921"
             ]
            ],
            "type": "histogram2dcontour"
           }
          ],
          "mesh3d": [
           {
            "colorbar": {
             "outlinewidth": 0,
             "ticks": ""
            },
            "type": "mesh3d"
           }
          ],
          "parcoords": [
           {
            "line": {
             "colorbar": {
              "outlinewidth": 0,
              "ticks": ""
             }
            },
            "type": "parcoords"
           }
          ],
          "pie": [
           {
            "automargin": true,
            "type": "pie"
           }
          ],
          "scatter": [
           {
            "fillpattern": {
             "fillmode": "overlay",
             "size": 10,
             "solidity": 0.2
            },
            "type": "scatter"
           }
          ],
          "scatter3d": [
           {
            "line": {
             "colorbar": {
              "outlinewidth": 0,
              "ticks": ""
             }
            },
            "marker": {
             "colorbar": {
              "outlinewidth": 0,
              "ticks": ""
             }
            },
            "type": "scatter3d"
           }
          ],
          "scattercarpet": [
           {
            "marker": {
             "colorbar": {
              "outlinewidth": 0,
              "ticks": ""
             }
            },
            "type": "scattercarpet"
           }
          ],
          "scattergeo": [
           {
            "marker": {
             "colorbar": {
              "outlinewidth": 0,
              "ticks": ""
             }
            },
            "type": "scattergeo"
           }
          ],
          "scattergl": [
           {
            "marker": {
             "colorbar": {
              "outlinewidth": 0,
              "ticks": ""
             }
            },
            "type": "scattergl"
           }
          ],
          "scattermapbox": [
           {
            "marker": {
             "colorbar": {
              "outlinewidth": 0,
              "ticks": ""
             }
            },
            "type": "scattermapbox"
           }
          ],
          "scatterpolar": [
           {
            "marker": {
             "colorbar": {
              "outlinewidth": 0,
              "ticks": ""
             }
            },
            "type": "scatterpolar"
           }
          ],
          "scatterpolargl": [
           {
            "marker": {
             "colorbar": {
              "outlinewidth": 0,
              "ticks": ""
             }
            },
            "type": "scatterpolargl"
           }
          ],
          "scatterternary": [
           {
            "marker": {
             "colorbar": {
              "outlinewidth": 0,
              "ticks": ""
             }
            },
            "type": "scatterternary"
           }
          ],
          "surface": [
           {
            "colorbar": {
             "outlinewidth": 0,
             "ticks": ""
            },
            "colorscale": [
             [
              0,
              "#0d0887"
             ],
             [
              0.1111111111111111,
              "#46039f"
             ],
             [
              0.2222222222222222,
              "#7201a8"
             ],
             [
              0.3333333333333333,
              "#9c179e"
             ],
             [
              0.4444444444444444,
              "#bd3786"
             ],
             [
              0.5555555555555556,
              "#d8576b"
             ],
             [
              0.6666666666666666,
              "#ed7953"
             ],
             [
              0.7777777777777778,
              "#fb9f3a"
             ],
             [
              0.8888888888888888,
              "#fdca26"
             ],
             [
              1,
              "#f0f921"
             ]
            ],
            "type": "surface"
           }
          ],
          "table": [
           {
            "cells": {
             "fill": {
              "color": "#EBF0F8"
             },
             "line": {
              "color": "white"
             }
            },
            "header": {
             "fill": {
              "color": "#C8D4E3"
             },
             "line": {
              "color": "white"
             }
            },
            "type": "table"
           }
          ]
         },
         "layout": {
          "annotationdefaults": {
           "arrowcolor": "#2a3f5f",
           "arrowhead": 0,
           "arrowwidth": 1
          },
          "autotypenumbers": "strict",
          "coloraxis": {
           "colorbar": {
            "outlinewidth": 0,
            "ticks": ""
           }
          },
          "colorscale": {
           "diverging": [
            [
             0,
             "#8e0152"
            ],
            [
             0.1,
             "#c51b7d"
            ],
            [
             0.2,
             "#de77ae"
            ],
            [
             0.3,
             "#f1b6da"
            ],
            [
             0.4,
             "#fde0ef"
            ],
            [
             0.5,
             "#f7f7f7"
            ],
            [
             0.6,
             "#e6f5d0"
            ],
            [
             0.7,
             "#b8e186"
            ],
            [
             0.8,
             "#7fbc41"
            ],
            [
             0.9,
             "#4d9221"
            ],
            [
             1,
             "#276419"
            ]
           ],
           "sequential": [
            [
             0,
             "#0d0887"
            ],
            [
             0.1111111111111111,
             "#46039f"
            ],
            [
             0.2222222222222222,
             "#7201a8"
            ],
            [
             0.3333333333333333,
             "#9c179e"
            ],
            [
             0.4444444444444444,
             "#bd3786"
            ],
            [
             0.5555555555555556,
             "#d8576b"
            ],
            [
             0.6666666666666666,
             "#ed7953"
            ],
            [
             0.7777777777777778,
             "#fb9f3a"
            ],
            [
             0.8888888888888888,
             "#fdca26"
            ],
            [
             1,
             "#f0f921"
            ]
           ],
           "sequentialminus": [
            [
             0,
             "#0d0887"
            ],
            [
             0.1111111111111111,
             "#46039f"
            ],
            [
             0.2222222222222222,
             "#7201a8"
            ],
            [
             0.3333333333333333,
             "#9c179e"
            ],
            [
             0.4444444444444444,
             "#bd3786"
            ],
            [
             0.5555555555555556,
             "#d8576b"
            ],
            [
             0.6666666666666666,
             "#ed7953"
            ],
            [
             0.7777777777777778,
             "#fb9f3a"
            ],
            [
             0.8888888888888888,
             "#fdca26"
            ],
            [
             1,
             "#f0f921"
            ]
           ]
          },
          "colorway": [
           "#636efa",
           "#EF553B",
           "#00cc96",
           "#ab63fa",
           "#FFA15A",
           "#19d3f3",
           "#FF6692",
           "#B6E880",
           "#FF97FF",
           "#FECB52"
          ],
          "font": {
           "color": "#2a3f5f"
          },
          "geo": {
           "bgcolor": "white",
           "lakecolor": "white",
           "landcolor": "#E5ECF6",
           "showlakes": true,
           "showland": true,
           "subunitcolor": "white"
          },
          "hoverlabel": {
           "align": "left"
          },
          "hovermode": "closest",
          "mapbox": {
           "style": "light"
          },
          "paper_bgcolor": "white",
          "plot_bgcolor": "#E5ECF6",
          "polar": {
           "angularaxis": {
            "gridcolor": "white",
            "linecolor": "white",
            "ticks": ""
           },
           "bgcolor": "#E5ECF6",
           "radialaxis": {
            "gridcolor": "white",
            "linecolor": "white",
            "ticks": ""
           }
          },
          "scene": {
           "xaxis": {
            "backgroundcolor": "#E5ECF6",
            "gridcolor": "white",
            "gridwidth": 2,
            "linecolor": "white",
            "showbackground": true,
            "ticks": "",
            "zerolinecolor": "white"
           },
           "yaxis": {
            "backgroundcolor": "#E5ECF6",
            "gridcolor": "white",
            "gridwidth": 2,
            "linecolor": "white",
            "showbackground": true,
            "ticks": "",
            "zerolinecolor": "white"
           },
           "zaxis": {
            "backgroundcolor": "#E5ECF6",
            "gridcolor": "white",
            "gridwidth": 2,
            "linecolor": "white",
            "showbackground": true,
            "ticks": "",
            "zerolinecolor": "white"
           }
          },
          "shapedefaults": {
           "line": {
            "color": "#2a3f5f"
           }
          },
          "ternary": {
           "aaxis": {
            "gridcolor": "white",
            "linecolor": "white",
            "ticks": ""
           },
           "baxis": {
            "gridcolor": "white",
            "linecolor": "white",
            "ticks": ""
           },
           "bgcolor": "#E5ECF6",
           "caxis": {
            "gridcolor": "white",
            "linecolor": "white",
            "ticks": ""
           }
          },
          "title": {
           "x": 0.05
          },
          "xaxis": {
           "automargin": true,
           "gridcolor": "white",
           "linecolor": "white",
           "ticks": "",
           "title": {
            "standoff": 15
           },
           "zerolinecolor": "white",
           "zerolinewidth": 2
          },
          "yaxis": {
           "automargin": true,
           "gridcolor": "white",
           "linecolor": "white",
           "ticks": "",
           "title": {
            "standoff": 15
           },
           "zerolinecolor": "white",
           "zerolinewidth": 2
          }
         }
        },
        "title": {
         "text": "Malaysia Population By Ethnic Groups",
         "x": 0.5
        },
        "xaxis": {
         "anchor": "y",
         "domain": [
          0,
          0.45
         ]
        },
        "xaxis10": {
         "anchor": "y10",
         "domain": [
          0,
          0.45
         ]
        },
        "xaxis2": {
         "anchor": "y2",
         "domain": [
          0,
          0.45
         ]
        },
        "xaxis3": {
         "anchor": "y3",
         "domain": [
          0,
          0.45
         ]
        },
        "xaxis4": {
         "anchor": "y4",
         "domain": [
          0,
          0.45
         ]
        },
        "xaxis5": {
         "anchor": "y5",
         "domain": [
          0,
          0.45
         ]
        },
        "xaxis6": {
         "anchor": "y6",
         "domain": [
          0,
          0.45
         ]
        },
        "xaxis7": {
         "anchor": "y7",
         "domain": [
          0,
          0.45
         ]
        },
        "xaxis8": {
         "anchor": "y8",
         "domain": [
          0,
          0.45
         ]
        },
        "xaxis9": {
         "anchor": "y9",
         "domain": [
          0,
          0.45
         ]
        },
        "yaxis": {
         "anchor": "x",
         "domain": [
          0.9450000000000001,
          1
         ]
        },
        "yaxis10": {
         "anchor": "x10",
         "domain": [
          0,
          0.05500000000000001
         ]
        },
        "yaxis2": {
         "anchor": "x2",
         "domain": [
          0.8400000000000001,
          0.8950000000000001
         ]
        },
        "yaxis3": {
         "anchor": "x3",
         "domain": [
          0.7350000000000001,
          0.7900000000000001
         ]
        },
        "yaxis4": {
         "anchor": "x4",
         "domain": [
          0.6300000000000001,
          0.6850000000000002
         ]
        },
        "yaxis5": {
         "anchor": "x5",
         "domain": [
          0.525,
          0.5800000000000001
         ]
        },
        "yaxis6": {
         "anchor": "x6",
         "domain": [
          0.42000000000000004,
          0.47500000000000003
         ]
        },
        "yaxis7": {
         "anchor": "x7",
         "domain": [
          0.31500000000000006,
          0.37000000000000005
         ]
        },
        "yaxis8": {
         "anchor": "x8",
         "domain": [
          0.21000000000000002,
          0.265
         ]
        },
        "yaxis9": {
         "anchor": "x9",
         "domain": [
          0.10500000000000001,
          0.16000000000000003
         ]
        }
       }
      },
      "text/html": [
       "<div>                            <div id=\"5c7f37c1-030d-405f-97d0-4b5c81a147ee\" class=\"plotly-graph-div\" style=\"height:500px; width:100%;\"></div>            <script type=\"text/javascript\">                require([\"plotly\"], function(Plotly) {                    window.PLOTLYENV=window.PLOTLYENV || {};                                    if (document.getElementById(\"5c7f37c1-030d-405f-97d0-4b5c81a147ee\")) {                    Plotly.newPlot(                        \"5c7f37c1-030d-405f-97d0-4b5c81a147ee\",                        [{\"name\":\"2010\",\"x\":[\"Bumiputera\",\"Chinese\",\"Indians\",\"Non Malaysian\",\"Others\"],\"y\":[17676799.0,6430389.0,1924899.0,2324540.0,232010.0],\"type\":\"bar\",\"xaxis\":\"x\",\"yaxis\":\"y\"},{\"labels\":[17676799.0,6430389.0,1924899.0,2324540.0,232010.0],\"textinfo\":\"label+percent\",\"values\":[\"Bumiputera\",\"Chinese\",\"Indians\",\"Non Malaysian\",\"Others\"],\"type\":\"pie\",\"domain\":{\"x\":[0.55,1.0],\"y\":[0.9450000000000001,1.0]}},{\"name\":\"2011\",\"x\":[\"Bumiputera\",\"Chinese\",\"Indians\",\"Non Malaysian\",\"Others\"],\"y\":[17963900.0,6471200.0,1939900.0,2445200.0,241700.0],\"type\":\"bar\",\"xaxis\":\"x2\",\"yaxis\":\"y2\"},{\"labels\":[17963900.0,6471200.0,1939900.0,2445200.0,241700.0],\"textinfo\":\"label+percent\",\"values\":[\"Bumiputera\",\"Chinese\",\"Indians\",\"Non Malaysian\",\"Others\"],\"type\":\"pie\",\"domain\":{\"x\":[0.55,1.0],\"y\":[0.8400000000000001,0.8950000000000001]}},{\"name\":\"2012\",\"x\":[\"Bumiputera\",\"Chinese\",\"Indians\",\"Non Malaysian\",\"Others\"],\"y\":[18249700.0,6510700.0,1951900.0,2548100.0,248900.0],\"type\":\"bar\",\"xaxis\":\"x3\",\"yaxis\":\"y3\"},{\"labels\":[18249700.0,6510700.0,1951900.0,2548100.0,248900.0],\"textinfo\":\"label+percent\",\"values\":[\"Bumiputera\",\"Chinese\",\"Indians\",\"Non Malaysian\",\"Others\"],\"type\":\"pie\",\"domain\":{\"x\":[0.55,1.0],\"y\":[0.7350000000000001,0.7900000000000001]}},{\"name\":\"2013\",\"x\":[\"Bumiputera\",\"Chinese\",\"Indians\",\"Non Malaysian\",\"Others\"],\"y\":[18549100.0,6554600.0,1965200.0,2888300.0,256800.0],\"type\":\"bar\",\"xaxis\":\"x4\",\"yaxis\":\"y4\"},{\"labels\":[18549100.0,6554600.0,1965200.0,2888300.0,256800.0],\"textinfo\":\"label+percent\",\"values\":[\"Bumiputera\",\"Chinese\",\"Indians\",\"Non Malaysian\",\"Others\"],\"type\":\"pie\",\"domain\":{\"x\":[0.55,1.0],\"y\":[0.6300000000000001,0.6850000000000002]}},{\"name\":\"2014\",\"x\":[\"Bumiputera\",\"Chinese\",\"Indians\",\"Non Malaysian\",\"Others\"],\"y\":[18866700.0,6586100.0,1977500.0,3012400.0,265700.0],\"type\":\"bar\",\"xaxis\":\"x5\",\"yaxis\":\"y5\"},{\"labels\":[18866700.0,6586100.0,1977500.0,3012400.0,265700.0],\"textinfo\":\"label+percent\",\"values\":[\"Bumiputera\",\"Chinese\",\"Indians\",\"Non Malaysian\",\"Others\"],\"type\":\"pie\",\"domain\":{\"x\":[0.55,1.0],\"y\":[0.525,0.5800000000000001]}},{\"name\":\"2015\",\"x\":[\"Bumiputera\",\"Chinese\",\"Indians\",\"Non Malaysian\",\"Others\"],\"y\":[19182700.0,6619000.0,1986400.0,3125900.0,272400.0],\"type\":\"bar\",\"xaxis\":\"x6\",\"yaxis\":\"y6\"},{\"labels\":[19182700.0,6619000.0,1986400.0,3125900.0,272400.0],\"textinfo\":\"label+percent\",\"values\":[\"Bumiputera\",\"Chinese\",\"Indians\",\"Non Malaysian\",\"Others\"],\"type\":\"pie\",\"domain\":{\"x\":[0.55,1.0],\"y\":[0.42000000000000004,0.47500000000000003]}},{\"name\":\"2016\",\"x\":[\"Bumiputera\",\"Chinese\",\"Indians\",\"Non Malaysian\",\"Others\"],\"y\":[19485300.0,6645800.0,1991600.0,3229800.0,280800.0],\"type\":\"bar\",\"xaxis\":\"x7\",\"yaxis\":\"y7\"},{\"labels\":[19485300.0,6645800.0,1991600.0,3229800.0,280800.0],\"textinfo\":\"label+percent\",\"values\":[\"Bumiputera\",\"Chinese\",\"Indians\",\"Non Malaysian\",\"Others\"],\"type\":\"pie\",\"domain\":{\"x\":[0.55,1.0],\"y\":[0.31500000000000006,0.37000000000000005]}},{\"name\":\"2017\",\"x\":[\"Bumiputera\",\"Chinese\",\"Indians\",\"Non Malaysian\",\"Others\"],\"y\":[19781000.0,6665100.0,2001000.0,3287400.0,287900.0],\"type\":\"bar\",\"xaxis\":\"x8\",\"yaxis\":\"y8\"},{\"labels\":[19781000.0,6665100.0,2001000.0,3287400.0,287900.0],\"textinfo\":\"label+percent\",\"values\":[\"Bumiputera\",\"Chinese\",\"Indians\",\"Non Malaysian\",\"Others\"],\"type\":\"pie\",\"domain\":{\"x\":[0.55,1.0],\"y\":[0.21000000000000002,0.265]}},{\"name\":\"2018\",\"x\":[\"Bumiputera\",\"Chinese\",\"Indians\",\"Non Malaysian\",\"Others\"],\"y\":[20075700.0,6682100.0,2008100.0,3322800.0,293600.0],\"type\":\"bar\",\"xaxis\":\"x9\",\"yaxis\":\"y9\"},{\"labels\":[20075700.0,6682100.0,2008100.0,3322800.0,293600.0],\"textinfo\":\"label+percent\",\"values\":[\"Bumiputera\",\"Chinese\",\"Indians\",\"Non Malaysian\",\"Others\"],\"type\":\"pie\",\"domain\":{\"x\":[0.55,1.0],\"y\":[0.10500000000000001,0.16000000000000003]}},{\"name\":\"2019\",\"x\":[\"Bumiputera\",\"Chinese\",\"Indians\",\"Non Malaysian\",\"Others\"],\"y\":[20367300.0,6695800.0,2014600.0,3204500.0,299800.0],\"type\":\"bar\",\"xaxis\":\"x10\",\"yaxis\":\"y10\"},{\"labels\":[20367300.0,6695800.0,2014600.0,3204500.0,299800.0],\"textinfo\":\"label+percent\",\"values\":[\"Bumiputera\",\"Chinese\",\"Indians\",\"Non Malaysian\",\"Others\"],\"type\":\"pie\",\"domain\":{\"x\":[0.55,1.0],\"y\":[0.0,0.05500000000000001]}}],                        {\"template\":{\"data\":{\"histogram2dcontour\":[{\"type\":\"histogram2dcontour\",\"colorbar\":{\"outlinewidth\":0,\"ticks\":\"\"},\"colorscale\":[[0.0,\"#0d0887\"],[0.1111111111111111,\"#46039f\"],[0.2222222222222222,\"#7201a8\"],[0.3333333333333333,\"#9c179e\"],[0.4444444444444444,\"#bd3786\"],[0.5555555555555556,\"#d8576b\"],[0.6666666666666666,\"#ed7953\"],[0.7777777777777778,\"#fb9f3a\"],[0.8888888888888888,\"#fdca26\"],[1.0,\"#f0f921\"]]}],\"choropleth\":[{\"type\":\"choropleth\",\"colorbar\":{\"outlinewidth\":0,\"ticks\":\"\"}}],\"histogram2d\":[{\"type\":\"histogram2d\",\"colorbar\":{\"outlinewidth\":0,\"ticks\":\"\"},\"colorscale\":[[0.0,\"#0d0887\"],[0.1111111111111111,\"#46039f\"],[0.2222222222222222,\"#7201a8\"],[0.3333333333333333,\"#9c179e\"],[0.4444444444444444,\"#bd3786\"],[0.5555555555555556,\"#d8576b\"],[0.6666666666666666,\"#ed7953\"],[0.7777777777777778,\"#fb9f3a\"],[0.8888888888888888,\"#fdca26\"],[1.0,\"#f0f921\"]]}],\"heatmap\":[{\"type\":\"heatmap\",\"colorbar\":{\"outlinewidth\":0,\"ticks\":\"\"},\"colorscale\":[[0.0,\"#0d0887\"],[0.1111111111111111,\"#46039f\"],[0.2222222222222222,\"#7201a8\"],[0.3333333333333333,\"#9c179e\"],[0.4444444444444444,\"#bd3786\"],[0.5555555555555556,\"#d8576b\"],[0.6666666666666666,\"#ed7953\"],[0.7777777777777778,\"#fb9f3a\"],[0.8888888888888888,\"#fdca26\"],[1.0,\"#f0f921\"]]}],\"heatmapgl\":[{\"type\":\"heatmapgl\",\"colorbar\":{\"outlinewidth\":0,\"ticks\":\"\"},\"colorscale\":[[0.0,\"#0d0887\"],[0.1111111111111111,\"#46039f\"],[0.2222222222222222,\"#7201a8\"],[0.3333333333333333,\"#9c179e\"],[0.4444444444444444,\"#bd3786\"],[0.5555555555555556,\"#d8576b\"],[0.6666666666666666,\"#ed7953\"],[0.7777777777777778,\"#fb9f3a\"],[0.8888888888888888,\"#fdca26\"],[1.0,\"#f0f921\"]]}],\"contourcarpet\":[{\"type\":\"contourcarpet\",\"colorbar\":{\"outlinewidth\":0,\"ticks\":\"\"}}],\"contour\":[{\"type\":\"contour\",\"colorbar\":{\"outlinewidth\":0,\"ticks\":\"\"},\"colorscale\":[[0.0,\"#0d0887\"],[0.1111111111111111,\"#46039f\"],[0.2222222222222222,\"#7201a8\"],[0.3333333333333333,\"#9c179e\"],[0.4444444444444444,\"#bd3786\"],[0.5555555555555556,\"#d8576b\"],[0.6666666666666666,\"#ed7953\"],[0.7777777777777778,\"#fb9f3a\"],[0.8888888888888888,\"#fdca26\"],[1.0,\"#f0f921\"]]}],\"surface\":[{\"type\":\"surface\",\"colorbar\":{\"outlinewidth\":0,\"ticks\":\"\"},\"colorscale\":[[0.0,\"#0d0887\"],[0.1111111111111111,\"#46039f\"],[0.2222222222222222,\"#7201a8\"],[0.3333333333333333,\"#9c179e\"],[0.4444444444444444,\"#bd3786\"],[0.5555555555555556,\"#d8576b\"],[0.6666666666666666,\"#ed7953\"],[0.7777777777777778,\"#fb9f3a\"],[0.8888888888888888,\"#fdca26\"],[1.0,\"#f0f921\"]]}],\"mesh3d\":[{\"type\":\"mesh3d\",\"colorbar\":{\"outlinewidth\":0,\"ticks\":\"\"}}],\"scatter\":[{\"fillpattern\":{\"fillmode\":\"overlay\",\"size\":10,\"solidity\":0.2},\"type\":\"scatter\"}],\"parcoords\":[{\"type\":\"parcoords\",\"line\":{\"colorbar\":{\"outlinewidth\":0,\"ticks\":\"\"}}}],\"scatterpolargl\":[{\"type\":\"scatterpolargl\",\"marker\":{\"colorbar\":{\"outlinewidth\":0,\"ticks\":\"\"}}}],\"bar\":[{\"error_x\":{\"color\":\"#2a3f5f\"},\"error_y\":{\"color\":\"#2a3f5f\"},\"marker\":{\"line\":{\"color\":\"#E5ECF6\",\"width\":0.5},\"pattern\":{\"fillmode\":\"overlay\",\"size\":10,\"solidity\":0.2}},\"type\":\"bar\"}],\"scattergeo\":[{\"type\":\"scattergeo\",\"marker\":{\"colorbar\":{\"outlinewidth\":0,\"ticks\":\"\"}}}],\"scatterpolar\":[{\"type\":\"scatterpolar\",\"marker\":{\"colorbar\":{\"outlinewidth\":0,\"ticks\":\"\"}}}],\"histogram\":[{\"marker\":{\"pattern\":{\"fillmode\":\"overlay\",\"size\":10,\"solidity\":0.2}},\"type\":\"histogram\"}],\"scattergl\":[{\"type\":\"scattergl\",\"marker\":{\"colorbar\":{\"outlinewidth\":0,\"ticks\":\"\"}}}],\"scatter3d\":[{\"type\":\"scatter3d\",\"line\":{\"colorbar\":{\"outlinewidth\":0,\"ticks\":\"\"}},\"marker\":{\"colorbar\":{\"outlinewidth\":0,\"ticks\":\"\"}}}],\"scattermapbox\":[{\"type\":\"scattermapbox\",\"marker\":{\"colorbar\":{\"outlinewidth\":0,\"ticks\":\"\"}}}],\"scatterternary\":[{\"type\":\"scatterternary\",\"marker\":{\"colorbar\":{\"outlinewidth\":0,\"ticks\":\"\"}}}],\"scattercarpet\":[{\"type\":\"scattercarpet\",\"marker\":{\"colorbar\":{\"outlinewidth\":0,\"ticks\":\"\"}}}],\"carpet\":[{\"aaxis\":{\"endlinecolor\":\"#2a3f5f\",\"gridcolor\":\"white\",\"linecolor\":\"white\",\"minorgridcolor\":\"white\",\"startlinecolor\":\"#2a3f5f\"},\"baxis\":{\"endlinecolor\":\"#2a3f5f\",\"gridcolor\":\"white\",\"linecolor\":\"white\",\"minorgridcolor\":\"white\",\"startlinecolor\":\"#2a3f5f\"},\"type\":\"carpet\"}],\"table\":[{\"cells\":{\"fill\":{\"color\":\"#EBF0F8\"},\"line\":{\"color\":\"white\"}},\"header\":{\"fill\":{\"color\":\"#C8D4E3\"},\"line\":{\"color\":\"white\"}},\"type\":\"table\"}],\"barpolar\":[{\"marker\":{\"line\":{\"color\":\"#E5ECF6\",\"width\":0.5},\"pattern\":{\"fillmode\":\"overlay\",\"size\":10,\"solidity\":0.2}},\"type\":\"barpolar\"}],\"pie\":[{\"automargin\":true,\"type\":\"pie\"}]},\"layout\":{\"autotypenumbers\":\"strict\",\"colorway\":[\"#636efa\",\"#EF553B\",\"#00cc96\",\"#ab63fa\",\"#FFA15A\",\"#19d3f3\",\"#FF6692\",\"#B6E880\",\"#FF97FF\",\"#FECB52\"],\"font\":{\"color\":\"#2a3f5f\"},\"hovermode\":\"closest\",\"hoverlabel\":{\"align\":\"left\"},\"paper_bgcolor\":\"white\",\"plot_bgcolor\":\"#E5ECF6\",\"polar\":{\"bgcolor\":\"#E5ECF6\",\"angularaxis\":{\"gridcolor\":\"white\",\"linecolor\":\"white\",\"ticks\":\"\"},\"radialaxis\":{\"gridcolor\":\"white\",\"linecolor\":\"white\",\"ticks\":\"\"}},\"ternary\":{\"bgcolor\":\"#E5ECF6\",\"aaxis\":{\"gridcolor\":\"white\",\"linecolor\":\"white\",\"ticks\":\"\"},\"baxis\":{\"gridcolor\":\"white\",\"linecolor\":\"white\",\"ticks\":\"\"},\"caxis\":{\"gridcolor\":\"white\",\"linecolor\":\"white\",\"ticks\":\"\"}},\"coloraxis\":{\"colorbar\":{\"outlinewidth\":0,\"ticks\":\"\"}},\"colorscale\":{\"sequential\":[[0.0,\"#0d0887\"],[0.1111111111111111,\"#46039f\"],[0.2222222222222222,\"#7201a8\"],[0.3333333333333333,\"#9c179e\"],[0.4444444444444444,\"#bd3786\"],[0.5555555555555556,\"#d8576b\"],[0.6666666666666666,\"#ed7953\"],[0.7777777777777778,\"#fb9f3a\"],[0.8888888888888888,\"#fdca26\"],[1.0,\"#f0f921\"]],\"sequentialminus\":[[0.0,\"#0d0887\"],[0.1111111111111111,\"#46039f\"],[0.2222222222222222,\"#7201a8\"],[0.3333333333333333,\"#9c179e\"],[0.4444444444444444,\"#bd3786\"],[0.5555555555555556,\"#d8576b\"],[0.6666666666666666,\"#ed7953\"],[0.7777777777777778,\"#fb9f3a\"],[0.8888888888888888,\"#fdca26\"],[1.0,\"#f0f921\"]],\"diverging\":[[0,\"#8e0152\"],[0.1,\"#c51b7d\"],[0.2,\"#de77ae\"],[0.3,\"#f1b6da\"],[0.4,\"#fde0ef\"],[0.5,\"#f7f7f7\"],[0.6,\"#e6f5d0\"],[0.7,\"#b8e186\"],[0.8,\"#7fbc41\"],[0.9,\"#4d9221\"],[1,\"#276419\"]]},\"xaxis\":{\"gridcolor\":\"white\",\"linecolor\":\"white\",\"ticks\":\"\",\"title\":{\"standoff\":15},\"zerolinecolor\":\"white\",\"automargin\":true,\"zerolinewidth\":2},\"yaxis\":{\"gridcolor\":\"white\",\"linecolor\":\"white\",\"ticks\":\"\",\"title\":{\"standoff\":15},\"zerolinecolor\":\"white\",\"automargin\":true,\"zerolinewidth\":2},\"scene\":{\"xaxis\":{\"backgroundcolor\":\"#E5ECF6\",\"gridcolor\":\"white\",\"linecolor\":\"white\",\"showbackground\":true,\"ticks\":\"\",\"zerolinecolor\":\"white\",\"gridwidth\":2},\"yaxis\":{\"backgroundcolor\":\"#E5ECF6\",\"gridcolor\":\"white\",\"linecolor\":\"white\",\"showbackground\":true,\"ticks\":\"\",\"zerolinecolor\":\"white\",\"gridwidth\":2},\"zaxis\":{\"backgroundcolor\":\"#E5ECF6\",\"gridcolor\":\"white\",\"linecolor\":\"white\",\"showbackground\":true,\"ticks\":\"\",\"zerolinecolor\":\"white\",\"gridwidth\":2}},\"shapedefaults\":{\"line\":{\"color\":\"#2a3f5f\"}},\"annotationdefaults\":{\"arrowcolor\":\"#2a3f5f\",\"arrowhead\":0,\"arrowwidth\":1},\"geo\":{\"bgcolor\":\"white\",\"landcolor\":\"#E5ECF6\",\"subunitcolor\":\"white\",\"showland\":true,\"showlakes\":true,\"lakecolor\":\"white\"},\"title\":{\"x\":0.05},\"mapbox\":{\"style\":\"light\"}}},\"xaxis\":{\"anchor\":\"y\",\"domain\":[0.0,0.45]},\"yaxis\":{\"anchor\":\"x\",\"domain\":[0.9450000000000001,1.0]},\"xaxis2\":{\"anchor\":\"y2\",\"domain\":[0.0,0.45]},\"yaxis2\":{\"anchor\":\"x2\",\"domain\":[0.8400000000000001,0.8950000000000001]},\"xaxis3\":{\"anchor\":\"y3\",\"domain\":[0.0,0.45]},\"yaxis3\":{\"anchor\":\"x3\",\"domain\":[0.7350000000000001,0.7900000000000001]},\"xaxis4\":{\"anchor\":\"y4\",\"domain\":[0.0,0.45]},\"yaxis4\":{\"anchor\":\"x4\",\"domain\":[0.6300000000000001,0.6850000000000002]},\"xaxis5\":{\"anchor\":\"y5\",\"domain\":[0.0,0.45]},\"yaxis5\":{\"anchor\":\"x5\",\"domain\":[0.525,0.5800000000000001]},\"xaxis6\":{\"anchor\":\"y6\",\"domain\":[0.0,0.45]},\"yaxis6\":{\"anchor\":\"x6\",\"domain\":[0.42000000000000004,0.47500000000000003]},\"xaxis7\":{\"anchor\":\"y7\",\"domain\":[0.0,0.45]},\"yaxis7\":{\"anchor\":\"x7\",\"domain\":[0.31500000000000006,0.37000000000000005]},\"xaxis8\":{\"anchor\":\"y8\",\"domain\":[0.0,0.45]},\"yaxis8\":{\"anchor\":\"x8\",\"domain\":[0.21000000000000002,0.265]},\"xaxis9\":{\"anchor\":\"y9\",\"domain\":[0.0,0.45]},\"yaxis9\":{\"anchor\":\"x9\",\"domain\":[0.10500000000000001,0.16000000000000003]},\"xaxis10\":{\"anchor\":\"y10\",\"domain\":[0.0,0.45]},\"yaxis10\":{\"anchor\":\"x10\",\"domain\":[0.0,0.05500000000000001]},\"annotations\":[{\"font\":{\"size\":12,\"family\":\"Helvetica\"},\"showarrow\":false,\"text\":\"<b>Population By Ethnic Group 2010</b>\",\"x\":0.225,\"xanchor\":\"center\",\"xref\":\"paper\",\"y\":1.0,\"yanchor\":\"bottom\",\"yref\":\"paper\"},{\"font\":{\"size\":12,\"family\":\"Helvetica\"},\"showarrow\":false,\"text\":\"<b>Ethnic Group In Percentage 2010</b>\",\"x\":0.775,\"xanchor\":\"center\",\"xref\":\"paper\",\"y\":1.0,\"yanchor\":\"bottom\",\"yref\":\"paper\"},{\"font\":{\"size\":12,\"family\":\"Helvetica\"},\"showarrow\":false,\"text\":\"<b>Population By Ethnic Group 2011</b>\",\"x\":0.225,\"xanchor\":\"center\",\"xref\":\"paper\",\"y\":0.8950000000000001,\"yanchor\":\"bottom\",\"yref\":\"paper\"},{\"font\":{\"size\":12,\"family\":\"Helvetica\"},\"showarrow\":false,\"text\":\"<b>Ethnic Group In Percentage 2011</b>\",\"x\":0.775,\"xanchor\":\"center\",\"xref\":\"paper\",\"y\":0.8950000000000001,\"yanchor\":\"bottom\",\"yref\":\"paper\"},{\"font\":{\"size\":12,\"family\":\"Helvetica\"},\"showarrow\":false,\"text\":\"<b>Population By Ethnic Group 2012</b>\",\"x\":0.225,\"xanchor\":\"center\",\"xref\":\"paper\",\"y\":0.7900000000000001,\"yanchor\":\"bottom\",\"yref\":\"paper\"},{\"font\":{\"size\":12,\"family\":\"Helvetica\"},\"showarrow\":false,\"text\":\"<b>Ethnic Group In Percentage 2012</b>\",\"x\":0.775,\"xanchor\":\"center\",\"xref\":\"paper\",\"y\":0.7900000000000001,\"yanchor\":\"bottom\",\"yref\":\"paper\"},{\"font\":{\"size\":12,\"family\":\"Helvetica\"},\"showarrow\":false,\"text\":\"<b>Population By Ethnic Group 2013</b>\",\"x\":0.225,\"xanchor\":\"center\",\"xref\":\"paper\",\"y\":0.6850000000000002,\"yanchor\":\"bottom\",\"yref\":\"paper\"},{\"font\":{\"size\":12,\"family\":\"Helvetica\"},\"showarrow\":false,\"text\":\"<b>Ethnic Group In Percentage 2013</b>\",\"x\":0.775,\"xanchor\":\"center\",\"xref\":\"paper\",\"y\":0.6850000000000002,\"yanchor\":\"bottom\",\"yref\":\"paper\"},{\"font\":{\"size\":12,\"family\":\"Helvetica\"},\"showarrow\":false,\"text\":\"<b>Population By Ethnic Group 2014</b>\",\"x\":0.225,\"xanchor\":\"center\",\"xref\":\"paper\",\"y\":0.5800000000000001,\"yanchor\":\"bottom\",\"yref\":\"paper\"},{\"font\":{\"size\":12,\"family\":\"Helvetica\"},\"showarrow\":false,\"text\":\"<b>Ethnic Group In Percentage 2014</b>\",\"x\":0.775,\"xanchor\":\"center\",\"xref\":\"paper\",\"y\":0.5800000000000001,\"yanchor\":\"bottom\",\"yref\":\"paper\"},{\"font\":{\"size\":12,\"family\":\"Helvetica\"},\"showarrow\":false,\"text\":\"<b>Population By Ethnic Group 2015</b>\",\"x\":0.225,\"xanchor\":\"center\",\"xref\":\"paper\",\"y\":0.47500000000000003,\"yanchor\":\"bottom\",\"yref\":\"paper\"},{\"font\":{\"size\":12,\"family\":\"Helvetica\"},\"showarrow\":false,\"text\":\"<b>Ethnic Group In Percentage 2015</b>\",\"x\":0.775,\"xanchor\":\"center\",\"xref\":\"paper\",\"y\":0.47500000000000003,\"yanchor\":\"bottom\",\"yref\":\"paper\"},{\"font\":{\"size\":12,\"family\":\"Helvetica\"},\"showarrow\":false,\"text\":\"<b>Population By Ethnic Group 2016</b>\",\"x\":0.225,\"xanchor\":\"center\",\"xref\":\"paper\",\"y\":0.37000000000000005,\"yanchor\":\"bottom\",\"yref\":\"paper\"},{\"font\":{\"size\":12,\"family\":\"Helvetica\"},\"showarrow\":false,\"text\":\"<b>Ethnic Group In Percentage 2016</b>\",\"x\":0.775,\"xanchor\":\"center\",\"xref\":\"paper\",\"y\":0.37000000000000005,\"yanchor\":\"bottom\",\"yref\":\"paper\"},{\"font\":{\"size\":12,\"family\":\"Helvetica\"},\"showarrow\":false,\"text\":\"<b>Population By Ethnic Group 2017</b>\",\"x\":0.225,\"xanchor\":\"center\",\"xref\":\"paper\",\"y\":0.265,\"yanchor\":\"bottom\",\"yref\":\"paper\"},{\"font\":{\"size\":12,\"family\":\"Helvetica\"},\"showarrow\":false,\"text\":\"<b>Ethnic Group In Percentage 2017</b>\",\"x\":0.775,\"xanchor\":\"center\",\"xref\":\"paper\",\"y\":0.265,\"yanchor\":\"bottom\",\"yref\":\"paper\"},{\"font\":{\"size\":12,\"family\":\"Helvetica\"},\"showarrow\":false,\"text\":\"<b>Population By Ethnic Group 2018</b>\",\"x\":0.225,\"xanchor\":\"center\",\"xref\":\"paper\",\"y\":0.16000000000000003,\"yanchor\":\"bottom\",\"yref\":\"paper\"},{\"font\":{\"size\":12,\"family\":\"Helvetica\"},\"showarrow\":false,\"text\":\"<b>Ethnic Group In Percentage 2018</b>\",\"x\":0.775,\"xanchor\":\"center\",\"xref\":\"paper\",\"y\":0.16000000000000003,\"yanchor\":\"bottom\",\"yref\":\"paper\"},{\"font\":{\"size\":12,\"family\":\"Helvetica\"},\"showarrow\":false,\"text\":\"<b>Population By Ethnic Group 2019</b>\",\"x\":0.225,\"xanchor\":\"center\",\"xref\":\"paper\",\"y\":0.05500000000000001,\"yanchor\":\"bottom\",\"yref\":\"paper\"},{\"font\":{\"size\":12,\"family\":\"Helvetica\"},\"showarrow\":false,\"text\":\"<b>Ethnic Group In Percentage 2019</b>\",\"x\":0.775,\"xanchor\":\"center\",\"xref\":\"paper\",\"y\":0.05500000000000001,\"yanchor\":\"bottom\",\"yref\":\"paper\"}],\"title\":{\"text\":\"Malaysia Population By Ethnic Groups\",\"x\":0.5},\"height\":500,\"showlegend\":false,\"font\":{\"family\":\"Helvetica\",\"size\":12}},                        {\"responsive\": true}                    ).then(function(){\n",
       "                            \n",
       "var gd = document.getElementById('5c7f37c1-030d-405f-97d0-4b5c81a147ee');\n",
       "var x = new MutationObserver(function (mutations, observer) {{\n",
       "        var display = window.getComputedStyle(gd).display;\n",
       "        if (!display || display === 'none') {{\n",
       "            console.log([gd, 'removed!']);\n",
       "            Plotly.purge(gd);\n",
       "            observer.disconnect();\n",
       "        }}\n",
       "}});\n",
       "\n",
       "// Listen for the removal of the full notebook cells\n",
       "var notebookContainer = gd.closest('#notebook-container');\n",
       "if (notebookContainer) {{\n",
       "    x.observe(notebookContainer, {childList: true});\n",
       "}}\n",
       "\n",
       "// Listen for the clearing of the current output cell\n",
       "var outputEl = gd.closest('.output');\n",
       "if (outputEl) {{\n",
       "    x.observe(outputEl, {childList: true});\n",
       "}}\n",
       "\n",
       "                        })                };                });            </script>        </div>"
      ]
     },
     "metadata": {},
     "output_type": "display_data"
    }
   ],
   "source": [
    "fig = make_subplots(\n",
    "    rows=10, cols=2,\n",
    "    specs=[[{\"type\": \"xy\"},{\"type\": \"domain\"}],\n",
    "           [{\"type\": \"xy\"},{\"type\": \"domain\"}],\n",
    "           [{\"type\": \"xy\"},{\"type\": \"domain\"}],\n",
    "           [{\"type\": \"xy\"},{\"type\": \"domain\"}],\n",
    "           [{\"type\": \"xy\"},{\"type\": \"domain\"}],\n",
    "           [{\"type\": \"xy\"},{\"type\": \"domain\"}],\n",
    "           [{\"type\": \"xy\"},{\"type\": \"domain\"}],\n",
    "           [{\"type\": \"xy\"},{\"type\": \"domain\"}],\n",
    "           [{\"type\": \"xy\"},{\"type\": \"domain\"}],\n",
    "           [{\"type\": \"xy\"},{\"type\": \"domain\"}]],\n",
    "    subplot_titles=('<b>Population By Ethnic Group 2010</b>','<b>Ethnic Group In Percentage 2010</b>',\n",
    "                    '<b>Population By Ethnic Group 2011</b>','<b>Ethnic Group In Percentage 2011</b>',\n",
    "                    '<b>Population By Ethnic Group 2012</b>','<b>Ethnic Group In Percentage 2012</b>',\n",
    "                    '<b>Population By Ethnic Group 2013</b>','<b>Ethnic Group In Percentage 2013</b>',\n",
    "                    '<b>Population By Ethnic Group 2014</b>','<b>Ethnic Group In Percentage 2014</b>',\n",
    "                    '<b>Population By Ethnic Group 2015</b>','<b>Ethnic Group In Percentage 2015</b>',\n",
    "                    '<b>Population By Ethnic Group 2016</b>','<b>Ethnic Group In Percentage 2016</b>',\n",
    "                    '<b>Population By Ethnic Group 2017</b>','<b>Ethnic Group In Percentage 2017</b>',\n",
    "                    '<b>Population By Ethnic Group 2018</b>','<b>Ethnic Group In Percentage 2018</b>',\n",
    "                    '<b>Population By Ethnic Group 2019</b>','<b>Ethnic Group In Percentage 2019</b>')\n",
    ")\n",
    "#Graph 2010\n",
    "fig.add_trace(go.Bar(x = df_ethnic_population['Ethnic'], y = df_ethnic_population['2010'],name='2010'),row=1, col=1)\n",
    "fig.add_trace(go.Pie(values=df_ethnic_population['Ethnic'],labels=df_ethnic_population['2010'],\n",
    "                     textinfo='label+percent'),row=1, col=2)\n",
    "#Graph 2011\n",
    "fig.add_trace(go.Bar(x = df_ethnic_population['Ethnic'], y = df_ethnic_population['2011'],name='2011'),row=2, col=1)\n",
    "fig.add_trace(go.Pie(values=df_ethnic_population['Ethnic'],labels=df_ethnic_population['2011'],\n",
    "                     textinfo='label+percent'),row=2, col=2)\n",
    "#Graph 2012\n",
    "fig.add_trace(go.Bar(x = df_ethnic_population['Ethnic'], y = df_ethnic_population['2012'],name='2012'),row=3, col=1)\n",
    "fig.add_trace(go.Pie(values=df_ethnic_population['Ethnic'],labels=df_ethnic_population['2012'],\n",
    "                     textinfo='label+percent'),row=3, col=2)\n",
    "#Graph 2013\n",
    "fig.add_trace(go.Bar(x = df_ethnic_population['Ethnic'], y = df_ethnic_population['2013'],name='2013'),row=4, col=1)\n",
    "fig.add_trace(go.Pie(values=df_ethnic_population['Ethnic'],labels=df_ethnic_population['2013'],\n",
    "                     textinfo='label+percent'),row=4, col=2)\n",
    "#Graph 2014\n",
    "fig.add_trace(go.Bar(x = df_ethnic_population['Ethnic'], y = df_ethnic_population['2014'],name='2014'),row=5, col=1)\n",
    "fig.add_trace(go.Pie(values=df_ethnic_population['Ethnic'],labels=df_ethnic_population['2014'],\n",
    "                     textinfo='label+percent'),row=5, col=2)\n",
    "#Graph 2015\n",
    "fig.add_trace(go.Bar(x = df_ethnic_population['Ethnic'], y = df_ethnic_population['2015'],name='2015'),row=6, col=1)\n",
    "fig.add_trace(go.Pie(values=df_ethnic_population['Ethnic'],labels=df_ethnic_population['2015'],\n",
    "                     textinfo='label+percent'),row=6, col=2)\n",
    "#Graph 2016\n",
    "fig.add_trace(go.Bar(x = df_ethnic_population['Ethnic'], y = df_ethnic_population['2016'],name='2016'),row=7, col=1)\n",
    "fig.add_trace(go.Pie(values=df_ethnic_population['Ethnic'],labels=df_ethnic_population['2016'],\n",
    "                     textinfo='label+percent'),row=7, col=2)\n",
    "#Graph 2017\n",
    "fig.add_trace(go.Bar(x = df_ethnic_population['Ethnic'], y = df_ethnic_population['2017'],name='2017'),row=8, col=1)\n",
    "fig.add_trace(go.Pie(values=df_ethnic_population['Ethnic'],labels=df_ethnic_population['2017'],\n",
    "                     textinfo='label+percent'),row=8, col=2)\n",
    "#Graph 2018\n",
    "fig.add_trace(go.Bar(x = df_ethnic_population['Ethnic'], y = df_ethnic_population['2018'],name='2018'),row=9, col=1)\n",
    "fig.add_trace(go.Pie(values=df_ethnic_population['Ethnic'],labels=df_ethnic_population['2018'],\n",
    "                     textinfo='label+percent'),row=9, col=2)\n",
    "#Graph 2019\n",
    "fig.add_trace(go.Bar(x = df_ethnic_population['Ethnic'], y = df_ethnic_population['2019'],name='2019'),row=10, col=1)\n",
    "fig.add_trace(go.Pie(values=df_ethnic_population['Ethnic'],labels=df_ethnic_population['2019'],\n",
    "                     textinfo='label+percent'),row=10, col=2)\n",
    "\n",
    "fig.update_layout(height=500, showlegend=False,\n",
    "                 title_text='Malaysia Population By Ethnic Groups', title_x=0.5)\n",
    "fig.update_annotations(font=dict(family=\"Helvetica\", size=12))\n",
    "fig.update_layout(font=dict(family=\"Helvetica\", size=12))\n",
    "\n",
    "#fig.show()"
   ]
  },
  {
   "cell_type": "code",
   "execution_count": 19,
   "id": "6b7af3a6",
   "metadata": {},
   "outputs": [
    {
     "data": {
      "text/html": [
       "<style type=\"text/css\">\n",
       "#T_eb341_ caption {\n",
       "  color: black;\n",
       "  font-size: 20px;\n",
       "  text-align: center;\n",
       "  text-decoration: underline;\n",
       "  font-family: Arial;\n",
       "  text-shadow: 2px 2px 5px grey;\n",
       "}\n",
       "#T_eb341_ th {\n",
       "  text-align: left;\n",
       "}\n",
       "#T_eb341_row0_col0, #T_eb341_row1_col0, #T_eb341_row2_col0, #T_eb341_row3_col0, #T_eb341_row4_col0 {\n",
       "  text-align: left;\n",
       "}\n",
       "#T_eb341_row5_col0 {\n",
       "  text-align: left;\n",
       "  background: yellow;\n",
       "}\n",
       "#T_eb341_row5_col1, #T_eb341_row5_col2, #T_eb341_row5_col3, #T_eb341_row5_col4, #T_eb341_row5_col5, #T_eb341_row5_col6, #T_eb341_row5_col7, #T_eb341_row5_col8, #T_eb341_row5_col9, #T_eb341_row5_col10 {\n",
       "  background: yellow;\n",
       "}\n",
       "</style>\n",
       "<table id=\"T_eb341_\">\n",
       "  <caption>Malaysia Total Population By Ethnic Category</caption>\n",
       "  <thead>\n",
       "    <tr>\n",
       "      <th class=\"col_heading level0 col0\" >Ethnic</th>\n",
       "      <th class=\"col_heading level0 col1\" >2010</th>\n",
       "      <th class=\"col_heading level0 col2\" >2011</th>\n",
       "      <th class=\"col_heading level0 col3\" >2012</th>\n",
       "      <th class=\"col_heading level0 col4\" >2013</th>\n",
       "      <th class=\"col_heading level0 col5\" >2014</th>\n",
       "      <th class=\"col_heading level0 col6\" >2015</th>\n",
       "      <th class=\"col_heading level0 col7\" >2016</th>\n",
       "      <th class=\"col_heading level0 col8\" >2017</th>\n",
       "      <th class=\"col_heading level0 col9\" >2018</th>\n",
       "      <th class=\"col_heading level0 col10\" >2019</th>\n",
       "    </tr>\n",
       "  </thead>\n",
       "  <tbody>\n",
       "    <tr>\n",
       "      <td id=\"T_eb341_row0_col0\" class=\"data row0 col0\" >Bumiputera</td>\n",
       "      <td id=\"T_eb341_row0_col1\" class=\"data row0 col1\" >17,676,799</td>\n",
       "      <td id=\"T_eb341_row0_col2\" class=\"data row0 col2\" >17,963,900</td>\n",
       "      <td id=\"T_eb341_row0_col3\" class=\"data row0 col3\" >18,249,700</td>\n",
       "      <td id=\"T_eb341_row0_col4\" class=\"data row0 col4\" >18,549,100</td>\n",
       "      <td id=\"T_eb341_row0_col5\" class=\"data row0 col5\" >18,866,700</td>\n",
       "      <td id=\"T_eb341_row0_col6\" class=\"data row0 col6\" >19,182,700</td>\n",
       "      <td id=\"T_eb341_row0_col7\" class=\"data row0 col7\" >19,485,300</td>\n",
       "      <td id=\"T_eb341_row0_col8\" class=\"data row0 col8\" >19,781,000</td>\n",
       "      <td id=\"T_eb341_row0_col9\" class=\"data row0 col9\" >20,075,700</td>\n",
       "      <td id=\"T_eb341_row0_col10\" class=\"data row0 col10\" >20,367,300</td>\n",
       "    </tr>\n",
       "    <tr>\n",
       "      <td id=\"T_eb341_row1_col0\" class=\"data row1 col0\" >Chinese</td>\n",
       "      <td id=\"T_eb341_row1_col1\" class=\"data row1 col1\" >6,430,389</td>\n",
       "      <td id=\"T_eb341_row1_col2\" class=\"data row1 col2\" >6,471,200</td>\n",
       "      <td id=\"T_eb341_row1_col3\" class=\"data row1 col3\" >6,510,700</td>\n",
       "      <td id=\"T_eb341_row1_col4\" class=\"data row1 col4\" >6,554,600</td>\n",
       "      <td id=\"T_eb341_row1_col5\" class=\"data row1 col5\" >6,586,100</td>\n",
       "      <td id=\"T_eb341_row1_col6\" class=\"data row1 col6\" >6,619,000</td>\n",
       "      <td id=\"T_eb341_row1_col7\" class=\"data row1 col7\" >6,645,800</td>\n",
       "      <td id=\"T_eb341_row1_col8\" class=\"data row1 col8\" >6,665,100</td>\n",
       "      <td id=\"T_eb341_row1_col9\" class=\"data row1 col9\" >6,682,100</td>\n",
       "      <td id=\"T_eb341_row1_col10\" class=\"data row1 col10\" >6,695,800</td>\n",
       "    </tr>\n",
       "    <tr>\n",
       "      <td id=\"T_eb341_row2_col0\" class=\"data row2 col0\" >Indians</td>\n",
       "      <td id=\"T_eb341_row2_col1\" class=\"data row2 col1\" >1,924,899</td>\n",
       "      <td id=\"T_eb341_row2_col2\" class=\"data row2 col2\" >1,939,900</td>\n",
       "      <td id=\"T_eb341_row2_col3\" class=\"data row2 col3\" >1,951,900</td>\n",
       "      <td id=\"T_eb341_row2_col4\" class=\"data row2 col4\" >1,965,200</td>\n",
       "      <td id=\"T_eb341_row2_col5\" class=\"data row2 col5\" >1,977,500</td>\n",
       "      <td id=\"T_eb341_row2_col6\" class=\"data row2 col6\" >1,986,400</td>\n",
       "      <td id=\"T_eb341_row2_col7\" class=\"data row2 col7\" >1,991,600</td>\n",
       "      <td id=\"T_eb341_row2_col8\" class=\"data row2 col8\" >2,001,000</td>\n",
       "      <td id=\"T_eb341_row2_col9\" class=\"data row2 col9\" >2,008,100</td>\n",
       "      <td id=\"T_eb341_row2_col10\" class=\"data row2 col10\" >2,014,600</td>\n",
       "    </tr>\n",
       "    <tr>\n",
       "      <td id=\"T_eb341_row3_col0\" class=\"data row3 col0\" >Non Malaysian</td>\n",
       "      <td id=\"T_eb341_row3_col1\" class=\"data row3 col1\" >2,324,540</td>\n",
       "      <td id=\"T_eb341_row3_col2\" class=\"data row3 col2\" >2,445,200</td>\n",
       "      <td id=\"T_eb341_row3_col3\" class=\"data row3 col3\" >2,548,100</td>\n",
       "      <td id=\"T_eb341_row3_col4\" class=\"data row3 col4\" >2,888,300</td>\n",
       "      <td id=\"T_eb341_row3_col5\" class=\"data row3 col5\" >3,012,400</td>\n",
       "      <td id=\"T_eb341_row3_col6\" class=\"data row3 col6\" >3,125,900</td>\n",
       "      <td id=\"T_eb341_row3_col7\" class=\"data row3 col7\" >3,229,800</td>\n",
       "      <td id=\"T_eb341_row3_col8\" class=\"data row3 col8\" >3,287,400</td>\n",
       "      <td id=\"T_eb341_row3_col9\" class=\"data row3 col9\" >3,322,800</td>\n",
       "      <td id=\"T_eb341_row3_col10\" class=\"data row3 col10\" >3,204,500</td>\n",
       "    </tr>\n",
       "    <tr>\n",
       "      <td id=\"T_eb341_row4_col0\" class=\"data row4 col0\" >Others</td>\n",
       "      <td id=\"T_eb341_row4_col1\" class=\"data row4 col1\" >232,010</td>\n",
       "      <td id=\"T_eb341_row4_col2\" class=\"data row4 col2\" >241,700</td>\n",
       "      <td id=\"T_eb341_row4_col3\" class=\"data row4 col3\" >248,900</td>\n",
       "      <td id=\"T_eb341_row4_col4\" class=\"data row4 col4\" >256,800</td>\n",
       "      <td id=\"T_eb341_row4_col5\" class=\"data row4 col5\" >265,700</td>\n",
       "      <td id=\"T_eb341_row4_col6\" class=\"data row4 col6\" >272,400</td>\n",
       "      <td id=\"T_eb341_row4_col7\" class=\"data row4 col7\" >280,800</td>\n",
       "      <td id=\"T_eb341_row4_col8\" class=\"data row4 col8\" >287,900</td>\n",
       "      <td id=\"T_eb341_row4_col9\" class=\"data row4 col9\" >293,600</td>\n",
       "      <td id=\"T_eb341_row4_col10\" class=\"data row4 col10\" >299,800</td>\n",
       "    </tr>\n",
       "    <tr>\n",
       "      <td id=\"T_eb341_row5_col0\" class=\"data row5 col0\" >Total</td>\n",
       "      <td id=\"T_eb341_row5_col1\" class=\"data row5 col1\" >28,588,637</td>\n",
       "      <td id=\"T_eb341_row5_col2\" class=\"data row5 col2\" >29,061,900</td>\n",
       "      <td id=\"T_eb341_row5_col3\" class=\"data row5 col3\" >29,509,300</td>\n",
       "      <td id=\"T_eb341_row5_col4\" class=\"data row5 col4\" >30,214,000</td>\n",
       "      <td id=\"T_eb341_row5_col5\" class=\"data row5 col5\" >30,708,400</td>\n",
       "      <td id=\"T_eb341_row5_col6\" class=\"data row5 col6\" >31,186,400</td>\n",
       "      <td id=\"T_eb341_row5_col7\" class=\"data row5 col7\" >31,633,300</td>\n",
       "      <td id=\"T_eb341_row5_col8\" class=\"data row5 col8\" >32,022,400</td>\n",
       "      <td id=\"T_eb341_row5_col9\" class=\"data row5 col9\" >32,382,300</td>\n",
       "      <td id=\"T_eb341_row5_col10\" class=\"data row5 col10\" >32,582,000</td>\n",
       "    </tr>\n",
       "  </tbody>\n",
       "</table>\n"
      ],
      "text/plain": [
       "<pandas.io.formats.style.Styler at 0x127e8b070>"
      ]
     },
     "execution_count": 19,
     "metadata": {},
     "output_type": "execute_result"
    }
   ],
   "source": [
    "df_ethnic_population.loc['Total'] = df_ethnic_population.sum(numeric_only=True, axis=0)\n",
    "df_ethnic_population['Ethnic'] = df_ethnic_population['Ethnic'].replace(np.nan, 'Total')\n",
    "df_ethnic_population['2011 Inc.'] = ((df_ethnic_population['2011'] - df_ethnic_population['2010'])/df_ethnic_population['2010'])*100\n",
    "df_ethnic_population['2012 Inc.'] = ((df_ethnic_population['2012'] - df_ethnic_population['2011'])/df_ethnic_population['2011'])*100\n",
    "df_ethnic_population['2013 Inc.'] = ((df_ethnic_population['2013'] - df_ethnic_population['2012'])/df_ethnic_population['2012'])*100\n",
    "df_ethnic_population['2014 Inc.'] = ((df_ethnic_population['2014'] - df_ethnic_population['2013'])/df_ethnic_population['2013'])*100\n",
    "df_ethnic_population['2015 Inc.'] = ((df_ethnic_population['2015'] - df_ethnic_population['2014'])/df_ethnic_population['2014'])*100\n",
    "df_ethnic_population['2016 Inc.'] = ((df_ethnic_population['2016'] - df_ethnic_population['2015'])/df_ethnic_population['2015'])*100\n",
    "df_ethnic_population['2017 Inc.'] = ((df_ethnic_population['2017'] - df_ethnic_population['2016'])/df_ethnic_population['2016'])*100\n",
    "df_ethnic_population['2018 Inc.'] = ((df_ethnic_population['2018'] - df_ethnic_population['2017'])/df_ethnic_population['2017'])*100\n",
    "df_ethnic_population['2019 Inc.'] = ((df_ethnic_population['2019'] - df_ethnic_population['2018'])/df_ethnic_population['2018'])*100\n",
    "df_ethnic_population = df_ethnic_population[['Ethnic','2010','2011 Inc.','2011','2012 Inc.','2012','2013 Inc.','2013','2014 Inc.',\n",
    "                                       '2014','2015 Inc.','2015','2016 Inc.','2016','2017 Inc.','2017','2018 Inc.','2018',\n",
    "                                       '2019 Inc.','2019']]\n",
    "df_ethnic_population.style.set_caption(\"Malaysia Total Population By Ethnic Category\").set_table_styles([{\n",
    "    'selector': 'caption',\n",
    "    'props': [\n",
    "        ('color', 'black'),\n",
    "        ('font-size', '20px'),\n",
    "        (\"text-align\", \"center\"),\n",
    "        ('text-decoration', 'underline'),\n",
    "        ('font-family','Arial'),\n",
    "        ('text-shadow', '2px 2px 5px grey')\n",
    "    ]},(dict\n",
    "        (selector='th',props=[('text-align',\n",
    "                               'left')]))]).format(\n",
    "    {'2010':'{:,.0f}','2011':'{:,.0f}','2012':'{:,.0f}','2013':'{:,.0f}','2014':'{:,.0f}','2015':'{:,.0f}',\n",
    "     '2016':'{:,.0f}','2017':'{:,.0f}','2018':'{:,.0f}','2019':'{:,.0f}','2011 Inc.':'{:,.1f}','2012 Inc.':'{:,.1f}',\n",
    "     '2013 Inc.':'{:,.1f}','2014 Inc.':'{:,.1f}','2015 Inc.':'{:,.1f}','2016 Inc.':'{:,.1f}','2017 Inc.':'{:,.1f}',\n",
    "     '2018 Inc.':'{:,.1f}','2019 Inc.':'{:,.1f}'\n",
    "    }).set_properties(subset=['Ethnic'],**{'text-align': 'left'}).apply(lambda x: ['background: yellow' if x.name in ['Total'] else '' for i in x], axis=1).hide_index()"
   ]
  },
  {
   "cell_type": "code",
   "execution_count": 20,
   "id": "9161bdda",
   "metadata": {},
   "outputs": [],
   "source": [
    "df_age_2010 = df_2010.groupby('Age Group').sum()\n",
    "df_age_2011 = df_2011.groupby('Age Group').sum()\n",
    "df_age_2012 = df_2012.groupby('Age Group').sum()\n",
    "df_age_2013 = df_2013.groupby('Age Group').sum()\n",
    "df_age_2014 = df_2014.groupby('Age Group').sum()\n",
    "df_age_2015 = df_2015.groupby('Age Group').sum()\n",
    "df_age_2016 = df_2016.groupby('Age Group').sum()\n",
    "df_age_2017 = df_2017.groupby('Age Group').sum()\n",
    "df_age_2018 = df_2018.groupby('Age Group').sum()\n",
    "df_age_2019 = df_2019.groupby('Age Group').sum()"
   ]
  },
  {
   "cell_type": "code",
   "execution_count": 21,
   "id": "4a6b8e14",
   "metadata": {},
   "outputs": [],
   "source": [
    "df_age_population = pd.merge(df_age_2010,df_age_2011, on='Age Group')\n",
    "df_age_population.rename(columns={'Population_x':'2010','Population_y':'2011'},inplace=True)\n",
    "df_age_population = pd.merge(df_age_population,df_age_2012, on='Age Group')\n",
    "df_age_population.rename(columns={'Population':'2012'},inplace=True)\n",
    "df_age_population = pd.merge(df_age_population,df_age_2013, on='Age Group')\n",
    "df_age_population.rename(columns={'Population':'2013'},inplace=True)\n",
    "df_age_population = pd.merge(df_age_population,df_age_2014, on='Age Group')\n",
    "df_age_population.rename(columns={'Population':'2014'},inplace=True)\n",
    "df_age_population = pd.merge(df_age_population,df_age_2015, on='Age Group')\n",
    "df_age_population.rename(columns={'Population':'2015'},inplace=True)\n",
    "df_age_population = pd.merge(df_age_population,df_age_2016, on='Age Group')\n",
    "df_age_population.rename(columns={'Population':'2016'},inplace=True)\n",
    "df_age_population = pd.merge(df_age_population,df_age_2017, on='Age Group')\n",
    "df_age_population.rename(columns={'Population':'2017'},inplace=True)\n",
    "df_age_population = pd.merge(df_age_population,df_age_2018, on='Age Group')\n",
    "df_age_population.rename(columns={'Population':'2018'},inplace=True)\n",
    "df_age_population = pd.merge(df_age_population,df_age_2019, on='Age Group')\n",
    "df_age_population.rename(columns={'Population':'2019'},inplace=True)\n",
    "df_age_population = df_age_population.reset_index()"
   ]
  },
  {
   "cell_type": "code",
   "execution_count": 22,
   "id": "d4a906a8",
   "metadata": {},
   "outputs": [
    {
     "data": {
      "text/html": [
       "<style type=\"text/css\">\n",
       "#T_04b70_ caption {\n",
       "  color: black;\n",
       "  font-size: 20px;\n",
       "  text-align: center;\n",
       "  text-decoration: underline;\n",
       "  font-family: Arial;\n",
       "  text-shadow: 2px 2px 5px grey;\n",
       "}\n",
       "#T_04b70_ th {\n",
       "  text-align: left;\n",
       "}\n",
       "#T_04b70_row0_col0, #T_04b70_row1_col0, #T_04b70_row2_col0, #T_04b70_row3_col0, #T_04b70_row4_col0, #T_04b70_row5_col0, #T_04b70_row6_col0, #T_04b70_row7_col0, #T_04b70_row8_col0, #T_04b70_row9_col0, #T_04b70_row10_col0, #T_04b70_row11_col0, #T_04b70_row12_col0, #T_04b70_row13_col0, #T_04b70_row14_col0, #T_04b70_row15_col0, #T_04b70_row16_col0 {\n",
       "  text-align: left;\n",
       "}\n",
       "#T_04b70_row17_col0 {\n",
       "  text-align: left;\n",
       "  background: yellow;\n",
       "}\n",
       "#T_04b70_row17_col1, #T_04b70_row17_col2, #T_04b70_row17_col3, #T_04b70_row17_col4, #T_04b70_row17_col5, #T_04b70_row17_col6, #T_04b70_row17_col7, #T_04b70_row17_col8, #T_04b70_row17_col9, #T_04b70_row17_col10 {\n",
       "  background: yellow;\n",
       "}\n",
       "</style>\n",
       "<table id=\"T_04b70_\">\n",
       "  <caption>Malaysia Total Population By Age Category</caption>\n",
       "  <thead>\n",
       "    <tr>\n",
       "      <th class=\"col_heading level0 col0\" >Age Group</th>\n",
       "      <th class=\"col_heading level0 col1\" >2010</th>\n",
       "      <th class=\"col_heading level0 col2\" >2011</th>\n",
       "      <th class=\"col_heading level0 col3\" >2012</th>\n",
       "      <th class=\"col_heading level0 col4\" >2013</th>\n",
       "      <th class=\"col_heading level0 col5\" >2014</th>\n",
       "      <th class=\"col_heading level0 col6\" >2015</th>\n",
       "      <th class=\"col_heading level0 col7\" >2016</th>\n",
       "      <th class=\"col_heading level0 col8\" >2017</th>\n",
       "      <th class=\"col_heading level0 col9\" >2018</th>\n",
       "      <th class=\"col_heading level0 col10\" >2019</th>\n",
       "    </tr>\n",
       "  </thead>\n",
       "  <tbody>\n",
       "    <tr>\n",
       "      <td id=\"T_04b70_row0_col0\" class=\"data row0 col0\" >0-4</td>\n",
       "      <td id=\"T_04b70_row0_col1\" class=\"data row0 col1\" >2,508,594</td>\n",
       "      <td id=\"T_04b70_row0_col2\" class=\"data row0 col2\" >2,505,500</td>\n",
       "      <td id=\"T_04b70_row0_col3\" class=\"data row0 col3\" >2,524,800</td>\n",
       "      <td id=\"T_04b70_row0_col4\" class=\"data row0 col4\" >2,559,300</td>\n",
       "      <td id=\"T_04b70_row0_col5\" class=\"data row0 col5\" >2,571,100</td>\n",
       "      <td id=\"T_04b70_row0_col6\" class=\"data row0 col6\" >2,601,600</td>\n",
       "      <td id=\"T_04b70_row0_col7\" class=\"data row0 col7\" >2,630,200</td>\n",
       "      <td id=\"T_04b70_row0_col8\" class=\"data row0 col8\" >2,613,600</td>\n",
       "      <td id=\"T_04b70_row0_col9\" class=\"data row0 col9\" >2,595,300</td>\n",
       "      <td id=\"T_04b70_row0_col10\" class=\"data row0 col10\" >2,558,500</td>\n",
       "    </tr>\n",
       "    <tr>\n",
       "      <td id=\"T_04b70_row1_col0\" class=\"data row1 col0\" >0-9</td>\n",
       "      <td id=\"T_04b70_row1_col1\" class=\"data row1 col1\" >2,659,480</td>\n",
       "      <td id=\"T_04b70_row1_col2\" class=\"data row1 col2\" >2,619,900</td>\n",
       "      <td id=\"T_04b70_row1_col3\" class=\"data row1 col3\" >2,582,000</td>\n",
       "      <td id=\"T_04b70_row1_col4\" class=\"data row1 col4\" >2,553,500</td>\n",
       "      <td id=\"T_04b70_row1_col5\" class=\"data row1 col5\" >2,536,800</td>\n",
       "      <td id=\"T_04b70_row1_col6\" class=\"data row1 col6\" >2,518,400</td>\n",
       "      <td id=\"T_04b70_row1_col7\" class=\"data row1 col7\" >2,513,600</td>\n",
       "      <td id=\"T_04b70_row1_col8\" class=\"data row1 col8\" >2,533,600</td>\n",
       "      <td id=\"T_04b70_row1_col9\" class=\"data row1 col9\" >2,560,400</td>\n",
       "      <td id=\"T_04b70_row1_col10\" class=\"data row1 col10\" >2,521,800</td>\n",
       "    </tr>\n",
       "    <tr>\n",
       "      <td id=\"T_04b70_row2_col0\" class=\"data row2 col0\" >10-14</td>\n",
       "      <td id=\"T_04b70_row2_col1\" class=\"data row2 col1\" >2,653,990</td>\n",
       "      <td id=\"T_04b70_row2_col2\" class=\"data row2 col2\" >2,665,600</td>\n",
       "      <td id=\"T_04b70_row2_col3\" class=\"data row2 col3\" >2,670,000</td>\n",
       "      <td id=\"T_04b70_row2_col4\" class=\"data row2 col4\" >2,670,500</td>\n",
       "      <td id=\"T_04b70_row2_col5\" class=\"data row2 col5\" >2,665,500</td>\n",
       "      <td id=\"T_04b70_row2_col6\" class=\"data row2 col6\" >2,656,000</td>\n",
       "      <td id=\"T_04b70_row2_col7\" class=\"data row2 col7\" >2,615,900</td>\n",
       "      <td id=\"T_04b70_row2_col8\" class=\"data row2 col8\" >2,580,800</td>\n",
       "      <td id=\"T_04b70_row2_col9\" class=\"data row2 col9\" >2,550,100</td>\n",
       "      <td id=\"T_04b70_row2_col10\" class=\"data row2 col10\" >2,519,600</td>\n",
       "    </tr>\n",
       "    <tr>\n",
       "      <td id=\"T_04b70_row3_col0\" class=\"data row3 col0\" >15-19</td>\n",
       "      <td id=\"T_04b70_row3_col1\" class=\"data row3 col1\" >2,837,376</td>\n",
       "      <td id=\"T_04b70_row3_col2\" class=\"data row3 col2\" >2,852,600</td>\n",
       "      <td id=\"T_04b70_row3_col3\" class=\"data row3 col3\" >2,853,700</td>\n",
       "      <td id=\"T_04b70_row3_col4\" class=\"data row3 col4\" >2,867,700</td>\n",
       "      <td id=\"T_04b70_row3_col5\" class=\"data row3 col5\" >2,852,800</td>\n",
       "      <td id=\"T_04b70_row3_col6\" class=\"data row3 col6\" >2,846,800</td>\n",
       "      <td id=\"T_04b70_row3_col7\" class=\"data row3 col7\" >2,862,500</td>\n",
       "      <td id=\"T_04b70_row3_col8\" class=\"data row3 col8\" >2,871,100</td>\n",
       "      <td id=\"T_04b70_row3_col9\" class=\"data row3 col9\" >2,872,000</td>\n",
       "      <td id=\"T_04b70_row3_col10\" class=\"data row3 col10\" >2,866,200</td>\n",
       "    </tr>\n",
       "    <tr>\n",
       "      <td id=\"T_04b70_row4_col0\" class=\"data row4 col0\" >20-24</td>\n",
       "      <td id=\"T_04b70_row4_col1\" class=\"data row4 col1\" >2,911,957</td>\n",
       "      <td id=\"T_04b70_row4_col2\" class=\"data row4 col2\" >2,964,900</td>\n",
       "      <td id=\"T_04b70_row4_col3\" class=\"data row4 col3\" >3,017,500</td>\n",
       "      <td id=\"T_04b70_row4_col4\" class=\"data row4 col4\" >3,122,000</td>\n",
       "      <td id=\"T_04b70_row4_col5\" class=\"data row4 col5\" >3,182,400</td>\n",
       "      <td id=\"T_04b70_row4_col6\" class=\"data row4 col6\" >3,225,500</td>\n",
       "      <td id=\"T_04b70_row4_col7\" class=\"data row4 col7\" >3,244,700</td>\n",
       "      <td id=\"T_04b70_row4_col8\" class=\"data row4 col8\" >3,244,700</td>\n",
       "      <td id=\"T_04b70_row4_col9\" class=\"data row4 col9\" >3,232,500</td>\n",
       "      <td id=\"T_04b70_row4_col10\" class=\"data row4 col10\" >3,220,300</td>\n",
       "    </tr>\n",
       "    <tr>\n",
       "      <td id=\"T_04b70_row5_col0\" class=\"data row5 col0\" >25-29</td>\n",
       "      <td id=\"T_04b70_row5_col1\" class=\"data row5 col1\" >2,789,619</td>\n",
       "      <td id=\"T_04b70_row5_col2\" class=\"data row5 col2\" >2,871,500</td>\n",
       "      <td id=\"T_04b70_row5_col3\" class=\"data row5 col3\" >2,924,400</td>\n",
       "      <td id=\"T_04b70_row5_col4\" class=\"data row5 col4\" >3,027,900</td>\n",
       "      <td id=\"T_04b70_row5_col5\" class=\"data row5 col5\" >3,079,200</td>\n",
       "      <td id=\"T_04b70_row5_col6\" class=\"data row5 col6\" >3,136,100</td>\n",
       "      <td id=\"T_04b70_row5_col7\" class=\"data row5 col7\" >3,189,400</td>\n",
       "      <td id=\"T_04b70_row5_col8\" class=\"data row5 col8\" >3,238,700</td>\n",
       "      <td id=\"T_04b70_row5_col9\" class=\"data row5 col9\" >3,281,700</td>\n",
       "      <td id=\"T_04b70_row5_col10\" class=\"data row5 col10\" >3,317,600</td>\n",
       "    </tr>\n",
       "    <tr>\n",
       "      <td id=\"T_04b70_row6_col0\" class=\"data row6 col0\" >30-34</td>\n",
       "      <td id=\"T_04b70_row6_col1\" class=\"data row6 col1\" >2,181,658</td>\n",
       "      <td id=\"T_04b70_row6_col2\" class=\"data row6 col2\" >2,267,500</td>\n",
       "      <td id=\"T_04b70_row6_col3\" class=\"data row6 col3\" >2,368,300</td>\n",
       "      <td id=\"T_04b70_row6_col4\" class=\"data row6 col4\" >2,522,500</td>\n",
       "      <td id=\"T_04b70_row6_col5\" class=\"data row6 col5\" >2,643,000</td>\n",
       "      <td id=\"T_04b70_row6_col6\" class=\"data row6 col6\" >2,731,300</td>\n",
       "      <td id=\"T_04b70_row6_col7\" class=\"data row6 col7\" >2,797,700</td>\n",
       "      <td id=\"T_04b70_row6_col8\" class=\"data row6 col8\" >2,841,600</td>\n",
       "      <td id=\"T_04b70_row6_col9\" class=\"data row6 col9\" >2,868,900</td>\n",
       "      <td id=\"T_04b70_row6_col10\" class=\"data row6 col10\" >2,894,900</td>\n",
       "    </tr>\n",
       "    <tr>\n",
       "      <td id=\"T_04b70_row7_col0\" class=\"data row7 col0\" >35-39</td>\n",
       "      <td id=\"T_04b70_row7_col1\" class=\"data row7 col1\" >1,954,757</td>\n",
       "      <td id=\"T_04b70_row7_col2\" class=\"data row7 col2\" >1,977,400</td>\n",
       "      <td id=\"T_04b70_row7_col3\" class=\"data row7 col3\" >1,996,500</td>\n",
       "      <td id=\"T_04b70_row7_col4\" class=\"data row7 col4\" >2,046,800</td>\n",
       "      <td id=\"T_04b70_row7_col5\" class=\"data row7 col5\" >2,095,200</td>\n",
       "      <td id=\"T_04b70_row7_col6\" class=\"data row7 col6\" >2,158,100</td>\n",
       "      <td id=\"T_04b70_row7_col7\" class=\"data row7 col7\" >2,236,700</td>\n",
       "      <td id=\"T_04b70_row7_col8\" class=\"data row7 col8\" >2,334,600</td>\n",
       "      <td id=\"T_04b70_row7_col9\" class=\"data row7 col9\" >2,438,700</td>\n",
       "      <td id=\"T_04b70_row7_col10\" class=\"data row7 col10\" >2,525,000</td>\n",
       "    </tr>\n",
       "    <tr>\n",
       "      <td id=\"T_04b70_row8_col0\" class=\"data row8 col0\" >40-44</td>\n",
       "      <td id=\"T_04b70_row8_col1\" class=\"data row8 col1\" >1,791,455</td>\n",
       "      <td id=\"T_04b70_row8_col2\" class=\"data row8 col2\" >1,811,400</td>\n",
       "      <td id=\"T_04b70_row8_col3\" class=\"data row8 col3\" >1,827,600</td>\n",
       "      <td id=\"T_04b70_row8_col4\" class=\"data row8 col4\" >1,860,500</td>\n",
       "      <td id=\"T_04b70_row8_col5\" class=\"data row8 col5\" >1,880,400</td>\n",
       "      <td id=\"T_04b70_row8_col6\" class=\"data row8 col6\" >1,898,700</td>\n",
       "      <td id=\"T_04b70_row8_col7\" class=\"data row8 col7\" >1,918,400</td>\n",
       "      <td id=\"T_04b70_row8_col8\" class=\"data row8 col8\" >1,933,300</td>\n",
       "      <td id=\"T_04b70_row8_col9\" class=\"data row8 col9\" >1,951,100</td>\n",
       "      <td id=\"T_04b70_row8_col10\" class=\"data row8 col10\" >1,973,800</td>\n",
       "    </tr>\n",
       "    <tr>\n",
       "      <td id=\"T_04b70_row9_col0\" class=\"data row9 col0\" >45-49</td>\n",
       "      <td id=\"T_04b70_row9_col1\" class=\"data row9 col1\" >1,614,300</td>\n",
       "      <td id=\"T_04b70_row9_col2\" class=\"data row9 col2\" >1,643,600</td>\n",
       "      <td id=\"T_04b70_row9_col3\" class=\"data row9 col3\" >1,667,000</td>\n",
       "      <td id=\"T_04b70_row9_col4\" class=\"data row9 col4\" >1,695,500</td>\n",
       "      <td id=\"T_04b70_row9_col5\" class=\"data row9 col5\" >1,713,100</td>\n",
       "      <td id=\"T_04b70_row9_col6\" class=\"data row9 col6\" >1,728,100</td>\n",
       "      <td id=\"T_04b70_row9_col7\" class=\"data row9 col7\" >1,741,300</td>\n",
       "      <td id=\"T_04b70_row9_col8\" class=\"data row9 col8\" >1,755,500</td>\n",
       "      <td id=\"T_04b70_row9_col9\" class=\"data row9 col9\" >1,769,000</td>\n",
       "      <td id=\"T_04b70_row9_col10\" class=\"data row9 col10\" >1,770,800</td>\n",
       "    </tr>\n",
       "    <tr>\n",
       "      <td id=\"T_04b70_row10_col0\" class=\"data row10 col0\" >50-54</td>\n",
       "      <td id=\"T_04b70_row10_col1\" class=\"data row10 col1\" >1,370,779</td>\n",
       "      <td id=\"T_04b70_row10_col2\" class=\"data row10 col2\" >1,415,800</td>\n",
       "      <td id=\"T_04b70_row10_col3\" class=\"data row10 col3\" >1,454,900</td>\n",
       "      <td id=\"T_04b70_row10_col4\" class=\"data row10 col4\" >1,496,700</td>\n",
       "      <td id=\"T_04b70_row10_col5\" class=\"data row10 col5\" >1,532,300</td>\n",
       "      <td id=\"T_04b70_row10_col6\" class=\"data row10 col6\" >1,560,200</td>\n",
       "      <td id=\"T_04b70_row10_col7\" class=\"data row10 col7\" >1,585,200</td>\n",
       "      <td id=\"T_04b70_row10_col8\" class=\"data row10 col8\" >1,604,400</td>\n",
       "      <td id=\"T_04b70_row10_col9\" class=\"data row10 col9\" >1,619,600</td>\n",
       "      <td id=\"T_04b70_row10_col10\" class=\"data row10 col10\" >1,621,200</td>\n",
       "    </tr>\n",
       "    <tr>\n",
       "      <td id=\"T_04b70_row11_col0\" class=\"data row11 col0\" >55-59</td>\n",
       "      <td id=\"T_04b70_row11_col1\" class=\"data row11 col1\" >1,066,041</td>\n",
       "      <td id=\"T_04b70_row11_col2\" class=\"data row11 col2\" >1,111,100</td>\n",
       "      <td id=\"T_04b70_row11_col3\" class=\"data row11 col3\" >1,159,900</td>\n",
       "      <td id=\"T_04b70_row11_col4\" class=\"data row11 col4\" >1,212,100</td>\n",
       "      <td id=\"T_04b70_row11_col5\" class=\"data row11 col5\" >1,260,200</td>\n",
       "      <td id=\"T_04b70_row11_col6\" class=\"data row11 col6\" >1,304,200</td>\n",
       "      <td id=\"T_04b70_row11_col7\" class=\"data row11 col7\" >1,345,400</td>\n",
       "      <td id=\"T_04b70_row11_col8\" class=\"data row11 col8\" >1,383,900</td>\n",
       "      <td id=\"T_04b70_row11_col9\" class=\"data row11 col9\" >1,418,100</td>\n",
       "      <td id=\"T_04b70_row11_col10\" class=\"data row11 col10\" >1,438,800</td>\n",
       "    </tr>\n",
       "    <tr>\n",
       "      <td id=\"T_04b70_row12_col0\" class=\"data row12 col0\" >60-64</td>\n",
       "      <td id=\"T_04b70_row12_col1\" class=\"data row12 col1\" >823,501</td>\n",
       "      <td id=\"T_04b70_row12_col2\" class=\"data row12 col2\" >863,000</td>\n",
       "      <td id=\"T_04b70_row12_col3\" class=\"data row12 col3\" >896,700</td>\n",
       "      <td id=\"T_04b70_row12_col4\" class=\"data row12 col4\" >929,200</td>\n",
       "      <td id=\"T_04b70_row12_col5\" class=\"data row12 col5\" >962,100</td>\n",
       "      <td id=\"T_04b70_row12_col6\" class=\"data row12 col6\" >1,000,300</td>\n",
       "      <td id=\"T_04b70_row12_col7\" class=\"data row12 col7\" >1,040,700</td>\n",
       "      <td id=\"T_04b70_row12_col8\" class=\"data row12 col8\" >1,085,100</td>\n",
       "      <td id=\"T_04b70_row12_col9\" class=\"data row12 col9\" >1,130,600</td>\n",
       "      <td id=\"T_04b70_row12_col10\" class=\"data row12 col10\" >1,167,400</td>\n",
       "    </tr>\n",
       "    <tr>\n",
       "      <td id=\"T_04b70_row13_col0\" class=\"data row13 col0\" >65-69</td>\n",
       "      <td id=\"T_04b70_row13_col1\" class=\"data row13 col1\" >538,043</td>\n",
       "      <td id=\"T_04b70_row13_col2\" class=\"data row13 col2\" >570,500</td>\n",
       "      <td id=\"T_04b70_row13_col3\" class=\"data row13 col3\" >612,900</td>\n",
       "      <td id=\"T_04b70_row13_col4\" class=\"data row13 col4\" >662,300</td>\n",
       "      <td id=\"T_04b70_row13_col5\" class=\"data row13 col5\" >708,700</td>\n",
       "      <td id=\"T_04b70_row13_col6\" class=\"data row13 col6\" >748,500</td>\n",
       "      <td id=\"T_04b70_row13_col7\" class=\"data row13 col7\" >785,200</td>\n",
       "      <td id=\"T_04b70_row13_col8\" class=\"data row13 col8\" >815,600</td>\n",
       "      <td id=\"T_04b70_row13_col9\" class=\"data row13 col9\" >842,900</td>\n",
       "      <td id=\"T_04b70_row13_col10\" class=\"data row13 col10\" >868,000</td>\n",
       "    </tr>\n",
       "    <tr>\n",
       "      <td id=\"T_04b70_row14_col0\" class=\"data row14 col0\" >70-74</td>\n",
       "      <td id=\"T_04b70_row14_col1\" class=\"data row14 col1\" >409,285</td>\n",
       "      <td id=\"T_04b70_row14_col2\" class=\"data row14 col2\" >421,200</td>\n",
       "      <td id=\"T_04b70_row14_col3\" class=\"data row14 col3\" >426,500</td>\n",
       "      <td id=\"T_04b70_row14_col4\" class=\"data row14 col4\" >430,400</td>\n",
       "      <td id=\"T_04b70_row14_col5\" class=\"data row14 col5\" >439,600</td>\n",
       "      <td id=\"T_04b70_row14_col6\" class=\"data row14 col6\" >460,700</td>\n",
       "      <td id=\"T_04b70_row14_col7\" class=\"data row14 col7\" >490,000</td>\n",
       "      <td id=\"T_04b70_row14_col8\" class=\"data row14 col8\" >527,900</td>\n",
       "      <td id=\"T_04b70_row14_col9\" class=\"data row14 col9\" >572,100</td>\n",
       "      <td id=\"T_04b70_row14_col10\" class=\"data row14 col10\" >611,900</td>\n",
       "    </tr>\n",
       "    <tr>\n",
       "      <td id=\"T_04b70_row15_col0\" class=\"data row15 col0\" >75-79</td>\n",
       "      <td id=\"T_04b70_row15_col1\" class=\"data row15 col1\" >233,407</td>\n",
       "      <td id=\"T_04b70_row15_col2\" class=\"data row15 col2\" >247,600</td>\n",
       "      <td id=\"T_04b70_row15_col3\" class=\"data row15 col3\" >267,700</td>\n",
       "      <td id=\"T_04b70_row15_col4\" class=\"data row15 col4\" >290,300</td>\n",
       "      <td id=\"T_04b70_row15_col5\" class=\"data row15 col5\" >308,200</td>\n",
       "      <td id=\"T_04b70_row15_col6\" class=\"data row15 col6\" >319,500</td>\n",
       "      <td id=\"T_04b70_row15_col7\" class=\"data row15 col7\" >330,600</td>\n",
       "      <td id=\"T_04b70_row15_col8\" class=\"data row15 col8\" >335,000</td>\n",
       "      <td id=\"T_04b70_row15_col9\" class=\"data row15 col9\" >337,600</td>\n",
       "      <td id=\"T_04b70_row15_col10\" class=\"data row15 col10\" >346,400</td>\n",
       "    </tr>\n",
       "    <tr>\n",
       "      <td id=\"T_04b70_row16_col0\" class=\"data row16 col0\" >80+</td>\n",
       "      <td id=\"T_04b70_row16_col1\" class=\"data row16 col1\" >244,395</td>\n",
       "      <td id=\"T_04b70_row16_col2\" class=\"data row16 col2\" >252,800</td>\n",
       "      <td id=\"T_04b70_row16_col3\" class=\"data row16 col3\" >258,900</td>\n",
       "      <td id=\"T_04b70_row16_col4\" class=\"data row16 col4\" >266,800</td>\n",
       "      <td id=\"T_04b70_row16_col5\" class=\"data row16 col5\" >277,800</td>\n",
       "      <td id=\"T_04b70_row16_col6\" class=\"data row16 col6\" >292,400</td>\n",
       "      <td id=\"T_04b70_row16_col7\" class=\"data row16 col7\" >305,800</td>\n",
       "      <td id=\"T_04b70_row16_col8\" class=\"data row16 col8\" >323,000</td>\n",
       "      <td id=\"T_04b70_row16_col9\" class=\"data row16 col9\" >341,700</td>\n",
       "      <td id=\"T_04b70_row16_col10\" class=\"data row16 col10\" >359,800</td>\n",
       "    </tr>\n",
       "    <tr>\n",
       "      <td id=\"T_04b70_row17_col0\" class=\"data row17 col0\" >Total</td>\n",
       "      <td id=\"T_04b70_row17_col1\" class=\"data row17 col1\" >28,588,637</td>\n",
       "      <td id=\"T_04b70_row17_col2\" class=\"data row17 col2\" >29,061,900</td>\n",
       "      <td id=\"T_04b70_row17_col3\" class=\"data row17 col3\" >29,509,300</td>\n",
       "      <td id=\"T_04b70_row17_col4\" class=\"data row17 col4\" >30,214,000</td>\n",
       "      <td id=\"T_04b70_row17_col5\" class=\"data row17 col5\" >30,708,400</td>\n",
       "      <td id=\"T_04b70_row17_col6\" class=\"data row17 col6\" >31,186,400</td>\n",
       "      <td id=\"T_04b70_row17_col7\" class=\"data row17 col7\" >31,633,300</td>\n",
       "      <td id=\"T_04b70_row17_col8\" class=\"data row17 col8\" >32,022,400</td>\n",
       "      <td id=\"T_04b70_row17_col9\" class=\"data row17 col9\" >32,382,300</td>\n",
       "      <td id=\"T_04b70_row17_col10\" class=\"data row17 col10\" >32,582,000</td>\n",
       "    </tr>\n",
       "  </tbody>\n",
       "</table>\n"
      ],
      "text/plain": [
       "<pandas.io.formats.style.Styler at 0x127e2bd00>"
      ]
     },
     "execution_count": 22,
     "metadata": {},
     "output_type": "execute_result"
    }
   ],
   "source": [
    "df_age_population.loc['Total'] = df_age_population.sum(numeric_only=True, axis=0)\n",
    "df_age_population['Age Group'] = df_age_population['Age Group'].replace(np.nan, 'Total')\n",
    "df_age_population.style.set_caption(\"Malaysia Total Population By Age Category\").set_table_styles([{\n",
    "    'selector': 'caption',\n",
    "    'props': [\n",
    "        ('color', 'black'),\n",
    "        ('font-size', '20px'),\n",
    "        (\"text-align\", \"center\"),\n",
    "        ('text-decoration', 'underline'),\n",
    "        ('font-family','Arial'),\n",
    "        ('text-shadow', '2px 2px 5px grey')\n",
    "    ]},(dict\n",
    "        (selector='th',props=[('text-align',\n",
    "                               'left')]))]).format(\n",
    "    {'2010':'{:,.0f}','2011':'{:,.0f}','2012':'{:,.0f}','2013':'{:,.0f}','2014':'{:,.0f}','2015':'{:,.0f}',\n",
    "     '2016':'{:,.0f}','2017':'{:,.0f}','2018':'{:,.0f}','2019':'{:,.0f}',\n",
    "    }).set_properties(subset=['Age Group'],**{'text-align': 'left'}).apply(lambda x: ['background: yellow' if x.name in ['Total'] else '' for i in x], axis=1).hide_index()"
   ]
  },
  {
   "cell_type": "code",
   "execution_count": null,
   "id": "6f78e5f1",
   "metadata": {},
   "outputs": [],
   "source": []
  }
 ],
 "metadata": {
  "kernelspec": {
   "display_name": "Python 3 (ipykernel)",
   "language": "python",
   "name": "python3"
  },
  "language_info": {
   "codemirror_mode": {
    "name": "ipython",
    "version": 3
   },
   "file_extension": ".py",
   "mimetype": "text/x-python",
   "name": "python",
   "nbconvert_exporter": "python",
   "pygments_lexer": "ipython3",
   "version": "3.9.7"
  }
 },
 "nbformat": 4,
 "nbformat_minor": 5
}
