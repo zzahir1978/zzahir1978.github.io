{
 "cells": [
  {
   "cell_type": "markdown",
   "metadata": {},
   "source": [
    "<h1 style=\"color:black; font-size:50px; font-family:Impact, Charcoal, sans-serif; \n",
    "           text-align:center;\">Data Analysis Report</h1>\n",
    "<h4>Prepared By: Zahiruddin Zahidanishah</h4>"
   ]
  },
  {
   "cell_type": "code",
   "execution_count": 1,
   "metadata": {},
   "outputs": [],
   "source": [
    "from IPython.display import display_html\n",
    "def display_side_by_side(*args):\n",
    "    html_str=''\n",
    "    for df in args:\n",
    "        html_str+=df.to_html()\n",
    "    display_html(html_str.replace('table','table style=\"display:inline\"'),raw=True)"
   ]
  },
  {
   "cell_type": "markdown",
   "metadata": {},
   "source": [
    "<h1>Water Consumption Report</h1>"
   ]
  },
  {
   "cell_type": "code",
   "execution_count": 2,
   "metadata": {},
   "outputs": [],
   "source": [
    "import pandas as pd\n",
    "import numpy as np\n",
    "import matplotlib.pyplot as plt\n",
    "import plotly.express as px\n",
    "import plotly.graph_objects as go\n",
    "from plotly.subplots import make_subplots\n",
    "#data = {'Month':['Jan', 'Feb'], 'Usage':[355,314], 'Amount':[107.05,85.55]}\n",
    "#df = pd.DataFrame(data, columns=['Month', 'Usage', 'Amount'])\n",
    "#df.to_excel('utilities.xlsx', sheet_name='Sheet1')\n",
    "df1 = pd.read_excel('water_utils.xls', sheet_name='2019')\n",
    "df2 = pd.read_excel('water_utils.xls', sheet_name='2020')\n",
    "df3 = pd.read_excel('water_utils.xls', sheet_name='2021')\n",
    "df4 = pd.read_excel('water_utils.xls', sheet_name='2022')"
   ]
  },
  {
   "cell_type": "markdown",
   "metadata": {},
   "source": [
    "# Introduction"
   ]
  },
  {
   "cell_type": "markdown",
   "metadata": {},
   "source": [
    "This report reports shows the water consumption and amount payable for a typical double storey house in urban city located in Selangor, Malaysia. This report consists of data from year 2014 to date. This report will shows the relation between the consumption and payment for the water usage every month and every year."
   ]
  },
  {
   "cell_type": "markdown",
   "metadata": {},
   "source": [
    "The details of the house inventory and areas are as describe belows."
   ]
  },
  {
   "cell_type": "code",
   "execution_count": 3,
   "metadata": {},
   "outputs": [
    {
     "data": {
      "text/html": [
       "<style type=\"text/css\">\n",
       "</style>\n",
       "<table id=\"T_a65c7_\">\n",
       "  <caption>Assets Details</caption>\n",
       "  <thead>\n",
       "    <tr>\n",
       "      <th class=\"blank level0\" >&nbsp;</th>\n",
       "      <th class=\"col_heading level0 col0\" >Items</th>\n",
       "      <th class=\"col_heading level0 col1\" >Description</th>\n",
       "    </tr>\n",
       "  </thead>\n",
       "  <tbody>\n",
       "    <tr>\n",
       "      <th id=\"T_a65c7_level0_row0\" class=\"row_heading level0 row0\" >0</th>\n",
       "      <td id=\"T_a65c7_row0_col0\" class=\"data row0 col0\" >Type</td>\n",
       "      <td id=\"T_a65c7_row0_col1\" class=\"data row0 col1\" >Double Storey Terrace House</td>\n",
       "    </tr>\n",
       "    <tr>\n",
       "      <th id=\"T_a65c7_level0_row1\" class=\"row_heading level0 row1\" >1</th>\n",
       "      <td id=\"T_a65c7_row1_col0\" class=\"data row1 col0\" >Land Area (sq.m)</td>\n",
       "      <td id=\"T_a65c7_row1_col1\" class=\"data row1 col1\" >121</td>\n",
       "    </tr>\n",
       "    <tr>\n",
       "      <th id=\"T_a65c7_level0_row2\" class=\"row_heading level0 row2\" >2</th>\n",
       "      <td id=\"T_a65c7_row2_col0\" class=\"data row2 col0\" >Build Up Area (sq.m)</td>\n",
       "      <td id=\"T_a65c7_row2_col1\" class=\"data row2 col1\" >180</td>\n",
       "    </tr>\n",
       "    <tr>\n",
       "      <th id=\"T_a65c7_level0_row3\" class=\"row_heading level0 row3\" >3</th>\n",
       "      <td id=\"T_a65c7_row3_col0\" class=\"data row3 col0\" >Bedrooms</td>\n",
       "      <td id=\"T_a65c7_row3_col1\" class=\"data row3 col1\" >4</td>\n",
       "    </tr>\n",
       "    <tr>\n",
       "      <th id=\"T_a65c7_level0_row4\" class=\"row_heading level0 row4\" >4</th>\n",
       "      <td id=\"T_a65c7_row4_col0\" class=\"data row4 col0\" >Bathrooms</td>\n",
       "      <td id=\"T_a65c7_row4_col1\" class=\"data row4 col1\" >3</td>\n",
       "    </tr>\n",
       "    <tr>\n",
       "      <th id=\"T_a65c7_level0_row5\" class=\"row_heading level0 row5\" >5</th>\n",
       "      <td id=\"T_a65c7_row5_col0\" class=\"data row5 col0\" >Lighting Pts.</td>\n",
       "      <td id=\"T_a65c7_row5_col1\" class=\"data row5 col1\" >22</td>\n",
       "    </tr>\n",
       "    <tr>\n",
       "      <th id=\"T_a65c7_level0_row6\" class=\"row_heading level0 row6\" >6</th>\n",
       "      <td id=\"T_a65c7_row6_col0\" class=\"data row6 col0\" >Power Pts.</td>\n",
       "      <td id=\"T_a65c7_row6_col1\" class=\"data row6 col1\" >14</td>\n",
       "    </tr>\n",
       "    <tr>\n",
       "      <th id=\"T_a65c7_level0_row7\" class=\"row_heading level0 row7\" >7</th>\n",
       "      <td id=\"T_a65c7_row7_col0\" class=\"data row7 col0\" >Fan Pts.</td>\n",
       "      <td id=\"T_a65c7_row7_col1\" class=\"data row7 col1\" >4</td>\n",
       "    </tr>\n",
       "    <tr>\n",
       "      <th id=\"T_a65c7_level0_row8\" class=\"row_heading level0 row8\" >8</th>\n",
       "      <td id=\"T_a65c7_row8_col0\" class=\"data row8 col0\" >AC Pts.</td>\n",
       "      <td id=\"T_a65c7_row8_col1\" class=\"data row8 col1\" >3</td>\n",
       "    </tr>\n",
       "    <tr>\n",
       "      <th id=\"T_a65c7_level0_row9\" class=\"row_heading level0 row9\" >9</th>\n",
       "      <td id=\"T_a65c7_row9_col0\" class=\"data row9 col0\" >Water Taps</td>\n",
       "      <td id=\"T_a65c7_row9_col1\" class=\"data row9 col1\" >7</td>\n",
       "    </tr>\n",
       "  </tbody>\n",
       "</table>\n"
      ],
      "text/plain": [
       "<pandas.io.formats.style.Styler at 0x11af8d280>"
      ]
     },
     "execution_count": 3,
     "metadata": {},
     "output_type": "execute_result"
    }
   ],
   "source": [
    "data = {'Items':['Type','Land Area (sq.m)','Build Up Area (sq.m)','Bedrooms','Bathrooms',\n",
    "                 'Lighting Pts.','Power Pts.','Fan Pts.','AC Pts.','Water Taps'],\n",
    "        'Description':['Double Storey Terrace House',121,180,4,3,22,14,4,3,7]}\n",
    "df_house = pd.DataFrame(data,columns=['Items','Description'])\n",
    "df_house.style.set_caption(\"Assets Details\")                   "
   ]
  },
  {
   "cell_type": "code",
   "execution_count": 4,
   "metadata": {},
   "outputs": [],
   "source": [
    "data = {'Year':[2019,2020,2021,2022],\n",
    "       'Total Usage (m3)':[df1['Usage'].sum(),df2['Usage'].sum(),df3['Usage'].sum(),df4['Usage'].sum()],\n",
    "       'Total Cost (RM)':[df1['Cost'].sum(),df2['Cost'].sum(),df3['Cost'].sum(),df4['Cost'].sum()],\n",
    "       'Average Usage (m3)':[df1['Usage'].mean(),df2['Usage'].mean(),df3['Usage'].mean(),df4['Usage'].mean()],\n",
    "       'Average Cost (RM)':[df1['Cost'].mean(),df2['Cost'].mean(),df3['Cost'].mean(),df4['Cost'].mean()],\n",
    "       'Max. Usage (m3)':[df1['Usage'].max(),df2['Usage'].max(),df3['Usage'].max(),df4['Usage'].max()],\n",
    "       'Max. Cost (RM)':[df1['Cost'].max(),df2['Cost'].max(),df3['Cost'].max(),df4['Cost'].max()]}\n",
    "df = pd.DataFrame(data,columns=['Year','Total Usage (m3)','Average Usage (m3)','Total Cost (RM)','Average Cost (RM)',\n",
    "                               'Max. Usage (m3)','Max. Cost (RM)']).astype(int)"
   ]
  },
  {
   "cell_type": "code",
   "execution_count": 5,
   "metadata": {},
   "outputs": [],
   "source": [
    "df['Water Rate (RM/m3)'] = df['Total Cost (RM)']/df['Total Usage (m3)']\n",
    "df = df.reindex(['Year',\n",
    "                 'Total Usage (m3)',\n",
    "                 'Total Cost (RM)',\n",
    "                 'Water Rate (RM/m3)',\n",
    "                 'Average Usage (m3)',\n",
    "                 'Average Cost (RM)',\n",
    "                 'Max. Usage (m3)',\n",
    "                 'Max. Cost (RM)'], axis=1)"
   ]
  },
  {
   "cell_type": "code",
   "execution_count": 6,
   "metadata": {},
   "outputs": [
    {
     "data": {
      "text/html": [
       "<style type=\"text/css\">\n",
       "#T_5a774_ caption {\n",
       "  color: black;\n",
       "  font-size: 26px;\n",
       "  text-align: center;\n",
       "  text-decoration: underline;\n",
       "  font-family: Arial;\n",
       "  text-shadow: 2px 2px 5px grey;\n",
       "}\n",
       "#T_5a774_ th {\n",
       "  text-align: left;\n",
       "}\n",
       "#T_5a774_row0_col0, #T_5a774_row1_col0, #T_5a774_row2_col0, #T_5a774_row3_col0 {\n",
       "  text-align: left;\n",
       "}\n",
       "</style>\n",
       "<table id=\"T_5a774_\">\n",
       "  <caption>Summary of Annual Water Supply Usage and Cost</caption>\n",
       "  <thead>\n",
       "    <tr>\n",
       "      <th class=\"col_heading level0 col0\" >Year</th>\n",
       "      <th class=\"col_heading level0 col1\" >Total Usage (m3)</th>\n",
       "      <th class=\"col_heading level0 col2\" >Total Cost (RM)</th>\n",
       "      <th class=\"col_heading level0 col3\" >Water Rate (RM/m3)</th>\n",
       "      <th class=\"col_heading level0 col4\" >Average Usage (m3)</th>\n",
       "      <th class=\"col_heading level0 col5\" >Average Cost (RM)</th>\n",
       "      <th class=\"col_heading level0 col6\" >Max. Usage (m3)</th>\n",
       "      <th class=\"col_heading level0 col7\" >Max. Cost (RM)</th>\n",
       "    </tr>\n",
       "  </thead>\n",
       "  <tbody>\n",
       "    <tr>\n",
       "      <td id=\"T_5a774_row0_col0\" class=\"data row0 col0\" >2019</td>\n",
       "      <td id=\"T_5a774_row0_col1\" class=\"data row0 col1\" >77</td>\n",
       "      <td id=\"T_5a774_row0_col2\" class=\"data row0 col2\" >44</td>\n",
       "      <td id=\"T_5a774_row0_col3\" class=\"data row0 col3\" >0.57</td>\n",
       "      <td id=\"T_5a774_row0_col4\" class=\"data row0 col4\" >6</td>\n",
       "      <td id=\"T_5a774_row0_col5\" class=\"data row0 col5\" >3</td>\n",
       "      <td id=\"T_5a774_row0_col6\" class=\"data row0 col6\" >13</td>\n",
       "      <td id=\"T_5a774_row0_col7\" class=\"data row0 col7\" >7</td>\n",
       "    </tr>\n",
       "    <tr>\n",
       "      <td id=\"T_5a774_row1_col0\" class=\"data row1 col0\" >2020</td>\n",
       "      <td id=\"T_5a774_row1_col1\" class=\"data row1 col1\" >219</td>\n",
       "      <td id=\"T_5a774_row1_col2\" class=\"data row1 col2\" >129</td>\n",
       "      <td id=\"T_5a774_row1_col3\" class=\"data row1 col3\" >0.59</td>\n",
       "      <td id=\"T_5a774_row1_col4\" class=\"data row1 col4\" >18</td>\n",
       "      <td id=\"T_5a774_row1_col5\" class=\"data row1 col5\" >10</td>\n",
       "      <td id=\"T_5a774_row1_col6\" class=\"data row1 col6\" >27</td>\n",
       "      <td id=\"T_5a774_row1_col7\" class=\"data row1 col7\" >18</td>\n",
       "    </tr>\n",
       "    <tr>\n",
       "      <td id=\"T_5a774_row2_col0\" class=\"data row2 col0\" >2021</td>\n",
       "      <td id=\"T_5a774_row2_col1\" class=\"data row2 col1\" >341</td>\n",
       "      <td id=\"T_5a774_row2_col2\" class=\"data row2 col2\" >203</td>\n",
       "      <td id=\"T_5a774_row2_col3\" class=\"data row2 col3\" >0.60</td>\n",
       "      <td id=\"T_5a774_row2_col4\" class=\"data row2 col4\" >28</td>\n",
       "      <td id=\"T_5a774_row2_col5\" class=\"data row2 col5\" >16</td>\n",
       "      <td id=\"T_5a774_row2_col6\" class=\"data row2 col6\" >35</td>\n",
       "      <td id=\"T_5a774_row2_col7\" class=\"data row2 col7\" >21</td>\n",
       "    </tr>\n",
       "    <tr>\n",
       "      <td id=\"T_5a774_row3_col0\" class=\"data row3 col0\" >2022</td>\n",
       "      <td id=\"T_5a774_row3_col1\" class=\"data row3 col1\" >100</td>\n",
       "      <td id=\"T_5a774_row3_col2\" class=\"data row3 col2\" >20</td>\n",
       "      <td id=\"T_5a774_row3_col3\" class=\"data row3 col3\" >0.20</td>\n",
       "      <td id=\"T_5a774_row3_col4\" class=\"data row3 col4\" >25</td>\n",
       "      <td id=\"T_5a774_row3_col5\" class=\"data row3 col5\" >5</td>\n",
       "      <td id=\"T_5a774_row3_col6\" class=\"data row3 col6\" >27</td>\n",
       "      <td id=\"T_5a774_row3_col7\" class=\"data row3 col7\" >7</td>\n",
       "    </tr>\n",
       "  </tbody>\n",
       "</table>\n"
      ],
      "text/plain": [
       "<pandas.io.formats.style.Styler at 0x108337df0>"
      ]
     },
     "execution_count": 6,
     "metadata": {},
     "output_type": "execute_result"
    }
   ],
   "source": [
    "df.style.set_caption(\"Summary of Annual Water Supply Usage and Cost\").set_table_styles([{\n",
    "    'selector': 'caption',\n",
    "    'props': [\n",
    "        ('color', 'black'),\n",
    "        ('font-size', '26px'),\n",
    "        (\"text-align\", \"center\"),\n",
    "        ('text-decoration', 'underline'),\n",
    "        ('font-family','Arial'),\n",
    "        ('text-shadow', '2px 2px 5px grey')\n",
    "    ]},(dict\n",
    "        (selector='th',props=[('text-align',\n",
    "                               'left')]))]).format(\n",
    "    {'Water Rate (RM/m3)':'{:,.2f}'}\n",
    ").set_properties(subset=['Year'],**{'text-align': 'left'}).hide_index()"
   ]
  },
  {
   "cell_type": "code",
   "execution_count": 7,
   "metadata": {},
   "outputs": [
    {
     "ename": "KeyError",
     "evalue": "'Total Usage (%)'",
     "output_type": "error",
     "traceback": [
      "\u001b[0;31m---------------------------------------------------------------------------\u001b[0m",
      "\u001b[0;31mKeyError\u001b[0m                                  Traceback (most recent call last)",
      "\u001b[0;32m/opt/anaconda3/lib/python3.9/site-packages/pandas/core/indexes/base.py\u001b[0m in \u001b[0;36mget_loc\u001b[0;34m(self, key, method, tolerance)\u001b[0m\n\u001b[1;32m   3360\u001b[0m             \u001b[0;32mtry\u001b[0m\u001b[0;34m:\u001b[0m\u001b[0;34m\u001b[0m\u001b[0;34m\u001b[0m\u001b[0m\n\u001b[0;32m-> 3361\u001b[0;31m                 \u001b[0;32mreturn\u001b[0m \u001b[0mself\u001b[0m\u001b[0;34m.\u001b[0m\u001b[0m_engine\u001b[0m\u001b[0;34m.\u001b[0m\u001b[0mget_loc\u001b[0m\u001b[0;34m(\u001b[0m\u001b[0mcasted_key\u001b[0m\u001b[0;34m)\u001b[0m\u001b[0;34m\u001b[0m\u001b[0;34m\u001b[0m\u001b[0m\n\u001b[0m\u001b[1;32m   3362\u001b[0m             \u001b[0;32mexcept\u001b[0m \u001b[0mKeyError\u001b[0m \u001b[0;32mas\u001b[0m \u001b[0merr\u001b[0m\u001b[0;34m:\u001b[0m\u001b[0;34m\u001b[0m\u001b[0;34m\u001b[0m\u001b[0m\n",
      "\u001b[0;32m/opt/anaconda3/lib/python3.9/site-packages/pandas/_libs/index.pyx\u001b[0m in \u001b[0;36mpandas._libs.index.IndexEngine.get_loc\u001b[0;34m()\u001b[0m\n",
      "\u001b[0;32m/opt/anaconda3/lib/python3.9/site-packages/pandas/_libs/index.pyx\u001b[0m in \u001b[0;36mpandas._libs.index.IndexEngine.get_loc\u001b[0;34m()\u001b[0m\n",
      "\u001b[0;32mpandas/_libs/hashtable_class_helper.pxi\u001b[0m in \u001b[0;36mpandas._libs.hashtable.PyObjectHashTable.get_item\u001b[0;34m()\u001b[0m\n",
      "\u001b[0;32mpandas/_libs/hashtable_class_helper.pxi\u001b[0m in \u001b[0;36mpandas._libs.hashtable.PyObjectHashTable.get_item\u001b[0;34m()\u001b[0m\n",
      "\u001b[0;31mKeyError\u001b[0m: 'Total Usage (%)'",
      "\nThe above exception was the direct cause of the following exception:\n",
      "\u001b[0;31mKeyError\u001b[0m                                  Traceback (most recent call last)",
      "\u001b[0;32m/var/folders/87/v2g2tr9936390rmfqkzd7l2w0000gn/T/ipykernel_8683/1292820446.py\u001b[0m in \u001b[0;36m<module>\u001b[0;34m\u001b[0m\n\u001b[1;32m      8\u001b[0m                      name='Total Usage (m3)'),row=1, col=1)\n\u001b[1;32m      9\u001b[0m \u001b[0;34m\u001b[0m\u001b[0m\n\u001b[0;32m---> 10\u001b[0;31m fig.add_trace(go.Pie(values=df['Total Usage (%)'],\n\u001b[0m\u001b[1;32m     11\u001b[0m                      \u001b[0mlabels\u001b[0m\u001b[0;34m=\u001b[0m\u001b[0mdf\u001b[0m\u001b[0;34m[\u001b[0m\u001b[0;34m'Year'\u001b[0m\u001b[0;34m]\u001b[0m\u001b[0;34m,\u001b[0m\u001b[0;34m\u001b[0m\u001b[0;34m\u001b[0m\u001b[0m\n\u001b[1;32m     12\u001b[0m                      textinfo='label+percent'),row=1, col=2)\n",
      "\u001b[0;32m/opt/anaconda3/lib/python3.9/site-packages/pandas/core/frame.py\u001b[0m in \u001b[0;36m__getitem__\u001b[0;34m(self, key)\u001b[0m\n\u001b[1;32m   3456\u001b[0m             \u001b[0;32mif\u001b[0m \u001b[0mself\u001b[0m\u001b[0;34m.\u001b[0m\u001b[0mcolumns\u001b[0m\u001b[0;34m.\u001b[0m\u001b[0mnlevels\u001b[0m \u001b[0;34m>\u001b[0m \u001b[0;36m1\u001b[0m\u001b[0;34m:\u001b[0m\u001b[0;34m\u001b[0m\u001b[0;34m\u001b[0m\u001b[0m\n\u001b[1;32m   3457\u001b[0m                 \u001b[0;32mreturn\u001b[0m \u001b[0mself\u001b[0m\u001b[0;34m.\u001b[0m\u001b[0m_getitem_multilevel\u001b[0m\u001b[0;34m(\u001b[0m\u001b[0mkey\u001b[0m\u001b[0;34m)\u001b[0m\u001b[0;34m\u001b[0m\u001b[0;34m\u001b[0m\u001b[0m\n\u001b[0;32m-> 3458\u001b[0;31m             \u001b[0mindexer\u001b[0m \u001b[0;34m=\u001b[0m \u001b[0mself\u001b[0m\u001b[0;34m.\u001b[0m\u001b[0mcolumns\u001b[0m\u001b[0;34m.\u001b[0m\u001b[0mget_loc\u001b[0m\u001b[0;34m(\u001b[0m\u001b[0mkey\u001b[0m\u001b[0;34m)\u001b[0m\u001b[0;34m\u001b[0m\u001b[0;34m\u001b[0m\u001b[0m\n\u001b[0m\u001b[1;32m   3459\u001b[0m             \u001b[0;32mif\u001b[0m \u001b[0mis_integer\u001b[0m\u001b[0;34m(\u001b[0m\u001b[0mindexer\u001b[0m\u001b[0;34m)\u001b[0m\u001b[0;34m:\u001b[0m\u001b[0;34m\u001b[0m\u001b[0;34m\u001b[0m\u001b[0m\n\u001b[1;32m   3460\u001b[0m                 \u001b[0mindexer\u001b[0m \u001b[0;34m=\u001b[0m \u001b[0;34m[\u001b[0m\u001b[0mindexer\u001b[0m\u001b[0;34m]\u001b[0m\u001b[0;34m\u001b[0m\u001b[0;34m\u001b[0m\u001b[0m\n",
      "\u001b[0;32m/opt/anaconda3/lib/python3.9/site-packages/pandas/core/indexes/base.py\u001b[0m in \u001b[0;36mget_loc\u001b[0;34m(self, key, method, tolerance)\u001b[0m\n\u001b[1;32m   3361\u001b[0m                 \u001b[0;32mreturn\u001b[0m \u001b[0mself\u001b[0m\u001b[0;34m.\u001b[0m\u001b[0m_engine\u001b[0m\u001b[0;34m.\u001b[0m\u001b[0mget_loc\u001b[0m\u001b[0;34m(\u001b[0m\u001b[0mcasted_key\u001b[0m\u001b[0;34m)\u001b[0m\u001b[0;34m\u001b[0m\u001b[0;34m\u001b[0m\u001b[0m\n\u001b[1;32m   3362\u001b[0m             \u001b[0;32mexcept\u001b[0m \u001b[0mKeyError\u001b[0m \u001b[0;32mas\u001b[0m \u001b[0merr\u001b[0m\u001b[0;34m:\u001b[0m\u001b[0;34m\u001b[0m\u001b[0;34m\u001b[0m\u001b[0m\n\u001b[0;32m-> 3363\u001b[0;31m                 \u001b[0;32mraise\u001b[0m \u001b[0mKeyError\u001b[0m\u001b[0;34m(\u001b[0m\u001b[0mkey\u001b[0m\u001b[0;34m)\u001b[0m \u001b[0;32mfrom\u001b[0m \u001b[0merr\u001b[0m\u001b[0;34m\u001b[0m\u001b[0;34m\u001b[0m\u001b[0m\n\u001b[0m\u001b[1;32m   3364\u001b[0m \u001b[0;34m\u001b[0m\u001b[0m\n\u001b[1;32m   3365\u001b[0m         \u001b[0;32mif\u001b[0m \u001b[0mis_scalar\u001b[0m\u001b[0;34m(\u001b[0m\u001b[0mkey\u001b[0m\u001b[0;34m)\u001b[0m \u001b[0;32mand\u001b[0m \u001b[0misna\u001b[0m\u001b[0;34m(\u001b[0m\u001b[0mkey\u001b[0m\u001b[0;34m)\u001b[0m \u001b[0;32mand\u001b[0m \u001b[0;32mnot\u001b[0m \u001b[0mself\u001b[0m\u001b[0;34m.\u001b[0m\u001b[0mhasnans\u001b[0m\u001b[0;34m:\u001b[0m\u001b[0;34m\u001b[0m\u001b[0;34m\u001b[0m\u001b[0m\n",
      "\u001b[0;31mKeyError\u001b[0m: 'Total Usage (%)'"
     ]
    }
   ],
   "source": [
    "fig = make_subplots(\n",
    "    rows=1, cols=2,\n",
    "    specs=[[{\"type\": \"xy\"},{\"type\": \"domain\"}]],\n",
    "    subplot_titles=('<b>Total Usage (m3)</b>','<b>Total Usage (%)</b>')\n",
    ")\n",
    "\n",
    "fig.add_trace(go.Bar(x = df['Year'], y = df['Total Usage (m3)'],\n",
    "                     name='Total Usage (m3)'),row=1, col=1)\n",
    "\n",
    "fig.add_trace(go.Pie(values=df['Total Usage (%)'],\n",
    "                     labels=df['Year'],\n",
    "                     textinfo='label+percent'),row=1, col=2)\n",
    "\n",
    "fig.update_layout(height=500, showlegend=False,\n",
    "                 title_text='Water Usage & Consumption', title_x=0.5)\n",
    "fig.update_annotations(font=dict(family=\"Helvetica\", size=12))\n",
    "fig.update_layout(font=dict(family=\"Helvetica\", size=12))\n",
    "\n",
    "fig.show()"
   ]
  },
  {
   "cell_type": "code",
   "execution_count": null,
   "metadata": {},
   "outputs": [],
   "source": [
    "fig = make_subplots(\n",
    "    rows=1, cols=2,\n",
    "    specs=[[{\"type\": \"xy\"},{\"type\": \"domain\"}]],\n",
    "    subplot_titles=('<b>Total Cost (RM)</b>','<b>Total Cost (%)</b>')\n",
    ")\n",
    "\n",
    "fig.add_trace(go.Bar(x = df['Year'], y = df['Total Cost (RM)'],\n",
    "                     name='Total Cost (RM)'),row=1, col=1)\n",
    "\n",
    "fig.add_trace(go.Pie(values=df['Total Cost (RM)'],\n",
    "                     labels=df['Year'],\n",
    "                     textinfo='label+percent'),row=1, col=2)\n",
    "\n",
    "fig.update_layout(height=500, showlegend=False,\n",
    "                 title_text='Water Usage & Consumption', title_x=0.5)\n",
    "fig.update_annotations(font=dict(family=\"Helvetica\", size=12))\n",
    "fig.update_layout(font=dict(family=\"Helvetica\", size=12))\n",
    "\n",
    "fig.show()"
   ]
  },
  {
   "cell_type": "code",
   "execution_count": null,
   "metadata": {},
   "outputs": [],
   "source": [
    "bar_plots = [\n",
    "    go.Bar(x = df['Year'], y = df['Total Usage (m3)'],name='Total Usage (m3)'),\n",
    "    go.Bar(x = df['Year'], y = df['Total Cost (RM)'],name='Total Cost (RM)')\n",
    "           ]\n",
    "layout = go.Layout(\n",
    "title=go.layout.Title(text='Summary of Annual Water Supply Usage & Cost',x=0.5),\n",
    "yaxis_title='Usage (m3)',xaxis_tickmode='array')\n",
    "fig = go.Figure(data=bar_plots, layout=layout)\n",
    "fig.show()"
   ]
  },
  {
   "cell_type": "markdown",
   "metadata": {},
   "source": [
    "# Detail of Water Consumption and Amount for Respective Year"
   ]
  },
  {
   "cell_type": "code",
   "execution_count": null,
   "metadata": {},
   "outputs": [],
   "source": [
    "bar_plots = [\n",
    "    go.Bar(x = df1[2019], y = df1['Usage'],name=2019),\n",
    "    go.Bar(x = df2[2020], y = df2['Usage'],name=2020),\n",
    "    go.Bar(x = df3[2021], y = df3['Usage'],name=2021),\n",
    "    go.Bar(x = df4[2022], y = df4['Usage'],name=2022)\n",
    "           ]\n",
    "layout = go.Layout(\n",
    "title=go.layout.Title(text='Details of Annual Water Supply Usage',x=0.5),\n",
    "yaxis_title='Usage (m3)',xaxis_tickmode='array')\n",
    "fig = go.Figure(data=bar_plots, layout=layout)\n",
    "fig.show()"
   ]
  },
  {
   "cell_type": "code",
   "execution_count": null,
   "metadata": {},
   "outputs": [],
   "source": [
    "bar_plots = [\n",
    "    go.Bar(x = df1[2019], y = df1['Cost'],name=2019),\n",
    "    go.Bar(x = df2[2020], y = df2['Cost'],name=2020),\n",
    "    go.Bar(x = df3[2021], y = df3['Cost'],name=2021),\n",
    "    go.Bar(x = df4[2022], y = df4['Cost'],name=2022)\n",
    "           ]\n",
    "layout = go.Layout(\n",
    "title=go.layout.Title(text='Details of Annual Water Supply Cost',x=0.5),\n",
    "yaxis_title='Cost (RM)',xaxis_tickmode='array')\n",
    "fig = go.Figure(data=bar_plots, layout=layout)\n",
    "fig.show()"
   ]
  },
  {
   "cell_type": "markdown",
   "metadata": {},
   "source": [
    "# Detail of Usage (m3) and Cost (RM) for Every Years"
   ]
  },
  {
   "cell_type": "code",
   "execution_count": null,
   "metadata": {},
   "outputs": [],
   "source": [
    "df1['Usage/Person (m3/p)'] = (df1['Usage']/5).round(2)\n",
    "df2['Usage/Person (m3/p)'] = (df2['Usage']/5).round(2)\n",
    "df3['Usage/Person (m3/p)'] = (df3['Usage']/5).round(2)\n",
    "df4['Usage/Person (m3/p)'] = (df4['Usage']/5).round(2)\n",
    "display_side_by_side(df1, df2, df3, df4)"
   ]
  },
  {
   "cell_type": "code",
   "execution_count": null,
   "metadata": {},
   "outputs": [],
   "source": [
    "bar_plots = [\n",
    "    go.Bar(x = df1[2019], y = df1['Usage/Person (m3/p)'],name=2019),\n",
    "    go.Bar(x = df2[2020], y = df2['Usage/Person (m3/p)'],name=2020),\n",
    "    go.Bar(x = df3[2021], y = df3['Usage/Person (m3/p)'],name=2021),\n",
    "    go.Bar(x = df4[2022], y = df4['Usage/Person (m3/p)'],name=2022)\n",
    "           ]\n",
    "layout = go.Layout(\n",
    "title=go.layout.Title(text='Monthly Usage Per Person (m3/person)',x=0.5),\n",
    "yaxis_title='Usage (m3/person)',xaxis_tickmode='array')\n",
    "fig = go.Figure(data=bar_plots, layout=layout)\n",
    "fig.show()"
   ]
  },
  {
   "cell_type": "code",
   "execution_count": null,
   "metadata": {},
   "outputs": [],
   "source": [
    "px.bar(df1, x = 2019, y = 'Usage', title = 'Monthly Water Supply Usage', color=2019, color_continuous_scale=px.colors.sequential.Viridis)\n"
   ]
  },
  {
   "cell_type": "code",
   "execution_count": null,
   "metadata": {},
   "outputs": [],
   "source": [
    "px.bar(df2, x = 2020, y = 'Usage', title = 'Monthly Water Supply Usage', color=2020, color_continuous_scale=px.colors.sequential.Viridis)"
   ]
  },
  {
   "cell_type": "code",
   "execution_count": null,
   "metadata": {},
   "outputs": [],
   "source": [
    "px.bar(df3, x = 2021, y = 'Usage', title = 'Monthly Water Supply Usage', color=2021, color_continuous_scale=px.colors.sequential.Viridis)"
   ]
  },
  {
   "cell_type": "code",
   "execution_count": null,
   "metadata": {},
   "outputs": [],
   "source": [
    "px.bar(df4, x = 2022, y = 'Usage', title = 'Monthly Water Supply Usage', color=2022, color_continuous_scale=px.colors.sequential.Viridis)"
   ]
  },
  {
   "cell_type": "code",
   "execution_count": null,
   "metadata": {},
   "outputs": [],
   "source": [
    "px.bar(df1, x = 2019, y = 'Cost', title = 'Monthly Water Supply Cost', color=2019, color_continuous_scale=px.colors.sequential.Viridis)"
   ]
  },
  {
   "cell_type": "code",
   "execution_count": null,
   "metadata": {},
   "outputs": [],
   "source": [
    "px.bar(df2, x = 2020, y = 'Cost', title = 'Monthly Water Supply Cost', color=2020, color_continuous_scale=px.colors.sequential.Viridis)"
   ]
  },
  {
   "cell_type": "code",
   "execution_count": null,
   "metadata": {},
   "outputs": [],
   "source": [
    "px.bar(df3, x = 2021, y = 'Cost', title = 'Monthly Water Supply Cost', color=2021, color_continuous_scale=px.colors.sequential.Viridis)"
   ]
  },
  {
   "cell_type": "code",
   "execution_count": null,
   "metadata": {},
   "outputs": [],
   "source": [
    "px.bar(df4, x = 2022, y = 'Cost', title = 'Monthly Water Supply Cost', color=2022, color_continuous_scale=px.colors.sequential.Viridis)"
   ]
  },
  {
   "cell_type": "markdown",
   "metadata": {},
   "source": [
    "Note: This report is prepared by Zahiruddin Zahidanishah. This report is only for educational purposed and shall not be used for any commercial purposed."
   ]
  }
 ],
 "metadata": {
  "kernelspec": {
   "display_name": "Python 3 (ipykernel)",
   "language": "python",
   "name": "python3"
  },
  "language_info": {
   "codemirror_mode": {
    "name": "ipython",
    "version": 3
   },
   "file_extension": ".py",
   "mimetype": "text/x-python",
   "name": "python",
   "nbconvert_exporter": "python",
   "pygments_lexer": "ipython3",
   "version": "3.9.7"
  }
 },
 "nbformat": 4,
 "nbformat_minor": 4
}
